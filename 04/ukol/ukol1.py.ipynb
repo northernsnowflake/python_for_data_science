{
 "cells": [
  {
   "cell_type": "markdown",
   "id": "5680a25e",
   "metadata": {},
   "source": [
    "## Domácí úkol: Lineární regrese pro předpověď  šance na přijetí na vysokou školu\n"
   ]
  },
  {
   "cell_type": "code",
   "execution_count": 1,
   "id": "a747f4b9",
   "metadata": {},
   "outputs": [],
   "source": [
    "# Autor: Kateřina Chmelařová\n",
    "# 1. úkol Python pro datovou vědu\n",
    "# Zpracovala dne 4.5.2024"
   ]
  },
  {
   "cell_type": "code",
   "execution_count": null,
   "id": "98f2d44f",
   "metadata": {},
   "outputs": [],
   "source": [
    "# cíl: Vytvořte model lineární regrese, který na základě dostupných údajů předpoví šanci na přijetí na vysokou školu"
   ]
  },
  {
   "cell_type": "code",
   "execution_count": 141,
   "id": "cbfe94de",
   "metadata": {},
   "outputs": [],
   "source": [
    "import pandas as pd\n",
    "import seaborn as sns\n",
    "from scipy import stats\n",
    "import numpy as np\n",
    "import statsmodels.api as sm\n",
    "import statsmodels.formula.api as smf\n",
    "import matplotlib.pyplot as plt\n",
    "from statsmodels.stats.outliers_influence import OLSInfluence\n"
   ]
  },
  {
   "cell_type": "code",
   "execution_count": 94,
   "id": "a4301ca6",
   "metadata": {
    "scrolled": true
   },
   "outputs": [
    {
     "data": {
      "text/html": [
       "<div>\n",
       "<style scoped>\n",
       "    .dataframe tbody tr th:only-of-type {\n",
       "        vertical-align: middle;\n",
       "    }\n",
       "\n",
       "    .dataframe tbody tr th {\n",
       "        vertical-align: top;\n",
       "    }\n",
       "\n",
       "    .dataframe thead th {\n",
       "        text-align: right;\n",
       "    }\n",
       "</style>\n",
       "<table border=\"1\" class=\"dataframe\">\n",
       "  <thead>\n",
       "    <tr style=\"text-align: right;\">\n",
       "      <th></th>\n",
       "      <th>Serial No.</th>\n",
       "      <th>GRE Score</th>\n",
       "      <th>TOEFL Score</th>\n",
       "      <th>University Rating</th>\n",
       "      <th>SOP</th>\n",
       "      <th>LOR</th>\n",
       "      <th>CGPA</th>\n",
       "      <th>Research</th>\n",
       "      <th>Chance of Admit</th>\n",
       "    </tr>\n",
       "  </thead>\n",
       "  <tbody>\n",
       "    <tr>\n",
       "      <th>0</th>\n",
       "      <td>1</td>\n",
       "      <td>337</td>\n",
       "      <td>118</td>\n",
       "      <td>4</td>\n",
       "      <td>4.5</td>\n",
       "      <td>4.5</td>\n",
       "      <td>9.65</td>\n",
       "      <td>1</td>\n",
       "      <td>0.92</td>\n",
       "    </tr>\n",
       "    <tr>\n",
       "      <th>1</th>\n",
       "      <td>2</td>\n",
       "      <td>324</td>\n",
       "      <td>107</td>\n",
       "      <td>4</td>\n",
       "      <td>4.0</td>\n",
       "      <td>4.5</td>\n",
       "      <td>8.87</td>\n",
       "      <td>1</td>\n",
       "      <td>0.76</td>\n",
       "    </tr>\n",
       "    <tr>\n",
       "      <th>2</th>\n",
       "      <td>3</td>\n",
       "      <td>316</td>\n",
       "      <td>104</td>\n",
       "      <td>3</td>\n",
       "      <td>3.0</td>\n",
       "      <td>3.5</td>\n",
       "      <td>8.00</td>\n",
       "      <td>1</td>\n",
       "      <td>0.72</td>\n",
       "    </tr>\n",
       "    <tr>\n",
       "      <th>3</th>\n",
       "      <td>4</td>\n",
       "      <td>322</td>\n",
       "      <td>110</td>\n",
       "      <td>3</td>\n",
       "      <td>3.5</td>\n",
       "      <td>2.5</td>\n",
       "      <td>8.67</td>\n",
       "      <td>1</td>\n",
       "      <td>0.80</td>\n",
       "    </tr>\n",
       "    <tr>\n",
       "      <th>4</th>\n",
       "      <td>5</td>\n",
       "      <td>314</td>\n",
       "      <td>103</td>\n",
       "      <td>2</td>\n",
       "      <td>2.0</td>\n",
       "      <td>3.0</td>\n",
       "      <td>8.21</td>\n",
       "      <td>0</td>\n",
       "      <td>0.65</td>\n",
       "    </tr>\n",
       "  </tbody>\n",
       "</table>\n",
       "</div>"
      ],
      "text/plain": [
       "   Serial No.  GRE Score  TOEFL Score  University Rating  SOP  LOR   CGPA  \\\n",
       "0           1        337          118                  4  4.5   4.5  9.65   \n",
       "1           2        324          107                  4  4.0   4.5  8.87   \n",
       "2           3        316          104                  3  3.0   3.5  8.00   \n",
       "3           4        322          110                  3  3.5   2.5  8.67   \n",
       "4           5        314          103                  2  2.0   3.0  8.21   \n",
       "\n",
       "   Research  Chance of Admit   \n",
       "0         1              0.92  \n",
       "1         1              0.76  \n",
       "2         1              0.72  \n",
       "3         1              0.80  \n",
       "4         0              0.65  "
      ]
     },
     "execution_count": 94,
     "metadata": {},
     "output_type": "execute_result"
    }
   ],
   "source": [
    "data = pd.read_csv(\"adm_data.csv\")\n",
    "data.head()"
   ]
  },
  {
   "cell_type": "code",
   "execution_count": 95,
   "id": "b197a428",
   "metadata": {
    "scrolled": true
   },
   "outputs": [
    {
     "data": {
      "text/html": [
       "<div>\n",
       "<style scoped>\n",
       "    .dataframe tbody tr th:only-of-type {\n",
       "        vertical-align: middle;\n",
       "    }\n",
       "\n",
       "    .dataframe tbody tr th {\n",
       "        vertical-align: top;\n",
       "    }\n",
       "\n",
       "    .dataframe thead th {\n",
       "        text-align: right;\n",
       "    }\n",
       "</style>\n",
       "<table border=\"1\" class=\"dataframe\">\n",
       "  <thead>\n",
       "    <tr style=\"text-align: right;\">\n",
       "      <th></th>\n",
       "      <th>Serial No.</th>\n",
       "      <th>GRE Score</th>\n",
       "      <th>TOEFL Score</th>\n",
       "      <th>University Rating</th>\n",
       "      <th>SOP</th>\n",
       "      <th>LOR</th>\n",
       "      <th>CGPA</th>\n",
       "      <th>Research</th>\n",
       "      <th>Chance of Admit</th>\n",
       "    </tr>\n",
       "  </thead>\n",
       "  <tbody>\n",
       "    <tr>\n",
       "      <th>0</th>\n",
       "      <td>1</td>\n",
       "      <td>337</td>\n",
       "      <td>118</td>\n",
       "      <td>4</td>\n",
       "      <td>4.5</td>\n",
       "      <td>4.5</td>\n",
       "      <td>9.65</td>\n",
       "      <td>1</td>\n",
       "      <td>0.92</td>\n",
       "    </tr>\n",
       "    <tr>\n",
       "      <th>1</th>\n",
       "      <td>2</td>\n",
       "      <td>324</td>\n",
       "      <td>107</td>\n",
       "      <td>4</td>\n",
       "      <td>4.0</td>\n",
       "      <td>4.5</td>\n",
       "      <td>8.87</td>\n",
       "      <td>1</td>\n",
       "      <td>0.76</td>\n",
       "    </tr>\n",
       "    <tr>\n",
       "      <th>2</th>\n",
       "      <td>3</td>\n",
       "      <td>316</td>\n",
       "      <td>104</td>\n",
       "      <td>3</td>\n",
       "      <td>3.0</td>\n",
       "      <td>3.5</td>\n",
       "      <td>8.00</td>\n",
       "      <td>1</td>\n",
       "      <td>0.72</td>\n",
       "    </tr>\n",
       "    <tr>\n",
       "      <th>3</th>\n",
       "      <td>4</td>\n",
       "      <td>322</td>\n",
       "      <td>110</td>\n",
       "      <td>3</td>\n",
       "      <td>3.5</td>\n",
       "      <td>2.5</td>\n",
       "      <td>8.67</td>\n",
       "      <td>1</td>\n",
       "      <td>0.80</td>\n",
       "    </tr>\n",
       "    <tr>\n",
       "      <th>4</th>\n",
       "      <td>5</td>\n",
       "      <td>314</td>\n",
       "      <td>103</td>\n",
       "      <td>2</td>\n",
       "      <td>2.0</td>\n",
       "      <td>3.0</td>\n",
       "      <td>8.21</td>\n",
       "      <td>0</td>\n",
       "      <td>0.65</td>\n",
       "    </tr>\n",
       "    <tr>\n",
       "      <th>...</th>\n",
       "      <td>...</td>\n",
       "      <td>...</td>\n",
       "      <td>...</td>\n",
       "      <td>...</td>\n",
       "      <td>...</td>\n",
       "      <td>...</td>\n",
       "      <td>...</td>\n",
       "      <td>...</td>\n",
       "      <td>...</td>\n",
       "    </tr>\n",
       "    <tr>\n",
       "      <th>395</th>\n",
       "      <td>396</td>\n",
       "      <td>324</td>\n",
       "      <td>110</td>\n",
       "      <td>3</td>\n",
       "      <td>3.5</td>\n",
       "      <td>3.5</td>\n",
       "      <td>9.04</td>\n",
       "      <td>1</td>\n",
       "      <td>0.82</td>\n",
       "    </tr>\n",
       "    <tr>\n",
       "      <th>396</th>\n",
       "      <td>397</td>\n",
       "      <td>325</td>\n",
       "      <td>107</td>\n",
       "      <td>3</td>\n",
       "      <td>3.0</td>\n",
       "      <td>3.5</td>\n",
       "      <td>9.11</td>\n",
       "      <td>1</td>\n",
       "      <td>0.84</td>\n",
       "    </tr>\n",
       "    <tr>\n",
       "      <th>397</th>\n",
       "      <td>398</td>\n",
       "      <td>330</td>\n",
       "      <td>116</td>\n",
       "      <td>4</td>\n",
       "      <td>5.0</td>\n",
       "      <td>4.5</td>\n",
       "      <td>9.45</td>\n",
       "      <td>1</td>\n",
       "      <td>0.91</td>\n",
       "    </tr>\n",
       "    <tr>\n",
       "      <th>398</th>\n",
       "      <td>399</td>\n",
       "      <td>312</td>\n",
       "      <td>103</td>\n",
       "      <td>3</td>\n",
       "      <td>3.5</td>\n",
       "      <td>4.0</td>\n",
       "      <td>8.78</td>\n",
       "      <td>0</td>\n",
       "      <td>0.67</td>\n",
       "    </tr>\n",
       "    <tr>\n",
       "      <th>399</th>\n",
       "      <td>400</td>\n",
       "      <td>333</td>\n",
       "      <td>117</td>\n",
       "      <td>4</td>\n",
       "      <td>5.0</td>\n",
       "      <td>4.0</td>\n",
       "      <td>9.66</td>\n",
       "      <td>1</td>\n",
       "      <td>0.95</td>\n",
       "    </tr>\n",
       "  </tbody>\n",
       "</table>\n",
       "<p>400 rows × 9 columns</p>\n",
       "</div>"
      ],
      "text/plain": [
       "     Serial No.  GRE Score  TOEFL Score  University Rating  SOP  LOR   CGPA  \\\n",
       "0             1        337          118                  4  4.5   4.5  9.65   \n",
       "1             2        324          107                  4  4.0   4.5  8.87   \n",
       "2             3        316          104                  3  3.0   3.5  8.00   \n",
       "3             4        322          110                  3  3.5   2.5  8.67   \n",
       "4             5        314          103                  2  2.0   3.0  8.21   \n",
       "..          ...        ...          ...                ...  ...   ...   ...   \n",
       "395         396        324          110                  3  3.5   3.5  9.04   \n",
       "396         397        325          107                  3  3.0   3.5  9.11   \n",
       "397         398        330          116                  4  5.0   4.5  9.45   \n",
       "398         399        312          103                  3  3.5   4.0  8.78   \n",
       "399         400        333          117                  4  5.0   4.0  9.66   \n",
       "\n",
       "     Research  Chance of Admit   \n",
       "0           1              0.92  \n",
       "1           1              0.76  \n",
       "2           1              0.72  \n",
       "3           1              0.80  \n",
       "4           0              0.65  \n",
       "..        ...               ...  \n",
       "395         1              0.82  \n",
       "396         1              0.84  \n",
       "397         1              0.91  \n",
       "398         0              0.67  \n",
       "399         1              0.95  \n",
       "\n",
       "[400 rows x 9 columns]"
      ]
     },
     "execution_count": 95,
     "metadata": {},
     "output_type": "execute_result"
    }
   ],
   "source": [
    "data"
   ]
  },
  {
   "cell_type": "code",
   "execution_count": 96,
   "id": "83300953",
   "metadata": {},
   "outputs": [
    {
     "data": {
      "text/plain": [
       "Serial No.           0\n",
       "GRE Score            0\n",
       "TOEFL Score          0\n",
       "University Rating    0\n",
       "SOP                  0\n",
       "LOR                  0\n",
       "CGPA                 0\n",
       "Research             0\n",
       "Chance of Admit      0\n",
       "dtype: int64"
      ]
     },
     "execution_count": 96,
     "metadata": {},
     "output_type": "execute_result"
    }
   ],
   "source": [
    "data.isnull().sum()"
   ]
  },
  {
   "cell_type": "code",
   "execution_count": 97,
   "id": "840f11a6",
   "metadata": {},
   "outputs": [
    {
     "data": {
      "text/plain": [
       "Index(['Serial No.', 'GRE Score', 'TOEFL Score', 'University Rating', 'SOP',\n",
       "       'LOR ', 'CGPA', 'Research', 'Chance of Admit '],\n",
       "      dtype='object')"
      ]
     },
     "execution_count": 97,
     "metadata": {},
     "output_type": "execute_result"
    }
   ],
   "source": [
    "data.columns"
   ]
  },
  {
   "cell_type": "code",
   "execution_count": 98,
   "id": "cc0c690f",
   "metadata": {},
   "outputs": [
    {
     "data": {
      "text/html": [
       "<div>\n",
       "<style scoped>\n",
       "    .dataframe tbody tr th:only-of-type {\n",
       "        vertical-align: middle;\n",
       "    }\n",
       "\n",
       "    .dataframe tbody tr th {\n",
       "        vertical-align: top;\n",
       "    }\n",
       "\n",
       "    .dataframe thead th {\n",
       "        text-align: right;\n",
       "    }\n",
       "</style>\n",
       "<table border=\"1\" class=\"dataframe\">\n",
       "  <thead>\n",
       "    <tr style=\"text-align: right;\">\n",
       "      <th></th>\n",
       "      <th>Serial_No.</th>\n",
       "      <th>GRE_Score</th>\n",
       "      <th>TOEFL_Score</th>\n",
       "      <th>University_Rating</th>\n",
       "      <th>SOP</th>\n",
       "      <th>LOR</th>\n",
       "      <th>CGPA</th>\n",
       "      <th>Research</th>\n",
       "      <th>Chance_of_Admit</th>\n",
       "    </tr>\n",
       "  </thead>\n",
       "  <tbody>\n",
       "    <tr>\n",
       "      <th>0</th>\n",
       "      <td>1</td>\n",
       "      <td>337</td>\n",
       "      <td>118</td>\n",
       "      <td>4</td>\n",
       "      <td>4.5</td>\n",
       "      <td>4.5</td>\n",
       "      <td>9.65</td>\n",
       "      <td>1</td>\n",
       "      <td>0.92</td>\n",
       "    </tr>\n",
       "    <tr>\n",
       "      <th>1</th>\n",
       "      <td>2</td>\n",
       "      <td>324</td>\n",
       "      <td>107</td>\n",
       "      <td>4</td>\n",
       "      <td>4.0</td>\n",
       "      <td>4.5</td>\n",
       "      <td>8.87</td>\n",
       "      <td>1</td>\n",
       "      <td>0.76</td>\n",
       "    </tr>\n",
       "    <tr>\n",
       "      <th>2</th>\n",
       "      <td>3</td>\n",
       "      <td>316</td>\n",
       "      <td>104</td>\n",
       "      <td>3</td>\n",
       "      <td>3.0</td>\n",
       "      <td>3.5</td>\n",
       "      <td>8.00</td>\n",
       "      <td>1</td>\n",
       "      <td>0.72</td>\n",
       "    </tr>\n",
       "    <tr>\n",
       "      <th>3</th>\n",
       "      <td>4</td>\n",
       "      <td>322</td>\n",
       "      <td>110</td>\n",
       "      <td>3</td>\n",
       "      <td>3.5</td>\n",
       "      <td>2.5</td>\n",
       "      <td>8.67</td>\n",
       "      <td>1</td>\n",
       "      <td>0.80</td>\n",
       "    </tr>\n",
       "    <tr>\n",
       "      <th>4</th>\n",
       "      <td>5</td>\n",
       "      <td>314</td>\n",
       "      <td>103</td>\n",
       "      <td>2</td>\n",
       "      <td>2.0</td>\n",
       "      <td>3.0</td>\n",
       "      <td>8.21</td>\n",
       "      <td>0</td>\n",
       "      <td>0.65</td>\n",
       "    </tr>\n",
       "  </tbody>\n",
       "</table>\n",
       "</div>"
      ],
      "text/plain": [
       "   Serial_No.  GRE_Score  TOEFL_Score  University_Rating  SOP  LOR  CGPA  \\\n",
       "0           1        337          118                  4  4.5  4.5  9.65   \n",
       "1           2        324          107                  4  4.0  4.5  8.87   \n",
       "2           3        316          104                  3  3.0  3.5  8.00   \n",
       "3           4        322          110                  3  3.5  2.5  8.67   \n",
       "4           5        314          103                  2  2.0  3.0  8.21   \n",
       "\n",
       "   Research  Chance_of_Admit  \n",
       "0         1             0.92  \n",
       "1         1             0.76  \n",
       "2         1             0.72  \n",
       "3         1             0.80  \n",
       "4         0             0.65  "
      ]
     },
     "execution_count": 98,
     "metadata": {},
     "output_type": "execute_result"
    }
   ],
   "source": [
    "data = data.rename(columns={'Serial No.':'Serial_No.', 'GRE Score':'GRE_Score', 'TOEFL Score':'TOEFL_Score', 'University Rating':'University_Rating', 'SOP':'SOP',\n",
    "       'LOR ':'LOR', 'CGPA':'CGPA', 'Research':'Research', 'Chance of Admit ':'Chance_of_Admit'})\n",
    "data.head()\n"
   ]
  },
  {
   "cell_type": "code",
   "execution_count": 99,
   "id": "fe799c29",
   "metadata": {},
   "outputs": [
    {
     "data": {
      "text/plain": [
       "(400, 9)"
      ]
     },
     "execution_count": 99,
     "metadata": {},
     "output_type": "execute_result"
    }
   ],
   "source": [
    "data.describe()\n",
    "data.shape"
   ]
  },
  {
   "cell_type": "markdown",
   "id": "ea13b0af",
   "metadata": {},
   "source": [
    "### Normálnost dat pro TOEFL skóre"
   ]
  },
  {
   "cell_type": "code",
   "execution_count": 100,
   "id": "37d1f99f",
   "metadata": {},
   "outputs": [
    {
     "name": "stdout",
     "output_type": "stream",
     "text": [
      "107.41\n"
     ]
    }
   ],
   "source": [
    "# 1. Vypočítejte průměr a medián pro TOELF skóre\n",
    "print(data[\"TOEFL_Score\"].mean())"
   ]
  },
  {
   "cell_type": "code",
   "execution_count": 101,
   "id": "f554a82e",
   "metadata": {},
   "outputs": [
    {
     "name": "stdout",
     "output_type": "stream",
     "text": [
      "107.0\n"
     ]
    }
   ],
   "source": [
    "# Vypočítejte medián\n",
    "print(data[\"TOEFL_Score\"].median())"
   ]
  },
  {
   "cell_type": "code",
   "execution_count": 102,
   "id": "043603cf",
   "metadata": {},
   "outputs": [
    {
     "data": {
      "text/plain": [
       "6.069513777374126"
      ]
     },
     "execution_count": 102,
     "metadata": {},
     "output_type": "execute_result"
    }
   ],
   "source": [
    "# 2. Vypočítejte směrodatnou odchylku\n",
    "std = data[\"TOEFL_Score\"].std()\n",
    "std"
   ]
  },
  {
   "cell_type": "code",
   "execution_count": 103,
   "id": "48e32c07",
   "metadata": {},
   "outputs": [
    {
     "data": {
      "text/plain": [
       "<AxesSubplot: xlabel='TOEFL_Score', ylabel='Count'>"
      ]
     },
     "execution_count": 103,
     "metadata": {},
     "output_type": "execute_result"
    },
    {
     "data": {
      "image/png": "[encoded data removed]",
      "text/plain": [
       "<Figure size 640x480 with 1 Axes>"
      ]
     },
     "metadata": {},
     "output_type": "display_data"
    }
   ],
   "source": [
    "# 3. Vytvořte histogram pro TOEFL skóre a nezapomeňte zobrazit odhadovanou křivku pravděpodobnostního rozdělení\n",
    "\n",
    "sns.histplot(data['TOEFL_Score'], kde=True)\n",
    "# zobrazení odhadované křivky pravděpodobnostního rozdělení s parametrem kde"
   ]
  },
  {
   "cell_type": "code",
   "execution_count": 104,
   "id": "a5276f18",
   "metadata": {},
   "outputs": [],
   "source": [
    "# 4. Otestujte, zda je TOEFL skóre vybráno z normálního rozdělení pomocí statistického testu. Uvažujte hladinu.\n",
    "# Hypotézy pro tento test:\n",
    "\n",
    "#H0: Data mají normální rozdělení.\n",
    "#H1: Data nemají normální rozdělení."
   ]
  },
  {
   "cell_type": "code",
   "execution_count": 105,
   "id": "05c76a4c",
   "metadata": {},
   "outputs": [
    {
     "data": {
      "text/plain": [
       "NormaltestResult(statistic=11.070212103496331, pvalue=0.003945790155853822)"
      ]
     },
     "execution_count": 105,
     "metadata": {},
     "output_type": "execute_result"
    }
   ],
   "source": [
    "stats.normaltest(data[\"TOEFL_Score\"])"
   ]
  },
  {
   "cell_type": "code",
   "execution_count": 106,
   "id": "239bec0f",
   "metadata": {},
   "outputs": [],
   "source": [
    "# p-hodnota je statisticky významná na 5% hladině významnosti, zamítám tedy nulovou hypotézu, \n",
    "# Tvrdím, že data nemají normální rozdělení"
   ]
  },
  {
   "cell_type": "markdown",
   "id": "34433217",
   "metadata": {},
   "source": [
    "### Testování hypotéz"
   ]
  },
  {
   "cell_type": "code",
   "execution_count": 107,
   "id": "df09d6ad",
   "metadata": {},
   "outputs": [],
   "source": [
    "# 1. Rozdělte data na studenty, kteří mají a nemají zkušenost s výzkumem"
   ]
  },
  {
   "cell_type": "code",
   "execution_count": 108,
   "id": "f5b4b03b",
   "metadata": {},
   "outputs": [],
   "source": [
    "research_experienced = data[data[\"Research\"] == 1]\n",
    "research_unexperienced = data[data[\"Research\"] == 0]"
   ]
  },
  {
   "cell_type": "code",
   "execution_count": 109,
   "id": "0ce22205",
   "metadata": {},
   "outputs": [
    {
     "data": {
      "text/html": [
       "<div>\n",
       "<style scoped>\n",
       "    .dataframe tbody tr th:only-of-type {\n",
       "        vertical-align: middle;\n",
       "    }\n",
       "\n",
       "    .dataframe tbody tr th {\n",
       "        vertical-align: top;\n",
       "    }\n",
       "\n",
       "    .dataframe thead th {\n",
       "        text-align: right;\n",
       "    }\n",
       "</style>\n",
       "<table border=\"1\" class=\"dataframe\">\n",
       "  <thead>\n",
       "    <tr style=\"text-align: right;\">\n",
       "      <th></th>\n",
       "      <th>Serial_No.</th>\n",
       "      <th>GRE_Score</th>\n",
       "      <th>TOEFL_Score</th>\n",
       "      <th>University_Rating</th>\n",
       "      <th>SOP</th>\n",
       "      <th>LOR</th>\n",
       "      <th>CGPA</th>\n",
       "      <th>Research</th>\n",
       "      <th>Chance_of_Admit</th>\n",
       "    </tr>\n",
       "  </thead>\n",
       "  <tbody>\n",
       "    <tr>\n",
       "      <th>0</th>\n",
       "      <td>1</td>\n",
       "      <td>337</td>\n",
       "      <td>118</td>\n",
       "      <td>4</td>\n",
       "      <td>4.5</td>\n",
       "      <td>4.5</td>\n",
       "      <td>9.65</td>\n",
       "      <td>1</td>\n",
       "      <td>0.92</td>\n",
       "    </tr>\n",
       "    <tr>\n",
       "      <th>1</th>\n",
       "      <td>2</td>\n",
       "      <td>324</td>\n",
       "      <td>107</td>\n",
       "      <td>4</td>\n",
       "      <td>4.0</td>\n",
       "      <td>4.5</td>\n",
       "      <td>8.87</td>\n",
       "      <td>1</td>\n",
       "      <td>0.76</td>\n",
       "    </tr>\n",
       "    <tr>\n",
       "      <th>2</th>\n",
       "      <td>3</td>\n",
       "      <td>316</td>\n",
       "      <td>104</td>\n",
       "      <td>3</td>\n",
       "      <td>3.0</td>\n",
       "      <td>3.5</td>\n",
       "      <td>8.00</td>\n",
       "      <td>1</td>\n",
       "      <td>0.72</td>\n",
       "    </tr>\n",
       "    <tr>\n",
       "      <th>3</th>\n",
       "      <td>4</td>\n",
       "      <td>322</td>\n",
       "      <td>110</td>\n",
       "      <td>3</td>\n",
       "      <td>3.5</td>\n",
       "      <td>2.5</td>\n",
       "      <td>8.67</td>\n",
       "      <td>1</td>\n",
       "      <td>0.80</td>\n",
       "    </tr>\n",
       "    <tr>\n",
       "      <th>5</th>\n",
       "      <td>6</td>\n",
       "      <td>330</td>\n",
       "      <td>115</td>\n",
       "      <td>5</td>\n",
       "      <td>4.5</td>\n",
       "      <td>3.0</td>\n",
       "      <td>9.34</td>\n",
       "      <td>1</td>\n",
       "      <td>0.90</td>\n",
       "    </tr>\n",
       "    <tr>\n",
       "      <th>...</th>\n",
       "      <td>...</td>\n",
       "      <td>...</td>\n",
       "      <td>...</td>\n",
       "      <td>...</td>\n",
       "      <td>...</td>\n",
       "      <td>...</td>\n",
       "      <td>...</td>\n",
       "      <td>...</td>\n",
       "      <td>...</td>\n",
       "    </tr>\n",
       "    <tr>\n",
       "      <th>394</th>\n",
       "      <td>395</td>\n",
       "      <td>329</td>\n",
       "      <td>111</td>\n",
       "      <td>4</td>\n",
       "      <td>4.5</td>\n",
       "      <td>4.0</td>\n",
       "      <td>9.23</td>\n",
       "      <td>1</td>\n",
       "      <td>0.89</td>\n",
       "    </tr>\n",
       "    <tr>\n",
       "      <th>395</th>\n",
       "      <td>396</td>\n",
       "      <td>324</td>\n",
       "      <td>110</td>\n",
       "      <td>3</td>\n",
       "      <td>3.5</td>\n",
       "      <td>3.5</td>\n",
       "      <td>9.04</td>\n",
       "      <td>1</td>\n",
       "      <td>0.82</td>\n",
       "    </tr>\n",
       "    <tr>\n",
       "      <th>396</th>\n",
       "      <td>397</td>\n",
       "      <td>325</td>\n",
       "      <td>107</td>\n",
       "      <td>3</td>\n",
       "      <td>3.0</td>\n",
       "      <td>3.5</td>\n",
       "      <td>9.11</td>\n",
       "      <td>1</td>\n",
       "      <td>0.84</td>\n",
       "    </tr>\n",
       "    <tr>\n",
       "      <th>397</th>\n",
       "      <td>398</td>\n",
       "      <td>330</td>\n",
       "      <td>116</td>\n",
       "      <td>4</td>\n",
       "      <td>5.0</td>\n",
       "      <td>4.5</td>\n",
       "      <td>9.45</td>\n",
       "      <td>1</td>\n",
       "      <td>0.91</td>\n",
       "    </tr>\n",
       "    <tr>\n",
       "      <th>399</th>\n",
       "      <td>400</td>\n",
       "      <td>333</td>\n",
       "      <td>117</td>\n",
       "      <td>4</td>\n",
       "      <td>5.0</td>\n",
       "      <td>4.0</td>\n",
       "      <td>9.66</td>\n",
       "      <td>1</td>\n",
       "      <td>0.95</td>\n",
       "    </tr>\n",
       "  </tbody>\n",
       "</table>\n",
       "<p>219 rows × 9 columns</p>\n",
       "</div>"
      ],
      "text/plain": [
       "     Serial_No.  GRE_Score  TOEFL_Score  University_Rating  SOP  LOR  CGPA  \\\n",
       "0             1        337          118                  4  4.5  4.5  9.65   \n",
       "1             2        324          107                  4  4.0  4.5  8.87   \n",
       "2             3        316          104                  3  3.0  3.5  8.00   \n",
       "3             4        322          110                  3  3.5  2.5  8.67   \n",
       "5             6        330          115                  5  4.5  3.0  9.34   \n",
       "..          ...        ...          ...                ...  ...  ...   ...   \n",
       "394         395        329          111                  4  4.5  4.0  9.23   \n",
       "395         396        324          110                  3  3.5  3.5  9.04   \n",
       "396         397        325          107                  3  3.0  3.5  9.11   \n",
       "397         398        330          116                  4  5.0  4.5  9.45   \n",
       "399         400        333          117                  4  5.0  4.0  9.66   \n",
       "\n",
       "     Research  Chance_of_Admit  \n",
       "0           1             0.92  \n",
       "1           1             0.76  \n",
       "2           1             0.72  \n",
       "3           1             0.80  \n",
       "5           1             0.90  \n",
       "..        ...              ...  \n",
       "394         1             0.89  \n",
       "395         1             0.82  \n",
       "396         1             0.84  \n",
       "397         1             0.91  \n",
       "399         1             0.95  \n",
       "\n",
       "[219 rows x 9 columns]"
      ]
     },
     "execution_count": 109,
     "metadata": {},
     "output_type": "execute_result"
    }
   ],
   "source": [
    "research_experienced"
   ]
  },
  {
   "cell_type": "code",
   "execution_count": 110,
   "id": "256cdfca",
   "metadata": {},
   "outputs": [
    {
     "data": {
      "text/html": [
       "<div>\n",
       "<style scoped>\n",
       "    .dataframe tbody tr th:only-of-type {\n",
       "        vertical-align: middle;\n",
       "    }\n",
       "\n",
       "    .dataframe tbody tr th {\n",
       "        vertical-align: top;\n",
       "    }\n",
       "\n",
       "    .dataframe thead th {\n",
       "        text-align: right;\n",
       "    }\n",
       "</style>\n",
       "<table border=\"1\" class=\"dataframe\">\n",
       "  <thead>\n",
       "    <tr style=\"text-align: right;\">\n",
       "      <th></th>\n",
       "      <th>Serial_No.</th>\n",
       "      <th>GRE_Score</th>\n",
       "      <th>TOEFL_Score</th>\n",
       "      <th>University_Rating</th>\n",
       "      <th>SOP</th>\n",
       "      <th>LOR</th>\n",
       "      <th>CGPA</th>\n",
       "      <th>Research</th>\n",
       "      <th>Chance_of_Admit</th>\n",
       "    </tr>\n",
       "  </thead>\n",
       "  <tbody>\n",
       "    <tr>\n",
       "      <th>4</th>\n",
       "      <td>5</td>\n",
       "      <td>314</td>\n",
       "      <td>103</td>\n",
       "      <td>2</td>\n",
       "      <td>2.0</td>\n",
       "      <td>3.0</td>\n",
       "      <td>8.21</td>\n",
       "      <td>0</td>\n",
       "      <td>0.65</td>\n",
       "    </tr>\n",
       "    <tr>\n",
       "      <th>7</th>\n",
       "      <td>8</td>\n",
       "      <td>308</td>\n",
       "      <td>101</td>\n",
       "      <td>2</td>\n",
       "      <td>3.0</td>\n",
       "      <td>4.0</td>\n",
       "      <td>7.90</td>\n",
       "      <td>0</td>\n",
       "      <td>0.68</td>\n",
       "    </tr>\n",
       "    <tr>\n",
       "      <th>8</th>\n",
       "      <td>9</td>\n",
       "      <td>302</td>\n",
       "      <td>102</td>\n",
       "      <td>1</td>\n",
       "      <td>2.0</td>\n",
       "      <td>1.5</td>\n",
       "      <td>8.00</td>\n",
       "      <td>0</td>\n",
       "      <td>0.50</td>\n",
       "    </tr>\n",
       "    <tr>\n",
       "      <th>9</th>\n",
       "      <td>10</td>\n",
       "      <td>323</td>\n",
       "      <td>108</td>\n",
       "      <td>3</td>\n",
       "      <td>3.5</td>\n",
       "      <td>3.0</td>\n",
       "      <td>8.60</td>\n",
       "      <td>0</td>\n",
       "      <td>0.45</td>\n",
       "    </tr>\n",
       "    <tr>\n",
       "      <th>15</th>\n",
       "      <td>16</td>\n",
       "      <td>314</td>\n",
       "      <td>105</td>\n",
       "      <td>3</td>\n",
       "      <td>3.5</td>\n",
       "      <td>2.5</td>\n",
       "      <td>8.30</td>\n",
       "      <td>0</td>\n",
       "      <td>0.54</td>\n",
       "    </tr>\n",
       "    <tr>\n",
       "      <th>...</th>\n",
       "      <td>...</td>\n",
       "      <td>...</td>\n",
       "      <td>...</td>\n",
       "      <td>...</td>\n",
       "      <td>...</td>\n",
       "      <td>...</td>\n",
       "      <td>...</td>\n",
       "      <td>...</td>\n",
       "      <td>...</td>\n",
       "    </tr>\n",
       "    <tr>\n",
       "      <th>388</th>\n",
       "      <td>389</td>\n",
       "      <td>296</td>\n",
       "      <td>97</td>\n",
       "      <td>2</td>\n",
       "      <td>1.5</td>\n",
       "      <td>2.0</td>\n",
       "      <td>7.80</td>\n",
       "      <td>0</td>\n",
       "      <td>0.49</td>\n",
       "    </tr>\n",
       "    <tr>\n",
       "      <th>390</th>\n",
       "      <td>391</td>\n",
       "      <td>314</td>\n",
       "      <td>102</td>\n",
       "      <td>2</td>\n",
       "      <td>2.0</td>\n",
       "      <td>2.5</td>\n",
       "      <td>8.24</td>\n",
       "      <td>0</td>\n",
       "      <td>0.64</td>\n",
       "    </tr>\n",
       "    <tr>\n",
       "      <th>391</th>\n",
       "      <td>392</td>\n",
       "      <td>318</td>\n",
       "      <td>106</td>\n",
       "      <td>3</td>\n",
       "      <td>2.0</td>\n",
       "      <td>3.0</td>\n",
       "      <td>8.65</td>\n",
       "      <td>0</td>\n",
       "      <td>0.71</td>\n",
       "    </tr>\n",
       "    <tr>\n",
       "      <th>393</th>\n",
       "      <td>394</td>\n",
       "      <td>317</td>\n",
       "      <td>104</td>\n",
       "      <td>2</td>\n",
       "      <td>3.0</td>\n",
       "      <td>3.0</td>\n",
       "      <td>8.76</td>\n",
       "      <td>0</td>\n",
       "      <td>0.77</td>\n",
       "    </tr>\n",
       "    <tr>\n",
       "      <th>398</th>\n",
       "      <td>399</td>\n",
       "      <td>312</td>\n",
       "      <td>103</td>\n",
       "      <td>3</td>\n",
       "      <td>3.5</td>\n",
       "      <td>4.0</td>\n",
       "      <td>8.78</td>\n",
       "      <td>0</td>\n",
       "      <td>0.67</td>\n",
       "    </tr>\n",
       "  </tbody>\n",
       "</table>\n",
       "<p>181 rows × 9 columns</p>\n",
       "</div>"
      ],
      "text/plain": [
       "     Serial_No.  GRE_Score  TOEFL_Score  University_Rating  SOP  LOR  CGPA  \\\n",
       "4             5        314          103                  2  2.0  3.0  8.21   \n",
       "7             8        308          101                  2  3.0  4.0  7.90   \n",
       "8             9        302          102                  1  2.0  1.5  8.00   \n",
       "9            10        323          108                  3  3.5  3.0  8.60   \n",
       "15           16        314          105                  3  3.5  2.5  8.30   \n",
       "..          ...        ...          ...                ...  ...  ...   ...   \n",
       "388         389        296           97                  2  1.5  2.0  7.80   \n",
       "390         391        314          102                  2  2.0  2.5  8.24   \n",
       "391         392        318          106                  3  2.0  3.0  8.65   \n",
       "393         394        317          104                  2  3.0  3.0  8.76   \n",
       "398         399        312          103                  3  3.5  4.0  8.78   \n",
       "\n",
       "     Research  Chance_of_Admit  \n",
       "4           0             0.65  \n",
       "7           0             0.68  \n",
       "8           0             0.50  \n",
       "9           0             0.45  \n",
       "15          0             0.54  \n",
       "..        ...              ...  \n",
       "388         0             0.49  \n",
       "390         0             0.64  \n",
       "391         0             0.71  \n",
       "393         0             0.77  \n",
       "398         0             0.67  \n",
       "\n",
       "[181 rows x 9 columns]"
      ]
     },
     "execution_count": 110,
     "metadata": {},
     "output_type": "execute_result"
    }
   ],
   "source": [
    "research_unexperienced"
   ]
  },
  {
   "cell_type": "code",
   "execution_count": 112,
   "id": "c018f579",
   "metadata": {},
   "outputs": [],
   "source": [
    "# 2. Pro obě skupiny spočítejte průměrné GRE skóre"
   ]
  },
  {
   "cell_type": "code",
   "execution_count": 113,
   "id": "34d6331e",
   "metadata": {},
   "outputs": [
    {
     "data": {
      "text/plain": [
       "322.85388127853884"
      ]
     },
     "execution_count": 113,
     "metadata": {},
     "output_type": "execute_result"
    }
   ],
   "source": [
    "research_experienced[\"GRE_Score\"].mean()"
   ]
  },
  {
   "cell_type": "code",
   "execution_count": 114,
   "id": "38175ea0",
   "metadata": {},
   "outputs": [
    {
     "data": {
      "text/plain": [
       "309.49171270718233"
      ]
     },
     "execution_count": 114,
     "metadata": {},
     "output_type": "execute_result"
    }
   ],
   "source": [
    "research_unexperienced[\"GRE_Score\"].mean()"
   ]
  },
  {
   "cell_type": "code",
   "execution_count": 115,
   "id": "9baae9d1",
   "metadata": {},
   "outputs": [
    {
     "data": {
      "text/plain": [
       "NormaltestResult(statistic=10.539299481397224, pvalue=0.005145412486026274)"
      ]
     },
     "execution_count": 115,
     "metadata": {},
     "output_type": "execute_result"
    }
   ],
   "source": [
    "# 3. Statisticky otestujte, zda existuje statisticky významný rozdíl v GRE skóre mezi těmito dvěma skupinami \n",
    "# studentů. Vyberte správný test a nezapomeňte krátce okomentovat vyhodnocení testu.\n",
    "\n",
    "# Hypotézy\n",
    "# H0: Data mají normální rozdělení.\n",
    "# H1: Data nemají normální rozdělení.\n",
    "\n",
    "# Chci tedy zjistit, zda data mají normální rozdělení\n",
    "stats.normaltest(research_experienced[\"GRE_Score\"])\n",
    "# P-hodnota prvního testu je 0.00514, zamítám tedy nulovou hypotézu. Výsledek je, že data nemají normální rozdělení."
   ]
  },
  {
   "cell_type": "code",
   "execution_count": 116,
   "id": "d48bac79",
   "metadata": {},
   "outputs": [
    {
     "data": {
      "text/plain": [
       "NormaltestResult(statistic=0.9962407495635873, pvalue=0.6076717821415272)"
      ]
     },
     "execution_count": 116,
     "metadata": {},
     "output_type": "execute_result"
    }
   ],
   "source": [
    "stats.normaltest(research_unexperienced[\"GRE_Score\"])\n",
    "# P-hodnota druhéto testu je 0.60767, nemohu tedy zamítnout nulovou hypotézu - data mají normální rozdělení"
   ]
  },
  {
   "cell_type": "code",
   "execution_count": 117,
   "id": "588a2acf",
   "metadata": {},
   "outputs": [],
   "source": [
    "# Pokuď ale jeden z nich nemá normální rozdělení, musím použít Mann Whitney U test na základě:\n",
    "# tj. potřebuji dvouvýběrový test (2 vzorky)\n",
    "# porovnávám střední hodnotu (průměr) výběrů\n",
    "# data nemají normální rozdělení\n",
    "# výběry jsou nezávislé, nejde o párová pozorování\n",
    "\n",
    "#Formuluji si hypotézy.\n",
    "\n",
    "#H0: Střední hodnota GRE_Score pro obě skupiny jsou stejné.\n",
    "#H1: Střední hodnota GRE_Score pro obě skupiny se liší.\n"
   ]
  },
  {
   "cell_type": "code",
   "execution_count": 118,
   "id": "0ef3bbd3",
   "metadata": {},
   "outputs": [
    {
     "data": {
      "text/plain": [
       "1.1433386421648099e-32"
      ]
     },
     "execution_count": 118,
     "metadata": {},
     "output_type": "execute_result"
    }
   ],
   "source": [
    "statistics, pvalue = stats.mannwhitneyu(research_experienced[\"GRE_Score\"], research_unexperienced[\"GRE_Score\"])\n",
    "pvalue"
   ]
  },
  {
   "cell_type": "code",
   "execution_count": 119,
   "id": "34ba8eff",
   "metadata": {},
   "outputs": [],
   "source": [
    "# p-hodnota je 1.1433386421648099e-32, zamítám tedy nulovou hypotézu. Tvrdím tedy, že průměrné GRE_Score pro skupinu \n",
    "# se zkušenostmi s testem a bez zkušeností s testem se liší na 5% hladině významnosti\n"
   ]
  },
  {
   "cell_type": "markdown",
   "id": "d4cdc301",
   "metadata": {},
   "source": [
    "### Korelace"
   ]
  },
  {
   "cell_type": "code",
   "execution_count": 120,
   "id": "71316b43",
   "metadata": {},
   "outputs": [
    {
     "data": {
      "text/html": [
       "<div>\n",
       "<style scoped>\n",
       "    .dataframe tbody tr th:only-of-type {\n",
       "        vertical-align: middle;\n",
       "    }\n",
       "\n",
       "    .dataframe tbody tr th {\n",
       "        vertical-align: top;\n",
       "    }\n",
       "\n",
       "    .dataframe thead th {\n",
       "        text-align: right;\n",
       "    }\n",
       "</style>\n",
       "<table border=\"1\" class=\"dataframe\">\n",
       "  <thead>\n",
       "    <tr style=\"text-align: right;\">\n",
       "      <th></th>\n",
       "      <th>TOEFL_Score</th>\n",
       "      <th>GRE_Score</th>\n",
       "    </tr>\n",
       "  </thead>\n",
       "  <tbody>\n",
       "    <tr>\n",
       "      <th>TOEFL_Score</th>\n",
       "      <td>1.000000</td>\n",
       "      <td>0.835977</td>\n",
       "    </tr>\n",
       "    <tr>\n",
       "      <th>GRE_Score</th>\n",
       "      <td>0.835977</td>\n",
       "      <td>1.000000</td>\n",
       "    </tr>\n",
       "  </tbody>\n",
       "</table>\n",
       "</div>"
      ],
      "text/plain": [
       "             TOEFL_Score  GRE_Score\n",
       "TOEFL_Score     1.000000   0.835977\n",
       "GRE_Score       0.835977   1.000000"
      ]
     },
     "execution_count": 120,
     "metadata": {},
     "output_type": "execute_result"
    }
   ],
   "source": [
    "# 1. Vypočítejte korelaci mezi TOEFL skóre a GRE skóre\n",
    "data[[\"TOEFL_Score\",\"GRE_Score\"]].corr()\n",
    "# Vypočítaná korelace mezi TOEFL a GRE skóre je 0.835977"
   ]
  },
  {
   "cell_type": "code",
   "execution_count": 121,
   "id": "6090ec3e",
   "metadata": {},
   "outputs": [
    {
     "data": {
      "text/plain": [
       "<AxesSubplot: xlabel='TOEFL_Score', ylabel='GRE_Score'>"
      ]
     },
     "execution_count": 121,
     "metadata": {},
     "output_type": "execute_result"
    },
    {
     "data": {
      "image/png": "[encoded data removed]",
      "text/plain": [
       "<Figure size 640x480 with 1 Axes>"
      ]
     },
     "metadata": {},
     "output_type": "display_data"
    }
   ],
   "source": [
    "sns.scatterplot(data=data, x=\"TOEFL_Score\", y=\"GRE_Score\")"
   ]
  },
  {
   "cell_type": "code",
   "execution_count": 122,
   "id": "800ffe31",
   "metadata": {},
   "outputs": [
    {
     "data": {
      "text/html": [
       "<div>\n",
       "<style scoped>\n",
       "    .dataframe tbody tr th:only-of-type {\n",
       "        vertical-align: middle;\n",
       "    }\n",
       "\n",
       "    .dataframe tbody tr th {\n",
       "        vertical-align: top;\n",
       "    }\n",
       "\n",
       "    .dataframe thead th {\n",
       "        text-align: right;\n",
       "    }\n",
       "</style>\n",
       "<table border=\"1\" class=\"dataframe\">\n",
       "  <thead>\n",
       "    <tr style=\"text-align: right;\">\n",
       "      <th></th>\n",
       "      <th>Serial_No.</th>\n",
       "      <th>GRE_Score</th>\n",
       "      <th>TOEFL_Score</th>\n",
       "      <th>University_Rating</th>\n",
       "      <th>SOP</th>\n",
       "      <th>LOR</th>\n",
       "      <th>CGPA</th>\n",
       "      <th>Research</th>\n",
       "      <th>Chance_of_Admit</th>\n",
       "    </tr>\n",
       "  </thead>\n",
       "  <tbody>\n",
       "    <tr>\n",
       "      <th>Serial_No.</th>\n",
       "      <td>1.000000</td>\n",
       "      <td>-0.097526</td>\n",
       "      <td>-0.147932</td>\n",
       "      <td>-0.169948</td>\n",
       "      <td>-0.166932</td>\n",
       "      <td>-0.088221</td>\n",
       "      <td>-0.045608</td>\n",
       "      <td>-0.063138</td>\n",
       "      <td>0.042336</td>\n",
       "    </tr>\n",
       "    <tr>\n",
       "      <th>GRE_Score</th>\n",
       "      <td>-0.097526</td>\n",
       "      <td>1.000000</td>\n",
       "      <td>0.835977</td>\n",
       "      <td>0.668976</td>\n",
       "      <td>0.612831</td>\n",
       "      <td>0.557555</td>\n",
       "      <td>0.833060</td>\n",
       "      <td>0.580391</td>\n",
       "      <td>0.802610</td>\n",
       "    </tr>\n",
       "    <tr>\n",
       "      <th>TOEFL_Score</th>\n",
       "      <td>-0.147932</td>\n",
       "      <td>0.835977</td>\n",
       "      <td>1.000000</td>\n",
       "      <td>0.695590</td>\n",
       "      <td>0.657981</td>\n",
       "      <td>0.567721</td>\n",
       "      <td>0.828417</td>\n",
       "      <td>0.489858</td>\n",
       "      <td>0.791594</td>\n",
       "    </tr>\n",
       "    <tr>\n",
       "      <th>University_Rating</th>\n",
       "      <td>-0.169948</td>\n",
       "      <td>0.668976</td>\n",
       "      <td>0.695590</td>\n",
       "      <td>1.000000</td>\n",
       "      <td>0.734523</td>\n",
       "      <td>0.660123</td>\n",
       "      <td>0.746479</td>\n",
       "      <td>0.447783</td>\n",
       "      <td>0.711250</td>\n",
       "    </tr>\n",
       "    <tr>\n",
       "      <th>SOP</th>\n",
       "      <td>-0.166932</td>\n",
       "      <td>0.612831</td>\n",
       "      <td>0.657981</td>\n",
       "      <td>0.734523</td>\n",
       "      <td>1.000000</td>\n",
       "      <td>0.729593</td>\n",
       "      <td>0.718144</td>\n",
       "      <td>0.444029</td>\n",
       "      <td>0.675732</td>\n",
       "    </tr>\n",
       "    <tr>\n",
       "      <th>LOR</th>\n",
       "      <td>-0.088221</td>\n",
       "      <td>0.557555</td>\n",
       "      <td>0.567721</td>\n",
       "      <td>0.660123</td>\n",
       "      <td>0.729593</td>\n",
       "      <td>1.000000</td>\n",
       "      <td>0.670211</td>\n",
       "      <td>0.396859</td>\n",
       "      <td>0.669889</td>\n",
       "    </tr>\n",
       "    <tr>\n",
       "      <th>CGPA</th>\n",
       "      <td>-0.045608</td>\n",
       "      <td>0.833060</td>\n",
       "      <td>0.828417</td>\n",
       "      <td>0.746479</td>\n",
       "      <td>0.718144</td>\n",
       "      <td>0.670211</td>\n",
       "      <td>1.000000</td>\n",
       "      <td>0.521654</td>\n",
       "      <td>0.873289</td>\n",
       "    </tr>\n",
       "    <tr>\n",
       "      <th>Research</th>\n",
       "      <td>-0.063138</td>\n",
       "      <td>0.580391</td>\n",
       "      <td>0.489858</td>\n",
       "      <td>0.447783</td>\n",
       "      <td>0.444029</td>\n",
       "      <td>0.396859</td>\n",
       "      <td>0.521654</td>\n",
       "      <td>1.000000</td>\n",
       "      <td>0.553202</td>\n",
       "    </tr>\n",
       "    <tr>\n",
       "      <th>Chance_of_Admit</th>\n",
       "      <td>0.042336</td>\n",
       "      <td>0.802610</td>\n",
       "      <td>0.791594</td>\n",
       "      <td>0.711250</td>\n",
       "      <td>0.675732</td>\n",
       "      <td>0.669889</td>\n",
       "      <td>0.873289</td>\n",
       "      <td>0.553202</td>\n",
       "      <td>1.000000</td>\n",
       "    </tr>\n",
       "  </tbody>\n",
       "</table>\n",
       "</div>"
      ],
      "text/plain": [
       "                   Serial_No.  GRE_Score  TOEFL_Score  University_Rating  \\\n",
       "Serial_No.           1.000000  -0.097526    -0.147932          -0.169948   \n",
       "GRE_Score           -0.097526   1.000000     0.835977           0.668976   \n",
       "TOEFL_Score         -0.147932   0.835977     1.000000           0.695590   \n",
       "University_Rating   -0.169948   0.668976     0.695590           1.000000   \n",
       "SOP                 -0.166932   0.612831     0.657981           0.734523   \n",
       "LOR                 -0.088221   0.557555     0.567721           0.660123   \n",
       "CGPA                -0.045608   0.833060     0.828417           0.746479   \n",
       "Research            -0.063138   0.580391     0.489858           0.447783   \n",
       "Chance_of_Admit      0.042336   0.802610     0.791594           0.711250   \n",
       "\n",
       "                        SOP       LOR      CGPA  Research  Chance_of_Admit  \n",
       "Serial_No.        -0.166932 -0.088221 -0.045608 -0.063138         0.042336  \n",
       "GRE_Score          0.612831  0.557555  0.833060  0.580391         0.802610  \n",
       "TOEFL_Score        0.657981  0.567721  0.828417  0.489858         0.791594  \n",
       "University_Rating  0.734523  0.660123  0.746479  0.447783         0.711250  \n",
       "SOP                1.000000  0.729593  0.718144  0.444029         0.675732  \n",
       "LOR                0.729593  1.000000  0.670211  0.396859         0.669889  \n",
       "CGPA               0.718144  0.670211  1.000000  0.521654         0.873289  \n",
       "Research           0.444029  0.396859  0.521654  1.000000         0.553202  \n",
       "Chance_of_Admit    0.675732  0.669889  0.873289  0.553202         1.000000  "
      ]
     },
     "execution_count": 122,
     "metadata": {},
     "output_type": "execute_result"
    }
   ],
   "source": [
    "data.corr()"
   ]
  },
  {
   "cell_type": "code",
   "execution_count": 123,
   "id": "736f98ec",
   "metadata": {},
   "outputs": [
    {
     "data": {
      "text/plain": [
       "SignificanceResult(statistic=0.8318602076053343, pvalue=8.038920665153277e-104)"
      ]
     },
     "execution_count": 123,
     "metadata": {},
     "output_type": "execute_result"
    }
   ],
   "source": [
    "res = stats.spearmanr(data[\"TOEFL_Score\"], data[\"GRE_Score\"])\n",
    "res\n",
    "# Data jsou statisticky významné na 5% hladině významnosti"
   ]
  },
  {
   "cell_type": "code",
   "execution_count": 124,
   "id": "ff5e9bbc",
   "metadata": {},
   "outputs": [],
   "source": [
    "# 2. Krátce okomentujre, co znamená vypočítaná korelace. Je tato korelace vysoká, pozitivní/negativní?\n",
    "# Vypočítaná korelace je vysoká a pozitivní. Dle Spearmanova koeficientu jsou statisticky \n",
    "# závislé na 5% hladině významnosti"
   ]
  },
  {
   "cell_type": "code",
   "execution_count": 125,
   "id": "2b698804",
   "metadata": {},
   "outputs": [],
   "source": [
    "# 3. Vytvořte korelační graf (sns.regplot) pro vysvětlovanou proměnnou šance na přijetí (Chance of Admit)\n",
    "# a proměnnou, která je s ní nejvíce korelovaná"
   ]
  },
  {
   "cell_type": "code",
   "execution_count": 126,
   "id": "0a92a703",
   "metadata": {},
   "outputs": [
    {
     "data": {
      "image/png": "[encoded data removed]",
      "text/plain": [
       "<Figure size 640x480 with 1 Axes>"
      ]
     },
     "metadata": {},
     "output_type": "display_data"
    }
   ],
   "source": [
    "g = sns.regplot(data, x=\"GRE_Score\", y=\"Chance_of_Admit\")"
   ]
  },
  {
   "cell_type": "code",
   "execution_count": 81,
   "id": "8ddbad32",
   "metadata": {},
   "outputs": [],
   "source": [
    "# Nejvíce korelovaná proměnná s vysvětlovanou proměnnou Chance of Admit je proměnná GRE_Score."
   ]
  },
  {
   "cell_type": "markdown",
   "id": "1613bbad",
   "metadata": {},
   "source": [
    "### Vysvětlovaná proměnná"
   ]
  },
  {
   "cell_type": "code",
   "execution_count": 83,
   "id": "67615647",
   "metadata": {},
   "outputs": [],
   "source": [
    "# 1. Vysvětlovanou proměnnou je šance na přijetí (Chance of Admit). Vytvořte boxplot pro tuto proměnnou, \n",
    "# aby bylo možné vizuálně identifikovat případné odlehlé hodnoty. "
   ]
  },
  {
   "cell_type": "code",
   "execution_count": 135,
   "id": "c2319e54",
   "metadata": {},
   "outputs": [
    {
     "data": {
      "text/plain": [
       "<AxesSubplot: ylabel='Chance_of_Admit'>"
      ]
     },
     "execution_count": 135,
     "metadata": {},
     "output_type": "execute_result"
    },
    {
     "data": {
      "image/png": "[encoded data removed]",
      "text/plain": [
       "<Figure size 640x480 with 1 Axes>"
      ]
     },
     "metadata": {},
     "output_type": "display_data"
    }
   ],
   "source": [
    "sns.boxplot(data, y=\"Chance_of_Admit\")"
   ]
  },
  {
   "cell_type": "code",
   "execution_count": 136,
   "id": "73c7d0b3",
   "metadata": {},
   "outputs": [],
   "source": [
    "# 2. Odstraňte odlehlé pozorování na základě kritérií zjištěných z boxplotu."
   ]
  },
  {
   "cell_type": "code",
   "execution_count": 138,
   "id": "265d3f78",
   "metadata": {},
   "outputs": [],
   "source": [
    "data_bez_odlehlych = data[data[\"Chance_of_Admit\"] > 0.35]"
   ]
  },
  {
   "cell_type": "code",
   "execution_count": 139,
   "id": "2d1a2d6c",
   "metadata": {},
   "outputs": [
    {
     "data": {
      "text/plain": [
       "<AxesSubplot: ylabel='Chance_of_Admit'>"
      ]
     },
     "execution_count": 139,
     "metadata": {},
     "output_type": "execute_result"
    },
    {
     "data": {
      "image/png": "[encoded data removed]",
      "text/plain": [
       "<Figure size 640x480 with 1 Axes>"
      ]
     },
     "metadata": {},
     "output_type": "display_data"
    }
   ],
   "source": [
    "sns.boxplot(data_bez_odlehlych, y=\"Chance_of_Admit\",whis=[5, 95])"
   ]
  },
  {
   "cell_type": "markdown",
   "id": "0bd566a5",
   "metadata": {},
   "source": [
    "### Lineární regrese"
   ]
  },
  {
   "cell_type": "code",
   "execution_count": 140,
   "id": "5d78c842",
   "metadata": {},
   "outputs": [],
   "source": [
    "#1. Sestavte rovnici pro lineární regresi. Do rovnice zahrňte všechny proměnné, které dávají smysl. \n",
    "# Pozor, možná bude potřeba názvy sloupců přejmenovat "
   ]
  },
  {
   "cell_type": "code",
   "execution_count": 148,
   "id": "a6fae09d",
   "metadata": {},
   "outputs": [
    {
     "data": {
      "text/html": [
       "<div>\n",
       "<style scoped>\n",
       "    .dataframe tbody tr th:only-of-type {\n",
       "        vertical-align: middle;\n",
       "    }\n",
       "\n",
       "    .dataframe tbody tr th {\n",
       "        vertical-align: top;\n",
       "    }\n",
       "\n",
       "    .dataframe thead th {\n",
       "        text-align: right;\n",
       "    }\n",
       "</style>\n",
       "<table border=\"1\" class=\"dataframe\">\n",
       "  <thead>\n",
       "    <tr style=\"text-align: right;\">\n",
       "      <th></th>\n",
       "      <th>Serial_No.</th>\n",
       "      <th>GRE_Score</th>\n",
       "      <th>TOEFL_Score</th>\n",
       "      <th>University_Rating</th>\n",
       "      <th>SOP</th>\n",
       "      <th>LOR</th>\n",
       "      <th>CGPA</th>\n",
       "      <th>Research</th>\n",
       "      <th>Chance_of_Admit</th>\n",
       "      <th>Cook Distance</th>\n",
       "    </tr>\n",
       "  </thead>\n",
       "  <tbody>\n",
       "    <tr>\n",
       "      <th>0</th>\n",
       "      <td>1</td>\n",
       "      <td>337</td>\n",
       "      <td>118</td>\n",
       "      <td>4</td>\n",
       "      <td>4.5</td>\n",
       "      <td>4.5</td>\n",
       "      <td>9.65</td>\n",
       "      <td>1</td>\n",
       "      <td>0.92</td>\n",
       "      <td>0.000383</td>\n",
       "    </tr>\n",
       "    <tr>\n",
       "      <th>1</th>\n",
       "      <td>2</td>\n",
       "      <td>324</td>\n",
       "      <td>107</td>\n",
       "      <td>4</td>\n",
       "      <td>4.0</td>\n",
       "      <td>4.5</td>\n",
       "      <td>8.87</td>\n",
       "      <td>1</td>\n",
       "      <td>0.76</td>\n",
       "      <td>0.000811</td>\n",
       "    </tr>\n",
       "    <tr>\n",
       "      <th>2</th>\n",
       "      <td>3</td>\n",
       "      <td>316</td>\n",
       "      <td>104</td>\n",
       "      <td>3</td>\n",
       "      <td>3.0</td>\n",
       "      <td>3.5</td>\n",
       "      <td>8.00</td>\n",
       "      <td>1</td>\n",
       "      <td>0.72</td>\n",
       "      <td>0.002403</td>\n",
       "    </tr>\n",
       "    <tr>\n",
       "      <th>3</th>\n",
       "      <td>4</td>\n",
       "      <td>322</td>\n",
       "      <td>110</td>\n",
       "      <td>3</td>\n",
       "      <td>3.5</td>\n",
       "      <td>2.5</td>\n",
       "      <td>8.67</td>\n",
       "      <td>1</td>\n",
       "      <td>0.80</td>\n",
       "      <td>0.001627</td>\n",
       "    </tr>\n",
       "    <tr>\n",
       "      <th>4</th>\n",
       "      <td>5</td>\n",
       "      <td>314</td>\n",
       "      <td>103</td>\n",
       "      <td>2</td>\n",
       "      <td>2.0</td>\n",
       "      <td>3.0</td>\n",
       "      <td>8.21</td>\n",
       "      <td>0</td>\n",
       "      <td>0.65</td>\n",
       "      <td>0.000098</td>\n",
       "    </tr>\n",
       "  </tbody>\n",
       "</table>\n",
       "</div>"
      ],
      "text/plain": [
       "   Serial_No.  GRE_Score  TOEFL_Score  University_Rating  SOP  LOR  CGPA  \\\n",
       "0           1        337          118                  4  4.5  4.5  9.65   \n",
       "1           2        324          107                  4  4.0  4.5  8.87   \n",
       "2           3        316          104                  3  3.0  3.5  8.00   \n",
       "3           4        322          110                  3  3.5  2.5  8.67   \n",
       "4           5        314          103                  2  2.0  3.0  8.21   \n",
       "\n",
       "   Research  Chance_of_Admit  Cook Distance  \n",
       "0         1             0.92       0.000383  \n",
       "1         1             0.76       0.000811  \n",
       "2         1             0.72       0.002403  \n",
       "3         1             0.80       0.001627  \n",
       "4         0             0.65       0.000098  "
      ]
     },
     "execution_count": 148,
     "metadata": {},
     "output_type": "execute_result"
    }
   ],
   "source": [
    "formula = \"Chance_of_Admit ~ GRE_Score + TOEFL_Score + University_Rating + SOP + LOR + CGPA + Research\"  # vysvětlovaná ~ vysvětlující\n",
    "mod = smf.ols(formula=formula, data=data_bez_odlehlych) #OLS dělá ordinary least squares \n",
    "results = mod.fit() # přímku, který popisuje data \n",
    "influence = OLSInfluence(results)\n",
    "data['Cook Distance'] = influence.cooks_distance[0]\n",
    "data.head()\n",
    "#results.summary()\n",
    "\n",
    "# Zvolila jsem všechny vysvětlující proměnné, které vyšly v korelační tabulce vyšší než 0.5 s Chance of Admit"
   ]
  },
  {
   "cell_type": "code",
   "execution_count": 149,
   "id": "76a85d7a",
   "metadata": {},
   "outputs": [
    {
     "data": {
      "text/html": [
       "<table class=\"simpletable\">\n",
       "<caption>OLS Regression Results</caption>\n",
       "<tr>\n",
       "  <th>Dep. Variable:</th>     <td>Chance_of_Admit</td> <th>  R-squared:         </th> <td>   0.805</td> \n",
       "</tr>\n",
       "<tr>\n",
       "  <th>Model:</th>                   <td>OLS</td>       <th>  Adj. R-squared:    </th> <td>   0.801</td> \n",
       "</tr>\n",
       "<tr>\n",
       "  <th>Method:</th>             <td>Least Squares</td>  <th>  F-statistic:       </th> <td>   229.9</td> \n",
       "</tr>\n",
       "<tr>\n",
       "  <th>Date:</th>             <td>Fri, 03 May 2024</td> <th>  Prob (F-statistic):</th> <td>3.78e-134</td>\n",
       "</tr>\n",
       "<tr>\n",
       "  <th>Time:</th>                 <td>16:09:15</td>     <th>  Log-Likelihood:    </th> <td>  542.56</td> \n",
       "</tr>\n",
       "<tr>\n",
       "  <th>No. Observations:</th>      <td>   398</td>      <th>  AIC:               </th> <td>  -1069.</td> \n",
       "</tr>\n",
       "<tr>\n",
       "  <th>Df Residuals:</th>          <td>   390</td>      <th>  BIC:               </th> <td>  -1037.</td> \n",
       "</tr>\n",
       "<tr>\n",
       "  <th>Df Model:</th>              <td>     7</td>      <th>                     </th>     <td> </td>    \n",
       "</tr>\n",
       "<tr>\n",
       "  <th>Covariance Type:</th>      <td>nonrobust</td>    <th>                     </th>     <td> </td>    \n",
       "</tr>\n",
       "</table>\n",
       "<table class=\"simpletable\">\n",
       "<tr>\n",
       "          <td></td>             <th>coef</th>     <th>std err</th>      <th>t</th>      <th>P>|t|</th>  <th>[0.025</th>    <th>0.975]</th>  \n",
       "</tr>\n",
       "<tr>\n",
       "  <th>Intercept</th>         <td>   -1.2107</td> <td>    0.123</td> <td>   -9.855</td> <td> 0.000</td> <td>   -1.452</td> <td>   -0.969</td>\n",
       "</tr>\n",
       "<tr>\n",
       "  <th>GRE_Score</th>         <td>    0.0017</td> <td>    0.001</td> <td>    2.843</td> <td> 0.005</td> <td>    0.001</td> <td>    0.003</td>\n",
       "</tr>\n",
       "<tr>\n",
       "  <th>TOEFL_Score</th>       <td>    0.0026</td> <td>    0.001</td> <td>    2.467</td> <td> 0.014</td> <td>    0.001</td> <td>    0.005</td>\n",
       "</tr>\n",
       "<tr>\n",
       "  <th>University_Rating</th> <td>    0.0054</td> <td>    0.005</td> <td>    1.147</td> <td> 0.252</td> <td>   -0.004</td> <td>    0.015</td>\n",
       "</tr>\n",
       "<tr>\n",
       "  <th>SOP</th>               <td>   -0.0003</td> <td>    0.005</td> <td>   -0.063</td> <td> 0.950</td> <td>   -0.011</td> <td>    0.010</td>\n",
       "</tr>\n",
       "<tr>\n",
       "  <th>LOR</th>               <td>    0.0210</td> <td>    0.005</td> <td>    3.861</td> <td> 0.000</td> <td>    0.010</td> <td>    0.032</td>\n",
       "</tr>\n",
       "<tr>\n",
       "  <th>CGPA</th>              <td>    0.1190</td> <td>    0.012</td> <td>    9.920</td> <td> 0.000</td> <td>    0.095</td> <td>    0.143</td>\n",
       "</tr>\n",
       "<tr>\n",
       "  <th>Research</th>          <td>    0.0237</td> <td>    0.008</td> <td>    3.040</td> <td> 0.003</td> <td>    0.008</td> <td>    0.039</td>\n",
       "</tr>\n",
       "</table>\n",
       "<table class=\"simpletable\">\n",
       "<tr>\n",
       "  <th>Omnibus:</th>       <td>88.327</td> <th>  Durbin-Watson:     </th> <td>   0.774</td>\n",
       "</tr>\n",
       "<tr>\n",
       "  <th>Prob(Omnibus):</th> <td> 0.000</td> <th>  Jarque-Bera (JB):  </th> <td> 184.308</td>\n",
       "</tr>\n",
       "<tr>\n",
       "  <th>Skew:</th>          <td>-1.164</td> <th>  Prob(JB):          </th> <td>9.50e-41</td>\n",
       "</tr>\n",
       "<tr>\n",
       "  <th>Kurtosis:</th>      <td> 5.386</td> <th>  Cond. No.          </th> <td>1.31e+04</td>\n",
       "</tr>\n",
       "</table><br/><br/>Notes:<br/>[1] Standard Errors assume that the covariance matrix of the errors is correctly specified.<br/>[2] The condition number is large, 1.31e+04. This might indicate that there are<br/>strong multicollinearity or other numerical problems."
      ],
      "text/latex": [
       "\\begin{center}\n",
       "\\begin{tabular}{lclc}\n",
       "\\toprule\n",
       "\\textbf{Dep. Variable:}     & Chance\\_of\\_Admit & \\textbf{  R-squared:         } &     0.805   \\\\\n",
       "\\textbf{Model:}             &        OLS        & \\textbf{  Adj. R-squared:    } &     0.801   \\\\\n",
       "\\textbf{Method:}            &   Least Squares   & \\textbf{  F-statistic:       } &     229.9   \\\\\n",
       "\\textbf{Date:}              &  Fri, 03 May 2024 & \\textbf{  Prob (F-statistic):} & 3.78e-134   \\\\\n",
       "\\textbf{Time:}              &      16:09:15     & \\textbf{  Log-Likelihood:    } &    542.56   \\\\\n",
       "\\textbf{No. Observations:}  &          398      & \\textbf{  AIC:               } &    -1069.   \\\\\n",
       "\\textbf{Df Residuals:}      &          390      & \\textbf{  BIC:               } &    -1037.   \\\\\n",
       "\\textbf{Df Model:}          &            7      & \\textbf{                     } &             \\\\\n",
       "\\textbf{Covariance Type:}   &     nonrobust     & \\textbf{                     } &             \\\\\n",
       "\\bottomrule\n",
       "\\end{tabular}\n",
       "\\begin{tabular}{lcccccc}\n",
       "                            & \\textbf{coef} & \\textbf{std err} & \\textbf{t} & \\textbf{P$> |$t$|$} & \\textbf{[0.025} & \\textbf{0.975]}  \\\\\n",
       "\\midrule\n",
       "\\textbf{Intercept}          &      -1.2107  &        0.123     &    -9.855  &         0.000        &       -1.452    &       -0.969     \\\\\n",
       "\\textbf{GRE\\_Score}         &       0.0017  &        0.001     &     2.843  &         0.005        &        0.001    &        0.003     \\\\\n",
       "\\textbf{TOEFL\\_Score}       &       0.0026  &        0.001     &     2.467  &         0.014        &        0.001    &        0.005     \\\\\n",
       "\\textbf{University\\_Rating} &       0.0054  &        0.005     &     1.147  &         0.252        &       -0.004    &        0.015     \\\\\n",
       "\\textbf{SOP}                &      -0.0003  &        0.005     &    -0.063  &         0.950        &       -0.011    &        0.010     \\\\\n",
       "\\textbf{LOR}                &       0.0210  &        0.005     &     3.861  &         0.000        &        0.010    &        0.032     \\\\\n",
       "\\textbf{CGPA}               &       0.1190  &        0.012     &     9.920  &         0.000        &        0.095    &        0.143     \\\\\n",
       "\\textbf{Research}           &       0.0237  &        0.008     &     3.040  &         0.003        &        0.008    &        0.039     \\\\\n",
       "\\bottomrule\n",
       "\\end{tabular}\n",
       "\\begin{tabular}{lclc}\n",
       "\\textbf{Omnibus:}       & 88.327 & \\textbf{  Durbin-Watson:     } &    0.774  \\\\\n",
       "\\textbf{Prob(Omnibus):} &  0.000 & \\textbf{  Jarque-Bera (JB):  } &  184.308  \\\\\n",
       "\\textbf{Skew:}          & -1.164 & \\textbf{  Prob(JB):          } & 9.50e-41  \\\\\n",
       "\\textbf{Kurtosis:}      &  5.386 & \\textbf{  Cond. No.          } & 1.31e+04  \\\\\n",
       "\\bottomrule\n",
       "\\end{tabular}\n",
       "%\\caption{OLS Regression Results}\n",
       "\\end{center}\n",
       "\n",
       "Notes: \\newline\n",
       " [1] Standard Errors assume that the covariance matrix of the errors is correctly specified. \\newline\n",
       " [2] The condition number is large, 1.31e+04. This might indicate that there are \\newline\n",
       " strong multicollinearity or other numerical problems."
      ],
      "text/plain": [
       "<class 'statsmodels.iolib.summary.Summary'>\n",
       "\"\"\"\n",
       "                            OLS Regression Results                            \n",
       "==============================================================================\n",
       "Dep. Variable:        Chance_of_Admit   R-squared:                       0.805\n",
       "Model:                            OLS   Adj. R-squared:                  0.801\n",
       "Method:                 Least Squares   F-statistic:                     229.9\n",
       "Date:                Fri, 03 May 2024   Prob (F-statistic):          3.78e-134\n",
       "Time:                        16:09:15   Log-Likelihood:                 542.56\n",
       "No. Observations:                 398   AIC:                            -1069.\n",
       "Df Residuals:                     390   BIC:                            -1037.\n",
       "Df Model:                           7                                         \n",
       "Covariance Type:            nonrobust                                         \n",
       "=====================================================================================\n",
       "                        coef    std err          t      P>|t|      [0.025      0.975]\n",
       "-------------------------------------------------------------------------------------\n",
       "Intercept            -1.2107      0.123     -9.855      0.000      -1.452      -0.969\n",
       "GRE_Score             0.0017      0.001      2.843      0.005       0.001       0.003\n",
       "TOEFL_Score           0.0026      0.001      2.467      0.014       0.001       0.005\n",
       "University_Rating     0.0054      0.005      1.147      0.252      -0.004       0.015\n",
       "SOP                  -0.0003      0.005     -0.063      0.950      -0.011       0.010\n",
       "LOR                   0.0210      0.005      3.861      0.000       0.010       0.032\n",
       "CGPA                  0.1190      0.012      9.920      0.000       0.095       0.143\n",
       "Research              0.0237      0.008      3.040      0.003       0.008       0.039\n",
       "==============================================================================\n",
       "Omnibus:                       88.327   Durbin-Watson:                   0.774\n",
       "Prob(Omnibus):                  0.000   Jarque-Bera (JB):              184.308\n",
       "Skew:                          -1.164   Prob(JB):                     9.50e-41\n",
       "Kurtosis:                       5.386   Cond. No.                     1.31e+04\n",
       "==============================================================================\n",
       "\n",
       "Notes:\n",
       "[1] Standard Errors assume that the covariance matrix of the errors is correctly specified.\n",
       "[2] The condition number is large, 1.31e+04. This might indicate that there are\n",
       "strong multicollinearity or other numerical problems.\n",
       "\"\"\""
      ]
     },
     "execution_count": 149,
     "metadata": {},
     "output_type": "execute_result"
    }
   ],
   "source": [
    "results.summary()"
   ]
  },
  {
   "cell_type": "code",
   "execution_count": 150,
   "id": "1a8a01aa",
   "metadata": {},
   "outputs": [],
   "source": [
    "# 2. Odhadněte parametry lineárního regresního modelu"
   ]
  },
  {
   "cell_type": "code",
   "execution_count": null,
   "id": "7943e668",
   "metadata": {},
   "outputs": [],
   "source": [
    "# Na odhad parametrů použijeme metodu nejmenších čtverců OLS \n"
   ]
  },
  {
   "cell_type": "code",
   "execution_count": 151,
   "id": "9dd24728",
   "metadata": {},
   "outputs": [],
   "source": [
    "# 3. Interpretujte koeficienty modelu. Které koeficienty jsou statisticky významé? Diskutujte, které proměnné \n",
    "# mají největší vliv na šance na přijetí a proč.\n",
    "\n",
    "# Výsledky regresní analýzy pomocí metody nejmenších čtverců (OLS) pro závislou proměnnou \"Chance of Admit\" (šance na přijetí) \n",
    "# ukazují, jak GRE Skóre, TOEFL Skóre, hodnocení od univerzity, SOP, LOR, CGPA, a účast na výzkumu ovlivňují šanci na přijetí.\n",
    "# Model využívá pouze tyto nezávislé proměnné a jeho charakteristiky jsou následující:\n",
    "\n",
    "# R-squared (R²) = 0.805. Model dokáže vysvětlit 80.5% variability v šanci na přijetí na nezávislých proměnných uvedených v tomto modelu.\n",
    "# Adjusted R-squared (Adj. R²) = 0.801. Upravený koeficient determinace je velmi blízký R². To ukazuje, že model není zatížen nadbytečným počtem proměnných.\n",
    "\n",
    "# F-statistika = 229.9 s p-hodnota = 3.78e-134: Tato statistika a velmi nízká p-hodnota ukazují, že model jako celek je statisticky významný. \n",
    "# To znamená, že alespoň jeden z koeficientů (GRE_Score, TOEFL_Score, University_Rating, SOP, LOR, CGPA, Research) má statisticky významný vliv na šanci na přijetí.\n",
    "\n",
    "# Koeficienty:\n",
    "# Intercept(konstanta) je -1.2107 s p-hodnotou < 0.0001. Intercept je statisticky významný a jeho negativní hodnota není iterpretabilní bez dalších informací.\n",
    "# GRE_Score: Koeficient 0.0017 znamená, že se každým dalším Gre score bodem se šance na přijetí zvyšuje o 0.0017. p = 0.005.\n",
    "# TOEFL_Score: Koeficient 0.0026 znamená, že se každým dalším bodem z TOEFL se šance na přijetí zvyšuje o 0.0026. p = 0.014.\n",
    "# University_Rating: Koeficient 0.0054 znamená, že se každým dalším bodem od univerzity se šance na přijetí zvyšuje o 0.0054. p = 0.252 \n",
    "# SOP: Koeficient -0.0003 znamená, že s každou další změnou o 0.1 SOP se šance na přijetí snižuje o 0.0003. p = 0.950\n",
    "# LOR: Koeficient 0.0210 znamená, že s každou další změnou o 0.1 LOR se šance na přijetí zvyšuje o 0.0210. p = 0.000 \n",
    "# CGPA: Koeficient 0.1190 znamená, že s každou další změnou o 0.01 CGPAse šance na přijetí zvyšuje o 0.1190. p = 0.000\n",
    "# Research: Koeficient 0.0237 znamená, že má-li student zkušenost s výzkumem se šance na přijetí zvyšuje o 0.0237. p = 0.003\n",
    "\n",
    "# Diagnostika reziduí:\n",
    "# Omnibus test: Výsledek testu je statisticky významný (p < 0.001), což naznačuje, že rezidua nejsou normálně distribuovaná.\n",
    "# Skew (šikmost) a Kurtosis (špičatost): Hodnoty ukazují, že distribuce reziduí má vyšší špičatost a je více šikmá (v negativním směru) než normální distribuce.\n",
    "\n",
    "# Zhodnocení modelu\n",
    "# Model má dobré vysvětlující schopnosti.\n",
    "# R-squared hodnoty jsou vysoké, model dokáže vysvětlit 80.5% variability v šanci na přijetí.\n",
    "# Koeficienty nejsou příliš významné, ale to se dá pochopit, protože 1 bod ještě nemůže zvýšit šanci o přijetí o desítky procent.\n",
    "# Z těchto proměnných by mohla mít největší vliv na přijetí CGPA, protože změna o 0.01 bodu zvyšuje šanci o přijetí o 0.1190."
   ]
  },
  {
   "cell_type": "code",
   "execution_count": null,
   "id": "6857d6fd",
   "metadata": {},
   "outputs": [],
   "source": [
    "# 4. Vyhodnoťte kvalitu fitu vašeho lineárního regresního modelu pomocí koeficientu determinace R2.\n",
    "# Viz předchozí odpověď, kde jsem to popsala"
   ]
  },
  {
   "cell_type": "code",
   "execution_count": 158,
   "id": "81214c41",
   "metadata": {},
   "outputs": [
    {
     "data": {
      "text/html": [
       "<div>\n",
       "<style scoped>\n",
       "    .dataframe tbody tr th:only-of-type {\n",
       "        vertical-align: middle;\n",
       "    }\n",
       "\n",
       "    .dataframe tbody tr th {\n",
       "        vertical-align: top;\n",
       "    }\n",
       "\n",
       "    .dataframe thead th {\n",
       "        text-align: right;\n",
       "    }\n",
       "</style>\n",
       "<table border=\"1\" class=\"dataframe\">\n",
       "  <thead>\n",
       "    <tr style=\"text-align: right;\">\n",
       "      <th></th>\n",
       "      <th>Cook Distance</th>\n",
       "    </tr>\n",
       "  </thead>\n",
       "  <tbody>\n",
       "    <tr>\n",
       "      <th>0</th>\n",
       "      <td>0.000383</td>\n",
       "    </tr>\n",
       "    <tr>\n",
       "      <th>1</th>\n",
       "      <td>0.000811</td>\n",
       "    </tr>\n",
       "    <tr>\n",
       "      <th>2</th>\n",
       "      <td>0.002403</td>\n",
       "    </tr>\n",
       "    <tr>\n",
       "      <th>3</th>\n",
       "      <td>0.001627</td>\n",
       "    </tr>\n",
       "    <tr>\n",
       "      <th>4</th>\n",
       "      <td>0.000098</td>\n",
       "    </tr>\n",
       "    <tr>\n",
       "      <th>...</th>\n",
       "      <td>...</td>\n",
       "    </tr>\n",
       "    <tr>\n",
       "      <th>395</th>\n",
       "      <td>0.000038</td>\n",
       "    </tr>\n",
       "    <tr>\n",
       "      <th>396</th>\n",
       "      <td>0.000466</td>\n",
       "    </tr>\n",
       "    <tr>\n",
       "      <th>397</th>\n",
       "      <td>0.000001</td>\n",
       "    </tr>\n",
       "    <tr>\n",
       "      <th>398</th>\n",
       "      <td>0.001594</td>\n",
       "    </tr>\n",
       "    <tr>\n",
       "      <th>399</th>\n",
       "      <td>0.000211</td>\n",
       "    </tr>\n",
       "  </tbody>\n",
       "</table>\n",
       "<p>400 rows × 1 columns</p>\n",
       "</div>"
      ],
      "text/plain": [
       "     Cook Distance\n",
       "0         0.000383\n",
       "1         0.000811\n",
       "2         0.002403\n",
       "3         0.001627\n",
       "4         0.000098\n",
       "..             ...\n",
       "395       0.000038\n",
       "396       0.000466\n",
       "397       0.000001\n",
       "398       0.001594\n",
       "399       0.000211\n",
       "\n",
       "[400 rows x 1 columns]"
      ]
     },
     "execution_count": 158,
     "metadata": {},
     "output_type": "execute_result"
    }
   ],
   "source": [
    "# 5. Vypočítejte Cookovu vzdálenost pro jednotlivé body\n",
    "# Viz bod #1\n",
    "data['Cook Distance'] = influence.cooks_distance[0]\n",
    "data[['Cook Distance']]"
   ]
  },
  {
   "cell_type": "code",
   "execution_count": 166,
   "id": "6556e9b3",
   "metadata": {},
   "outputs": [
    {
     "data": {
      "text/plain": [
       "<AxesSubplot: xlabel='Cook Distance', ylabel='Count'>"
      ]
     },
     "execution_count": 166,
     "metadata": {},
     "output_type": "execute_result"
    },
    {
     "data": {
      "image/png": "[encoded data removed]",
      "text/plain": [
       "<Figure size 640x480 with 1 Axes>"
      ]
     },
     "metadata": {},
     "output_type": "display_data"
    }
   ],
   "source": [
    "# 6. Vytvořte histogram pro Cookovu zdálenost. Je potřeba nějaké body odstranit, protože by moc ovlivňovali\n",
    "# naši lineární regresi?\n",
    "# Můžeme odstranit body nad 0.02\n",
    "sns.histplot(data['Cook Distance'], kde=True)"
   ]
  },
  {
   "cell_type": "code",
   "execution_count": 168,
   "id": "aef1ce6a",
   "metadata": {},
   "outputs": [
    {
     "data": {
      "text/html": [
       "<table class=\"simpletable\">\n",
       "<caption>OLS Regression Results</caption>\n",
       "<tr>\n",
       "  <th>Dep. Variable:</th>     <td>Chance_of_Admit</td> <th>  R-squared:         </th> <td>   0.847</td> \n",
       "</tr>\n",
       "<tr>\n",
       "  <th>Model:</th>                   <td>OLS</td>       <th>  Adj. R-squared:    </th> <td>   0.844</td> \n",
       "</tr>\n",
       "<tr>\n",
       "  <th>Method:</th>             <td>Least Squares</td>  <th>  F-statistic:       </th> <td>   299.8</td> \n",
       "</tr>\n",
       "<tr>\n",
       "  <th>Date:</th>             <td>Sat, 04 May 2024</td> <th>  Prob (F-statistic):</th> <td>3.01e-150</td>\n",
       "</tr>\n",
       "<tr>\n",
       "  <th>Time:</th>                 <td>18:12:03</td>     <th>  Log-Likelihood:    </th> <td>  589.06</td> \n",
       "</tr>\n",
       "<tr>\n",
       "  <th>No. Observations:</th>      <td>   387</td>      <th>  AIC:               </th> <td>  -1162.</td> \n",
       "</tr>\n",
       "<tr>\n",
       "  <th>Df Residuals:</th>          <td>   379</td>      <th>  BIC:               </th> <td>  -1130.</td> \n",
       "</tr>\n",
       "<tr>\n",
       "  <th>Df Model:</th>              <td>     7</td>      <th>                     </th>     <td> </td>    \n",
       "</tr>\n",
       "<tr>\n",
       "  <th>Covariance Type:</th>      <td>nonrobust</td>    <th>                     </th>     <td> </td>    \n",
       "</tr>\n",
       "</table>\n",
       "<table class=\"simpletable\">\n",
       "<tr>\n",
       "          <td></td>             <th>coef</th>     <th>std err</th>      <th>t</th>      <th>P>|t|</th>  <th>[0.025</th>    <th>0.975]</th>  \n",
       "</tr>\n",
       "<tr>\n",
       "  <th>Intercept</th>         <td>   -1.2736</td> <td>    0.108</td> <td>  -11.784</td> <td> 0.000</td> <td>   -1.486</td> <td>   -1.061</td>\n",
       "</tr>\n",
       "<tr>\n",
       "  <th>GRE_Score</th>         <td>    0.0023</td> <td>    0.001</td> <td>    4.468</td> <td> 0.000</td> <td>    0.001</td> <td>    0.003</td>\n",
       "</tr>\n",
       "<tr>\n",
       "  <th>TOEFL_Score</th>       <td>    0.0028</td> <td>    0.001</td> <td>    3.058</td> <td> 0.002</td> <td>    0.001</td> <td>    0.005</td>\n",
       "</tr>\n",
       "<tr>\n",
       "  <th>University_Rating</th> <td>    0.0098</td> <td>    0.004</td> <td>    2.385</td> <td> 0.018</td> <td>    0.002</td> <td>    0.018</td>\n",
       "</tr>\n",
       "<tr>\n",
       "  <th>SOP</th>               <td>   -0.0007</td> <td>    0.005</td> <td>   -0.140</td> <td> 0.889</td> <td>   -0.010</td> <td>    0.009</td>\n",
       "</tr>\n",
       "<tr>\n",
       "  <th>LOR</th>               <td>    0.0213</td> <td>    0.005</td> <td>    4.539</td> <td> 0.000</td> <td>    0.012</td> <td>    0.030</td>\n",
       "</tr>\n",
       "<tr>\n",
       "  <th>CGPA</th>              <td>    0.1010</td> <td>    0.010</td> <td>    9.674</td> <td> 0.000</td> <td>    0.080</td> <td>    0.122</td>\n",
       "</tr>\n",
       "<tr>\n",
       "  <th>Research</th>          <td>    0.0146</td> <td>    0.007</td> <td>    2.136</td> <td> 0.033</td> <td>    0.001</td> <td>    0.028</td>\n",
       "</tr>\n",
       "</table>\n",
       "<table class=\"simpletable\">\n",
       "<tr>\n",
       "  <th>Omnibus:</th>       <td>47.929</td> <th>  Durbin-Watson:     </th> <td>   0.961</td>\n",
       "</tr>\n",
       "<tr>\n",
       "  <th>Prob(Omnibus):</th> <td> 0.000</td> <th>  Jarque-Bera (JB):  </th> <td>  73.181</td>\n",
       "</tr>\n",
       "<tr>\n",
       "  <th>Skew:</th>          <td>-0.796</td> <th>  Prob(JB):          </th> <td>1.29e-16</td>\n",
       "</tr>\n",
       "<tr>\n",
       "  <th>Kurtosis:</th>      <td> 4.416</td> <th>  Cond. No.          </th> <td>1.34e+04</td>\n",
       "</tr>\n",
       "</table><br/><br/>Notes:<br/>[1] Standard Errors assume that the covariance matrix of the errors is correctly specified.<br/>[2] The condition number is large, 1.34e+04. This might indicate that there are<br/>strong multicollinearity or other numerical problems."
      ],
      "text/latex": [
       "\\begin{center}\n",
       "\\begin{tabular}{lclc}\n",
       "\\toprule\n",
       "\\textbf{Dep. Variable:}     & Chance\\_of\\_Admit & \\textbf{  R-squared:         } &     0.847   \\\\\n",
       "\\textbf{Model:}             &        OLS        & \\textbf{  Adj. R-squared:    } &     0.844   \\\\\n",
       "\\textbf{Method:}            &   Least Squares   & \\textbf{  F-statistic:       } &     299.8   \\\\\n",
       "\\textbf{Date:}              &  Sat, 04 May 2024 & \\textbf{  Prob (F-statistic):} & 3.01e-150   \\\\\n",
       "\\textbf{Time:}              &      18:12:03     & \\textbf{  Log-Likelihood:    } &    589.06   \\\\\n",
       "\\textbf{No. Observations:}  &          387      & \\textbf{  AIC:               } &    -1162.   \\\\\n",
       "\\textbf{Df Residuals:}      &          379      & \\textbf{  BIC:               } &    -1130.   \\\\\n",
       "\\textbf{Df Model:}          &            7      & \\textbf{                     } &             \\\\\n",
       "\\textbf{Covariance Type:}   &     nonrobust     & \\textbf{                     } &             \\\\\n",
       "\\bottomrule\n",
       "\\end{tabular}\n",
       "\\begin{tabular}{lcccccc}\n",
       "                            & \\textbf{coef} & \\textbf{std err} & \\textbf{t} & \\textbf{P$> |$t$|$} & \\textbf{[0.025} & \\textbf{0.975]}  \\\\\n",
       "\\midrule\n",
       "\\textbf{Intercept}          &      -1.2736  &        0.108     &   -11.784  &         0.000        &       -1.486    &       -1.061     \\\\\n",
       "\\textbf{GRE\\_Score}         &       0.0023  &        0.001     &     4.468  &         0.000        &        0.001    &        0.003     \\\\\n",
       "\\textbf{TOEFL\\_Score}       &       0.0028  &        0.001     &     3.058  &         0.002        &        0.001    &        0.005     \\\\\n",
       "\\textbf{University\\_Rating} &       0.0098  &        0.004     &     2.385  &         0.018        &        0.002    &        0.018     \\\\\n",
       "\\textbf{SOP}                &      -0.0007  &        0.005     &    -0.140  &         0.889        &       -0.010    &        0.009     \\\\\n",
       "\\textbf{LOR}                &       0.0213  &        0.005     &     4.539  &         0.000        &        0.012    &        0.030     \\\\\n",
       "\\textbf{CGPA}               &       0.1010  &        0.010     &     9.674  &         0.000        &        0.080    &        0.122     \\\\\n",
       "\\textbf{Research}           &       0.0146  &        0.007     &     2.136  &         0.033        &        0.001    &        0.028     \\\\\n",
       "\\bottomrule\n",
       "\\end{tabular}\n",
       "\\begin{tabular}{lclc}\n",
       "\\textbf{Omnibus:}       & 47.929 & \\textbf{  Durbin-Watson:     } &    0.961  \\\\\n",
       "\\textbf{Prob(Omnibus):} &  0.000 & \\textbf{  Jarque-Bera (JB):  } &   73.181  \\\\\n",
       "\\textbf{Skew:}          & -0.796 & \\textbf{  Prob(JB):          } & 1.29e-16  \\\\\n",
       "\\textbf{Kurtosis:}      &  4.416 & \\textbf{  Cond. No.          } & 1.34e+04  \\\\\n",
       "\\bottomrule\n",
       "\\end{tabular}\n",
       "%\\caption{OLS Regression Results}\n",
       "\\end{center}\n",
       "\n",
       "Notes: \\newline\n",
       " [1] Standard Errors assume that the covariance matrix of the errors is correctly specified. \\newline\n",
       " [2] The condition number is large, 1.34e+04. This might indicate that there are \\newline\n",
       " strong multicollinearity or other numerical problems."
      ],
      "text/plain": [
       "<class 'statsmodels.iolib.summary.Summary'>\n",
       "\"\"\"\n",
       "                            OLS Regression Results                            \n",
       "==============================================================================\n",
       "Dep. Variable:        Chance_of_Admit   R-squared:                       0.847\n",
       "Model:                            OLS   Adj. R-squared:                  0.844\n",
       "Method:                 Least Squares   F-statistic:                     299.8\n",
       "Date:                Sat, 04 May 2024   Prob (F-statistic):          3.01e-150\n",
       "Time:                        18:12:03   Log-Likelihood:                 589.06\n",
       "No. Observations:                 387   AIC:                            -1162.\n",
       "Df Residuals:                     379   BIC:                            -1130.\n",
       "Df Model:                           7                                         \n",
       "Covariance Type:            nonrobust                                         \n",
       "=====================================================================================\n",
       "                        coef    std err          t      P>|t|      [0.025      0.975]\n",
       "-------------------------------------------------------------------------------------\n",
       "Intercept            -1.2736      0.108    -11.784      0.000      -1.486      -1.061\n",
       "GRE_Score             0.0023      0.001      4.468      0.000       0.001       0.003\n",
       "TOEFL_Score           0.0028      0.001      3.058      0.002       0.001       0.005\n",
       "University_Rating     0.0098      0.004      2.385      0.018       0.002       0.018\n",
       "SOP                  -0.0007      0.005     -0.140      0.889      -0.010       0.009\n",
       "LOR                   0.0213      0.005      4.539      0.000       0.012       0.030\n",
       "CGPA                  0.1010      0.010      9.674      0.000       0.080       0.122\n",
       "Research              0.0146      0.007      2.136      0.033       0.001       0.028\n",
       "==============================================================================\n",
       "Omnibus:                       47.929   Durbin-Watson:                   0.961\n",
       "Prob(Omnibus):                  0.000   Jarque-Bera (JB):               73.181\n",
       "Skew:                          -0.796   Prob(JB):                     1.29e-16\n",
       "Kurtosis:                       4.416   Cond. No.                     1.34e+04\n",
       "==============================================================================\n",
       "\n",
       "Notes:\n",
       "[1] Standard Errors assume that the covariance matrix of the errors is correctly specified.\n",
       "[2] The condition number is large, 1.34e+04. This might indicate that there are\n",
       "strong multicollinearity or other numerical problems.\n",
       "\"\"\""
      ]
     },
     "execution_count": 168,
     "metadata": {},
     "output_type": "execute_result"
    }
   ],
   "source": [
    "data_modif = data[data['Cook Distance'] < 0.02] # zobraz jen body menší než 1\n",
    "mod = smf.ols(formula=formula, data=data_modif)\n",
    "res = mod.fit()\n",
    "res.summary()"
   ]
  },
  {
   "cell_type": "code",
   "execution_count": 172,
   "id": "2e551f7d",
   "metadata": {
    "scrolled": true
   },
   "outputs": [
    {
     "data": {
      "text/plain": [
       "<AxesSubplot: xlabel='Cook Distance', ylabel='Count'>"
      ]
     },
     "execution_count": 172,
     "metadata": {},
     "output_type": "execute_result"
    },
    {
     "data": {
      "image/png": "[encoded data removed]",
      "text/plain": [
       "<Figure size 640x480 with 1 Axes>"
      ]
     },
     "metadata": {},
     "output_type": "display_data"
    }
   ],
   "source": [
    "sns.histplot(data_modif['Cook Distance'], kde=True)"
   ]
  },
  {
   "cell_type": "code",
   "execution_count": null,
   "id": "be876d2c",
   "metadata": {},
   "outputs": [],
   "source": [
    "\n"
   ]
  },
  {
   "cell_type": "code",
   "execution_count": null,
   "id": "4d3f53d7",
   "metadata": {},
   "outputs": [],
   "source": []
  },
  {
   "cell_type": "code",
   "execution_count": null,
   "id": "fd4b6db8",
   "metadata": {},
   "outputs": [],
   "source": []
  }
 ],
 "metadata": {
  "kernelspec": {
   "display_name": "Python 3 (ipykernel)",
   "language": "python",
   "name": "python3"
  },
  "language_info": {
   "codemirror_mode": {
    "name": "ipython",
    "version": 3
   },
   "file_extension": ".py",
   "mimetype": "text/x-python",
   "name": "python",
   "nbconvert_exporter": "python",
   "pygments_lexer": "ipython3",
   "version": "3.10.6"
  }
 },
 "nbformat": 4,
 "nbformat_minor": 5
}
