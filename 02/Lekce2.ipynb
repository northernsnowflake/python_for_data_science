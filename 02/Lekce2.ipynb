{
 "cells": [
  {
   "cell_type": "code",
   "execution_count": null,
   "id": "5b150638",
   "metadata": {},
   "outputs": [],
   "source": [
    "# Základní statistické ukazatele"
   ]
  },
  {
   "cell_type": "code",
   "execution_count": 1,
   "id": "01b0325b",
   "metadata": {},
   "outputs": [],
   "source": [
    "import pandas as pd\n",
    "from scipy import stats\n",
    "import numpy as np\n",
    "import seaborn as sns"
   ]
  },
  {
   "cell_type": "code",
   "execution_count": 2,
   "id": "35fe3be2",
   "metadata": {},
   "outputs": [
    {
     "name": "stdout",
     "output_type": "stream",
     "text": [
      "Requirement already satisfied: scipy in /Users/katerina/pyladies/venv/lib/python3.10/site-packages (1.13.0)\n",
      "Requirement already satisfied: numpy<2.3,>=1.22.4 in /Users/katerina/pyladies/venv/lib/python3.10/site-packages (from scipy) (1.24.1)\n"
     ]
    }
   ],
   "source": [
    "!pip install scipy"
   ]
  },
  {
   "cell_type": "code",
   "execution_count": 3,
   "id": "203df142",
   "metadata": {},
   "outputs": [
    {
     "data": {
      "text/html": [
       "<div>\n",
       "<style scoped>\n",
       "    .dataframe tbody tr th:only-of-type {\n",
       "        vertical-align: middle;\n",
       "    }\n",
       "\n",
       "    .dataframe tbody tr th {\n",
       "        vertical-align: top;\n",
       "    }\n",
       "\n",
       "    .dataframe thead th {\n",
       "        text-align: right;\n",
       "    }\n",
       "</style>\n",
       "<table border=\"1\" class=\"dataframe\">\n",
       "  <thead>\n",
       "    <tr style=\"text-align: right;\">\n",
       "      <th></th>\n",
       "      <th>Pregnancies</th>\n",
       "      <th>Glucose</th>\n",
       "      <th>BloodPressure</th>\n",
       "      <th>SkinThickness</th>\n",
       "      <th>Insulin</th>\n",
       "      <th>BMI</th>\n",
       "      <th>DiabetesPedigreeFunction</th>\n",
       "      <th>Age</th>\n",
       "      <th>Outcome</th>\n",
       "    </tr>\n",
       "  </thead>\n",
       "  <tbody>\n",
       "    <tr>\n",
       "      <th>0</th>\n",
       "      <td>6</td>\n",
       "      <td>148</td>\n",
       "      <td>72</td>\n",
       "      <td>35</td>\n",
       "      <td>0</td>\n",
       "      <td>33.6</td>\n",
       "      <td>0.627</td>\n",
       "      <td>50</td>\n",
       "      <td>1</td>\n",
       "    </tr>\n",
       "    <tr>\n",
       "      <th>1</th>\n",
       "      <td>1</td>\n",
       "      <td>85</td>\n",
       "      <td>66</td>\n",
       "      <td>29</td>\n",
       "      <td>0</td>\n",
       "      <td>26.6</td>\n",
       "      <td>0.351</td>\n",
       "      <td>31</td>\n",
       "      <td>0</td>\n",
       "    </tr>\n",
       "    <tr>\n",
       "      <th>2</th>\n",
       "      <td>8</td>\n",
       "      <td>183</td>\n",
       "      <td>64</td>\n",
       "      <td>0</td>\n",
       "      <td>0</td>\n",
       "      <td>23.3</td>\n",
       "      <td>0.672</td>\n",
       "      <td>32</td>\n",
       "      <td>1</td>\n",
       "    </tr>\n",
       "    <tr>\n",
       "      <th>3</th>\n",
       "      <td>1</td>\n",
       "      <td>89</td>\n",
       "      <td>66</td>\n",
       "      <td>23</td>\n",
       "      <td>94</td>\n",
       "      <td>28.1</td>\n",
       "      <td>0.167</td>\n",
       "      <td>21</td>\n",
       "      <td>0</td>\n",
       "    </tr>\n",
       "    <tr>\n",
       "      <th>4</th>\n",
       "      <td>0</td>\n",
       "      <td>137</td>\n",
       "      <td>40</td>\n",
       "      <td>35</td>\n",
       "      <td>168</td>\n",
       "      <td>43.1</td>\n",
       "      <td>2.288</td>\n",
       "      <td>33</td>\n",
       "      <td>1</td>\n",
       "    </tr>\n",
       "  </tbody>\n",
       "</table>\n",
       "</div>"
      ],
      "text/plain": [
       "   Pregnancies  Glucose  BloodPressure  SkinThickness  Insulin   BMI  \\\n",
       "0            6      148             72             35        0  33.6   \n",
       "1            1       85             66             29        0  26.6   \n",
       "2            8      183             64              0        0  23.3   \n",
       "3            1       89             66             23       94  28.1   \n",
       "4            0      137             40             35      168  43.1   \n",
       "\n",
       "   DiabetesPedigreeFunction  Age  Outcome  \n",
       "0                     0.627   50        1  \n",
       "1                     0.351   31        0  \n",
       "2                     0.672   32        1  \n",
       "3                     0.167   21        0  \n",
       "4                     2.288   33        1  "
      ]
     },
     "execution_count": 3,
     "metadata": {},
     "output_type": "execute_result"
    }
   ],
   "source": [
    "data = pd.read_csv(\"diabetes.csv\")\n",
    "data.head()"
   ]
  },
  {
   "cell_type": "code",
   "execution_count": 4,
   "id": "28eaff86",
   "metadata": {},
   "outputs": [
    {
     "data": {
      "text/html": [
       "<div>\n",
       "<style scoped>\n",
       "    .dataframe tbody tr th:only-of-type {\n",
       "        vertical-align: middle;\n",
       "    }\n",
       "\n",
       "    .dataframe tbody tr th {\n",
       "        vertical-align: top;\n",
       "    }\n",
       "\n",
       "    .dataframe thead th {\n",
       "        text-align: right;\n",
       "    }\n",
       "</style>\n",
       "<table border=\"1\" class=\"dataframe\">\n",
       "  <thead>\n",
       "    <tr style=\"text-align: right;\">\n",
       "      <th></th>\n",
       "      <th>Pregnancies</th>\n",
       "      <th>Glucose</th>\n",
       "      <th>BloodPressure</th>\n",
       "      <th>SkinThickness</th>\n",
       "      <th>Insulin</th>\n",
       "      <th>BMI</th>\n",
       "      <th>DiabetesPedigreeFunction</th>\n",
       "      <th>Age</th>\n",
       "      <th>Outcome</th>\n",
       "    </tr>\n",
       "  </thead>\n",
       "  <tbody>\n",
       "    <tr>\n",
       "      <th>0</th>\n",
       "      <td>6</td>\n",
       "      <td>148</td>\n",
       "      <td>72</td>\n",
       "      <td>35</td>\n",
       "      <td>0</td>\n",
       "      <td>33.6</td>\n",
       "      <td>0.627</td>\n",
       "      <td>50</td>\n",
       "      <td>yes</td>\n",
       "    </tr>\n",
       "    <tr>\n",
       "      <th>1</th>\n",
       "      <td>1</td>\n",
       "      <td>85</td>\n",
       "      <td>66</td>\n",
       "      <td>29</td>\n",
       "      <td>0</td>\n",
       "      <td>26.6</td>\n",
       "      <td>0.351</td>\n",
       "      <td>31</td>\n",
       "      <td>no</td>\n",
       "    </tr>\n",
       "    <tr>\n",
       "      <th>2</th>\n",
       "      <td>8</td>\n",
       "      <td>183</td>\n",
       "      <td>64</td>\n",
       "      <td>0</td>\n",
       "      <td>0</td>\n",
       "      <td>23.3</td>\n",
       "      <td>0.672</td>\n",
       "      <td>32</td>\n",
       "      <td>yes</td>\n",
       "    </tr>\n",
       "    <tr>\n",
       "      <th>3</th>\n",
       "      <td>1</td>\n",
       "      <td>89</td>\n",
       "      <td>66</td>\n",
       "      <td>23</td>\n",
       "      <td>94</td>\n",
       "      <td>28.1</td>\n",
       "      <td>0.167</td>\n",
       "      <td>21</td>\n",
       "      <td>no</td>\n",
       "    </tr>\n",
       "    <tr>\n",
       "      <th>4</th>\n",
       "      <td>0</td>\n",
       "      <td>137</td>\n",
       "      <td>40</td>\n",
       "      <td>35</td>\n",
       "      <td>168</td>\n",
       "      <td>43.1</td>\n",
       "      <td>2.288</td>\n",
       "      <td>33</td>\n",
       "      <td>yes</td>\n",
       "    </tr>\n",
       "  </tbody>\n",
       "</table>\n",
       "</div>"
      ],
      "text/plain": [
       "   Pregnancies  Glucose  BloodPressure  SkinThickness  Insulin   BMI  \\\n",
       "0            6      148             72             35        0  33.6   \n",
       "1            1       85             66             29        0  26.6   \n",
       "2            8      183             64              0        0  23.3   \n",
       "3            1       89             66             23       94  28.1   \n",
       "4            0      137             40             35      168  43.1   \n",
       "\n",
       "   DiabetesPedigreeFunction  Age Outcome  \n",
       "0                     0.627   50     yes  \n",
       "1                     0.351   31      no  \n",
       "2                     0.672   32     yes  \n",
       "3                     0.167   21      no  \n",
       "4                     2.288   33     yes  "
      ]
     },
     "execution_count": 4,
     "metadata": {},
     "output_type": "execute_result"
    }
   ],
   "source": [
    "labels = {0: \"no\", 1: \"yes\"}\n",
    "data[\"Outcome\"] = data[\"Outcome\"].map(labels)\n",
    "data.head()"
   ]
  },
  {
   "cell_type": "code",
   "execution_count": 5,
   "id": "3bf30e46",
   "metadata": {},
   "outputs": [
    {
     "name": "stdout",
     "output_type": "stream",
     "text": [
      "69.10546875\n",
      "72.0\n",
      "0    70\n",
      "Name: BloodPressure, dtype: int64\n"
     ]
    }
   ],
   "source": [
    "print(data[\"BloodPressure\"].mean())\n",
    "print(data[\"BloodPressure\"].median())\n",
    "print(data[\"BloodPressure\"].mode())"
   ]
  },
  {
   "cell_type": "code",
   "execution_count": 6,
   "id": "554933c0",
   "metadata": {},
   "outputs": [
    {
     "data": {
      "text/plain": [
       "<AxesSubplot: >"
      ]
     },
     "execution_count": 6,
     "metadata": {},
     "output_type": "execute_result"
    },
    {
     "data": {
      "image/png": "[encoded data removed]",
      "text/plain": [
       "<Figure size 640x480 with 1 Axes>"
      ]
     },
     "metadata": {},
     "output_type": "display_data"
    }
   ],
   "source": [
    "data[\"BloodPressure\"].hist() #míra četnosti"
   ]
  },
  {
   "cell_type": "code",
   "execution_count": 7,
   "id": "4a84ce46",
   "metadata": {},
   "outputs": [],
   "source": [
    "clear_data = data[data[\"BloodPressure\"] > 0]"
   ]
  },
  {
   "cell_type": "code",
   "execution_count": 8,
   "id": "394237c3",
   "metadata": {},
   "outputs": [
    {
     "data": {
      "text/plain": [
       "72.40518417462484"
      ]
     },
     "execution_count": 8,
     "metadata": {},
     "output_type": "execute_result"
    }
   ],
   "source": [
    "clear_data[\"BloodPressure\"].mean()"
   ]
  },
  {
   "cell_type": "code",
   "execution_count": 9,
   "id": "c95b1130",
   "metadata": {},
   "outputs": [
    {
     "data": {
      "text/plain": [
       "72.0"
      ]
     },
     "execution_count": 9,
     "metadata": {},
     "output_type": "execute_result"
    }
   ],
   "source": [
    "clear_data[\"BloodPressure\"].median()"
   ]
  },
  {
   "cell_type": "code",
   "execution_count": 10,
   "id": "c3f4ffb9",
   "metadata": {},
   "outputs": [
    {
     "data": {
      "text/plain": [
       "0    70\n",
       "Name: BloodPressure, dtype: int64"
      ]
     },
     "execution_count": 10,
     "metadata": {},
     "output_type": "execute_result"
    }
   ],
   "source": [
    "clear_data[\"BloodPressure\"].mode()"
   ]
  },
  {
   "cell_type": "code",
   "execution_count": 11,
   "id": "a80cd1ac",
   "metadata": {},
   "outputs": [
    {
     "data": {
      "text/html": [
       "<div>\n",
       "<style scoped>\n",
       "    .dataframe tbody tr th:only-of-type {\n",
       "        vertical-align: middle;\n",
       "    }\n",
       "\n",
       "    .dataframe tbody tr th {\n",
       "        vertical-align: top;\n",
       "    }\n",
       "\n",
       "    .dataframe thead th {\n",
       "        text-align: right;\n",
       "    }\n",
       "</style>\n",
       "<table border=\"1\" class=\"dataframe\">\n",
       "  <thead>\n",
       "    <tr style=\"text-align: right;\">\n",
       "      <th></th>\n",
       "      <th>Pregnancies</th>\n",
       "      <th>Glucose</th>\n",
       "      <th>BloodPressure</th>\n",
       "      <th>SkinThickness</th>\n",
       "      <th>Insulin</th>\n",
       "      <th>BMI</th>\n",
       "      <th>DiabetesPedigreeFunction</th>\n",
       "      <th>Age</th>\n",
       "      <th>Outcome</th>\n",
       "    </tr>\n",
       "  </thead>\n",
       "  <tbody>\n",
       "    <tr>\n",
       "      <th>0</th>\n",
       "      <td>6</td>\n",
       "      <td>148</td>\n",
       "      <td>72</td>\n",
       "      <td>35</td>\n",
       "      <td>0</td>\n",
       "      <td>33.6</td>\n",
       "      <td>0.627</td>\n",
       "      <td>50</td>\n",
       "      <td>yes</td>\n",
       "    </tr>\n",
       "    <tr>\n",
       "      <th>1</th>\n",
       "      <td>1</td>\n",
       "      <td>85</td>\n",
       "      <td>66</td>\n",
       "      <td>29</td>\n",
       "      <td>0</td>\n",
       "      <td>26.6</td>\n",
       "      <td>0.351</td>\n",
       "      <td>31</td>\n",
       "      <td>no</td>\n",
       "    </tr>\n",
       "    <tr>\n",
       "      <th>2</th>\n",
       "      <td>8</td>\n",
       "      <td>183</td>\n",
       "      <td>64</td>\n",
       "      <td>0</td>\n",
       "      <td>0</td>\n",
       "      <td>23.3</td>\n",
       "      <td>0.672</td>\n",
       "      <td>32</td>\n",
       "      <td>yes</td>\n",
       "    </tr>\n",
       "    <tr>\n",
       "      <th>3</th>\n",
       "      <td>1</td>\n",
       "      <td>89</td>\n",
       "      <td>66</td>\n",
       "      <td>23</td>\n",
       "      <td>94</td>\n",
       "      <td>28.1</td>\n",
       "      <td>0.167</td>\n",
       "      <td>21</td>\n",
       "      <td>no</td>\n",
       "    </tr>\n",
       "  </tbody>\n",
       "</table>\n",
       "</div>"
      ],
      "text/plain": [
       "   Pregnancies  Glucose  BloodPressure  SkinThickness  Insulin   BMI  \\\n",
       "0            6      148             72             35        0  33.6   \n",
       "1            1       85             66             29        0  26.6   \n",
       "2            8      183             64              0        0  23.3   \n",
       "3            1       89             66             23       94  28.1   \n",
       "\n",
       "   DiabetesPedigreeFunction  Age Outcome  \n",
       "0                     0.627   50     yes  \n",
       "1                     0.351   31      no  \n",
       "2                     0.672   32     yes  \n",
       "3                     0.167   21      no  "
      ]
     },
     "execution_count": 11,
     "metadata": {},
     "output_type": "execute_result"
    }
   ],
   "source": [
    "radky4 = data.head(4)\n",
    "radky4"
   ]
  },
  {
   "cell_type": "code",
   "execution_count": 12,
   "id": "8d477543",
   "metadata": {},
   "outputs": [],
   "source": [
    "# Hypotézy\n",
    "# tvrzení, ověřujeme, zda je hypotéza platná\n",
    "# populace - všichni\n",
    "# výběr - část z populace \n",
    "\n",
    "# náhodný výběr "
   ]
  },
  {
   "cell_type": "code",
   "execution_count": 13,
   "id": "a3f5b3e5",
   "metadata": {},
   "outputs": [
    {
     "data": {
      "text/plain": [
       "no     500\n",
       "yes    268\n",
       "Name: Outcome, dtype: int64"
      ]
     },
     "execution_count": 13,
     "metadata": {},
     "output_type": "execute_result"
    }
   ],
   "source": [
    "data[\"Outcome\"].value_counts()\n",
    "# 500 jich cukrovku nemá \n",
    "# 268 jich cukrovku má"
   ]
  },
  {
   "cell_type": "code",
   "execution_count": 14,
   "id": "aa288769",
   "metadata": {},
   "outputs": [],
   "source": [
    "data = data[data[\"BloodPressure\"] > 0]"
   ]
  },
  {
   "cell_type": "code",
   "execution_count": 15,
   "id": "82f52920",
   "metadata": {},
   "outputs": [],
   "source": [
    "data_yes = data[data[\"Outcome\"] == \"yes\"]\n",
    "data_no = data[data[\"Outcome\"] == \"no\"]"
   ]
  },
  {
   "cell_type": "code",
   "execution_count": 16,
   "id": "d84cc9e5",
   "metadata": {},
   "outputs": [
    {
     "data": {
      "text/plain": [
       "75.32142857142857"
      ]
     },
     "execution_count": 16,
     "metadata": {},
     "output_type": "execute_result"
    }
   ],
   "source": [
    "data_yes[\"BloodPressure\"].mean()"
   ]
  },
  {
   "cell_type": "code",
   "execution_count": 17,
   "id": "803ab0cd",
   "metadata": {},
   "outputs": [
    {
     "data": {
      "text/plain": [
       "70.87733887733887"
      ]
     },
     "execution_count": 17,
     "metadata": {},
     "output_type": "execute_result"
    }
   ],
   "source": [
    "data_no[\"BloodPressure\"].mean()"
   ]
  },
  {
   "cell_type": "code",
   "execution_count": 18,
   "id": "02226c47",
   "metadata": {},
   "outputs": [],
   "source": [
    "# hypotéza, že ženy, co mají cukrovku, mají vyšší krevní tlak"
   ]
  },
  {
   "cell_type": "code",
   "execution_count": 19,
   "id": "8e485788",
   "metadata": {},
   "outputs": [],
   "source": [
    "# Data si můžeme porovnat i graficky. Šedá linka, kterou zobrazuje barplot(), je tzv. interval spolehlivosti, tj. interval, kde se dle odhadu nachází 95 % hodnot."
   ]
  },
  {
   "cell_type": "code",
   "execution_count": 20,
   "id": "238aa877",
   "metadata": {},
   "outputs": [
    {
     "data": {
      "text/plain": [
       "<AxesSubplot: xlabel='Outcome', ylabel='BloodPressure'>"
      ]
     },
     "execution_count": 20,
     "metadata": {},
     "output_type": "execute_result"
    },
    {
     "data": {
      "image/png": "[encoded data removed]",
      "text/plain": [
       "<Figure size 640x480 with 1 Axes>"
      ]
     },
     "metadata": {},
     "output_type": "display_data"
    }
   ],
   "source": [
    "sns.barplot(data, x=\"Outcome\", y=\"BloodPressure\")"
   ]
  },
  {
   "cell_type": "code",
   "execution_count": 21,
   "id": "5e738a60",
   "metadata": {},
   "outputs": [
    {
     "data": {
      "text/plain": [
       "153.31784194007707"
      ]
     },
     "execution_count": 21,
     "metadata": {},
     "output_type": "execute_result"
    }
   ],
   "source": [
    "data['BloodPressure'].var() # rozptyl anglicky variance "
   ]
  },
  {
   "cell_type": "code",
   "execution_count": 22,
   "id": "46b02280",
   "metadata": {},
   "outputs": [
    {
     "data": {
      "text/plain": [
       "12.38215821010526"
      ]
     },
     "execution_count": 22,
     "metadata": {},
     "output_type": "execute_result"
    }
   ],
   "source": [
    "data['BloodPressure'].std() # jak moc se liší jsou v průměru vzdálené od středu\n",
    "# nebo lze říct, jak moc jsou data přesná"
   ]
  },
  {
   "cell_type": "code",
   "execution_count": 23,
   "id": "456453da",
   "metadata": {},
   "outputs": [
    {
     "data": {
      "text/plain": [
       "75.32142857142857"
      ]
     },
     "execution_count": 23,
     "metadata": {},
     "output_type": "execute_result"
    }
   ],
   "source": [
    "data_yes['BloodPressure'].mean()"
   ]
  },
  {
   "cell_type": "code",
   "execution_count": 24,
   "id": "969ff6d2",
   "metadata": {
    "scrolled": true
   },
   "outputs": [
    {
     "data": {
      "text/html": [
       "<div>\n",
       "<style scoped>\n",
       "    .dataframe tbody tr th:only-of-type {\n",
       "        vertical-align: middle;\n",
       "    }\n",
       "\n",
       "    .dataframe tbody tr th {\n",
       "        vertical-align: top;\n",
       "    }\n",
       "\n",
       "    .dataframe thead th {\n",
       "        text-align: right;\n",
       "    }\n",
       "</style>\n",
       "<table border=\"1\" class=\"dataframe\">\n",
       "  <thead>\n",
       "    <tr style=\"text-align: right;\">\n",
       "      <th></th>\n",
       "      <th>Pregnancies</th>\n",
       "      <th>Glucose</th>\n",
       "      <th>BloodPressure</th>\n",
       "      <th>SkinThickness</th>\n",
       "      <th>Insulin</th>\n",
       "      <th>BMI</th>\n",
       "      <th>DiabetesPedigreeFunction</th>\n",
       "      <th>Age</th>\n",
       "      <th>Outcome</th>\n",
       "    </tr>\n",
       "  </thead>\n",
       "  <tbody>\n",
       "    <tr>\n",
       "      <th>10</th>\n",
       "      <td>4</td>\n",
       "      <td>110</td>\n",
       "      <td>92</td>\n",
       "      <td>0</td>\n",
       "      <td>0</td>\n",
       "      <td>37.6</td>\n",
       "      <td>0.191</td>\n",
       "      <td>30</td>\n",
       "      <td>no</td>\n",
       "    </tr>\n",
       "    <tr>\n",
       "      <th>12</th>\n",
       "      <td>10</td>\n",
       "      <td>139</td>\n",
       "      <td>80</td>\n",
       "      <td>0</td>\n",
       "      <td>0</td>\n",
       "      <td>27.1</td>\n",
       "      <td>1.441</td>\n",
       "      <td>57</td>\n",
       "      <td>no</td>\n",
       "    </tr>\n",
       "    <tr>\n",
       "      <th>20</th>\n",
       "      <td>3</td>\n",
       "      <td>126</td>\n",
       "      <td>88</td>\n",
       "      <td>41</td>\n",
       "      <td>235</td>\n",
       "      <td>39.3</td>\n",
       "      <td>0.704</td>\n",
       "      <td>27</td>\n",
       "      <td>no</td>\n",
       "    </tr>\n",
       "    <tr>\n",
       "      <th>21</th>\n",
       "      <td>8</td>\n",
       "      <td>99</td>\n",
       "      <td>84</td>\n",
       "      <td>0</td>\n",
       "      <td>0</td>\n",
       "      <td>35.4</td>\n",
       "      <td>0.388</td>\n",
       "      <td>50</td>\n",
       "      <td>no</td>\n",
       "    </tr>\n",
       "    <tr>\n",
       "      <th>28</th>\n",
       "      <td>13</td>\n",
       "      <td>145</td>\n",
       "      <td>82</td>\n",
       "      <td>19</td>\n",
       "      <td>110</td>\n",
       "      <td>22.2</td>\n",
       "      <td>0.245</td>\n",
       "      <td>57</td>\n",
       "      <td>no</td>\n",
       "    </tr>\n",
       "    <tr>\n",
       "      <th>...</th>\n",
       "      <td>...</td>\n",
       "      <td>...</td>\n",
       "      <td>...</td>\n",
       "      <td>...</td>\n",
       "      <td>...</td>\n",
       "      <td>...</td>\n",
       "      <td>...</td>\n",
       "      <td>...</td>\n",
       "      <td>...</td>\n",
       "    </tr>\n",
       "    <tr>\n",
       "      <th>745</th>\n",
       "      <td>12</td>\n",
       "      <td>100</td>\n",
       "      <td>84</td>\n",
       "      <td>33</td>\n",
       "      <td>105</td>\n",
       "      <td>30.0</td>\n",
       "      <td>0.488</td>\n",
       "      <td>46</td>\n",
       "      <td>no</td>\n",
       "    </tr>\n",
       "    <tr>\n",
       "      <th>751</th>\n",
       "      <td>1</td>\n",
       "      <td>121</td>\n",
       "      <td>78</td>\n",
       "      <td>39</td>\n",
       "      <td>74</td>\n",
       "      <td>39.0</td>\n",
       "      <td>0.261</td>\n",
       "      <td>28</td>\n",
       "      <td>no</td>\n",
       "    </tr>\n",
       "    <tr>\n",
       "      <th>756</th>\n",
       "      <td>7</td>\n",
       "      <td>137</td>\n",
       "      <td>90</td>\n",
       "      <td>41</td>\n",
       "      <td>0</td>\n",
       "      <td>32.0</td>\n",
       "      <td>0.391</td>\n",
       "      <td>39</td>\n",
       "      <td>no</td>\n",
       "    </tr>\n",
       "    <tr>\n",
       "      <th>758</th>\n",
       "      <td>1</td>\n",
       "      <td>106</td>\n",
       "      <td>76</td>\n",
       "      <td>0</td>\n",
       "      <td>0</td>\n",
       "      <td>37.5</td>\n",
       "      <td>0.197</td>\n",
       "      <td>26</td>\n",
       "      <td>no</td>\n",
       "    </tr>\n",
       "    <tr>\n",
       "      <th>763</th>\n",
       "      <td>10</td>\n",
       "      <td>101</td>\n",
       "      <td>76</td>\n",
       "      <td>48</td>\n",
       "      <td>180</td>\n",
       "      <td>32.9</td>\n",
       "      <td>0.171</td>\n",
       "      <td>63</td>\n",
       "      <td>no</td>\n",
       "    </tr>\n",
       "  </tbody>\n",
       "</table>\n",
       "<p>164 rows × 9 columns</p>\n",
       "</div>"
      ],
      "text/plain": [
       "     Pregnancies  Glucose  BloodPressure  SkinThickness  Insulin   BMI  \\\n",
       "10             4      110             92              0        0  37.6   \n",
       "12            10      139             80              0        0  27.1   \n",
       "20             3      126             88             41      235  39.3   \n",
       "21             8       99             84              0        0  35.4   \n",
       "28            13      145             82             19      110  22.2   \n",
       "..           ...      ...            ...            ...      ...   ...   \n",
       "745           12      100             84             33      105  30.0   \n",
       "751            1      121             78             39       74  39.0   \n",
       "756            7      137             90             41        0  32.0   \n",
       "758            1      106             76              0        0  37.5   \n",
       "763           10      101             76             48      180  32.9   \n",
       "\n",
       "     DiabetesPedigreeFunction  Age Outcome  \n",
       "10                      0.191   30      no  \n",
       "12                      1.441   57      no  \n",
       "20                      0.704   27      no  \n",
       "21                      0.388   50      no  \n",
       "28                      0.245   57      no  \n",
       "..                        ...  ...     ...  \n",
       "745                     0.488   46      no  \n",
       "751                     0.261   28      no  \n",
       "756                     0.391   39      no  \n",
       "758                     0.197   26      no  \n",
       "763                     0.171   63      no  \n",
       "\n",
       "[164 rows x 9 columns]"
      ]
     },
     "execution_count": 24,
     "metadata": {},
     "output_type": "execute_result"
    }
   ],
   "source": [
    "data_no[data_no['BloodPressure'] > data_yes['BloodPressure'].mean()]\n",
    "#zeny co nemaji cukrovku a maji vetsi krevni tlak nez prumer"
   ]
  },
  {
   "cell_type": "code",
   "execution_count": 28,
   "id": "f1dbef1c",
   "metadata": {},
   "outputs": [],
   "source": [
    "# Formulace statistických hypotéz"
   ]
  },
  {
   "cell_type": "markdown",
   "id": "2ee0362f",
   "metadata": {},
   "source": [
    "######### Při testování hypotéz vždy nejprve definujeme dvě hypotézy - nulovou (null hypothesis) a alternativní (alternative hypohesis). Tyto dvě hypotézy musí být vždy ve sporu, tj. nemůže nastat situace, že by byly obě pravdivé. Nulová hypotéza v sobě má často znaménko rovná se, alternativní pak mívá znaménko nerovná se, větší než nebo menší než. Dále můžeme v nulové hypotéze tvrdit, že mezi dvěma sloupci v tabulce není závislost, a alternativní hypotéza bude říkat, že závislost existuje (to si ukážeme v dalších lekcích).\n",
    "\n",
    "Uvažujme následující dvojici hypotéz:\n",
    "\n",
    "Nulová hypotéza:\n",
    "Ženy trpící cukrovkou mají v průměru (ve střední hodnota) stejný krevní tlak jako ženy, které cukrovkou netrpí\n",
    "Alternativní hypotéza: \n",
    "Ženy trpící cukrovkou mají v průměru (ve střední hodnota) jiný krevní tlak jako ženy, které cukrovkou netrpí\n",
    "\n",
    "Při formulování statistických hypotéz (a ve statistice obecně) obvykle rozlišujeme mezi dvěma pojmy:\n",
    "\n",
    "Průměr = to, co jsme spočítali z našich dat.\n",
    "Střední hodnota = hodnota, která se vztahuje k celé populaci (například ke všem ženám na světě). Střední hodnotu neznáme, ale odhadujeme ji pomocí průměru.\n",
    "Je zřejmé, že obě hypotézy nemohou být pravidivé. Při testování hypotéz můžeme dojít k následujícím závěrům:\n",
    "\n",
    "zamítáme (reject) H0 (a tedy tvrdíme, že platí H1),\n",
    "nezamítáme (do not reject) H0 (a tedy jsme neprokázali, že platí H1).\n",
    "\n",
    "Při testování se můžeme dopustit 2 chyb, které jsou popsány v tabulce níže.\n",
    "\n",
    "Krevní tlak se neliší\tKrevní tlak se liší\n",
    "Neprokázali jsme rozdíl\tSprávný výsledek\tChyba II. druhu (Type II Error)\n",
    "Tvrdíme, že jsme našli rozdíl\tChyba I. druhu (Type I Error)\tSprávný výsledek\n",
    "Rozepišme si nyní tyto chyby obecně\n",
    "\n",
    "Nulová hypotéze platí\tNulová hypotéza neplatí\n",
    "Nezamítáme nulovou hypotézu\tSprávný výsledek\tChyba II. druhu\n",
    "Zamítáme nulovou hypotézu\tChyba I. druhu\tSprávný výsledek\n"
   ]
  },
  {
   "cell_type": "code",
   "execution_count": 29,
   "id": "2945e8f1",
   "metadata": {},
   "outputs": [],
   "source": [
    "# výběr vhodného testu\n",
    "# krevní tlak ženy s cukrovkou a ženy bez cukrovky se neliší\n",
    "\n",
    "#u t-testu je vždy nulová hodnota, že se hodnoty rovnají \n",
    "# t-test - porovnáváme dva průměry, 2 skupiny musí mít podobný počet pozorování, je tam předpoklad o rozdělení (předpokládám ho), a ty vzorky jsou nezávislé\n",
    "\n",
    "#t-test řekne, jak jsou daleko průměry\n",
    "#a jaká je pravděpodobnost, že ta čísla nejsou z nějaké populace \n"
   ]
  },
  {
   "cell_type": "code",
   "execution_count": 30,
   "id": "ea2b9de8",
   "metadata": {},
   "outputs": [
    {
     "data": {
      "text/plain": [
       "TtestResult(statistic=4.680835112808535, pvalue=3.405150901552251e-06, df=731.0)"
      ]
     },
     "execution_count": 30,
     "metadata": {},
     "output_type": "execute_result"
    }
   ],
   "source": [
    "stats.ttest_ind(data_yes[\"BloodPressure\"], data_no[\"BloodPressure\"])"
   ]
  },
  {
   "cell_type": "code",
   "execution_count": null,
   "id": "b0f9d457",
   "metadata": {},
   "outputs": [],
   "source": [
    "#Pokud je p-hodnota < 0.05, zamítáme nulovou hypotézu (tj. platí alternativní hypotéza).\n",
    "#Pokud je p-hodnota > 0.05, nezamítáme nulovou hypotézu.\n",
    "#V našem případě je p-hodnota 0.07151390009776082. Číslo je vyšší než 0.05. I když jsme tedy zjistili různou hodnotu průměrného tlaku u našich dvou skupin, rozdíl není \"statisticky významný\". To znamená, že pravděpodobnost, že by takový rozdíl (na výběru dané velikosti) mohl být náhoda, je příliš velká.\n",
    "\n"
   ]
  },
  {
   "cell_type": "code",
   "execution_count": 109,
   "id": "4fd251e0",
   "metadata": {},
   "outputs": [
    {
     "data": {
      "text/plain": [
       "TtestResult(statistic=8.212955296921548, pvalue=9.772190748989732e-16, df=731.0)"
      ]
     },
     "execution_count": 109,
     "metadata": {},
     "output_type": "execute_result"
    }
   ],
   "source": [
    "stats.ttest_ind(data_yes[\"BMI\"], data_no[\"BMI\"])\n",
    "#Nulová hypotéza - hodnoty se rovnají\n",
    "# máme jistotu, že můžeme zamítnout nulovou hypotézu, tím pádem platí alternativní hypotéza "
   ]
  },
  {
   "cell_type": "code",
   "execution_count": null,
   "id": "34fafccb",
   "metadata": {},
   "outputs": [],
   "source": [
    "# Testování hypotéz | Kckurzy.cz https://www.youtube.com/watch?v=w84wFnSHMj8\n",
    "# TESTOVÁNÍ HYPOTÉZ\n",
    "# An Introduction to Hypothesis Testing\n",
    "# Hypothesis Testing | A Step-by-Step Guide with Easy Examples\n",
    "# Statistical functions (scipy.stats)"
   ]
  },
  {
   "cell_type": "code",
   "execution_count": 110,
   "id": "91ba128c",
   "metadata": {},
   "outputs": [],
   "source": [
    "# Cvičení\n",
    "\n",
    "#důvěra v Eu a Euro\n",
    "#Tentokrát budeme pracovat s daty z výzkumu veřejného mínění Eurobarometr. \n",
    "#Ten je realizován v zemích Evropské unie a lidé jsou v něm pravidelně tázání na řadu otázek.\n",
    "#My se podíváme na jednu z nich. Rozdělíme státy EU na dvě skupiny - státy v eurozóně a státy mimo ni.\n",
    "#Jak je to s důvěrou v EU? Důvěřují EU více lidé, kteří žijí ve státech platící eurem? \n",
    "#Využij znovu data o důvěře v EU ze souboru duvera.csv a rozděl státy na ty, které jsou v eurozóně, \n",
    "#a ty, které jsou mimo ni.\n",
    "\n",
    "#Použij sloupce EU Trustt (důvěra v EU) a Euro (jestli má země euro).\n",
    "\n",
    "#Aplikuj postup, který jsme si ukázali v lekci, tj. formuluj hypotézy, určitě p-hodnotu a rozhodni o výsledku testu.\n",
    "\n",
    "Zdroj dat: https://europa.eu/eurobarometer/screen/home"
   ]
  },
  {
   "cell_type": "code",
   "execution_count": 111,
   "id": "7fbc6c3e",
   "metadata": {},
   "outputs": [
    {
     "data": {
      "text/html": [
       "<div>\n",
       "<style scoped>\n",
       "    .dataframe tbody tr th:only-of-type {\n",
       "        vertical-align: middle;\n",
       "    }\n",
       "\n",
       "    .dataframe tbody tr th {\n",
       "        vertical-align: top;\n",
       "    }\n",
       "\n",
       "    .dataframe thead th {\n",
       "        text-align: right;\n",
       "    }\n",
       "</style>\n",
       "<table border=\"1\" class=\"dataframe\">\n",
       "  <thead>\n",
       "    <tr style=\"text-align: right;\">\n",
       "      <th></th>\n",
       "      <th>Country</th>\n",
       "      <th>National Government Trust</th>\n",
       "      <th>EU Trust</th>\n",
       "      <th>Country Name</th>\n",
       "      <th>Euro</th>\n",
       "    </tr>\n",
       "  </thead>\n",
       "  <tbody>\n",
       "    <tr>\n",
       "      <th>0</th>\n",
       "      <td>BE</td>\n",
       "      <td>40</td>\n",
       "      <td>55</td>\n",
       "      <td>Belgium</td>\n",
       "      <td>1</td>\n",
       "    </tr>\n",
       "    <tr>\n",
       "      <th>1</th>\n",
       "      <td>BG</td>\n",
       "      <td>19</td>\n",
       "      <td>49</td>\n",
       "      <td>Bulgaria</td>\n",
       "      <td>0</td>\n",
       "    </tr>\n",
       "    <tr>\n",
       "      <th>2</th>\n",
       "      <td>CZ</td>\n",
       "      <td>30</td>\n",
       "      <td>43</td>\n",
       "      <td>Czechia</td>\n",
       "      <td>0</td>\n",
       "    </tr>\n",
       "    <tr>\n",
       "      <th>3</th>\n",
       "      <td>DK</td>\n",
       "      <td>52</td>\n",
       "      <td>65</td>\n",
       "      <td>Denmark</td>\n",
       "      <td>0</td>\n",
       "    </tr>\n",
       "    <tr>\n",
       "      <th>4</th>\n",
       "      <td>DE</td>\n",
       "      <td>49</td>\n",
       "      <td>49</td>\n",
       "      <td>Germany</td>\n",
       "      <td>1</td>\n",
       "    </tr>\n",
       "  </tbody>\n",
       "</table>\n",
       "</div>"
      ],
      "text/plain": [
       "  Country  National Government Trust  EU Trust Country Name  Euro\n",
       "0      BE                         40        55      Belgium     1\n",
       "1      BG                         19        49     Bulgaria     0\n",
       "2      CZ                         30        43      Czechia     0\n",
       "3      DK                         52        65      Denmark     0\n",
       "4      DE                         49        49      Germany     1"
      ]
     },
     "execution_count": 111,
     "metadata": {},
     "output_type": "execute_result"
    }
   ],
   "source": [
    "data = pd.read_csv(\"duvera.csv\")\n",
    "data.head()\n",
    "\n"
   ]
  },
  {
   "cell_type": "code",
   "execution_count": 113,
   "id": "57c6a72c",
   "metadata": {},
   "outputs": [
    {
     "name": "stdout",
     "output_type": "stream",
     "text": [
      "<class 'pandas.core.frame.DataFrame'>\n",
      "RangeIndex: 27 entries, 0 to 26\n",
      "Data columns (total 5 columns):\n",
      " #   Column                     Non-Null Count  Dtype \n",
      "---  ------                     --------------  ----- \n",
      " 0   Country                    27 non-null     object\n",
      " 1   National Government Trust  27 non-null     int64 \n",
      " 2   EU Trust                   27 non-null     int64 \n",
      " 3   Country Name               27 non-null     object\n",
      " 4   Euro                       27 non-null     int64 \n",
      "dtypes: int64(3), object(2)\n",
      "memory usage: 1.2+ KB\n"
     ]
    }
   ],
   "source": [
    "data.info()"
   ]
  },
  {
   "cell_type": "code",
   "execution_count": 114,
   "id": "a18b768d",
   "metadata": {},
   "outputs": [],
   "source": [
    "v_eurozone = data[data[\"Euro\"] == 1]\n",
    "mimo_eurozonu = data[data[\"Euro\"] == 0]"
   ]
  },
  {
   "cell_type": "code",
   "execution_count": 115,
   "id": "19710105",
   "metadata": {},
   "outputs": [
    {
     "data": {
      "text/html": [
       "<div>\n",
       "<style scoped>\n",
       "    .dataframe tbody tr th:only-of-type {\n",
       "        vertical-align: middle;\n",
       "    }\n",
       "\n",
       "    .dataframe tbody tr th {\n",
       "        vertical-align: top;\n",
       "    }\n",
       "\n",
       "    .dataframe thead th {\n",
       "        text-align: right;\n",
       "    }\n",
       "</style>\n",
       "<table border=\"1\" class=\"dataframe\">\n",
       "  <thead>\n",
       "    <tr style=\"text-align: right;\">\n",
       "      <th></th>\n",
       "      <th>Country</th>\n",
       "      <th>National Government Trust</th>\n",
       "      <th>EU Trust</th>\n",
       "      <th>Country Name</th>\n",
       "      <th>Euro</th>\n",
       "    </tr>\n",
       "  </thead>\n",
       "  <tbody>\n",
       "    <tr>\n",
       "      <th>0</th>\n",
       "      <td>BE</td>\n",
       "      <td>40</td>\n",
       "      <td>55</td>\n",
       "      <td>Belgium</td>\n",
       "      <td>1</td>\n",
       "    </tr>\n",
       "    <tr>\n",
       "      <th>4</th>\n",
       "      <td>DE</td>\n",
       "      <td>49</td>\n",
       "      <td>49</td>\n",
       "      <td>Germany</td>\n",
       "      <td>1</td>\n",
       "    </tr>\n",
       "    <tr>\n",
       "      <th>6</th>\n",
       "      <td>IE</td>\n",
       "      <td>46</td>\n",
       "      <td>58</td>\n",
       "      <td>Ireland</td>\n",
       "      <td>1</td>\n",
       "    </tr>\n",
       "    <tr>\n",
       "      <th>7</th>\n",
       "      <td>EL</td>\n",
       "      <td>22</td>\n",
       "      <td>37</td>\n",
       "      <td>Greece</td>\n",
       "      <td>1</td>\n",
       "    </tr>\n",
       "    <tr>\n",
       "      <th>8</th>\n",
       "      <td>ES</td>\n",
       "      <td>23</td>\n",
       "      <td>50</td>\n",
       "      <td>Spain</td>\n",
       "      <td>1</td>\n",
       "    </tr>\n",
       "    <tr>\n",
       "      <th>9</th>\n",
       "      <td>FR</td>\n",
       "      <td>23</td>\n",
       "      <td>34</td>\n",
       "      <td>France</td>\n",
       "      <td>1</td>\n",
       "    </tr>\n",
       "    <tr>\n",
       "      <th>11</th>\n",
       "      <td>IT</td>\n",
       "      <td>33</td>\n",
       "      <td>46</td>\n",
       "      <td>Italy</td>\n",
       "      <td>1</td>\n",
       "    </tr>\n",
       "    <tr>\n",
       "      <th>12</th>\n",
       "      <td>CY</td>\n",
       "      <td>33</td>\n",
       "      <td>42</td>\n",
       "      <td>Cyprus</td>\n",
       "      <td>1</td>\n",
       "    </tr>\n",
       "    <tr>\n",
       "      <th>13</th>\n",
       "      <td>LV</td>\n",
       "      <td>30</td>\n",
       "      <td>56</td>\n",
       "      <td>Latvia</td>\n",
       "      <td>1</td>\n",
       "    </tr>\n",
       "    <tr>\n",
       "      <th>14</th>\n",
       "      <td>LT</td>\n",
       "      <td>36</td>\n",
       "      <td>69</td>\n",
       "      <td>Lithuania</td>\n",
       "      <td>1</td>\n",
       "    </tr>\n",
       "    <tr>\n",
       "      <th>15</th>\n",
       "      <td>LU</td>\n",
       "      <td>70</td>\n",
       "      <td>60</td>\n",
       "      <td>Luxembourg</td>\n",
       "      <td>1</td>\n",
       "    </tr>\n",
       "    <tr>\n",
       "      <th>17</th>\n",
       "      <td>MT</td>\n",
       "      <td>63</td>\n",
       "      <td>71</td>\n",
       "      <td>Malta</td>\n",
       "      <td>1</td>\n",
       "    </tr>\n",
       "    <tr>\n",
       "      <th>18</th>\n",
       "      <td>NL</td>\n",
       "      <td>38</td>\n",
       "      <td>52</td>\n",
       "      <td>Netherlands</td>\n",
       "      <td>1</td>\n",
       "    </tr>\n",
       "    <tr>\n",
       "      <th>19</th>\n",
       "      <td>AT</td>\n",
       "      <td>39</td>\n",
       "      <td>44</td>\n",
       "      <td>Austria</td>\n",
       "      <td>1</td>\n",
       "    </tr>\n",
       "    <tr>\n",
       "      <th>21</th>\n",
       "      <td>PT</td>\n",
       "      <td>45</td>\n",
       "      <td>68</td>\n",
       "      <td>Portugal</td>\n",
       "      <td>1</td>\n",
       "    </tr>\n",
       "    <tr>\n",
       "      <th>23</th>\n",
       "      <td>SI</td>\n",
       "      <td>37</td>\n",
       "      <td>44</td>\n",
       "      <td>Slovenia</td>\n",
       "      <td>1</td>\n",
       "    </tr>\n",
       "    <tr>\n",
       "      <th>24</th>\n",
       "      <td>SK</td>\n",
       "      <td>18</td>\n",
       "      <td>44</td>\n",
       "      <td>Slovakia</td>\n",
       "      <td>1</td>\n",
       "    </tr>\n",
       "    <tr>\n",
       "      <th>25</th>\n",
       "      <td>FI</td>\n",
       "      <td>68</td>\n",
       "      <td>60</td>\n",
       "      <td>Finland</td>\n",
       "      <td>1</td>\n",
       "    </tr>\n",
       "  </tbody>\n",
       "</table>\n",
       "</div>"
      ],
      "text/plain": [
       "   Country  National Government Trust  EU Trust Country Name  Euro\n",
       "0       BE                         40        55      Belgium     1\n",
       "4       DE                         49        49      Germany     1\n",
       "6       IE                         46        58      Ireland     1\n",
       "7       EL                         22        37       Greece     1\n",
       "8       ES                         23        50        Spain     1\n",
       "9       FR                         23        34       France     1\n",
       "11      IT                         33        46        Italy     1\n",
       "12      CY                         33        42       Cyprus     1\n",
       "13      LV                         30        56       Latvia     1\n",
       "14      LT                         36        69    Lithuania     1\n",
       "15      LU                         70        60   Luxembourg     1\n",
       "17      MT                         63        71        Malta     1\n",
       "18      NL                         38        52  Netherlands     1\n",
       "19      AT                         39        44      Austria     1\n",
       "21      PT                         45        68     Portugal     1\n",
       "23      SI                         37        44     Slovenia     1\n",
       "24      SK                         18        44     Slovakia     1\n",
       "25      FI                         68        60      Finland     1"
      ]
     },
     "execution_count": 115,
     "metadata": {},
     "output_type": "execute_result"
    }
   ],
   "source": [
    "v_eurozone"
   ]
  },
  {
   "cell_type": "code",
   "execution_count": 116,
   "id": "5b7d57a7",
   "metadata": {},
   "outputs": [
    {
     "data": {
      "text/html": [
       "<div>\n",
       "<style scoped>\n",
       "    .dataframe tbody tr th:only-of-type {\n",
       "        vertical-align: middle;\n",
       "    }\n",
       "\n",
       "    .dataframe tbody tr th {\n",
       "        vertical-align: top;\n",
       "    }\n",
       "\n",
       "    .dataframe thead th {\n",
       "        text-align: right;\n",
       "    }\n",
       "</style>\n",
       "<table border=\"1\" class=\"dataframe\">\n",
       "  <thead>\n",
       "    <tr style=\"text-align: right;\">\n",
       "      <th></th>\n",
       "      <th>Country</th>\n",
       "      <th>National Government Trust</th>\n",
       "      <th>EU Trust</th>\n",
       "      <th>Country Name</th>\n",
       "      <th>Euro</th>\n",
       "    </tr>\n",
       "  </thead>\n",
       "  <tbody>\n",
       "    <tr>\n",
       "      <th>1</th>\n",
       "      <td>BG</td>\n",
       "      <td>19</td>\n",
       "      <td>49</td>\n",
       "      <td>Bulgaria</td>\n",
       "      <td>0</td>\n",
       "    </tr>\n",
       "    <tr>\n",
       "      <th>2</th>\n",
       "      <td>CZ</td>\n",
       "      <td>30</td>\n",
       "      <td>43</td>\n",
       "      <td>Czechia</td>\n",
       "      <td>0</td>\n",
       "    </tr>\n",
       "    <tr>\n",
       "      <th>3</th>\n",
       "      <td>DK</td>\n",
       "      <td>52</td>\n",
       "      <td>65</td>\n",
       "      <td>Denmark</td>\n",
       "      <td>0</td>\n",
       "    </tr>\n",
       "    <tr>\n",
       "      <th>5</th>\n",
       "      <td>EE</td>\n",
       "      <td>39</td>\n",
       "      <td>48</td>\n",
       "      <td>Estonia</td>\n",
       "      <td>0</td>\n",
       "    </tr>\n",
       "    <tr>\n",
       "      <th>10</th>\n",
       "      <td>HR</td>\n",
       "      <td>20</td>\n",
       "      <td>42</td>\n",
       "      <td>Croatia</td>\n",
       "      <td>0</td>\n",
       "    </tr>\n",
       "    <tr>\n",
       "      <th>16</th>\n",
       "      <td>HU</td>\n",
       "      <td>48</td>\n",
       "      <td>56</td>\n",
       "      <td>Hungary</td>\n",
       "      <td>0</td>\n",
       "    </tr>\n",
       "    <tr>\n",
       "      <th>20</th>\n",
       "      <td>PL</td>\n",
       "      <td>26</td>\n",
       "      <td>64</td>\n",
       "      <td>Poland</td>\n",
       "      <td>0</td>\n",
       "    </tr>\n",
       "    <tr>\n",
       "      <th>22</th>\n",
       "      <td>RO</td>\n",
       "      <td>27</td>\n",
       "      <td>54</td>\n",
       "      <td>Romania</td>\n",
       "      <td>0</td>\n",
       "    </tr>\n",
       "    <tr>\n",
       "      <th>26</th>\n",
       "      <td>SE</td>\n",
       "      <td>53</td>\n",
       "      <td>61</td>\n",
       "      <td>Sweden</td>\n",
       "      <td>0</td>\n",
       "    </tr>\n",
       "  </tbody>\n",
       "</table>\n",
       "</div>"
      ],
      "text/plain": [
       "   Country  National Government Trust  EU Trust Country Name  Euro\n",
       "1       BG                         19        49     Bulgaria     0\n",
       "2       CZ                         30        43      Czechia     0\n",
       "3       DK                         52        65      Denmark     0\n",
       "5       EE                         39        48      Estonia     0\n",
       "10      HR                         20        42      Croatia     0\n",
       "16      HU                         48        56      Hungary     0\n",
       "20      PL                         26        64       Poland     0\n",
       "22      RO                         27        54      Romania     0\n",
       "26      SE                         53        61       Sweden     0"
      ]
     },
     "execution_count": 116,
     "metadata": {},
     "output_type": "execute_result"
    }
   ],
   "source": [
    "mimo_eurozonu "
   ]
  },
  {
   "cell_type": "code",
   "execution_count": null,
   "id": "9b9a2f84",
   "metadata": {},
   "outputs": [],
   "source": [
    "v_eurozone[\"EU_Trust\"] > mimo_eurozonu[\"EU_Trust\"]"
   ]
  },
  {
   "cell_type": "code",
   "execution_count": 122,
   "id": "0783827e",
   "metadata": {},
   "outputs": [
    {
     "data": {
      "text/plain": [
       "TtestResult(statistic=-0.33471431258258433, pvalue=0.740632683274883, df=25.0)"
      ]
     },
     "execution_count": 122,
     "metadata": {},
     "output_type": "execute_result"
    }
   ],
   "source": [
    "# nulová hypotéza - H0 že se neliší průměrná důvěra a v EU ve státech v eurozone a mimo eurozonu\n",
    "# H1 průměrná důvěra se liší a v EU ve státech v eurozone a mimo eurozonu\n",
    "\n",
    "stats.ttest_ind(v_eurozone[\"EU Trust\"], mimo_eurozonu[\"EU Trust\"])"
   ]
  },
  {
   "cell_type": "code",
   "execution_count": 33,
   "id": "92ba835f",
   "metadata": {},
   "outputs": [],
   "source": [
    "#Inflace "
   ]
  },
  {
   "cell_type": "code",
   "execution_count": null,
   "id": "aaa5274c",
   "metadata": {},
   "outputs": [],
   "source": [
    "#H0: Průměrné procento lidí, které považuje inflaci za jeden ze svých největších problémů, se nezměnilo.\n",
    "#H1: Průměrné procento lidí, které považuje inflaci za jeden ze svých největších problémů, se změnilo."
   ]
  },
  {
   "cell_type": "code",
   "execution_count": 39,
   "id": "83f850b2",
   "metadata": {},
   "outputs": [
    {
     "data": {
      "text/html": [
       "<div>\n",
       "<style scoped>\n",
       "    .dataframe tbody tr th:only-of-type {\n",
       "        vertical-align: middle;\n",
       "    }\n",
       "\n",
       "    .dataframe tbody tr th {\n",
       "        vertical-align: top;\n",
       "    }\n",
       "\n",
       "    .dataframe thead th {\n",
       "        text-align: right;\n",
       "    }\n",
       "</style>\n",
       "<table border=\"1\" class=\"dataframe\">\n",
       "  <thead>\n",
       "    <tr style=\"text-align: right;\">\n",
       "      <th></th>\n",
       "      <th>Country</th>\n",
       "      <th>98</th>\n",
       "      <th>97</th>\n",
       "      <th>Country Name</th>\n",
       "      <th>Euro</th>\n",
       "    </tr>\n",
       "  </thead>\n",
       "  <tbody>\n",
       "    <tr>\n",
       "      <th>0</th>\n",
       "      <td>BE</td>\n",
       "      <td>31</td>\n",
       "      <td>34</td>\n",
       "      <td>Belgium</td>\n",
       "      <td>1</td>\n",
       "    </tr>\n",
       "    <tr>\n",
       "      <th>1</th>\n",
       "      <td>BG</td>\n",
       "      <td>22</td>\n",
       "      <td>31</td>\n",
       "      <td>Bulgaria</td>\n",
       "      <td>0</td>\n",
       "    </tr>\n",
       "    <tr>\n",
       "      <th>2</th>\n",
       "      <td>CZ</td>\n",
       "      <td>34</td>\n",
       "      <td>42</td>\n",
       "      <td>Czechia</td>\n",
       "      <td>0</td>\n",
       "    </tr>\n",
       "    <tr>\n",
       "      <th>3</th>\n",
       "      <td>DK</td>\n",
       "      <td>28</td>\n",
       "      <td>33</td>\n",
       "      <td>Denmark</td>\n",
       "      <td>0</td>\n",
       "    </tr>\n",
       "    <tr>\n",
       "      <th>4</th>\n",
       "      <td>DE</td>\n",
       "      <td>33</td>\n",
       "      <td>40</td>\n",
       "      <td>Germany</td>\n",
       "      <td>1</td>\n",
       "    </tr>\n",
       "  </tbody>\n",
       "</table>\n",
       "</div>"
      ],
      "text/plain": [
       "  Country  98  97 Country Name  Euro\n",
       "0      BE  31  34      Belgium     1\n",
       "1      BG  22  31     Bulgaria     0\n",
       "2      CZ  34  42      Czechia     0\n",
       "3      DK  28  33      Denmark     0\n",
       "4      DE  33  40      Germany     1"
      ]
     },
     "execution_count": 39,
     "metadata": {},
     "output_type": "execute_result"
    }
   ],
   "source": [
    "data_inflace = pd.read_csv(\"inflace.csv\")\n",
    "data_inflace.head()"
   ]
  },
  {
   "cell_type": "code",
   "execution_count": 40,
   "id": "a4b255e5",
   "metadata": {},
   "outputs": [
    {
     "data": {
      "text/plain": [
       "TtestResult(statistic=3.4869444202944764, pvalue=0.0017533857526091583, df=26)"
      ]
     },
     "execution_count": 40,
     "metadata": {},
     "output_type": "execute_result"
    }
   ],
   "source": [
    "stats.ttest_rel(data_inflace[\"97\"],data_inflace[\"98\"])"
   ]
  },
  {
   "cell_type": "code",
   "execution_count": 41,
   "id": "fcf6b483",
   "metadata": {},
   "outputs": [],
   "source": [
    "#kvíz"
   ]
  },
  {
   "cell_type": "code",
   "execution_count": 43,
   "id": "200cfdad",
   "metadata": {},
   "outputs": [],
   "source": [
    "data = pd.read_csv(\"kviz/data_kviz.csv\")"
   ]
  },
  {
   "cell_type": "code",
   "execution_count": 44,
   "id": "4950c4cd",
   "metadata": {},
   "outputs": [
    {
     "data": {
      "text/html": [
       "<div>\n",
       "<style scoped>\n",
       "    .dataframe tbody tr th:only-of-type {\n",
       "        vertical-align: middle;\n",
       "    }\n",
       "\n",
       "    .dataframe tbody tr th {\n",
       "        vertical-align: top;\n",
       "    }\n",
       "\n",
       "    .dataframe thead th {\n",
       "        text-align: right;\n",
       "    }\n",
       "</style>\n",
       "<table border=\"1\" class=\"dataframe\">\n",
       "  <thead>\n",
       "    <tr style=\"text-align: right;\">\n",
       "      <th></th>\n",
       "      <th>ID</th>\n",
       "      <th>Country of Origin</th>\n",
       "      <th>Total Cup Points</th>\n",
       "    </tr>\n",
       "  </thead>\n",
       "  <tbody>\n",
       "    <tr>\n",
       "      <th>0</th>\n",
       "      <td>1</td>\n",
       "      <td>Taiwan</td>\n",
       "      <td>87.58</td>\n",
       "    </tr>\n",
       "    <tr>\n",
       "      <th>1</th>\n",
       "      <td>5</td>\n",
       "      <td>Guatemala</td>\n",
       "      <td>87.00</td>\n",
       "    </tr>\n",
       "    <tr>\n",
       "      <th>2</th>\n",
       "      <td>6</td>\n",
       "      <td>Taiwan</td>\n",
       "      <td>86.92</td>\n",
       "    </tr>\n",
       "    <tr>\n",
       "      <th>3</th>\n",
       "      <td>7</td>\n",
       "      <td>Taiwan</td>\n",
       "      <td>86.75</td>\n",
       "    </tr>\n",
       "    <tr>\n",
       "      <th>4</th>\n",
       "      <td>8</td>\n",
       "      <td>Taiwan</td>\n",
       "      <td>86.67</td>\n",
       "    </tr>\n",
       "  </tbody>\n",
       "</table>\n",
       "</div>"
      ],
      "text/plain": [
       "   ID Country of Origin  Total Cup Points\n",
       "0   1            Taiwan             87.58\n",
       "1   5         Guatemala             87.00\n",
       "2   6            Taiwan             86.92\n",
       "3   7            Taiwan             86.75\n",
       "4   8            Taiwan             86.67"
      ]
     },
     "execution_count": 44,
     "metadata": {},
     "output_type": "execute_result"
    }
   ],
   "source": [
    "data.head()"
   ]
  },
  {
   "cell_type": "code",
   "execution_count": 45,
   "id": "c2bc34c3",
   "metadata": {},
   "outputs": [],
   "source": [
    "#Nulová hypotéza: Průměrné hodnocení káv z Guatemaly a Tchaj-wanu jsou stejná.\n",
    "#Alternativní hypotéza: Průměrné hodnocení káv z Guatemaly a Tchaj-wanu jsou různá."
   ]
  },
  {
   "cell_type": "code",
   "execution_count": 53,
   "id": "4a169446",
   "metadata": {},
   "outputs": [
    {
     "name": "stdout",
     "output_type": "stream",
     "text": [
      "<class 'pandas.core.frame.DataFrame'>\n",
      "RangeIndex: 82 entries, 0 to 81\n",
      "Data columns (total 3 columns):\n",
      " #   Column             Non-Null Count  Dtype  \n",
      "---  ------             --------------  -----  \n",
      " 0   ID                 82 non-null     int64  \n",
      " 1   Country of Origin  82 non-null     object \n",
      " 2   Total Cup Points   82 non-null     float64\n",
      "dtypes: float64(1), int64(1), object(1)\n",
      "memory usage: 2.0+ KB\n"
     ]
    }
   ],
   "source": [
    "data.info()"
   ]
  },
  {
   "cell_type": "code",
   "execution_count": 49,
   "id": "1ee42eef",
   "metadata": {},
   "outputs": [],
   "source": [
    "taiwan = data[data[\"Country of Origin\"] == 'Taiwan']\n",
    "guatemala =  data[data[\"Country of Origin\"] == 'Guatemala']"
   ]
  },
  {
   "cell_type": "code",
   "execution_count": 58,
   "id": "99d11ced",
   "metadata": {},
   "outputs": [
    {
     "data": {
      "text/plain": [
       "84.35032786885246"
      ]
     },
     "execution_count": 58,
     "metadata": {},
     "output_type": "execute_result"
    }
   ],
   "source": [
    "taiwan['Total Cup Points'].mean()"
   ]
  },
  {
   "cell_type": "code",
   "execution_count": 57,
   "id": "2bf797fa",
   "metadata": {},
   "outputs": [
    {
     "data": {
      "text/plain": [
       "84.30142857142857"
      ]
     },
     "execution_count": 57,
     "metadata": {},
     "output_type": "execute_result"
    }
   ],
   "source": [
    "guatemala['Total Cup Points'].mean()"
   ]
  },
  {
   "cell_type": "code",
   "execution_count": 54,
   "id": "2dfdeb13",
   "metadata": {},
   "outputs": [
    {
     "data": {
      "text/plain": [
       "TtestResult(statistic=0.14073867099693416, pvalue=0.8884301645971111, df=80.0)"
      ]
     },
     "execution_count": 54,
     "metadata": {},
     "output_type": "execute_result"
    }
   ],
   "source": [
    "stats.ttest_ind(taiwan[\"Total Cup Points\"], guatemala[\"Total Cup Points\"])"
   ]
  },
  {
   "cell_type": "code",
   "execution_count": 59,
   "id": "55f6b85a",
   "metadata": {},
   "outputs": [
    {
     "data": {
      "text/plain": [
       "0.04889929742388688"
      ]
     },
     "execution_count": 59,
     "metadata": {},
     "output_type": "execute_result"
    }
   ],
   "source": [
    "taiwan['Total Cup Points'].mean() - guatemala['Total Cup Points'].mean()"
   ]
  },
  {
   "cell_type": "code",
   "execution_count": null,
   "id": "498e60f4",
   "metadata": {},
   "outputs": [],
   "source": []
  },
  {
   "cell_type": "code",
   "execution_count": null,
   "id": "c49f3ced",
   "metadata": {},
   "outputs": [],
   "source": []
  }
 ],
 "metadata": {
  "kernelspec": {
   "display_name": "Python 3 (ipykernel)",
   "language": "python",
   "name": "python3"
  },
  "language_info": {
   "codemirror_mode": {
    "name": "ipython",
    "version": 3
   },
   "file_extension": ".py",
   "mimetype": "text/x-python",
   "name": "python",
   "nbconvert_exporter": "python",
   "pygments_lexer": "ipython3",
   "version": "3.10.6"
  }
 },
 "nbformat": 4,
 "nbformat_minor": 5
}
