{
 "cells": [
  {
   "cell_type": "code",
   "execution_count": null,
   "id": "d963ab72",
   "metadata": {},
   "outputs": [],
   "source": [
    "# statistická rozdělení a testování statistických hypotéz"
   ]
  },
  {
   "cell_type": "code",
   "execution_count": 4,
   "id": "56e42c5d",
   "metadata": {},
   "outputs": [],
   "source": [
    "import numpy as np\n",
    "import pandas as pd\n",
    "from scipy import stats\n",
    "import seaborn as sns"
   ]
  },
  {
   "cell_type": "code",
   "execution_count": 74,
   "id": "dfdcc324",
   "metadata": {},
   "outputs": [
    {
     "data": {
      "text/html": [
       "<div>\n",
       "<style scoped>\n",
       "    .dataframe tbody tr th:only-of-type {\n",
       "        vertical-align: middle;\n",
       "    }\n",
       "\n",
       "    .dataframe tbody tr th {\n",
       "        vertical-align: top;\n",
       "    }\n",
       "\n",
       "    .dataframe thead th {\n",
       "        text-align: right;\n",
       "    }\n",
       "</style>\n",
       "<table border=\"1\" class=\"dataframe\">\n",
       "  <thead>\n",
       "    <tr style=\"text-align: right;\">\n",
       "      <th></th>\n",
       "      <th>Pregnancies</th>\n",
       "      <th>Glucose</th>\n",
       "      <th>BloodPressure</th>\n",
       "      <th>SkinThickness</th>\n",
       "      <th>Insulin</th>\n",
       "      <th>BMI</th>\n",
       "      <th>DiabetesPedigreeFunction</th>\n",
       "      <th>Age</th>\n",
       "      <th>Outcome</th>\n",
       "    </tr>\n",
       "  </thead>\n",
       "  <tbody>\n",
       "    <tr>\n",
       "      <th>0</th>\n",
       "      <td>6</td>\n",
       "      <td>148</td>\n",
       "      <td>72</td>\n",
       "      <td>35</td>\n",
       "      <td>0</td>\n",
       "      <td>33.6</td>\n",
       "      <td>0.627</td>\n",
       "      <td>50</td>\n",
       "      <td>1</td>\n",
       "    </tr>\n",
       "    <tr>\n",
       "      <th>1</th>\n",
       "      <td>1</td>\n",
       "      <td>85</td>\n",
       "      <td>66</td>\n",
       "      <td>29</td>\n",
       "      <td>0</td>\n",
       "      <td>26.6</td>\n",
       "      <td>0.351</td>\n",
       "      <td>31</td>\n",
       "      <td>0</td>\n",
       "    </tr>\n",
       "    <tr>\n",
       "      <th>2</th>\n",
       "      <td>8</td>\n",
       "      <td>183</td>\n",
       "      <td>64</td>\n",
       "      <td>0</td>\n",
       "      <td>0</td>\n",
       "      <td>23.3</td>\n",
       "      <td>0.672</td>\n",
       "      <td>32</td>\n",
       "      <td>1</td>\n",
       "    </tr>\n",
       "    <tr>\n",
       "      <th>3</th>\n",
       "      <td>1</td>\n",
       "      <td>89</td>\n",
       "      <td>66</td>\n",
       "      <td>23</td>\n",
       "      <td>94</td>\n",
       "      <td>28.1</td>\n",
       "      <td>0.167</td>\n",
       "      <td>21</td>\n",
       "      <td>0</td>\n",
       "    </tr>\n",
       "    <tr>\n",
       "      <th>4</th>\n",
       "      <td>0</td>\n",
       "      <td>137</td>\n",
       "      <td>40</td>\n",
       "      <td>35</td>\n",
       "      <td>168</td>\n",
       "      <td>43.1</td>\n",
       "      <td>2.288</td>\n",
       "      <td>33</td>\n",
       "      <td>1</td>\n",
       "    </tr>\n",
       "    <tr>\n",
       "      <th>...</th>\n",
       "      <td>...</td>\n",
       "      <td>...</td>\n",
       "      <td>...</td>\n",
       "      <td>...</td>\n",
       "      <td>...</td>\n",
       "      <td>...</td>\n",
       "      <td>...</td>\n",
       "      <td>...</td>\n",
       "      <td>...</td>\n",
       "    </tr>\n",
       "    <tr>\n",
       "      <th>763</th>\n",
       "      <td>10</td>\n",
       "      <td>101</td>\n",
       "      <td>76</td>\n",
       "      <td>48</td>\n",
       "      <td>180</td>\n",
       "      <td>32.9</td>\n",
       "      <td>0.171</td>\n",
       "      <td>63</td>\n",
       "      <td>0</td>\n",
       "    </tr>\n",
       "    <tr>\n",
       "      <th>764</th>\n",
       "      <td>2</td>\n",
       "      <td>122</td>\n",
       "      <td>70</td>\n",
       "      <td>27</td>\n",
       "      <td>0</td>\n",
       "      <td>36.8</td>\n",
       "      <td>0.340</td>\n",
       "      <td>27</td>\n",
       "      <td>0</td>\n",
       "    </tr>\n",
       "    <tr>\n",
       "      <th>765</th>\n",
       "      <td>5</td>\n",
       "      <td>121</td>\n",
       "      <td>72</td>\n",
       "      <td>23</td>\n",
       "      <td>112</td>\n",
       "      <td>26.2</td>\n",
       "      <td>0.245</td>\n",
       "      <td>30</td>\n",
       "      <td>0</td>\n",
       "    </tr>\n",
       "    <tr>\n",
       "      <th>766</th>\n",
       "      <td>1</td>\n",
       "      <td>126</td>\n",
       "      <td>60</td>\n",
       "      <td>0</td>\n",
       "      <td>0</td>\n",
       "      <td>30.1</td>\n",
       "      <td>0.349</td>\n",
       "      <td>47</td>\n",
       "      <td>1</td>\n",
       "    </tr>\n",
       "    <tr>\n",
       "      <th>767</th>\n",
       "      <td>1</td>\n",
       "      <td>93</td>\n",
       "      <td>70</td>\n",
       "      <td>31</td>\n",
       "      <td>0</td>\n",
       "      <td>30.4</td>\n",
       "      <td>0.315</td>\n",
       "      <td>23</td>\n",
       "      <td>0</td>\n",
       "    </tr>\n",
       "  </tbody>\n",
       "</table>\n",
       "<p>768 rows × 9 columns</p>\n",
       "</div>"
      ],
      "text/plain": [
       "     Pregnancies  Glucose  BloodPressure  SkinThickness  Insulin   BMI  \\\n",
       "0              6      148             72             35        0  33.6   \n",
       "1              1       85             66             29        0  26.6   \n",
       "2              8      183             64              0        0  23.3   \n",
       "3              1       89             66             23       94  28.1   \n",
       "4              0      137             40             35      168  43.1   \n",
       "..           ...      ...            ...            ...      ...   ...   \n",
       "763           10      101             76             48      180  32.9   \n",
       "764            2      122             70             27        0  36.8   \n",
       "765            5      121             72             23      112  26.2   \n",
       "766            1      126             60              0        0  30.1   \n",
       "767            1       93             70             31        0  30.4   \n",
       "\n",
       "     DiabetesPedigreeFunction  Age  Outcome  \n",
       "0                       0.627   50        1  \n",
       "1                       0.351   31        0  \n",
       "2                       0.672   32        1  \n",
       "3                       0.167   21        0  \n",
       "4                       2.288   33        1  \n",
       "..                        ...  ...      ...  \n",
       "763                     0.171   63        0  \n",
       "764                     0.340   27        0  \n",
       "765                     0.245   30        0  \n",
       "766                     0.349   47        1  \n",
       "767                     0.315   23        0  \n",
       "\n",
       "[768 rows x 9 columns]"
      ]
     },
     "execution_count": 74,
     "metadata": {},
     "output_type": "execute_result"
    }
   ],
   "source": [
    "data = pd.read_csv(\"diabetes.csv\")\n",
    "data"
   ]
  },
  {
   "cell_type": "code",
   "execution_count": 75,
   "id": "9d83f6ee",
   "metadata": {},
   "outputs": [
    {
     "data": {
      "text/plain": [
       "<AxesSubplot: xlabel='Outcome', ylabel='BloodPressure'>"
      ]
     },
     "execution_count": 75,
     "metadata": {},
     "output_type": "execute_result"
    },
    {
     "data": {
      "image/png": "[encoded data removed]",
      "text/plain": [
       "<Figure size 640x480 with 1 Axes>"
      ]
     },
     "metadata": {},
     "output_type": "display_data"
    }
   ],
   "source": [
    "data = pd.read_csv(\"diabetes.csv\")\n",
    "labels = {0: \"no\", 1: \"yes\"}\n",
    "data[\"Outcome\"] = data[\"Outcome\"].map(labels)\n",
    "sns.boxplot(data, x=\"Outcome\", y=\"BloodPressure\")"
   ]
  },
  {
   "cell_type": "code",
   "execution_count": 76,
   "id": "ba50adfe",
   "metadata": {},
   "outputs": [
    {
     "data": {
      "text/plain": [
       "0      yes\n",
       "1       no\n",
       "2      yes\n",
       "3       no\n",
       "4      yes\n",
       "      ... \n",
       "763     no\n",
       "764     no\n",
       "765     no\n",
       "766    yes\n",
       "767     no\n",
       "Name: Outcome, Length: 768, dtype: object"
      ]
     },
     "execution_count": 76,
     "metadata": {},
     "output_type": "execute_result"
    }
   ],
   "source": [
    "data[\"Outcome\"]"
   ]
  },
  {
   "cell_type": "code",
   "execution_count": 77,
   "id": "5cef4a1e",
   "metadata": {},
   "outputs": [
    {
     "data": {
      "text/plain": [
       "<AxesSubplot: xlabel='Outcome', ylabel='BloodPressure'>"
      ]
     },
     "execution_count": 77,
     "metadata": {},
     "output_type": "execute_result"
    },
    {
     "data": {
      "image/png": "[encoded data removed]",
      "text/plain": [
       "<Figure size 640x480 with 1 Axes>"
      ]
     },
     "metadata": {},
     "output_type": "display_data"
    }
   ],
   "source": [
    "sns.boxplot(data, x=\"Outcome\", y=\"BloodPressure\")"
   ]
  },
  {
   "cell_type": "code",
   "execution_count": 78,
   "id": "7c9bae40",
   "metadata": {},
   "outputs": [
    {
     "ename": "TypeError",
     "evalue": "quantile() missing 1 required positional argument: 'q'",
     "output_type": "error",
     "traceback": [
      "\u001b[0;31m---------------------------------------------------------------------------\u001b[0m",
      "\u001b[0;31mTypeError\u001b[0m                                 Traceback (most recent call last)",
      "Cell \u001b[0;32mIn[78], line 1\u001b[0m\n\u001b[0;32m----> 1\u001b[0m \u001b[43mnp\u001b[49m\u001b[38;5;241;43m.\u001b[39;49m\u001b[43mquantile\u001b[49m\u001b[43m(\u001b[49m\u001b[43mdata\u001b[49m\u001b[43m)\u001b[49m\n",
      "File \u001b[0;32m<__array_function__ internals>:198\u001b[0m, in \u001b[0;36mquantile\u001b[0;34m(*args, **kwargs)\u001b[0m\n",
      "\u001b[0;31mTypeError\u001b[0m: quantile() missing 1 required positional argument: 'q'"
     ]
    }
   ],
   "source": [
    "np.quantile(data)"
   ]
  },
  {
   "cell_type": "code",
   "execution_count": 79,
   "id": "e62a27fa",
   "metadata": {},
   "outputs": [
    {
     "data": {
      "text/plain": [
       "<AxesSubplot: xlabel='Outcome', ylabel='BloodPressure'>"
      ]
     },
     "execution_count": 79,
     "metadata": {},
     "output_type": "execute_result"
    },
    {
     "data": {
      "image/png": "[encoded data removed]",
      "text/plain": [
       "<Figure size 640x480 with 1 Axes>"
      ]
     },
     "metadata": {},
     "output_type": "display_data"
    }
   ],
   "source": [
    "sns.boxplot(data, x=\"Outcome\", y=\"BloodPressure\", whis=[5, 95])"
   ]
  },
  {
   "cell_type": "code",
   "execution_count": 80,
   "id": "17418af7",
   "metadata": {},
   "outputs": [
    {
     "data": {
      "text/plain": [
       "<AxesSubplot: xlabel='Outcome', ylabel='BloodPressure'>"
      ]
     },
     "execution_count": 80,
     "metadata": {},
     "output_type": "execute_result"
    },
    {
     "data": {
      "image/png": "[encoded data removed]",
      "text/plain": [
       "<Figure size 640x480 with 1 Axes>"
      ]
     },
     "metadata": {},
     "output_type": "display_data"
    }
   ],
   "source": [
    "data = data[data[\"BloodPressure\"] > 0]\n",
    "sns.boxplot(data, x=\"Outcome\", y=\"BloodPressure\", whis=[5, 95])"
   ]
  },
  {
   "cell_type": "code",
   "execution_count": 81,
   "id": "440642f0",
   "metadata": {},
   "outputs": [
    {
     "data": {
      "text/plain": [
       "68.0"
      ]
     },
     "execution_count": 81,
     "metadata": {},
     "output_type": "execute_result"
    }
   ],
   "source": [
    "data_yes = data[data[\"Outcome\"] == \"yes\"]\n",
    "np.quantile(data_yes[\"BloodPressure\"], 0.25)"
   ]
  },
  {
   "cell_type": "code",
   "execution_count": 85,
   "id": "5d5efdad",
   "metadata": {},
   "outputs": [
    {
     "data": {
      "text/html": [
       "<div>\n",
       "<style scoped>\n",
       "    .dataframe tbody tr th:only-of-type {\n",
       "        vertical-align: middle;\n",
       "    }\n",
       "\n",
       "    .dataframe tbody tr th {\n",
       "        vertical-align: top;\n",
       "    }\n",
       "\n",
       "    .dataframe thead th {\n",
       "        text-align: right;\n",
       "    }\n",
       "</style>\n",
       "<table border=\"1\" class=\"dataframe\">\n",
       "  <thead>\n",
       "    <tr style=\"text-align: right;\">\n",
       "      <th></th>\n",
       "      <th>Pregnancies</th>\n",
       "      <th>Glucose</th>\n",
       "      <th>BloodPressure</th>\n",
       "      <th>SkinThickness</th>\n",
       "      <th>Insulin</th>\n",
       "      <th>BMI</th>\n",
       "      <th>DiabetesPedigreeFunction</th>\n",
       "      <th>Age</th>\n",
       "    </tr>\n",
       "  </thead>\n",
       "  <tbody>\n",
       "    <tr>\n",
       "      <th>count</th>\n",
       "      <td>252.000000</td>\n",
       "      <td>252.000000</td>\n",
       "      <td>252.000000</td>\n",
       "      <td>252.000000</td>\n",
       "      <td>252.000000</td>\n",
       "      <td>252.000000</td>\n",
       "      <td>252.000000</td>\n",
       "      <td>252.000000</td>\n",
       "    </tr>\n",
       "    <tr>\n",
       "      <th>mean</th>\n",
       "      <td>4.924603</td>\n",
       "      <td>141.408730</td>\n",
       "      <td>75.321429</td>\n",
       "      <td>23.452381</td>\n",
       "      <td>106.706349</td>\n",
       "      <td>35.210714</td>\n",
       "      <td>0.558111</td>\n",
       "      <td>37.420635</td>\n",
       "    </tr>\n",
       "    <tr>\n",
       "      <th>std</th>\n",
       "      <td>3.692119</td>\n",
       "      <td>32.474256</td>\n",
       "      <td>12.299866</td>\n",
       "      <td>17.355944</td>\n",
       "      <td>140.635358</td>\n",
       "      <td>6.931624</td>\n",
       "      <td>0.377606</td>\n",
       "      <td>11.107482</td>\n",
       "    </tr>\n",
       "    <tr>\n",
       "      <th>min</th>\n",
       "      <td>0.000000</td>\n",
       "      <td>0.000000</td>\n",
       "      <td>30.000000</td>\n",
       "      <td>0.000000</td>\n",
       "      <td>0.000000</td>\n",
       "      <td>0.000000</td>\n",
       "      <td>0.088000</td>\n",
       "      <td>21.000000</td>\n",
       "    </tr>\n",
       "    <tr>\n",
       "      <th>25%</th>\n",
       "      <td>2.000000</td>\n",
       "      <td>118.000000</td>\n",
       "      <td>68.000000</td>\n",
       "      <td>0.000000</td>\n",
       "      <td>0.000000</td>\n",
       "      <td>30.900000</td>\n",
       "      <td>0.267000</td>\n",
       "      <td>28.000000</td>\n",
       "    </tr>\n",
       "    <tr>\n",
       "      <th>50%</th>\n",
       "      <td>5.000000</td>\n",
       "      <td>140.000000</td>\n",
       "      <td>74.500000</td>\n",
       "      <td>28.000000</td>\n",
       "      <td>53.000000</td>\n",
       "      <td>34.300000</td>\n",
       "      <td>0.451500</td>\n",
       "      <td>36.000000</td>\n",
       "    </tr>\n",
       "    <tr>\n",
       "      <th>75%</th>\n",
       "      <td>8.000000</td>\n",
       "      <td>167.250000</td>\n",
       "      <td>84.000000</td>\n",
       "      <td>36.000000</td>\n",
       "      <td>175.000000</td>\n",
       "      <td>38.500000</td>\n",
       "      <td>0.731250</td>\n",
       "      <td>45.000000</td>\n",
       "    </tr>\n",
       "    <tr>\n",
       "      <th>max</th>\n",
       "      <td>17.000000</td>\n",
       "      <td>199.000000</td>\n",
       "      <td>114.000000</td>\n",
       "      <td>99.000000</td>\n",
       "      <td>846.000000</td>\n",
       "      <td>67.100000</td>\n",
       "      <td>2.420000</td>\n",
       "      <td>70.000000</td>\n",
       "    </tr>\n",
       "  </tbody>\n",
       "</table>\n",
       "</div>"
      ],
      "text/plain": [
       "       Pregnancies     Glucose  BloodPressure  SkinThickness     Insulin  \\\n",
       "count   252.000000  252.000000     252.000000     252.000000  252.000000   \n",
       "mean      4.924603  141.408730      75.321429      23.452381  106.706349   \n",
       "std       3.692119   32.474256      12.299866      17.355944  140.635358   \n",
       "min       0.000000    0.000000      30.000000       0.000000    0.000000   \n",
       "25%       2.000000  118.000000      68.000000       0.000000    0.000000   \n",
       "50%       5.000000  140.000000      74.500000      28.000000   53.000000   \n",
       "75%       8.000000  167.250000      84.000000      36.000000  175.000000   \n",
       "max      17.000000  199.000000     114.000000      99.000000  846.000000   \n",
       "\n",
       "              BMI  DiabetesPedigreeFunction         Age  \n",
       "count  252.000000                252.000000  252.000000  \n",
       "mean    35.210714                  0.558111   37.420635  \n",
       "std      6.931624                  0.377606   11.107482  \n",
       "min      0.000000                  0.088000   21.000000  \n",
       "25%     30.900000                  0.267000   28.000000  \n",
       "50%     34.300000                  0.451500   36.000000  \n",
       "75%     38.500000                  0.731250   45.000000  \n",
       "max     67.100000                  2.420000   70.000000  "
      ]
     },
     "execution_count": 85,
     "metadata": {},
     "output_type": "execute_result"
    }
   ],
   "source": [
    "data_yes.describe()"
   ]
  },
  {
   "cell_type": "code",
   "execution_count": 20,
   "id": "7989b90c",
   "metadata": {},
   "outputs": [
    {
     "data": {
      "text/plain": [
       "84.0"
      ]
     },
     "execution_count": 20,
     "metadata": {},
     "output_type": "execute_result"
    }
   ],
   "source": [
    "np.quantile(data_yes[\"BloodPressure\"], 0.75)"
   ]
  },
  {
   "cell_type": "code",
   "execution_count": 21,
   "id": "2d111bc6",
   "metadata": {},
   "outputs": [],
   "source": [
    "q3 = np.quantile(data_yes[\"BloodPressure\"], 0.75)\n",
    "q1 = np.quantile(data_yes[\"BloodPressure\"], 0.25)"
   ]
  },
  {
   "cell_type": "code",
   "execution_count": 22,
   "id": "4c0e8f77",
   "metadata": {},
   "outputs": [
    {
     "data": {
      "text/html": [
       "<div>\n",
       "<style scoped>\n",
       "    .dataframe tbody tr th:only-of-type {\n",
       "        vertical-align: middle;\n",
       "    }\n",
       "\n",
       "    .dataframe tbody tr th {\n",
       "        vertical-align: top;\n",
       "    }\n",
       "\n",
       "    .dataframe thead th {\n",
       "        text-align: right;\n",
       "    }\n",
       "</style>\n",
       "<table border=\"1\" class=\"dataframe\">\n",
       "  <thead>\n",
       "    <tr style=\"text-align: right;\">\n",
       "      <th></th>\n",
       "      <th>Pregnancies</th>\n",
       "      <th>Glucose</th>\n",
       "      <th>BloodPressure</th>\n",
       "      <th>SkinThickness</th>\n",
       "      <th>Insulin</th>\n",
       "      <th>BMI</th>\n",
       "      <th>DiabetesPedigreeFunction</th>\n",
       "      <th>Age</th>\n",
       "      <th>Outcome</th>\n",
       "    </tr>\n",
       "  </thead>\n",
       "  <tbody>\n",
       "    <tr>\n",
       "      <th>4</th>\n",
       "      <td>0</td>\n",
       "      <td>137</td>\n",
       "      <td>40</td>\n",
       "      <td>35</td>\n",
       "      <td>168</td>\n",
       "      <td>43.1</td>\n",
       "      <td>2.288</td>\n",
       "      <td>33</td>\n",
       "      <td>yes</td>\n",
       "    </tr>\n",
       "    <tr>\n",
       "      <th>125</th>\n",
       "      <td>1</td>\n",
       "      <td>88</td>\n",
       "      <td>30</td>\n",
       "      <td>42</td>\n",
       "      <td>99</td>\n",
       "      <td>55.0</td>\n",
       "      <td>0.496</td>\n",
       "      <td>26</td>\n",
       "      <td>yes</td>\n",
       "    </tr>\n",
       "  </tbody>\n",
       "</table>\n",
       "</div>"
      ],
      "text/plain": [
       "     Pregnancies  Glucose  BloodPressure  SkinThickness  Insulin   BMI  \\\n",
       "4              0      137             40             35      168  43.1   \n",
       "125            1       88             30             42       99  55.0   \n",
       "\n",
       "     DiabetesPedigreeFunction  Age Outcome  \n",
       "4                       2.288   33     yes  \n",
       "125                     0.496   26     yes  "
      ]
     },
     "execution_count": 22,
     "metadata": {},
     "output_type": "execute_result"
    }
   ],
   "source": [
    "lower_limit = q1 - (q3 - q1)*1.5\n",
    "data_yes[data_yes[\"BloodPressure\"] < lower_limit]"
   ]
  },
  {
   "cell_type": "code",
   "execution_count": 24,
   "id": "9dbc869c",
   "metadata": {},
   "outputs": [
    {
     "data": {
      "text/plain": [
       "<AxesSubplot: xlabel='BloodPressure', ylabel='Count'>"
      ]
     },
     "execution_count": 24,
     "metadata": {},
     "output_type": "execute_result"
    },
    {
     "data": {
      "image/png": "[encoded data removed]",
      "text/plain": [
       "<Figure size 640x480 with 1 Axes>"
      ]
     },
     "metadata": {},
     "output_type": "display_data"
    }
   ],
   "source": [
    "#funkce hustoty\n",
    "sns.histplot(data=data, x=\"BloodPressure\")"
   ]
  },
  {
   "cell_type": "code",
   "execution_count": 25,
   "id": "c0c5202a",
   "metadata": {},
   "outputs": [
    {
     "data": {
      "text/plain": [
       "<AxesSubplot: xlabel='BloodPressure', ylabel='Count'>"
      ]
     },
     "execution_count": 25,
     "metadata": {},
     "output_type": "execute_result"
    },
    {
     "data": {
      "image/png": "[encoded data removed]",
      "text/plain": [
       "<Figure size 640x480 with 1 Axes>"
      ]
     },
     "metadata": {},
     "output_type": "display_data"
    }
   ],
   "source": [
    "sns.histplot(data=data, x=\"BloodPressure\", bins=range(0, 130, 3))"
   ]
  },
  {
   "cell_type": "code",
   "execution_count": 26,
   "id": "616c21d0",
   "metadata": {},
   "outputs": [
    {
     "data": {
      "text/plain": [
       "<seaborn.axisgrid.FacetGrid at 0x12534beb0>"
      ]
     },
     "execution_count": 26,
     "metadata": {},
     "output_type": "execute_result"
    },
    {
     "data": {
      "image/png": "[encoded data removed]",
      "text/plain": [
       "<Figure size 500x500 with 1 Axes>"
      ]
     },
     "metadata": {},
     "output_type": "display_data"
    }
   ],
   "source": [
    "sns.displot(data=data, x=\"BloodPressure\", kde=True)"
   ]
  },
  {
   "cell_type": "code",
   "execution_count": 60,
   "id": "8e60fad5",
   "metadata": {},
   "outputs": [],
   "source": [
    "data = pd.read_csv(\"WA_Marketing-Campaign.csv\")"
   ]
  },
  {
   "cell_type": "code",
   "execution_count": 61,
   "id": "051a0930",
   "metadata": {},
   "outputs": [
    {
     "data": {
      "text/html": [
       "<div>\n",
       "<style scoped>\n",
       "    .dataframe tbody tr th:only-of-type {\n",
       "        vertical-align: middle;\n",
       "    }\n",
       "\n",
       "    .dataframe tbody tr th {\n",
       "        vertical-align: top;\n",
       "    }\n",
       "\n",
       "    .dataframe thead th {\n",
       "        text-align: right;\n",
       "    }\n",
       "</style>\n",
       "<table border=\"1\" class=\"dataframe\">\n",
       "  <thead>\n",
       "    <tr style=\"text-align: right;\">\n",
       "      <th></th>\n",
       "      <th>MarketID</th>\n",
       "      <th>MarketSize</th>\n",
       "      <th>LocationID</th>\n",
       "      <th>AgeOfStore</th>\n",
       "      <th>Promotion</th>\n",
       "      <th>week</th>\n",
       "      <th>SalesInThousands</th>\n",
       "    </tr>\n",
       "  </thead>\n",
       "  <tbody>\n",
       "    <tr>\n",
       "      <th>0</th>\n",
       "      <td>1</td>\n",
       "      <td>Medium</td>\n",
       "      <td>2</td>\n",
       "      <td>5</td>\n",
       "      <td>2</td>\n",
       "      <td>1</td>\n",
       "      <td>27.81</td>\n",
       "    </tr>\n",
       "    <tr>\n",
       "      <th>1</th>\n",
       "      <td>1</td>\n",
       "      <td>Medium</td>\n",
       "      <td>2</td>\n",
       "      <td>5</td>\n",
       "      <td>2</td>\n",
       "      <td>2</td>\n",
       "      <td>34.67</td>\n",
       "    </tr>\n",
       "    <tr>\n",
       "      <th>2</th>\n",
       "      <td>1</td>\n",
       "      <td>Medium</td>\n",
       "      <td>2</td>\n",
       "      <td>5</td>\n",
       "      <td>2</td>\n",
       "      <td>3</td>\n",
       "      <td>27.98</td>\n",
       "    </tr>\n",
       "    <tr>\n",
       "      <th>3</th>\n",
       "      <td>1</td>\n",
       "      <td>Medium</td>\n",
       "      <td>2</td>\n",
       "      <td>5</td>\n",
       "      <td>2</td>\n",
       "      <td>4</td>\n",
       "      <td>27.72</td>\n",
       "    </tr>\n",
       "    <tr>\n",
       "      <th>4</th>\n",
       "      <td>1</td>\n",
       "      <td>Medium</td>\n",
       "      <td>3</td>\n",
       "      <td>12</td>\n",
       "      <td>1</td>\n",
       "      <td>1</td>\n",
       "      <td>44.54</td>\n",
       "    </tr>\n",
       "  </tbody>\n",
       "</table>\n",
       "</div>"
      ],
      "text/plain": [
       "   MarketID MarketSize  LocationID  AgeOfStore  Promotion  week  \\\n",
       "0         1     Medium           2           5          2     1   \n",
       "1         1     Medium           2           5          2     2   \n",
       "2         1     Medium           2           5          2     3   \n",
       "3         1     Medium           2           5          2     4   \n",
       "4         1     Medium           3          12          1     1   \n",
       "\n",
       "   SalesInThousands  \n",
       "0             27.81  \n",
       "1             34.67  \n",
       "2             27.98  \n",
       "3             27.72  \n",
       "4             44.54  "
      ]
     },
     "execution_count": 61,
     "metadata": {},
     "output_type": "execute_result"
    }
   ],
   "source": [
    "data.head()"
   ]
  },
  {
   "cell_type": "code",
   "execution_count": 62,
   "id": "81db33dd",
   "metadata": {},
   "outputs": [
    {
     "data": {
      "text/plain": [
       "2    188\n",
       "1    172\n",
       "Name: Promotion, dtype: int64"
      ]
     },
     "execution_count": 62,
     "metadata": {},
     "output_type": "execute_result"
    }
   ],
   "source": [
    "data[\"Promotion\"].value_counts()"
   ]
  },
  {
   "cell_type": "code",
   "execution_count": null,
   "id": "43a49112",
   "metadata": {},
   "outputs": [],
   "source": []
  },
  {
   "cell_type": "code",
   "execution_count": 63,
   "id": "55e438a2",
   "metadata": {},
   "outputs": [],
   "source": [
    "#Promotion - typ propagace, která byla pro daný obchod provedena (existují 2 možné hodnoty, tj. máme dvě různé marketingové kampaně).\n",
    "#SalesInThousands - tržby v tisících.\n",
    "#MarketSize - velikost trhu v dané lokalitě."
   ]
  },
  {
   "cell_type": "code",
   "execution_count": 64,
   "id": "adc5a6f5",
   "metadata": {},
   "outputs": [],
   "source": [
    "data = data[data['MarketSize'] == \"Medium\"]\n",
    "\n"
   ]
  },
  {
   "cell_type": "code",
   "execution_count": 65,
   "id": "83a9eb11",
   "metadata": {},
   "outputs": [],
   "source": [
    "data = data.reset_index() # data, na kterých resetujeme index"
   ]
  },
  {
   "cell_type": "code",
   "execution_count": 68,
   "id": "8d85de2a",
   "metadata": {},
   "outputs": [
    {
     "data": {
      "text/html": [
       "<div>\n",
       "<style scoped>\n",
       "    .dataframe tbody tr th:only-of-type {\n",
       "        vertical-align: middle;\n",
       "    }\n",
       "\n",
       "    .dataframe tbody tr th {\n",
       "        vertical-align: top;\n",
       "    }\n",
       "\n",
       "    .dataframe thead th {\n",
       "        text-align: right;\n",
       "    }\n",
       "</style>\n",
       "<table border=\"1\" class=\"dataframe\">\n",
       "  <thead>\n",
       "    <tr style=\"text-align: right;\">\n",
       "      <th></th>\n",
       "      <th>index</th>\n",
       "      <th>MarketID</th>\n",
       "      <th>MarketSize</th>\n",
       "      <th>LocationID</th>\n",
       "      <th>AgeOfStore</th>\n",
       "      <th>Promotion</th>\n",
       "      <th>week</th>\n",
       "      <th>SalesInThousands</th>\n",
       "    </tr>\n",
       "  </thead>\n",
       "  <tbody>\n",
       "    <tr>\n",
       "      <th>0</th>\n",
       "      <td>0</td>\n",
       "      <td>1</td>\n",
       "      <td>Medium</td>\n",
       "      <td>2</td>\n",
       "      <td>5</td>\n",
       "      <td>2</td>\n",
       "      <td>1</td>\n",
       "      <td>27.81</td>\n",
       "    </tr>\n",
       "    <tr>\n",
       "      <th>1</th>\n",
       "      <td>1</td>\n",
       "      <td>1</td>\n",
       "      <td>Medium</td>\n",
       "      <td>2</td>\n",
       "      <td>5</td>\n",
       "      <td>2</td>\n",
       "      <td>2</td>\n",
       "      <td>34.67</td>\n",
       "    </tr>\n",
       "    <tr>\n",
       "      <th>2</th>\n",
       "      <td>2</td>\n",
       "      <td>1</td>\n",
       "      <td>Medium</td>\n",
       "      <td>2</td>\n",
       "      <td>5</td>\n",
       "      <td>2</td>\n",
       "      <td>3</td>\n",
       "      <td>27.98</td>\n",
       "    </tr>\n",
       "    <tr>\n",
       "      <th>3</th>\n",
       "      <td>3</td>\n",
       "      <td>1</td>\n",
       "      <td>Medium</td>\n",
       "      <td>2</td>\n",
       "      <td>5</td>\n",
       "      <td>2</td>\n",
       "      <td>4</td>\n",
       "      <td>27.72</td>\n",
       "    </tr>\n",
       "    <tr>\n",
       "      <th>4</th>\n",
       "      <td>4</td>\n",
       "      <td>1</td>\n",
       "      <td>Medium</td>\n",
       "      <td>3</td>\n",
       "      <td>12</td>\n",
       "      <td>1</td>\n",
       "      <td>1</td>\n",
       "      <td>44.54</td>\n",
       "    </tr>\n",
       "    <tr>\n",
       "      <th>...</th>\n",
       "      <td>...</td>\n",
       "      <td>...</td>\n",
       "      <td>...</td>\n",
       "      <td>...</td>\n",
       "      <td>...</td>\n",
       "      <td>...</td>\n",
       "      <td>...</td>\n",
       "      <td>...</td>\n",
       "    </tr>\n",
       "    <tr>\n",
       "      <th>199</th>\n",
       "      <td>287</td>\n",
       "      <td>9</td>\n",
       "      <td>Medium</td>\n",
       "      <td>807</td>\n",
       "      <td>1</td>\n",
       "      <td>2</td>\n",
       "      <td>4</td>\n",
       "      <td>55.91</td>\n",
       "    </tr>\n",
       "    <tr>\n",
       "      <th>200</th>\n",
       "      <td>288</td>\n",
       "      <td>9</td>\n",
       "      <td>Medium</td>\n",
       "      <td>810</td>\n",
       "      <td>13</td>\n",
       "      <td>1</td>\n",
       "      <td>1</td>\n",
       "      <td>49.30</td>\n",
       "    </tr>\n",
       "    <tr>\n",
       "      <th>201</th>\n",
       "      <td>289</td>\n",
       "      <td>9</td>\n",
       "      <td>Medium</td>\n",
       "      <td>810</td>\n",
       "      <td>13</td>\n",
       "      <td>1</td>\n",
       "      <td>2</td>\n",
       "      <td>61.80</td>\n",
       "    </tr>\n",
       "    <tr>\n",
       "      <th>202</th>\n",
       "      <td>290</td>\n",
       "      <td>9</td>\n",
       "      <td>Medium</td>\n",
       "      <td>810</td>\n",
       "      <td>13</td>\n",
       "      <td>1</td>\n",
       "      <td>3</td>\n",
       "      <td>58.00</td>\n",
       "    </tr>\n",
       "    <tr>\n",
       "      <th>203</th>\n",
       "      <td>291</td>\n",
       "      <td>9</td>\n",
       "      <td>Medium</td>\n",
       "      <td>810</td>\n",
       "      <td>13</td>\n",
       "      <td>1</td>\n",
       "      <td>4</td>\n",
       "      <td>55.20</td>\n",
       "    </tr>\n",
       "  </tbody>\n",
       "</table>\n",
       "<p>204 rows × 8 columns</p>\n",
       "</div>"
      ],
      "text/plain": [
       "     index  MarketID MarketSize  LocationID  AgeOfStore  Promotion  week  \\\n",
       "0        0         1     Medium           2           5          2     1   \n",
       "1        1         1     Medium           2           5          2     2   \n",
       "2        2         1     Medium           2           5          2     3   \n",
       "3        3         1     Medium           2           5          2     4   \n",
       "4        4         1     Medium           3          12          1     1   \n",
       "..     ...       ...        ...         ...         ...        ...   ...   \n",
       "199    287         9     Medium         807           1          2     4   \n",
       "200    288         9     Medium         810          13          1     1   \n",
       "201    289         9     Medium         810          13          1     2   \n",
       "202    290         9     Medium         810          13          1     3   \n",
       "203    291         9     Medium         810          13          1     4   \n",
       "\n",
       "     SalesInThousands  \n",
       "0               27.81  \n",
       "1               34.67  \n",
       "2               27.98  \n",
       "3               27.72  \n",
       "4               44.54  \n",
       "..                ...  \n",
       "199             55.91  \n",
       "200             49.30  \n",
       "201             61.80  \n",
       "202             58.00  \n",
       "203             55.20  \n",
       "\n",
       "[204 rows x 8 columns]"
      ]
     },
     "execution_count": 68,
     "metadata": {},
     "output_type": "execute_result"
    }
   ],
   "source": [
    "#data[\"Promotion\"].value_counts()\n",
    "data"
   ]
  },
  {
   "cell_type": "code",
   "execution_count": 67,
   "id": "83cc220e",
   "metadata": {},
   "outputs": [],
   "source": [
    "data_promotion_1 = data[data[\"Promotion\"] == 1]\n",
    "data_promotion_2 = data[data[\"Promotion\"] == 2]"
   ]
  },
  {
   "cell_type": "code",
   "execution_count": 69,
   "id": "9722d1f0",
   "metadata": {},
   "outputs": [
    {
     "data": {
      "text/plain": [
       "4      44.54\n",
       "5      37.94\n",
       "6      45.49\n",
       "7      34.75\n",
       "16     42.92\n",
       "       ...  \n",
       "195    60.44\n",
       "200    49.30\n",
       "201    61.80\n",
       "202    58.00\n",
       "203    55.20\n",
       "Name: SalesInThousands, Length: 96, dtype: float64"
      ]
     },
     "execution_count": 69,
     "metadata": {},
     "output_type": "execute_result"
    }
   ],
   "source": [
    "data_promotion_1[\"SalesInThousands\"]"
   ]
  },
  {
   "cell_type": "code",
   "execution_count": 71,
   "id": "392fcc64",
   "metadata": {},
   "outputs": [
    {
     "data": {
      "text/plain": [
       "NormaltestResult(statistic=7.671792543063383, pvalue=0.021581986479073396)"
      ]
     },
     "execution_count": 71,
     "metadata": {},
     "output_type": "execute_result"
    }
   ],
   "source": [
    "stats.normaltest(data_promotion_1[\"SalesInThousands\"])"
   ]
  },
  {
   "cell_type": "code",
   "execution_count": 86,
   "id": "94978446",
   "metadata": {},
   "outputs": [
    {
     "data": {
      "text/plain": [
       "NormaltestResult(statistic=2.804048717620895, pvalue=0.2460982681449423)"
      ]
     },
     "execution_count": 86,
     "metadata": {},
     "output_type": "execute_result"
    }
   ],
   "source": [
    "stats.normaltest(data_promotion_2[\"SalesInThousands\"])"
   ]
  },
  {
   "cell_type": "code",
   "execution_count": 87,
   "id": "6a1982ed",
   "metadata": {},
   "outputs": [
    {
     "data": {
      "text/plain": [
       "4.717727055166662e-46"
      ]
     },
     "execution_count": 87,
     "metadata": {},
     "output_type": "execute_result"
    }
   ],
   "source": [
    "statistics, pvalue = stats.mannwhitneyu(data_promotion_1[\"Promotion\"], data_promotion_2[\"Promotion\"])\n",
    "pvalue"
   ]
  },
  {
   "cell_type": "code",
   "execution_count": 90,
   "id": "4033ff91",
   "metadata": {},
   "outputs": [],
   "source": [
    "hotely = pd.read_csv(\"global_hotel_reviews.csv\")"
   ]
  },
  {
   "cell_type": "code",
   "execution_count": 91,
   "id": "8fd5cecd",
   "metadata": {},
   "outputs": [
    {
     "data": {
      "text/html": [
       "<div>\n",
       "<style scoped>\n",
       "    .dataframe tbody tr th:only-of-type {\n",
       "        vertical-align: middle;\n",
       "    }\n",
       "\n",
       "    .dataframe tbody tr th {\n",
       "        vertical-align: top;\n",
       "    }\n",
       "\n",
       "    .dataframe thead th {\n",
       "        text-align: right;\n",
       "    }\n",
       "</style>\n",
       "<table border=\"1\" class=\"dataframe\">\n",
       "  <thead>\n",
       "    <tr style=\"text-align: right;\">\n",
       "      <th></th>\n",
       "      <th>Rating</th>\n",
       "      <th>Date</th>\n",
       "      <th>Description</th>\n",
       "      <th>Hotel_name</th>\n",
       "      <th>City</th>\n",
       "      <th>Country</th>\n",
       "    </tr>\n",
       "  </thead>\n",
       "  <tbody>\n",
       "    <tr>\n",
       "      <th>0</th>\n",
       "      <td>10</td>\n",
       "      <td>18-09-2023</td>\n",
       "      <td>Très bon hôtel comme attendu. On s’occupe de v...</td>\n",
       "      <td>barriere-le-majestic</td>\n",
       "      <td>Cannes</td>\n",
       "      <td>France</td>\n",
       "    </tr>\n",
       "    <tr>\n",
       "      <th>1</th>\n",
       "      <td>10</td>\n",
       "      <td>05-09-2023</td>\n",
       "      <td>Magnifique hôtel \\nTrès belles prestations \\nP...</td>\n",
       "      <td>barriere-le-majestic</td>\n",
       "      <td>Cannes</td>\n",
       "      <td>France</td>\n",
       "    </tr>\n",
       "    <tr>\n",
       "      <th>2</th>\n",
       "      <td>8</td>\n",
       "      <td>31-10-2022</td>\n",
       "      <td>personnel à l'écoute et agréable, mais les cha...</td>\n",
       "      <td>barriere-le-majestic</td>\n",
       "      <td>Cannes</td>\n",
       "      <td>France</td>\n",
       "    </tr>\n",
       "    <tr>\n",
       "      <th>3</th>\n",
       "      <td>10</td>\n",
       "      <td>03-09-2022</td>\n",
       "      <td>Accueil chaleureux, bon service et bonne nourr...</td>\n",
       "      <td>barriere-le-majestic</td>\n",
       "      <td>Cannes</td>\n",
       "      <td>France</td>\n",
       "    </tr>\n",
       "    <tr>\n",
       "      <th>4</th>\n",
       "      <td>10</td>\n",
       "      <td>07-12-2021</td>\n",
       "      <td>Excellent Hotel bien situé, excellent service ...</td>\n",
       "      <td>barriere-le-majestic</td>\n",
       "      <td>Cannes</td>\n",
       "      <td>France</td>\n",
       "    </tr>\n",
       "  </tbody>\n",
       "</table>\n",
       "</div>"
      ],
      "text/plain": [
       "   Rating        Date                                        Description  \\\n",
       "0      10  18-09-2023  Très bon hôtel comme attendu. On s’occupe de v...   \n",
       "1      10  05-09-2023  Magnifique hôtel \\nTrès belles prestations \\nP...   \n",
       "2       8  31-10-2022  personnel à l'écoute et agréable, mais les cha...   \n",
       "3      10  03-09-2022  Accueil chaleureux, bon service et bonne nourr...   \n",
       "4      10  07-12-2021  Excellent Hotel bien situé, excellent service ...   \n",
       "\n",
       "             Hotel_name    City Country  \n",
       "0  barriere-le-majestic  Cannes  France  \n",
       "1  barriere-le-majestic  Cannes  France  \n",
       "2  barriere-le-majestic  Cannes  France  \n",
       "3  barriere-le-majestic  Cannes  France  \n",
       "4  barriere-le-majestic  Cannes  France  "
      ]
     },
     "execution_count": 91,
     "metadata": {},
     "output_type": "execute_result"
    }
   ],
   "source": [
    "hotely.head()"
   ]
  },
  {
   "cell_type": "code",
   "execution_count": 105,
   "id": "67176611",
   "metadata": {},
   "outputs": [
    {
     "data": {
      "text/plain": [
       "<AxesSubplot: xlabel='Rating', ylabel='count'>"
      ]
     },
     "execution_count": 105,
     "metadata": {},
     "output_type": "execute_result"
    },
    {
     "data": {
      "image/png": "[encoded data removed]",
      "text/plain": [
       "<Figure size 640x480 with 1 Axes>"
      ]
     },
     "metadata": {},
     "output_type": "display_data"
    }
   ],
   "source": [
    "\n",
    "sns.countplot(data=hotely, x = \"Rating\", hue=\"Country\")"
   ]
  },
  {
   "cell_type": "code",
   "execution_count": 115,
   "id": "55ec9ec4",
   "metadata": {},
   "outputs": [],
   "source": [
    "Francie = hotely[hotely[\"Country\"] == \"France\"]\n",
    "Switzerland = hotely[hotely[\"Country\"] == \"Switzerland\"]"
   ]
  },
  {
   "cell_type": "code",
   "execution_count": null,
   "id": "28c457c0",
   "metadata": {},
   "outputs": [],
   "source": []
  },
  {
   "cell_type": "raw",
   "id": "cb5abf34",
   "metadata": {},
   "source": [
    "Francie[\"Rating\"].mean()"
   ]
  },
  {
   "cell_type": "code",
   "execution_count": 116,
   "id": "dda26793",
   "metadata": {},
   "outputs": [
    {
     "data": {
      "text/plain": [
       "8.441754916792739"
      ]
     },
     "execution_count": 116,
     "metadata": {},
     "output_type": "execute_result"
    }
   ],
   "source": [
    "Switzerland[\"Rating\"].mean()"
   ]
  },
  {
   "cell_type": "code",
   "execution_count": 117,
   "id": "9bcba7d3",
   "metadata": {},
   "outputs": [
    {
     "data": {
      "text/plain": [
       "2.7190215861872277e-11"
      ]
     },
     "execution_count": 117,
     "metadata": {},
     "output_type": "execute_result"
    }
   ],
   "source": [
    "_,pvalue = stats.mannwhitneyu(Francie[\"Rating\"],Switzerland[\"Rating\"])\n",
    "pvalue"
   ]
  },
  {
   "cell_type": "code",
   "execution_count": 119,
   "id": "a386f4cc",
   "metadata": {},
   "outputs": [
    {
     "data": {
      "text/html": [
       "<div>\n",
       "<style scoped>\n",
       "    .dataframe tbody tr th:only-of-type {\n",
       "        vertical-align: middle;\n",
       "    }\n",
       "\n",
       "    .dataframe tbody tr th {\n",
       "        vertical-align: top;\n",
       "    }\n",
       "\n",
       "    .dataframe thead th {\n",
       "        text-align: right;\n",
       "    }\n",
       "</style>\n",
       "<table border=\"1\" class=\"dataframe\">\n",
       "  <thead>\n",
       "    <tr style=\"text-align: right;\">\n",
       "      <th></th>\n",
       "      <th>Surname</th>\n",
       "      <th>Given name</th>\n",
       "      <th>Position title</th>\n",
       "      <th>Salary paid ($)</th>\n",
       "      <th>Taxable benefits ($)</th>\n",
       "    </tr>\n",
       "  </thead>\n",
       "  <tbody>\n",
       "    <tr>\n",
       "      <th>0</th>\n",
       "      <td>ABDEL-RAHMAN</td>\n",
       "      <td>EIHAB</td>\n",
       "      <td>Professor</td>\n",
       "      <td>210,256.84</td>\n",
       "      <td>301.76</td>\n",
       "    </tr>\n",
       "    <tr>\n",
       "      <th>1</th>\n",
       "      <td>ABOUEE MEHRIZI</td>\n",
       "      <td>HOSSEIN</td>\n",
       "      <td>Associate Professor</td>\n",
       "      <td>206,893.56</td>\n",
       "      <td>630.20</td>\n",
       "    </tr>\n",
       "    <tr>\n",
       "      <th>2</th>\n",
       "      <td>ABUKHDEIR</td>\n",
       "      <td>NASSER M.</td>\n",
       "      <td>Associate Professor</td>\n",
       "      <td>176,116.32</td>\n",
       "      <td>591.56</td>\n",
       "    </tr>\n",
       "    <tr>\n",
       "      <th>3</th>\n",
       "      <td>ACHESON</td>\n",
       "      <td>KATHERINE</td>\n",
       "      <td>Professor</td>\n",
       "      <td>193,308.12</td>\n",
       "      <td>708.72</td>\n",
       "    </tr>\n",
       "    <tr>\n",
       "      <th>4</th>\n",
       "      <td>ACKER</td>\n",
       "      <td>STACEY</td>\n",
       "      <td>Associate Professor</td>\n",
       "      <td>135,384.80</td>\n",
       "      <td>469.72</td>\n",
       "    </tr>\n",
       "  </tbody>\n",
       "</table>\n",
       "</div>"
      ],
      "text/plain": [
       "          Surname Given name       Position title Salary paid ($)  \\\n",
       "0    ABDEL-RAHMAN      EIHAB            Professor      210,256.84   \n",
       "1  ABOUEE MEHRIZI    HOSSEIN  Associate Professor      206,893.56   \n",
       "2       ABUKHDEIR  NASSER M.  Associate Professor      176,116.32   \n",
       "3         ACHESON  KATHERINE            Professor      193,308.12   \n",
       "4           ACKER     STACEY  Associate Professor      135,384.80   \n",
       "\n",
       "  Taxable benefits ($)  \n",
       "0               301.76  \n",
       "1               630.20  \n",
       "2               591.56  \n",
       "3               708.72  \n",
       "4               469.72  "
      ]
     },
     "execution_count": 119,
     "metadata": {},
     "output_type": "execute_result"
    }
   ],
   "source": [
    "platy = pd.read_csv(\"salaries-2022.csv\")\n",
    "platy.head()\n",
    "\n"
   ]
  },
  {
   "cell_type": "code",
   "execution_count": 133,
   "id": "6c3f15c4",
   "metadata": {},
   "outputs": [],
   "source": [
    "platy[\"Salary paid ($)\"] = platy[\"Salary paid ($)\"].str.replace(\",\",\"\").astype(float)"
   ]
  },
  {
   "cell_type": "code",
   "execution_count": 134,
   "id": "4b0f835a",
   "metadata": {},
   "outputs": [
    {
     "data": {
      "text/plain": [
       "<AxesSubplot: xlabel='Position title', ylabel='Count'>"
      ]
     },
     "execution_count": 134,
     "metadata": {},
     "output_type": "execute_result"
    },
    {
     "data": {
      "image/png": "[encoded data removed]",
      "text/plain": [
       "<Figure size 640x480 with 1 Axes>"
      ]
     },
     "metadata": {},
     "output_type": "display_data"
    }
   ],
   "source": [
    "#Tvým úkolem je ověřit tvrzení, že s kariérním postupem vzroste akademickým pracovníkům\n",
    "#a pracovnicím jejich průměrný plat.\n",
    "profesor = platy[platy[\"Position title\"] == 'Professor']\n",
    "docent = platy[platy[\"Position title\"] == 'Associate Professor']\n",
    "\n",
    "\n"
   ]
  },
  {
   "cell_type": "code",
   "execution_count": 135,
   "id": "912b58b6",
   "metadata": {},
   "outputs": [
    {
     "data": {
      "text/plain": [
       "208224.88491935484"
      ]
     },
     "execution_count": 135,
     "metadata": {},
     "output_type": "execute_result"
    }
   ],
   "source": [
    "profesor[\"Salary paid ($)\"].mean()"
   ]
  },
  {
   "cell_type": "code",
   "execution_count": 136,
   "id": "5ce22a71",
   "metadata": {},
   "outputs": [
    {
     "data": {
      "text/plain": [
       "169241.11055696203"
      ]
     },
     "execution_count": 136,
     "metadata": {},
     "output_type": "execute_result"
    }
   ],
   "source": [
    "docent[\"Salary paid ($)\"].mean()"
   ]
  },
  {
   "cell_type": "code",
   "execution_count": 145,
   "id": "682de273",
   "metadata": {},
   "outputs": [
    {
     "data": {
      "text/plain": [
       "<AxesSubplot: xlabel='Salary paid ($)', ylabel='Count'>"
      ]
     },
     "execution_count": 145,
     "metadata": {},
     "output_type": "execute_result"
    },
    {
     "data": {
      "image/png": "[encoded data removed]",
      "text/plain": [
       "<Figure size 640x480 with 1 Axes>"
      ]
     },
     "metadata": {},
     "output_type": "display_data"
    }
   ],
   "source": [
    "sns.histplot(data=platy, x=\"Salary paid ($)\",hue = \"Position title\",kde = True)"
   ]
  },
  {
   "cell_type": "code",
   "execution_count": 140,
   "id": "36f361ac",
   "metadata": {},
   "outputs": [],
   "source": [
    "#H0 - Průměrné platy jsou shodné\n",
    "#H1 -  Průměrný plat na pozici Professor je vyšší než na pozici Associate Professor."
   ]
  },
  {
   "cell_type": "code",
   "execution_count": 142,
   "id": "505f2c07",
   "metadata": {},
   "outputs": [
    {
     "data": {
      "text/plain": [
       "NormaltestResult(statistic=37.066560324413814, pvalue=8.935085116360102e-09)"
      ]
     },
     "execution_count": 142,
     "metadata": {},
     "output_type": "execute_result"
    }
   ],
   "source": [
    "stats.normaltest(profesor[\"Salary paid ($)\"])"
   ]
  },
  {
   "cell_type": "code",
   "execution_count": 143,
   "id": "523990f8",
   "metadata": {},
   "outputs": [
    {
     "data": {
      "text/plain": [
       "NormaltestResult(statistic=89.52707024095415, pvalue=3.626132812192355e-20)"
      ]
     },
     "execution_count": 143,
     "metadata": {},
     "output_type": "execute_result"
    }
   ],
   "source": [
    "stats.normaltest(docent[\"Salary paid ($)\"])"
   ]
  },
  {
   "cell_type": "code",
   "execution_count": 144,
   "id": "e3331b9c",
   "metadata": {},
   "outputs": [
    {
     "data": {
      "text/plain": [
       "3.1384171623279043e-65"
      ]
     },
     "execution_count": 144,
     "metadata": {},
     "output_type": "execute_result"
    }
   ],
   "source": [
    "_, pvalue = stats.mannwhitneyu(profesor[\"Salary paid ($)\"], docent[\"Salary paid ($)\"], alternative=\"greater\")\n",
    "pvalue"
   ]
  },
  {
   "cell_type": "code",
   "execution_count": 1,
   "id": "730f7ff8",
   "metadata": {},
   "outputs": [],
   "source": [
    "#čtení na doma"
   ]
  },
  {
   "cell_type": "code",
   "execution_count": 2,
   "id": "9abb21fb",
   "metadata": {},
   "outputs": [],
   "source": [
    "#H0: Platy za kuřáky (kuřačky) jsou v průměru stejné jako platby za nekuřáky (nekuřačky).\n",
    "#H1: Platy za kuřáky (kuřačky) jsou vyšší (greater) platby za nekuřáky (nekuřačky).\n",
    "\n"
   ]
  },
  {
   "cell_type": "code",
   "execution_count": null,
   "id": "b2a6c184",
   "metadata": {},
   "outputs": [],
   "source": []
  },
  {
   "cell_type": "code",
   "execution_count": 5,
   "id": "ea5810d2",
   "metadata": {},
   "outputs": [
    {
     "data": {
      "text/html": [
       "<div>\n",
       "<style scoped>\n",
       "    .dataframe tbody tr th:only-of-type {\n",
       "        vertical-align: middle;\n",
       "    }\n",
       "\n",
       "    .dataframe tbody tr th {\n",
       "        vertical-align: top;\n",
       "    }\n",
       "\n",
       "    .dataframe thead th {\n",
       "        text-align: right;\n",
       "    }\n",
       "</style>\n",
       "<table border=\"1\" class=\"dataframe\">\n",
       "  <thead>\n",
       "    <tr style=\"text-align: right;\">\n",
       "      <th></th>\n",
       "      <th>age</th>\n",
       "      <th>sex</th>\n",
       "      <th>bmi</th>\n",
       "      <th>children</th>\n",
       "      <th>smoker</th>\n",
       "      <th>region</th>\n",
       "      <th>charges</th>\n",
       "    </tr>\n",
       "  </thead>\n",
       "  <tbody>\n",
       "    <tr>\n",
       "      <th>0</th>\n",
       "      <td>19</td>\n",
       "      <td>female</td>\n",
       "      <td>27.900</td>\n",
       "      <td>0</td>\n",
       "      <td>yes</td>\n",
       "      <td>southwest</td>\n",
       "      <td>16884.92400</td>\n",
       "    </tr>\n",
       "    <tr>\n",
       "      <th>1</th>\n",
       "      <td>18</td>\n",
       "      <td>male</td>\n",
       "      <td>33.770</td>\n",
       "      <td>1</td>\n",
       "      <td>no</td>\n",
       "      <td>southeast</td>\n",
       "      <td>1725.55230</td>\n",
       "    </tr>\n",
       "    <tr>\n",
       "      <th>2</th>\n",
       "      <td>28</td>\n",
       "      <td>male</td>\n",
       "      <td>33.000</td>\n",
       "      <td>3</td>\n",
       "      <td>no</td>\n",
       "      <td>southeast</td>\n",
       "      <td>4449.46200</td>\n",
       "    </tr>\n",
       "    <tr>\n",
       "      <th>3</th>\n",
       "      <td>33</td>\n",
       "      <td>male</td>\n",
       "      <td>22.705</td>\n",
       "      <td>0</td>\n",
       "      <td>no</td>\n",
       "      <td>northwest</td>\n",
       "      <td>21984.47061</td>\n",
       "    </tr>\n",
       "    <tr>\n",
       "      <th>4</th>\n",
       "      <td>32</td>\n",
       "      <td>male</td>\n",
       "      <td>28.880</td>\n",
       "      <td>0</td>\n",
       "      <td>no</td>\n",
       "      <td>northwest</td>\n",
       "      <td>3866.85520</td>\n",
       "    </tr>\n",
       "  </tbody>\n",
       "</table>\n",
       "</div>"
      ],
      "text/plain": [
       "   age     sex     bmi  children smoker     region      charges\n",
       "0   19  female  27.900         0    yes  southwest  16884.92400\n",
       "1   18    male  33.770         1     no  southeast   1725.55230\n",
       "2   28    male  33.000         3     no  southeast   4449.46200\n",
       "3   33    male  22.705         0     no  northwest  21984.47061\n",
       "4   32    male  28.880         0     no  northwest   3866.85520"
      ]
     },
     "execution_count": 5,
     "metadata": {},
     "output_type": "execute_result"
    }
   ],
   "source": [
    "data = pd.read_csv(\"insurance.csv\")\n",
    "data.head()"
   ]
  },
  {
   "cell_type": "code",
   "execution_count": 6,
   "id": "c88c04bf",
   "metadata": {},
   "outputs": [
    {
     "data": {
      "text/plain": [
       "no     1064\n",
       "yes     274\n",
       "Name: smoker, dtype: int64"
      ]
     },
     "execution_count": 6,
     "metadata": {},
     "output_type": "execute_result"
    }
   ],
   "source": [
    "data[\"smoker\"].value_counts()"
   ]
  },
  {
   "cell_type": "code",
   "execution_count": 8,
   "id": "06d421fe",
   "metadata": {},
   "outputs": [],
   "source": [
    "data_smokers = data[data[\"smoker\"] == \"yes\"]\n",
    "data_not_smokers = data[data[\"smoker\"] == \"no\"]"
   ]
  },
  {
   "cell_type": "code",
   "execution_count": 9,
   "id": "2d55bfa3",
   "metadata": {},
   "outputs": [
    {
     "data": {
      "text/html": [
       "<div>\n",
       "<style scoped>\n",
       "    .dataframe tbody tr th:only-of-type {\n",
       "        vertical-align: middle;\n",
       "    }\n",
       "\n",
       "    .dataframe tbody tr th {\n",
       "        vertical-align: top;\n",
       "    }\n",
       "\n",
       "    .dataframe thead th {\n",
       "        text-align: right;\n",
       "    }\n",
       "</style>\n",
       "<table border=\"1\" class=\"dataframe\">\n",
       "  <thead>\n",
       "    <tr style=\"text-align: right;\">\n",
       "      <th></th>\n",
       "      <th>age</th>\n",
       "      <th>sex</th>\n",
       "      <th>bmi</th>\n",
       "      <th>children</th>\n",
       "      <th>smoker</th>\n",
       "      <th>region</th>\n",
       "      <th>charges</th>\n",
       "    </tr>\n",
       "  </thead>\n",
       "  <tbody>\n",
       "    <tr>\n",
       "      <th>0</th>\n",
       "      <td>19</td>\n",
       "      <td>female</td>\n",
       "      <td>27.900</td>\n",
       "      <td>0</td>\n",
       "      <td>yes</td>\n",
       "      <td>southwest</td>\n",
       "      <td>16884.92400</td>\n",
       "    </tr>\n",
       "    <tr>\n",
       "      <th>11</th>\n",
       "      <td>62</td>\n",
       "      <td>female</td>\n",
       "      <td>26.290</td>\n",
       "      <td>0</td>\n",
       "      <td>yes</td>\n",
       "      <td>southeast</td>\n",
       "      <td>27808.72510</td>\n",
       "    </tr>\n",
       "    <tr>\n",
       "      <th>14</th>\n",
       "      <td>27</td>\n",
       "      <td>male</td>\n",
       "      <td>42.130</td>\n",
       "      <td>0</td>\n",
       "      <td>yes</td>\n",
       "      <td>southeast</td>\n",
       "      <td>39611.75770</td>\n",
       "    </tr>\n",
       "    <tr>\n",
       "      <th>19</th>\n",
       "      <td>30</td>\n",
       "      <td>male</td>\n",
       "      <td>35.300</td>\n",
       "      <td>0</td>\n",
       "      <td>yes</td>\n",
       "      <td>southwest</td>\n",
       "      <td>36837.46700</td>\n",
       "    </tr>\n",
       "    <tr>\n",
       "      <th>23</th>\n",
       "      <td>34</td>\n",
       "      <td>female</td>\n",
       "      <td>31.920</td>\n",
       "      <td>1</td>\n",
       "      <td>yes</td>\n",
       "      <td>northeast</td>\n",
       "      <td>37701.87680</td>\n",
       "    </tr>\n",
       "    <tr>\n",
       "      <th>...</th>\n",
       "      <td>...</td>\n",
       "      <td>...</td>\n",
       "      <td>...</td>\n",
       "      <td>...</td>\n",
       "      <td>...</td>\n",
       "      <td>...</td>\n",
       "      <td>...</td>\n",
       "    </tr>\n",
       "    <tr>\n",
       "      <th>1313</th>\n",
       "      <td>19</td>\n",
       "      <td>female</td>\n",
       "      <td>34.700</td>\n",
       "      <td>2</td>\n",
       "      <td>yes</td>\n",
       "      <td>southwest</td>\n",
       "      <td>36397.57600</td>\n",
       "    </tr>\n",
       "    <tr>\n",
       "      <th>1314</th>\n",
       "      <td>30</td>\n",
       "      <td>female</td>\n",
       "      <td>23.655</td>\n",
       "      <td>3</td>\n",
       "      <td>yes</td>\n",
       "      <td>northwest</td>\n",
       "      <td>18765.87545</td>\n",
       "    </tr>\n",
       "    <tr>\n",
       "      <th>1321</th>\n",
       "      <td>62</td>\n",
       "      <td>male</td>\n",
       "      <td>26.695</td>\n",
       "      <td>0</td>\n",
       "      <td>yes</td>\n",
       "      <td>northeast</td>\n",
       "      <td>28101.33305</td>\n",
       "    </tr>\n",
       "    <tr>\n",
       "      <th>1323</th>\n",
       "      <td>42</td>\n",
       "      <td>female</td>\n",
       "      <td>40.370</td>\n",
       "      <td>2</td>\n",
       "      <td>yes</td>\n",
       "      <td>southeast</td>\n",
       "      <td>43896.37630</td>\n",
       "    </tr>\n",
       "    <tr>\n",
       "      <th>1337</th>\n",
       "      <td>61</td>\n",
       "      <td>female</td>\n",
       "      <td>29.070</td>\n",
       "      <td>0</td>\n",
       "      <td>yes</td>\n",
       "      <td>northwest</td>\n",
       "      <td>29141.36030</td>\n",
       "    </tr>\n",
       "  </tbody>\n",
       "</table>\n",
       "<p>274 rows × 7 columns</p>\n",
       "</div>"
      ],
      "text/plain": [
       "      age     sex     bmi  children smoker     region      charges\n",
       "0      19  female  27.900         0    yes  southwest  16884.92400\n",
       "11     62  female  26.290         0    yes  southeast  27808.72510\n",
       "14     27    male  42.130         0    yes  southeast  39611.75770\n",
       "19     30    male  35.300         0    yes  southwest  36837.46700\n",
       "23     34  female  31.920         1    yes  northeast  37701.87680\n",
       "...   ...     ...     ...       ...    ...        ...          ...\n",
       "1313   19  female  34.700         2    yes  southwest  36397.57600\n",
       "1314   30  female  23.655         3    yes  northwest  18765.87545\n",
       "1321   62    male  26.695         0    yes  northeast  28101.33305\n",
       "1323   42  female  40.370         2    yes  southeast  43896.37630\n",
       "1337   61  female  29.070         0    yes  northwest  29141.36030\n",
       "\n",
       "[274 rows x 7 columns]"
      ]
     },
     "execution_count": 9,
     "metadata": {},
     "output_type": "execute_result"
    }
   ],
   "source": [
    "data_smokers"
   ]
  },
  {
   "cell_type": "code",
   "execution_count": 10,
   "id": "a67db2f7",
   "metadata": {},
   "outputs": [
    {
     "data": {
      "text/plain": [
       "NormaltestResult(statistic=61.03941356533816, pvalue=5.564930630036463e-14)"
      ]
     },
     "execution_count": 10,
     "metadata": {},
     "output_type": "execute_result"
    }
   ],
   "source": [
    "stats.normaltest(data_smokers[\"charges\"])"
   ]
  },
  {
   "cell_type": "code",
   "execution_count": 11,
   "id": "d1e3b040",
   "metadata": {},
   "outputs": [
    {
     "data": {
      "text/plain": [
       "NormaltestResult(statistic=316.4528082392722, pvalue=1.9193129759002216e-69)"
      ]
     },
     "execution_count": 11,
     "metadata": {},
     "output_type": "execute_result"
    }
   ],
   "source": [
    "stats.normaltest(data_not_smokers[\"charges\"])"
   ]
  },
  {
   "cell_type": "code",
   "execution_count": 12,
   "id": "2a03ff03",
   "metadata": {},
   "outputs": [],
   "source": [
    "_, pvalue = stats.mannwhitneyu(data_smokers[\"charges\"], data_not_smokers[\"charges\"], alternative=\"greater\")"
   ]
  },
  {
   "cell_type": "code",
   "execution_count": 13,
   "id": "e3666339",
   "metadata": {},
   "outputs": [
    {
     "data": {
      "text/plain": [
       "'0.00000000000000000000000000000000000000000000000000000000000000000000000000000000000000000000000000000000000000000000000000000000026351167222517853'"
      ]
     },
     "execution_count": 13,
     "metadata": {},
     "output_type": "execute_result"
    }
   ],
   "source": [
    "np.format_float_positional(pvalue)"
   ]
  },
  {
   "cell_type": "code",
   "execution_count": 14,
   "id": "9a412de3",
   "metadata": {},
   "outputs": [],
   "source": [
    "# test s jedním výběrem\n",
    "# test na průměr "
   ]
  },
  {
   "cell_type": "code",
   "execution_count": 15,
   "id": "2ca94a64",
   "metadata": {},
   "outputs": [
    {
     "name": "stdout",
     "output_type": "stream",
     "text": [
      "TtestResult(statistic=-0.7936270159024009, pvalue=0.44783036238501905, df=9)\n"
     ]
    }
   ],
   "source": [
    "#H0: Průměrná výška basketbalistek v České republice je 180 cm\n",
    "#H1: Průměrná výška basketbalistek v České republice je více než 180 cm\n",
    "\n",
    "import pandas\n",
    "from scipy import stats\n",
    "\n",
    "data = [170, 180, 175, 183, 178, 182, 185, 176, 179, 181]\n",
    "data = pandas.DataFrame(data, columns=[\"sloupec_1\"])\n",
    "res = stats.ttest_1samp(data[\"sloupec_1\"], 180)\n",
    "print(res)"
   ]
  },
  {
   "cell_type": "code",
   "execution_count": 16,
   "id": "39f235bd",
   "metadata": {},
   "outputs": [
    {
     "name": "stdout",
     "output_type": "stream",
     "text": [
      "TtestResult(statistic=2.905487990874554, pvalue=0.9912805695458283, df=9)\n"
     ]
    }
   ],
   "source": [
    "#H0: Průměrná chyba při výrobě součástky do motoru je 0.1 mm\n",
    "#H1: Průměrná chyba při výrobě součástky do motoru je méně než 0.1 mm\n",
    "data = [0.12, 0.10, 0.11, 0.13, 0.09, 0.11, 0.12, 0.10, 0.11, 0.12]\n",
    "data = pandas.DataFrame(data, columns=[\"sloupec_1\"])\n",
    "res = stats.ttest_1samp(data[\"sloupec_1\"], 0.1, alternative=\"less\")\n",
    "print(res)"
   ]
  },
  {
   "cell_type": "code",
   "execution_count": 17,
   "id": "df8d85f2",
   "metadata": {},
   "outputs": [
    {
     "name": "stdout",
     "output_type": "stream",
     "text": [
      "TtestResult(statistic=103.94469683442252, pvalue=0.9999999999999982, df=9)\n"
     ]
    }
   ],
   "source": [
    "#H0: Průměrné zpoždění vlaku z Prahy do Plzně s odjezdem v 18:38 je 5 minut\n",
    "#H1: Průměrné zpoždění vlaku z Prahy do Plzně s odjezdem v 18:38 není 5 minut (tj. je méně nebo více než 5 minut)\n",
    "data = [5.1, 4.9, 5.2, 4.8, 5.0, 5.1, 4.9, 5.2, 4.8, 5.0]\n",
    "data = pandas.DataFrame(data, columns=[\"sloupec_1\"])\n",
    "res = stats.ttest_1samp(data[\"sloupec_1\"], 0.1, alternative=\"less\")\n",
    "print(res)"
   ]
  },
  {
   "cell_type": "code",
   "execution_count": 18,
   "id": "ae365e1d",
   "metadata": {},
   "outputs": [],
   "source": [
    "#Testy na rozdělení"
   ]
  },
  {
   "cell_type": "code",
   "execution_count": 20,
   "id": "bd40b77e",
   "metadata": {},
   "outputs": [],
   "source": [
    "#H0: Ceny domů mají normální rozdělení\n",
    "#H1: Ceny domů nemají normální rozdělení"
   ]
  },
  {
   "cell_type": "code",
   "execution_count": 23,
   "id": "cc33e8a6",
   "metadata": {},
   "outputs": [
    {
     "data": {
      "text/plain": [
       "ShapiroResult(statistic=0.9605264012916015, pvalue=0.4250591639995579)"
      ]
     },
     "execution_count": 23,
     "metadata": {},
     "output_type": "execute_result"
    }
   ],
   "source": [
    "data = [0.74590569, 1.74565776, 0.58570378, 0.95159044, 0.58572699, 1.20722768, 0.38527559, 1.70051498, 1.10369079, 1.18765377, 1.7503144, \n",
    "        0.40093026, 1.2216318,  1.45744714, 1.95942974, 1.08444009, 1.07266436, 0.88722675, 0.48954167, 1.50261749, 1.27005193, 1.026523, 1.44374599, 1.54176153, 0.51657773]\n",
    "data = pandas.DataFrame(data, columns=[\"sloupec_1\"])\n",
    "res = stats.shapiro(data[\"sloupec_1\"])\n",
    "res"
   ]
  },
  {
   "cell_type": "code",
   "execution_count": 24,
   "id": "33ed6647",
   "metadata": {},
   "outputs": [
    {
     "data": {
      "text/plain": [
       "NormaltestResult(statistic=1.8353668908225964, pvalue=0.39944330233531283)"
      ]
     },
     "execution_count": 24,
     "metadata": {},
     "output_type": "execute_result"
    }
   ],
   "source": [
    "res = stats.normaltest(data[\"sloupec_1\"])\n",
    "res"
   ]
  },
  {
   "cell_type": "code",
   "execution_count": 25,
   "id": "f0f537e6",
   "metadata": {},
   "outputs": [
    {
     "data": {
      "text/plain": [
       "KstestResult(statistic=0.649983377679607, pvalue=7.563148425063538e-11, statistic_location=0.38527559, statistic_sign=-1)"
      ]
     },
     "execution_count": 25,
     "metadata": {},
     "output_type": "execute_result"
    }
   ],
   "source": [
    "data[\"sloupec_1\"]\n",
    "stats.kstest(data[\"sloupec_1\"], stats.norm.cdf)"
   ]
  },
  {
   "cell_type": "code",
   "execution_count": 26,
   "id": "a85069ac",
   "metadata": {},
   "outputs": [],
   "source": [
    "# testy se dvěma statistickými soubory"
   ]
  },
  {
   "cell_type": "code",
   "execution_count": 27,
   "id": "13a0b28f",
   "metadata": {},
   "outputs": [],
   "source": [
    "# testy na průměr"
   ]
  },
  {
   "cell_type": "code",
   "execution_count": 28,
   "id": "6cc7c3f4",
   "metadata": {},
   "outputs": [],
   "source": [
    "#Příklad hypotéz:\n",
    "\n",
    "#H0: Rychlost montáže pracovníků před školením byla stejná jako po školení\n",
    "#H1: Rychlost montáže pracovníků před školením byla jiná než je po školení"
   ]
  },
  {
   "cell_type": "code",
   "execution_count": 30,
   "id": "328f1e26",
   "metadata": {},
   "outputs": [
    {
     "data": {
      "text/plain": [
       "TtestResult(statistic=-25.03753938346132, pvalue=5.020951754927011e-13, df=14)"
      ]
     },
     "execution_count": 30,
     "metadata": {},
     "output_type": "execute_result"
    }
   ],
   "source": [
    "data = [\n",
    "    [10.5, 12.2],  # Pracovník 1\n",
    "    [9.8, 11.4],   # Pracovník 2\n",
    "    [10.2, 11.7],  # Pracovník 3\n",
    "    [10.1, 12.3],  # Pracovník 4\n",
    "    [9.9, 11.6],   # Pracovník 5\n",
    "    [10.6, 12.1],  # Pracovník 6\n",
    "    [9.7, 11.9],   # Pracovník 7\n",
    "    [10.3, 12.0],  # Pracovník 8\n",
    "    [9.6, 11.8],   # Pracovník 9\n",
    "    [10.4, 12.4],  # Pracovník 10\n",
    "    [10.0, 12.5],  # Pracovník 11\n",
    "    [9.5, 11.3],   # Pracovník 12\n",
    "    [10.7, 12.6],  # Pracovník 13\n",
    "    [9.4, 11.2],   # Pracovník 14\n",
    "    [10.8, 12.7]   # Pracovník 15\n",
    "]\n",
    "data = pandas.DataFrame(data,columns =[\"sloupec_1\", \"sloupec_2\"])\n",
    "res = stats.ttest_rel(data[\"sloupec_1\"],data[\"sloupec_2\"])\n",
    "res"
   ]
  },
  {
   "cell_type": "code",
   "execution_count": 32,
   "id": "3187ce8a",
   "metadata": {},
   "outputs": [],
   "source": [
    "#Pro nepárové testy můžeme mít následující hypotézy:\n",
    "\n",
    "#H0: Rychlost montáže pracovníků v obou sledovaných směnách je stejná\n",
    "#H1: Rychlost montáže pracovníků v obou sledovaných směnách je různá"
   ]
  },
  {
   "cell_type": "code",
   "execution_count": 33,
   "id": "be276654",
   "metadata": {},
   "outputs": [
    {
     "data": {
      "text/plain": [
       "TtestResult(statistic=-1.1295989413722716, pvalue=0.2682298704518597, df=28.0)"
      ]
     },
     "execution_count": 33,
     "metadata": {},
     "output_type": "execute_result"
    }
   ],
   "source": [
    "data = [\n",
    "    [12.2, 12.4], # První pracovník směny 1 a první pracovník směny 2\n",
    "    [11.4, 11.5], # Druhý pracovník směny 1 a druhý pracovník směny 2\n",
    "    [11.7, 11.8], \n",
    "    [12.3, 12.2], \n",
    "    [11.6, 11.7], \n",
    "    [12.1, 12.3], \n",
    "    [11.9, 11.8], \n",
    "    [12.0, 12.1], \n",
    "    [11.8, 11.7], \n",
    "    [12.4, 12.5], \n",
    "    [11.9, 12.4], \n",
    "    [12.7, 11.4], \n",
    "    [10.3, 12.7], \n",
    "    [9.11, 11.3], \n",
    "    [12.5, 12.6]\n",
    "    ]\n",
    "\n",
    "data = pandas.DataFrame(data, columns=[\"sloupec_1\", \"sloupec_2\"])\n",
    "res = stats.ttest_ind(data[\"sloupec_1\"], data[\"sloupec_2\"])\n",
    "res"
   ]
  },
  {
   "cell_type": "code",
   "execution_count": 34,
   "id": "e369c120",
   "metadata": {},
   "outputs": [],
   "source": [
    "#testy na rozdělení\n",
    "#Pro párový test můžeme formulovat hypotézy:\n",
    "\n",
    "#H0: Rozdělení rychlosti montáže pracovníků po školení je stejná jako před školením\n",
    "#H1: Rozdělení rychlosti montáže pracovníků po školení je jiná než před školením"
   ]
  },
  {
   "cell_type": "code",
   "execution_count": 35,
   "id": "b28a4288",
   "metadata": {},
   "outputs": [
    {
     "data": {
      "text/plain": [
       "WilcoxonResult(statistic=32.5, pvalue=0.12054443359375)"
      ]
     },
     "execution_count": 35,
     "metadata": {},
     "output_type": "execute_result"
    }
   ],
   "source": [
    "scaled_data = [\n",
    "    [18.4, 11.7], # Pracovník 1\n",
    "    [11.8, 14.0], # Pracovník 2\n",
    "    [14.8, 8.7], # Pracovník 3\n",
    "    [13.2, 12.5], # Pracovník 4\n",
    "    [16.3, 12.3], # Pracovník 5\n",
    "    [9.6, 11.9], # Pracovník 6\n",
    "    [14.5, 8.4], # Pracovník 7\n",
    "    [13.0, 10.4], # Pracovník 8\n",
    "    [11.8, 15.7], # Pracovník 9\n",
    "    [11.4, 13.6], # Pracovník 10\n",
    "    [9.2, 9.8], # Pracovník 11\n",
    "    [13.2, 11.5], # Pracovník 12\n",
    "    [12.0, 9.9], # Pracovník 13\n",
    "    [11.7, 12.9], # Pracovník 14\n",
    "    [13.1, 11.2] # Pracovník 15\n",
    "]\n",
    "\n",
    "data = pandas.DataFrame(data, columns=[\"sloupec_1\", \"sloupec_2\"])\n",
    "res = stats.wilcoxon(data[\"sloupec_1\"], data[\"sloupec_2\"])\n",
    "res"
   ]
  },
  {
   "cell_type": "code",
   "execution_count": null,
   "id": "d616d4d1",
   "metadata": {},
   "outputs": [],
   "source": [
    "#Pro nepárová pozorování můžeme formulovat hypotézy:\n",
    "\n",
    "#H0: Rozdělení rychlosti montáže v obou sledovaných směnách jsou stejná\n",
    "#H1: Rozdělení rychlosti montáže v obou sledovaných směnách jsou různá\n"
   ]
  },
  {
   "cell_type": "code",
   "execution_count": 36,
   "id": "4f191e95",
   "metadata": {},
   "outputs": [
    {
     "data": {
      "text/plain": [
       "MannwhitneyuResult(statistic=99.0, pvalue=0.5889500869266057)"
      ]
     },
     "execution_count": 36,
     "metadata": {},
     "output_type": "execute_result"
    }
   ],
   "source": [
    "data = [\n",
    "    [12.2, 12.4], # První pracovník směny 1 a první pracovník směny 2\n",
    "    [11.4, 11.5], # Druhý pracovník směny 1 a druhý pracovník směny 2\n",
    "    [11.7, 11.8], \n",
    "    [12.3, 12.2], \n",
    "    [11.6, 11.7], \n",
    "    [12.1, 12.3], \n",
    "    [11.9, 11.8], \n",
    "    [12.0, 12.1], \n",
    "    [11.8, 11.7], \n",
    "    [12.4, 12.5], \n",
    "    [11.9, 12.4], \n",
    "    [12.7, 11.4], \n",
    "    [10.3, 12.7], \n",
    "    [9.11, 11.3], \n",
    "    [12.5, 12.6]\n",
    "    ]\n",
    "data = pandas.DataFrame(data, columns=[\"sloupec_1\", \"sloupec_2\"])\n",
    "res = stats.mannwhitneyu(data[\"sloupec_1\"], data[\"sloupec_2\"])\n",
    "res"
   ]
  },
  {
   "cell_type": "code",
   "execution_count": 37,
   "id": "9e8f1123",
   "metadata": {},
   "outputs": [],
   "source": [
    "#testy závislosti kategoriálních dat\n",
    "#Hypotézy mohou být například následující:\n",
    "\n",
    "#H0: Oblíbený předmět nezávisí na pohlaví\n",
    "#H1: Oblíbený předmět závisí na pohlaví"
   ]
  },
  {
   "cell_type": "code",
   "execution_count": 38,
   "id": "8d3a6de9",
   "metadata": {},
   "outputs": [
    {
     "data": {
      "text/plain": [
       "Chi2ContingencyResult(statistic=1.4818062200956932, pvalue=0.47668322366030635, dof=2, expected_freq=array([[9.95238095, 7.85714286, 4.19047619],\n",
       "       [9.04761905, 7.14285714, 3.80952381]]))"
      ]
     },
     "execution_count": 38,
     "metadata": {},
     "output_type": "execute_result"
    }
   ],
   "source": [
    "data = [    \n",
    "    ['female', 'coffee'],\n",
    "    ['female', 'juice'],\n",
    "    ['male', 'juice'],\n",
    "    ['female', 'tea'],\n",
    "    ['female', 'coffee'],\n",
    "    ['male', 'juice'],\n",
    "    ['female', 'coffee'],\n",
    "    ['male', 'coffee'],\n",
    "    ['male', 'tea'],\n",
    "    ['female', 'coffee'],\n",
    "    ['male', 'coffee'],\n",
    "    ['male', 'coffee'],\n",
    "    ['female', 'juice'],\n",
    "    ['female', 'tea'],\n",
    "    ['female', 'coffee'],\n",
    "    ['female', 'tea'],\n",
    "    ['female', 'juice'],\n",
    "    ['male', 'juice'],\n",
    "    ['male', 'tea'],\n",
    "    ['female', 'coffee'],\n",
    "    ['male', 'coffee'],\n",
    "    ['male', 'coffee'],\n",
    "    ['female', 'coffee'],\n",
    "    ['male', 'coffee'],\n",
    "    ['female', 'coffee'],\n",
    "    ['female', 'coffee'],\n",
    "    ['male', 'tea'],\n",
    "    ['male', 'juice'],\n",
    "    ['male', 'juice'],\n",
    "    ['female', 'coffee'],\n",
    "    ['female', 'juice'],\n",
    "    ['male', 'coffee'],\n",
    "    ['female', 'juice'],\n",
    "    ['male', 'juice'],\n",
    "    ['female', 'coffee'],\n",
    "    ['female', 'tea'],\n",
    "    ['male', 'juice'],\n",
    "    ['female', 'juice'],\n",
    "    ['female', 'tea'],\n",
    "    ['male', 'juice'],\n",
    "    ['male', 'coffee'],\n",
    "    ['male', 'juice']\n",
    "]\n",
    "data = pandas.DataFrame(data, columns=[\"sloupec_1\", \"sloupec_2\"])\n",
    "# Pro použití testu musíme vytvořit kontingenční tabulku\n",
    "data = pandas.pivot_table(data, \"sloupec_1\", \"sloupec_1\", \"sloupec_2\",aggfunc=len)\n",
    "res = stats.chi2_contingency(data)\n",
    "res"
   ]
  },
  {
   "cell_type": "code",
   "execution_count": 39,
   "id": "c574dd0a",
   "metadata": {},
   "outputs": [],
   "source": [
    "#Test statistické významnosti korelace¶\n",
    "#Uvažujme následující hypotézy:\n",
    "\n",
    "#H0: Cena domu a obytná plocha domu nejsou statisticky závislé\n",
    "#H1: Cena domu a obytná plocha domu jsou statisticky závislé"
   ]
  },
  {
   "cell_type": "code",
   "execution_count": 41,
   "id": "ad4a5e16",
   "metadata": {},
   "outputs": [
    {
     "data": {
      "text/plain": [
       "PearsonRResult(statistic=0.7205163006738732, pvalue=1.939850320501527e-233)"
      ]
     },
     "execution_count": 41,
     "metadata": {},
     "output_type": "execute_result"
    }
   ],
   "source": [
    "# Pearson \n",
    "# Takto zjistíme výsledek, i když na tato konkrétní data bychom test založení na Pearsonově koeficientu používat neměli, data nemají normální rozdělení.\n",
    "\n",
    "data = pandas.read_csv(\"house_prices.csv\")\n",
    "res = stats.pearsonr(data[\"SalePrice\"], data[\"GrLivArea\"])\n",
    "res"
   ]
  },
  {
   "cell_type": "code",
   "execution_count": 42,
   "id": "c31f566b",
   "metadata": {},
   "outputs": [
    {
     "data": {
      "text/plain": [
       "SignificanceResult(statistic=0.7312378789702222, pvalue=7.801875110918258e-244)"
      ]
     },
     "execution_count": 42,
     "metadata": {},
     "output_type": "execute_result"
    }
   ],
   "source": [
    "# Spearman\n",
    "data = pandas.read_csv(\"house_prices.csv\")\n",
    "res = stats.spearmanr(data[\"SalePrice\"], data[\"GrLivArea\"])\n",
    "res"
   ]
  },
  {
   "cell_type": "code",
   "execution_count": 43,
   "id": "28161342",
   "metadata": {},
   "outputs": [
    {
     "data": {
      "text/plain": [
       "SignificanceResult(statistic=0.543863812013887, pvalue=1.995410251143093e-211)"
      ]
     },
     "execution_count": 43,
     "metadata": {},
     "output_type": "execute_result"
    }
   ],
   "source": [
    "# Kendall tau\n",
    "data = pandas.read_csv(\"house_prices.csv\")\n",
    "res = stats.kendalltau(data[\"SalePrice\"], data[\"GrLivArea\"])\n",
    "res"
   ]
  },
  {
   "cell_type": "code",
   "execution_count": 44,
   "id": "cd940033",
   "metadata": {},
   "outputs": [],
   "source": [
    "# testy s třemi a více statistickými soubory \n",
    "# testy na průměr\n",
    "#Pro test můžeme formulovat hypotézy:\n",
    "\n",
    "#H0: Průměrný čas montáže je stejný u pracovníků všech tří směn\n",
    "#H1: Průměrný čas montáže různý alespoň dvě směny\n",
    "\n",
    "#Pokud mají všechny soubory normální rozdělení a stejný roptyl, můžeme použít ANOVA test. Pokud data nemají normální rozdělení, je možné využít neparametrický Kruskall-Wallis test"
   ]
  },
  {
   "cell_type": "code",
   "execution_count": 45,
   "id": "b32c1469",
   "metadata": {},
   "outputs": [],
   "source": [
    "# testy na rozptyl\n",
    "#Test na variabilitu umožňují porovnat variabilitu tří a více souborů. Lze je použít i k rozhodnutí, zda je vhodné použití testu ANOVA.\n",
    "\n",
    "#Pro test můžeme formulovat hypotézy:\n",
    "\n",
    "#H0: Rozptyl času montáže je stejný u pracovníků všech tří směn\n",
    "#H1: Rozptyl času montáže se liší alespoň pro dvě směny\n",
    "#Pokud mají všechny soubory normální rozdělení, můžeme použít Levenův test. Pokud data nemají normální rozdělení, je možné použít Bartlettův test."
   ]
  },
  {
   "cell_type": "code",
   "execution_count": null,
   "id": "78958f70",
   "metadata": {},
   "outputs": [],
   "source": []
  },
  {
   "cell_type": "code",
   "execution_count": 1,
   "id": "018dd87e",
   "metadata": {},
   "outputs": [],
   "source": [
    "# kvíz"
   ]
  },
  {
   "cell_type": "code",
   "execution_count": 5,
   "id": "d4758eea",
   "metadata": {},
   "outputs": [
    {
     "data": {
      "text/html": [
       "<div>\n",
       "<style scoped>\n",
       "    .dataframe tbody tr th:only-of-type {\n",
       "        vertical-align: middle;\n",
       "    }\n",
       "\n",
       "    .dataframe tbody tr th {\n",
       "        vertical-align: top;\n",
       "    }\n",
       "\n",
       "    .dataframe thead th {\n",
       "        text-align: right;\n",
       "    }\n",
       "</style>\n",
       "<table border=\"1\" class=\"dataframe\">\n",
       "  <thead>\n",
       "    <tr style=\"text-align: right;\">\n",
       "      <th></th>\n",
       "      <th>sloupec_1</th>\n",
       "    </tr>\n",
       "  </thead>\n",
       "  <tbody>\n",
       "    <tr>\n",
       "      <th>0</th>\n",
       "      <td>4</td>\n",
       "    </tr>\n",
       "    <tr>\n",
       "      <th>1</th>\n",
       "      <td>15</td>\n",
       "    </tr>\n",
       "    <tr>\n",
       "      <th>2</th>\n",
       "      <td>7</td>\n",
       "    </tr>\n",
       "    <tr>\n",
       "      <th>3</th>\n",
       "      <td>12</td>\n",
       "    </tr>\n",
       "    <tr>\n",
       "      <th>4</th>\n",
       "      <td>3</td>\n",
       "    </tr>\n",
       "    <tr>\n",
       "      <th>5</th>\n",
       "      <td>8</td>\n",
       "    </tr>\n",
       "    <tr>\n",
       "      <th>6</th>\n",
       "      <td>19</td>\n",
       "    </tr>\n",
       "    <tr>\n",
       "      <th>7</th>\n",
       "      <td>10</td>\n",
       "    </tr>\n",
       "  </tbody>\n",
       "</table>\n",
       "</div>"
      ],
      "text/plain": [
       "   sloupec_1\n",
       "0          4\n",
       "1         15\n",
       "2          7\n",
       "3         12\n",
       "4          3\n",
       "5          8\n",
       "6         19\n",
       "7         10"
      ]
     },
     "execution_count": 5,
     "metadata": {},
     "output_type": "execute_result"
    }
   ],
   "source": [
    "data = [4, 15, 7, 12, 3, 8, 19, 10]\n",
    "data = pd.DataFrame(data, columns=[\"sloupec_1\"])\n",
    "data"
   ]
  },
  {
   "cell_type": "code",
   "execution_count": 6,
   "id": "40f22a49",
   "metadata": {},
   "outputs": [
    {
     "data": {
      "text/plain": [
       "7.1"
      ]
     },
     "execution_count": 6,
     "metadata": {},
     "output_type": "execute_result"
    }
   ],
   "source": [
    "np.quantile(data[\"sloupec_1\"], 0.3)"
   ]
  },
  {
   "cell_type": "code",
   "execution_count": 7,
   "id": "ef1943c5",
   "metadata": {},
   "outputs": [
    {
     "data": {
      "text/plain": [
       "array([13.])"
      ]
     },
     "execution_count": 7,
     "metadata": {},
     "output_type": "execute_result"
    }
   ],
   "source": [
    "np.quantile(a=[12, 13, 14] ,q=[0.50])"
   ]
  },
  {
   "cell_type": "code",
   "execution_count": 28,
   "id": "99502518",
   "metadata": {},
   "outputs": [
    {
     "name": "stdout",
     "output_type": "stream",
     "text": [
      "13.0\n",
      "13.0\n"
     ]
    }
   ],
   "source": [
    "#data_yes = data[data[\"Outcome\"] == \"yes\"]\n",
    "\n",
    "data = pd.DataFrame({\"body\": [12, 13, 14]})\n",
    "#data = a[a[\"BloodPressure\"] == a]\n",
    "data\n",
    "print(data[\"body\"].median())\n",
    "print(data[\"body\"].mean())"
   ]
  },
  {
   "cell_type": "code",
   "execution_count": null,
   "id": "36156ef0",
   "metadata": {},
   "outputs": [],
   "source": []
  }
 ],
 "metadata": {
  "kernelspec": {
   "display_name": "Python 3 (ipykernel)",
   "language": "python",
   "name": "python3"
  },
  "language_info": {
   "codemirror_mode": {
    "name": "ipython",
    "version": 3
   },
   "file_extension": ".py",
   "mimetype": "text/x-python",
   "name": "python",
   "nbconvert_exporter": "python",
   "pygments_lexer": "ipython3",
   "version": "3.10.6"
  }
 },
 "nbformat": 4,
 "nbformat_minor": 5
}
