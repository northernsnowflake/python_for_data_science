{
 "cells": [
  {
   "cell_type": "code",
   "execution_count": 2,
   "id": "60b8fd10",
   "metadata": {},
   "outputs": [],
   "source": [
    "import pandas as pd\n",
    "import numpy as np\n",
    "import matplotlib.pyplot as plt\n",
    "from scipy import stats\n",
    "from statsmodels.stats.proportion import proportion_effectsize\n",
    "from statsmodels.stats.power import NormalIndPower, TTestIndPower\n",
    "import pandas as pd\n",
    "import seaborn as sns\n",
    "\n"
   ]
  },
  {
   "cell_type": "code",
   "execution_count": 44,
   "id": "5e332388",
   "metadata": {},
   "outputs": [
    {
     "name": "stdout",
     "output_type": "stream",
     "text": [
      "Potřebná velikost vzorku pro každou skupinu: 57755\n",
      "Celková potřebná velikost vzorku:115511\n"
     ]
    }
   ],
   "source": [
    "# Definujte parametry testu\n",
    "baseline_conversion_rate = 0.10 # Současná hodnota konverzního poměru (10%) podíl lidí, kteří přišli do nákupního košíku, ale dokončili nákup je 10%\n",
    "desired_conversion_rate = 0.105 # Očekávaná hodnota po změně (10.5%) # chci, aby to bylo 10,5%\n",
    "alpha = 0.05  # Hladina významnosti (5%)\n",
    "power = 0.80  # Síla testu (80%)\n",
    "\n",
    "# Výpořet velikost efektu (effekt size)\n",
    "effect_size = proportion_effectsize(\n",
    "    baseline_conversion_rate, desired_conversion_rate)\n",
    "\n",
    "# Výpočet velikosti vzorku\n",
    "# Když plánujete použít nepárový t-test a vaše data možná nejsou zcela normálně distribuovaná nebo máte relativně malý vzorek, je vhodné použít TTestIndPower.\n",
    "# Naproti tomu NormalIndPower je vhodnější pro případy, kdy můžete předpokládat normálnost distribuce díky velkosti vzorku nebo když pracujete s parametry, které už jsou známy z minulých měření nebo literatury.\n",
    "sample_size_per_group = NormalIndPower().solve_power(\n",
    "    effect_size, power=power, alpha=alpha\n",
    ")\n",
    "\n",
    "# Celkový počet vzorků (A + B)\n",
    "total_sample_size = int(sample_size_per_group * 2)\n",
    "\n",
    "print(f\"Potřebná velikost vzorku pro každou skupinu: {int(sample_size_per_group)}\")\n",
    "\n",
    "print(f\"Celková potřebná velikost vzorku:{total_sample_size}\")"
   ]
  },
  {
   "cell_type": "code",
   "execution_count": 14,
   "id": "2b6e1ba4",
   "metadata": {},
   "outputs": [
    {
     "name": "stdout",
     "output_type": "stream",
     "text": [
      "Jednovýběrový t-test: t-stat = -0.28, p-value = 0.77809\n",
      "Dvojvýběrový t-test (nepárový): t-stat = -4.76, p-value = 0.00001\n",
      "Párový t-test: t-stat = 5.43, p-value = 0.00559\n"
     ]
    }
   ],
   "source": [
    "# Nastavení pro reprodukovatelnost\n",
    "np.random.seed(0)\n",
    "#Jednovýběrový t-test\n",
    "#sample_data = np.random.normal(loc=5.0, scale = 1.0, size =30)\n",
    "\n",
    "\n",
    "# Jednovýběrový t-test\n",
    "sample_data = np.random.normal(loc=5.0, scale=1.0, size=30)\n",
    "population_mean = 5.5\n",
    "t_stat_one_sample, p_value_one_sample = stats.ttest_1samp(\n",
    "    sample_data, population_mean)\n",
    "print(f\"Jednovýběrový t-test: t-stat = {t_stat_one_sample:.2f}, p-value = {p_value_one_sample:.5f}\")\n",
    "#t-stat - je-li větší než 2 nebo menší než 2\n",
    "# - podívá se, jaký je rozptyl v A a rozptyl B a pak ty průměry \n",
    "\n",
    "\n",
    "# Dvojvýběrový t-test (nepárový)\n",
    "group_A = np.random.normal(loc=5.0, scale=1.0, size=30)\n",
    "group_B = np.random.normal(loc=6.0, scale=1.0, size=30)\n",
    "t_stat_ind, p_value_ind = stats.ttest_ind(group_A, group_B)\n",
    "print(f\"Dvojvýběrový t-test (nepárový): t-stat = {t_stat_ind:.2f}, p-value = {p_value_ind:.5f}\")\n",
    "\n",
    "# Párový t-test\n",
    "before_treatment = np.array([200, 195, 198, 205, 202]) # seznam těch vzorků před léčbou\n",
    "after_treatment = np.array([180, 190, 185, 188, 183]) # po léčbě\n",
    "t_stat_paired, p_value_paired = stats.ttest_rel( #t-test rel\n",
    "    before_treatment, after_treatment)\n",
    "print(f\"Párový t-test: t-stat = {t_stat_paired:.2f}, p-value = {p_value_paired:.5f}\")"
   ]
  },
  {
   "cell_type": "markdown",
   "id": "f1c2b596",
   "metadata": {},
   "source": [
    "## Případová studie: Analýza vlivu diety na hladiny cholesterolu\n",
    "\n",
    "Zdravotní výzkumníci chtějí zjistit, zda speciální dieta má významný vliv na hladiny cholesterolu u pacientů. Studie byla provedena na dvou skupinách pacientů:\n",
    "\n",
    "1.\tExperimentální skupina: Pacienti, kteří dodržovali speciální dietu.\n",
    "2.\tKontrolní skupina: Pacienti, kteří nedodržovali žádnou dietu.\n",
    "\n",
    "**Přínos studie**\n",
    "Studie pomůže zjistit, zda speciální dieta může účinně snížit hladiny cholesterolu, což by mohlo vést k novým doporučením pro pacienty s vysokým cholesterolem a snížit riziko srdečních chorob.\n",
    "\n",
    "**Data:**\n",
    "- before_diet: Hladiny cholesterolu pacientů před začátkem diety.\n",
    "- after_diet: Hladiny cholesterolu pacientů po skončení diety.\n",
    "- control: Hladiny cholesterolu pacientů v kontrolní skupině, kteří nedodržovali žádnou dietu.\n",
    "\n",
    "**Formulace hypotézy**\n",
    "\n",
    "1.\tJednovýběrový t-test:\n",
    "    - Nulová hypotéza (H₀): Průměrná hladina cholesterolu v kontrolní skupině je stejná jako populační průměr (190 mg/dl).\n",
    "    - Alternativní hypotéza (H₁): Průměrná hladina cholesterolu v kontrolní skupině se liší od populačního průměru.\n",
    "1.\tDvojvýběrový t-test (nepárový):\n",
    "    - Nulová hypotéza (H₀): Průměrná hladina cholesterolu v experimentální skupině po dietě je stejná jako v kontrolní skupině.\n",
    "    - Alternativní hypotéza (H₁): Průměrná hladina cholesterolu v experimentální skupině po dietě je nižší než v kontrolní skupině.\n",
    "1.\tPárový t-test:\n",
    "    - Nulová hypotéza (H₀): Průměrná hladina cholesterolu před a po dietě je stejná.\n",
    "    - Alternativní hypotéza (H₁): Průměrná hladina cholesterolu po dietě je nižší než před dietou.\n",
    "\n",
    "\n",
    "\n",
    "**Délka testu**\n",
    "\n",
    "Délka testu je stanovena na 3 měsíce, aby se zajistilo, že dieta má dostatek času na ovlivnění hladin cholesterolu.\n",
    "\n",
    "**Způsob randomizace**\n",
    "\n",
    "Pacienti byli náhodně rozděleni do experimentální a kontrolní skupiny pomocí jednoduché náhodné randomizace. Každý pacient měl stejnou pravděpodobnost být přiřazen do kterékoliv skupiny.\n",
    "\n",
    "**Výpočet velikosti vzorku a MDE (Minimální detekovatelný efekt)**\n",
    "\n",
    "Pro výpočet velikosti vzorku a MDE použijeme následující parametry:\n",
    "\n",
    "- Power (síla testu): 0.8 (80%)\n",
    "- Alfa (hladina významnosti): 0.05\n",
    "- Standardní odchylka (σ): 30 (předpokládaná odchylka hladin cholesterolu)\n",
    "\n",
    "Budeme předpokládat minimální detekovatelný efekt (MDE) ve výši 20 mg/dl.\n",
    "\n"
   ]
  },
  {
   "cell_type": "code",
   "execution_count": 15,
   "id": "4d1f6c6a",
   "metadata": {},
   "outputs": [
    {
     "name": "stdout",
     "output_type": "stream",
     "text": [
      "Velikost vzorku na skupinu: 37\n"
     ]
    }
   ],
   "source": [
    "# Kód pro výpočet velikosti vzorku\n",
    "\n",
    "# Parametry pro výpočet velikosti vzorku\n",
    "effect_size = 20 / 30  # MDE / σ\n",
    "alpha = 0.05\n",
    "power = 0.8\n",
    "\n",
    "# Výpočet velikosti vzorku\n",
    "analysis = TTestIndPower()\n",
    "sample_size = analysis.solve_power(\n",
    "    effect_size=effect_size, alpha=alpha, power=power, alternative=\"two-sided\"\n",
    ")\n",
    "print(f\"Velikost vzorku na skupinu: {int(np.ceil(sample_size))}\")"
   ]
  },
  {
   "cell_type": "code",
   "execution_count": 16,
   "id": "71042024",
   "metadata": {},
   "outputs": [],
   "source": [
    "# Generování náhodných dat pro případovou studii\n",
    "np.random.seed(0)\n",
    "before_diet = np.random.normal(loc=200, scale=30, size=30)\n",
    "after_diet = before_diet - np.random.normal(\n",
    "    loc=20, scale=10, size=30\n",
    ")  # Předpokládáme pokles po dietě\n",
    "control = np.random.normal(loc=200, scale=30, size=30)"
   ]
  },
  {
   "cell_type": "code",
   "execution_count": 18,
   "id": "5b2c7509",
   "metadata": {},
   "outputs": [
    {
     "name": "stdout",
     "output_type": "stream",
     "text": [
      "Párový t-test: t-stat = 10.25, p-value = 0.00000\n",
      "Dvojvýběrový t-test (nepárový): t-stat = 0.02, p-value = 0.98189\n",
      "Jednovýběrový t-test: t-stat = 1.13, p-value = 0.26653\n"
     ]
    }
   ],
   "source": [
    "# 1. Párový t-test: Porovnání před a po dietě\n",
    "t_stat_paired, p_value_paired = stats.ttest_rel(before_diet, after_diet)\n",
    "print(f\"Párový t-test: t-stat = {t_stat_paired:.2f}, p-value = {p_value_paired:.5f}\")\n",
    "\n",
    "# 2. Dvojvýběrový t-test (nepárový): Porovnání experimentální a kontrolní skupiny po dietě\n",
    "t_stat_ind, p_value_ind = stats.ttest_ind(after_diet, control)\n",
    "print(f\"Dvojvýběrový t-test (nepárový): t-stat = {t_stat_ind:.2f}, p-value = {p_value_ind:.5f}\")\n",
    "\n",
    "# 3. Jednovýběrový t-test: Porovnání kontrolní skupiny s populačním průměrem (např. 190)\n",
    "population_mean = 190\n",
    "t_stat_one_sample, p_value_one_sample = stats.ttest_1samp(\n",
    "    control, population_mean)\n",
    "print(f\"Jednovýběrový t-test: t-stat = {t_stat_one_sample:.2f}, p-value = {p_value_one_sample:.5f}\")"
   ]
  },
  {
   "cell_type": "code",
   "execution_count": 19,
   "id": "3625e04c",
   "metadata": {},
   "outputs": [],
   "source": [
    "# cvičení "
   ]
  },
  {
   "cell_type": "code",
   "execution_count": 21,
   "id": "573d104a",
   "metadata": {},
   "outputs": [
    {
     "data": {
      "text/html": [
       "<div>\n",
       "<style scoped>\n",
       "    .dataframe tbody tr th:only-of-type {\n",
       "        vertical-align: middle;\n",
       "    }\n",
       "\n",
       "    .dataframe tbody tr th {\n",
       "        vertical-align: top;\n",
       "    }\n",
       "\n",
       "    .dataframe thead th {\n",
       "        text-align: right;\n",
       "    }\n",
       "</style>\n",
       "<table border=\"1\" class=\"dataframe\">\n",
       "  <thead>\n",
       "    <tr style=\"text-align: right;\">\n",
       "      <th></th>\n",
       "      <th>userid</th>\n",
       "      <th>version</th>\n",
       "      <th>sum_gamerounds</th>\n",
       "      <th>retention_1</th>\n",
       "      <th>retention_7</th>\n",
       "    </tr>\n",
       "  </thead>\n",
       "  <tbody>\n",
       "    <tr>\n",
       "      <th>0</th>\n",
       "      <td>116</td>\n",
       "      <td>gate_30</td>\n",
       "      <td>3</td>\n",
       "      <td>False</td>\n",
       "      <td>False</td>\n",
       "    </tr>\n",
       "    <tr>\n",
       "      <th>1</th>\n",
       "      <td>337</td>\n",
       "      <td>gate_30</td>\n",
       "      <td>38</td>\n",
       "      <td>True</td>\n",
       "      <td>False</td>\n",
       "    </tr>\n",
       "    <tr>\n",
       "      <th>2</th>\n",
       "      <td>377</td>\n",
       "      <td>gate_40</td>\n",
       "      <td>165</td>\n",
       "      <td>True</td>\n",
       "      <td>False</td>\n",
       "    </tr>\n",
       "    <tr>\n",
       "      <th>3</th>\n",
       "      <td>483</td>\n",
       "      <td>gate_40</td>\n",
       "      <td>1</td>\n",
       "      <td>False</td>\n",
       "      <td>False</td>\n",
       "    </tr>\n",
       "    <tr>\n",
       "      <th>4</th>\n",
       "      <td>488</td>\n",
       "      <td>gate_40</td>\n",
       "      <td>179</td>\n",
       "      <td>True</td>\n",
       "      <td>True</td>\n",
       "    </tr>\n",
       "  </tbody>\n",
       "</table>\n",
       "</div>"
      ],
      "text/plain": [
       "   userid  version  sum_gamerounds  retention_1  retention_7\n",
       "0     116  gate_30               3        False        False\n",
       "1     337  gate_30              38         True        False\n",
       "2     377  gate_40             165         True        False\n",
       "3     483  gate_40               1        False        False\n",
       "4     488  gate_40             179         True         True"
      ]
     },
     "execution_count": 21,
     "metadata": {},
     "output_type": "execute_result"
    }
   ],
   "source": [
    "# Příprava dat\n",
    "data = pd.read_csv(\"cookie_cats.csv\")\n",
    "data.head()"
   ]
  },
  {
   "cell_type": "code",
   "execution_count": 22,
   "id": "b2edece2",
   "metadata": {},
   "outputs": [
    {
     "name": "stdout",
     "output_type": "stream",
     "text": [
      "<class 'pandas.core.frame.DataFrame'>\n",
      "RangeIndex: 90189 entries, 0 to 90188\n",
      "Data columns (total 5 columns):\n",
      " #   Column          Non-Null Count  Dtype \n",
      "---  ------          --------------  ----- \n",
      " 0   userid          90189 non-null  int64 \n",
      " 1   version         90189 non-null  object\n",
      " 2   sum_gamerounds  90189 non-null  int64 \n",
      " 3   retention_1     90189 non-null  bool  \n",
      " 4   retention_7     90189 non-null  bool  \n",
      "dtypes: bool(2), int64(2), object(1)\n",
      "memory usage: 2.2+ MB\n"
     ]
    }
   ],
   "source": [
    "data.info()"
   ]
  },
  {
   "cell_type": "code",
   "execution_count": 23,
   "id": "d8132395",
   "metadata": {},
   "outputs": [
    {
     "data": {
      "text/html": [
       "<div>\n",
       "<style scoped>\n",
       "    .dataframe tbody tr th:only-of-type {\n",
       "        vertical-align: middle;\n",
       "    }\n",
       "\n",
       "    .dataframe tbody tr th {\n",
       "        vertical-align: top;\n",
       "    }\n",
       "\n",
       "    .dataframe thead th {\n",
       "        text-align: right;\n",
       "    }\n",
       "</style>\n",
       "<table border=\"1\" class=\"dataframe\">\n",
       "  <thead>\n",
       "    <tr style=\"text-align: right;\">\n",
       "      <th></th>\n",
       "      <th>userid</th>\n",
       "      <th>sum_gamerounds</th>\n",
       "    </tr>\n",
       "  </thead>\n",
       "  <tbody>\n",
       "    <tr>\n",
       "      <th>count</th>\n",
       "      <td>9.018900e+04</td>\n",
       "      <td>90189.000000</td>\n",
       "    </tr>\n",
       "    <tr>\n",
       "      <th>mean</th>\n",
       "      <td>4.998412e+06</td>\n",
       "      <td>51.872457</td>\n",
       "    </tr>\n",
       "    <tr>\n",
       "      <th>std</th>\n",
       "      <td>2.883286e+06</td>\n",
       "      <td>195.050858</td>\n",
       "    </tr>\n",
       "    <tr>\n",
       "      <th>min</th>\n",
       "      <td>1.160000e+02</td>\n",
       "      <td>0.000000</td>\n",
       "    </tr>\n",
       "    <tr>\n",
       "      <th>25%</th>\n",
       "      <td>2.512230e+06</td>\n",
       "      <td>5.000000</td>\n",
       "    </tr>\n",
       "    <tr>\n",
       "      <th>50%</th>\n",
       "      <td>4.995815e+06</td>\n",
       "      <td>16.000000</td>\n",
       "    </tr>\n",
       "    <tr>\n",
       "      <th>75%</th>\n",
       "      <td>7.496452e+06</td>\n",
       "      <td>51.000000</td>\n",
       "    </tr>\n",
       "    <tr>\n",
       "      <th>max</th>\n",
       "      <td>9.999861e+06</td>\n",
       "      <td>49854.000000</td>\n",
       "    </tr>\n",
       "  </tbody>\n",
       "</table>\n",
       "</div>"
      ],
      "text/plain": [
       "             userid  sum_gamerounds\n",
       "count  9.018900e+04    90189.000000\n",
       "mean   4.998412e+06       51.872457\n",
       "std    2.883286e+06      195.050858\n",
       "min    1.160000e+02        0.000000\n",
       "25%    2.512230e+06        5.000000\n",
       "50%    4.995815e+06       16.000000\n",
       "75%    7.496452e+06       51.000000\n",
       "max    9.999861e+06    49854.000000"
      ]
     },
     "execution_count": 23,
     "metadata": {},
     "output_type": "execute_result"
    }
   ],
   "source": [
    "data.describe()"
   ]
  },
  {
   "cell_type": "code",
   "execution_count": 24,
   "id": "7c65761c",
   "metadata": {},
   "outputs": [
    {
     "data": {
      "text/plain": [
       "userid            0\n",
       "version           0\n",
       "sum_gamerounds    0\n",
       "retention_1       0\n",
       "retention_7       0\n",
       "dtype: int64"
      ]
     },
     "execution_count": 24,
     "metadata": {},
     "output_type": "execute_result"
    }
   ],
   "source": [
    "data.isnull().sum() #zjištění, kolik je tam nenulových hodnot"
   ]
  },
  {
   "cell_type": "code",
   "execution_count": 25,
   "id": "0a0e7a3a",
   "metadata": {},
   "outputs": [
    {
     "data": {
      "text/plain": [
       "0"
      ]
     },
     "execution_count": 25,
     "metadata": {},
     "output_type": "execute_result"
    }
   ],
   "source": [
    "data.duplicated().sum() #klik kdy"
   ]
  },
  {
   "cell_type": "code",
   "execution_count": 26,
   "id": "89c955fa",
   "metadata": {},
   "outputs": [
    {
     "data": {
      "text/html": [
       "<div>\n",
       "<style scoped>\n",
       "    .dataframe tbody tr th:only-of-type {\n",
       "        vertical-align: middle;\n",
       "    }\n",
       "\n",
       "    .dataframe tbody tr th {\n",
       "        vertical-align: top;\n",
       "    }\n",
       "\n",
       "    .dataframe thead th {\n",
       "        text-align: right;\n",
       "    }\n",
       "</style>\n",
       "<table border=\"1\" class=\"dataframe\">\n",
       "  <thead>\n",
       "    <tr style=\"text-align: right;\">\n",
       "      <th></th>\n",
       "      <th>userid</th>\n",
       "      <th>version</th>\n",
       "      <th>sum_gamerounds</th>\n",
       "      <th>retention_1</th>\n",
       "      <th>retention_7</th>\n",
       "    </tr>\n",
       "  </thead>\n",
       "  <tbody>\n",
       "    <tr>\n",
       "      <th>0</th>\n",
       "      <td>116</td>\n",
       "      <td>gate_30</td>\n",
       "      <td>3</td>\n",
       "      <td>False</td>\n",
       "      <td>False</td>\n",
       "    </tr>\n",
       "    <tr>\n",
       "      <th>1</th>\n",
       "      <td>337</td>\n",
       "      <td>gate_30</td>\n",
       "      <td>38</td>\n",
       "      <td>True</td>\n",
       "      <td>False</td>\n",
       "    </tr>\n",
       "    <tr>\n",
       "      <th>2</th>\n",
       "      <td>377</td>\n",
       "      <td>gate_40</td>\n",
       "      <td>165</td>\n",
       "      <td>True</td>\n",
       "      <td>False</td>\n",
       "    </tr>\n",
       "    <tr>\n",
       "      <th>3</th>\n",
       "      <td>483</td>\n",
       "      <td>gate_40</td>\n",
       "      <td>1</td>\n",
       "      <td>False</td>\n",
       "      <td>False</td>\n",
       "    </tr>\n",
       "    <tr>\n",
       "      <th>4</th>\n",
       "      <td>488</td>\n",
       "      <td>gate_40</td>\n",
       "      <td>179</td>\n",
       "      <td>True</td>\n",
       "      <td>True</td>\n",
       "    </tr>\n",
       "    <tr>\n",
       "      <th>...</th>\n",
       "      <td>...</td>\n",
       "      <td>...</td>\n",
       "      <td>...</td>\n",
       "      <td>...</td>\n",
       "      <td>...</td>\n",
       "    </tr>\n",
       "    <tr>\n",
       "      <th>90184</th>\n",
       "      <td>9999441</td>\n",
       "      <td>gate_40</td>\n",
       "      <td>97</td>\n",
       "      <td>True</td>\n",
       "      <td>False</td>\n",
       "    </tr>\n",
       "    <tr>\n",
       "      <th>90185</th>\n",
       "      <td>9999479</td>\n",
       "      <td>gate_40</td>\n",
       "      <td>30</td>\n",
       "      <td>False</td>\n",
       "      <td>False</td>\n",
       "    </tr>\n",
       "    <tr>\n",
       "      <th>90186</th>\n",
       "      <td>9999710</td>\n",
       "      <td>gate_30</td>\n",
       "      <td>28</td>\n",
       "      <td>True</td>\n",
       "      <td>False</td>\n",
       "    </tr>\n",
       "    <tr>\n",
       "      <th>90187</th>\n",
       "      <td>9999768</td>\n",
       "      <td>gate_40</td>\n",
       "      <td>51</td>\n",
       "      <td>True</td>\n",
       "      <td>False</td>\n",
       "    </tr>\n",
       "    <tr>\n",
       "      <th>90188</th>\n",
       "      <td>9999861</td>\n",
       "      <td>gate_40</td>\n",
       "      <td>16</td>\n",
       "      <td>False</td>\n",
       "      <td>False</td>\n",
       "    </tr>\n",
       "  </tbody>\n",
       "</table>\n",
       "<p>90189 rows × 5 columns</p>\n",
       "</div>"
      ],
      "text/plain": [
       "        userid  version  sum_gamerounds  retention_1  retention_7\n",
       "0          116  gate_30               3        False        False\n",
       "1          337  gate_30              38         True        False\n",
       "2          377  gate_40             165         True        False\n",
       "3          483  gate_40               1        False        False\n",
       "4          488  gate_40             179         True         True\n",
       "...        ...      ...             ...          ...          ...\n",
       "90184  9999441  gate_40              97         True        False\n",
       "90185  9999479  gate_40              30        False        False\n",
       "90186  9999710  gate_30              28         True        False\n",
       "90187  9999768  gate_40              51         True        False\n",
       "90188  9999861  gate_40              16        False        False\n",
       "\n",
       "[90189 rows x 5 columns]"
      ]
     },
     "execution_count": 26,
     "metadata": {},
     "output_type": "execute_result"
    }
   ],
   "source": [
    "data.dropna()  # tím bychom smazalo\n",
    "data.drop_duplicates() # tím by se smazaly duplicitní hodnoty"
   ]
  },
  {
   "cell_type": "code",
   "execution_count": 32,
   "id": "7baba2aa",
   "metadata": {},
   "outputs": [
    {
     "data": {
      "text/plain": [
       "count       90189\n",
       "unique          2\n",
       "top       gate_40\n",
       "freq        45489\n",
       "Name: version, dtype: object"
      ]
     },
     "execution_count": 32,
     "metadata": {},
     "output_type": "execute_result"
    }
   ],
   "source": [
    "# Rozdělení dat\n",
    "data[\"version\"].describe()"
   ]
  },
  {
   "cell_type": "code",
   "execution_count": 35,
   "id": "b24d9896",
   "metadata": {},
   "outputs": [
    {
     "data": {
      "text/html": [
       "<div>\n",
       "<style scoped>\n",
       "    .dataframe tbody tr th:only-of-type {\n",
       "        vertical-align: middle;\n",
       "    }\n",
       "\n",
       "    .dataframe tbody tr th {\n",
       "        vertical-align: top;\n",
       "    }\n",
       "\n",
       "    .dataframe thead th {\n",
       "        text-align: right;\n",
       "    }\n",
       "</style>\n",
       "<table border=\"1\" class=\"dataframe\">\n",
       "  <thead>\n",
       "    <tr style=\"text-align: right;\">\n",
       "      <th></th>\n",
       "      <th>userid</th>\n",
       "      <th>version</th>\n",
       "      <th>sum_gamerounds</th>\n",
       "      <th>retention_1</th>\n",
       "      <th>retention_7</th>\n",
       "    </tr>\n",
       "  </thead>\n",
       "  <tbody>\n",
       "    <tr>\n",
       "      <th>2</th>\n",
       "      <td>377</td>\n",
       "      <td>gate_40</td>\n",
       "      <td>165</td>\n",
       "      <td>True</td>\n",
       "      <td>False</td>\n",
       "    </tr>\n",
       "    <tr>\n",
       "      <th>3</th>\n",
       "      <td>483</td>\n",
       "      <td>gate_40</td>\n",
       "      <td>1</td>\n",
       "      <td>False</td>\n",
       "      <td>False</td>\n",
       "    </tr>\n",
       "    <tr>\n",
       "      <th>4</th>\n",
       "      <td>488</td>\n",
       "      <td>gate_40</td>\n",
       "      <td>179</td>\n",
       "      <td>True</td>\n",
       "      <td>True</td>\n",
       "    </tr>\n",
       "    <tr>\n",
       "      <th>5</th>\n",
       "      <td>540</td>\n",
       "      <td>gate_40</td>\n",
       "      <td>187</td>\n",
       "      <td>True</td>\n",
       "      <td>True</td>\n",
       "    </tr>\n",
       "    <tr>\n",
       "      <th>7</th>\n",
       "      <td>1444</td>\n",
       "      <td>gate_40</td>\n",
       "      <td>2</td>\n",
       "      <td>False</td>\n",
       "      <td>False</td>\n",
       "    </tr>\n",
       "    <tr>\n",
       "      <th>...</th>\n",
       "      <td>...</td>\n",
       "      <td>...</td>\n",
       "      <td>...</td>\n",
       "      <td>...</td>\n",
       "      <td>...</td>\n",
       "    </tr>\n",
       "    <tr>\n",
       "      <th>90181</th>\n",
       "      <td>9998733</td>\n",
       "      <td>gate_40</td>\n",
       "      <td>10</td>\n",
       "      <td>True</td>\n",
       "      <td>False</td>\n",
       "    </tr>\n",
       "    <tr>\n",
       "      <th>90184</th>\n",
       "      <td>9999441</td>\n",
       "      <td>gate_40</td>\n",
       "      <td>97</td>\n",
       "      <td>True</td>\n",
       "      <td>False</td>\n",
       "    </tr>\n",
       "    <tr>\n",
       "      <th>90185</th>\n",
       "      <td>9999479</td>\n",
       "      <td>gate_40</td>\n",
       "      <td>30</td>\n",
       "      <td>False</td>\n",
       "      <td>False</td>\n",
       "    </tr>\n",
       "    <tr>\n",
       "      <th>90187</th>\n",
       "      <td>9999768</td>\n",
       "      <td>gate_40</td>\n",
       "      <td>51</td>\n",
       "      <td>True</td>\n",
       "      <td>False</td>\n",
       "    </tr>\n",
       "    <tr>\n",
       "      <th>90188</th>\n",
       "      <td>9999861</td>\n",
       "      <td>gate_40</td>\n",
       "      <td>16</td>\n",
       "      <td>False</td>\n",
       "      <td>False</td>\n",
       "    </tr>\n",
       "  </tbody>\n",
       "</table>\n",
       "<p>45489 rows × 5 columns</p>\n",
       "</div>"
      ],
      "text/plain": [
       "        userid  version  sum_gamerounds  retention_1  retention_7\n",
       "2          377  gate_40             165         True        False\n",
       "3          483  gate_40               1        False        False\n",
       "4          488  gate_40             179         True         True\n",
       "5          540  gate_40             187         True         True\n",
       "7         1444  gate_40               2        False        False\n",
       "...        ...      ...             ...          ...          ...\n",
       "90181  9998733  gate_40              10         True        False\n",
       "90184  9999441  gate_40              97         True        False\n",
       "90185  9999479  gate_40              30        False        False\n",
       "90187  9999768  gate_40              51         True        False\n",
       "90188  9999861  gate_40              16        False        False\n",
       "\n",
       "[45489 rows x 5 columns]"
      ]
     },
     "execution_count": 35,
     "metadata": {},
     "output_type": "execute_result"
    }
   ],
   "source": [
    "group_30 = data[data[\"version\"]==\"gate_30\"]\n",
    "group_40 = data[data[\"version\"]==\"gate_40\"]\n",
    "group_40"
   ]
  },
  {
   "cell_type": "code",
   "execution_count": 43,
   "id": "d6eeca8f",
   "metadata": {},
   "outputs": [
    {
     "name": "stdout",
     "output_type": "stream",
     "text": [
      "0.19020134228187918\n",
      "0.18200004396667327\n",
      "3.1644994996802778\n",
      "0.0015540151201088365\n"
     ]
    }
   ],
   "source": [
    "# Statistická analýza\n",
    "#H0 - není rozdíl mezi A a B\n",
    "#H1 - Je rozdíl v míře retence mezi skupinou A a B\n",
    "#Výpočet míry retence: Pro každou skupinu vypočítejte míru retence jako poměr počtu hráčů, kteří zůstali ve hře, ku celkovému počtu hráčů ve skupině.\n",
    "#Provedení A/B testu: Použijte z-test nebo t-test k porovnání míry retence mezi oběma skupinami.\n",
    "\n",
    "#retence = data[\"retention_1\"]/data[\"retention_7\"]\n",
    "\n",
    "retention_rate_30=group_30[\"retention_7\"].mean()\n",
    "retention_rate_40=group_40[\"retention_7\"].mean()\n",
    "print(retention_rate_30)\n",
    "print(retention_rate_40)\n",
    "\n",
    "t_stat, p_value = stats.ttest_ind(group_30[\"retention_7\"],group_40[\"retention_7\"])\n",
    "print(t_stat)\n",
    "print(p_value)"
   ]
  },
  {
   "cell_type": "code",
   "execution_count": 45,
   "id": "58c239ca",
   "metadata": {},
   "outputs": [],
   "source": [
    "#Lepší je používat retention rate 30, protože ti zůstanou #19% zadržení, kdežto u 40 je jen 18% zadržení"
   ]
  },
  {
   "cell_type": "code",
   "execution_count": 7,
   "id": "2faab440",
   "metadata": {},
   "outputs": [],
   "source": [
    "import numpy as np\n",
    "\n",
    "\n",
    "# Náhodně generovaná data kliknutí\n",
    "\n",
    "np.random.seed(42)\n",
    "\n",
    "clicks_A = np.random.poisson(lam=20, size=30)  # Kontrolní skupina\n",
    "\n",
    "clicks_B = np.random.poisson(lam=23, size=30)  # Experimentální skupina"
   ]
  },
  {
   "cell_type": "code",
   "execution_count": 9,
   "id": "940fea2a",
   "metadata": {},
   "outputs": [
    {
     "name": "stdout",
     "output_type": "stream",
     "text": [
      "Dvojvýběrový t-test (nepárový): t-stat = -3.30678, p-value = 0.00162\n"
     ]
    }
   ],
   "source": [
    "t_stat_ind, p_value_ind = stats.ttest_ind(clicks_A, clicks_B)\n",
    "print(f\"Dvojvýběrový t-test (nepárový): t-stat = {t_stat_ind:.5f}, p-value = {p_value_ind:.5f}\")"
   ]
  },
  {
   "cell_type": "code",
   "execution_count": null,
   "id": "038a61ff",
   "metadata": {},
   "outputs": [],
   "source": []
  }
 ],
 "metadata": {
  "kernelspec": {
   "display_name": "Python 3 (ipykernel)",
   "language": "python",
   "name": "python3"
  },
  "language_info": {
   "codemirror_mode": {
    "name": "ipython",
    "version": 3
   },
   "file_extension": ".py",
   "mimetype": "text/x-python",
   "name": "python",
   "nbconvert_exporter": "python",
   "pygments_lexer": "ipython3",
   "version": "3.10.6"
  }
 },
 "nbformat": 4,
 "nbformat_minor": 5
}
