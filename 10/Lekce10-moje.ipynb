{
 "cells": [
  {
   "cell_type": "code",
   "execution_count": 1,
   "id": "6dc94ef4",
   "metadata": {},
   "outputs": [],
   "source": [
    "import pandas as pd\n",
    "import numpy as np\n",
    "from sklearn.feature_extraction.text import TfidfVectorizer\n",
    "from sklearn.metrics.pairwise import cosine_similarity\n",
    "from sklearn.metrics import jaccard_score\n",
    "\n",
    "from scipy.spatial.distance import pdist, squareform"
   ]
  },
  {
   "cell_type": "code",
   "execution_count": null,
   "id": "5c96ab23",
   "metadata": {},
   "outputs": [],
   "source": [
    "data = pd.read_csv(\"tmdb_5000_movies.csv\")\n",
    "data = data.dropna(subset = [\"overview\"]) #vyhazuj jenom ty řádky, kde chybí overview\n",
    "data.head()\n",
    "\n",
    "X = data[\"overview\"] # min_df =2  mělo by se to vyskytovat min. ve 2 popisech, když se vyskytují ve všech, tak nám nic neřeknou\n",
    "# TFID Vectorizer - respektuje, jak je to slovo časté a jaká je jeho délka\n",
    "vec = TfidfVectorizer(min_df=2, max_df=0.7, stop_words=\"english\", ngram_range=(1, 2))\n",
    "data_tfidf = vec.fit_transform(X)\n",
    "# Převod na pole\n",
    "#data_tfidf.toarray()"
   ]
  },
  {
   "cell_type": "code",
   "execution_count": null,
   "id": "0892a064",
   "metadata": {},
   "outputs": [],
   "source": [
    "data.shape"
   ]
  },
  {
   "cell_type": "code",
   "execution_count": null,
   "id": "b1442a06",
   "metadata": {},
   "outputs": [],
   "source": [
    "data_tfidf = pd.DataFrame(data_tfidf.toarray(), columns=vec.get_feature_names_out(), index=data[\"title\"])\n",
    "data_tfidf.head()"
   ]
  },
  {
   "cell_type": "code",
   "execution_count": null,
   "id": "b41f801e",
   "metadata": {},
   "outputs": [],
   "source": [
    "data_tfidf.loc[\"The Fugitive\"].sort_values(ascending=False).head(20)"
   ]
  },
  {
   "cell_type": "code",
   "execution_count": null,
   "id": "7f283cf7",
   "metadata": {},
   "outputs": [],
   "source": [
    "# jak změříme, jestli je ten film podobný s jiným filmem"
   ]
  },
  {
   "cell_type": "code",
   "execution_count": null,
   "id": "29d489bc",
   "metadata": {},
   "outputs": [],
   "source": [
    "fugitive = data_tfidf.loc[\"The Fugitive\"].values.reshape(1,-1)  # z jednorozměrového pole udělá dvourozměrné\n",
    "witness = data_tfidf.loc[\"Witness\"].values.reshape(1,-1) \n",
    "titanic = data_tfidf.loc[\"Titanic\"].values.reshape(1,-1) "
   ]
  },
  {
   "cell_type": "code",
   "execution_count": null,
   "id": "b213a123",
   "metadata": {},
   "outputs": [],
   "source": [
    "print(cosine_similarity(fugitive,witness))\n",
    "print(cosine_similarity(fugitive,titanic))"
   ]
  },
  {
   "cell_type": "code",
   "execution_count": null,
   "id": "d1d37219",
   "metadata": {},
   "outputs": [],
   "source": [
    "cosine_similarity_array = cosine_similarity(data_tfidf)\n",
    "# spočítá pro každou dvojici těch slov podobnost\n",
    "# něco jako korelační matice\n",
    "cosine_similarity_array"
   ]
  },
  {
   "cell_type": "code",
   "execution_count": null,
   "id": "74a70495",
   "metadata": {},
   "outputs": [],
   "source": [
    "cosine_similarity_df = pd.DataFrame(cosine_similarity_array, index=data[\"title\"], columns=data[\"title\"])\n",
    "cosine_similarity_df\n",
    "cosine_similarity_df[\"The Fugitive\"].sort_values(ascending=False).head(20)"
   ]
  },
  {
   "cell_type": "code",
   "execution_count": null,
   "id": "aae7c035",
   "metadata": {},
   "outputs": [],
   "source": [
    "\n",
    "\n"
   ]
  },
  {
   "cell_type": "code",
   "execution_count": null,
   "id": "5fdbe49a",
   "metadata": {},
   "outputs": [],
   "source": [
    "#Cvičení\n",
    "\n",
    "data = pd.read_csv(\"tmdb_5000_movies.csv\")\n",
    "# Nastavíme index\n",
    "data = data.set_index(\"title\")\n",
    "# Ponecháme v datech pouze sloupce od gen_Action po gen_Western\n",
    "data_genres = data.loc[:, \"gen_Action\":\"gen_Western\"] # všechny řádky a všechy sloupce, které začínají na gen\n",
    "data_genres.head()"
   ]
  },
  {
   "cell_type": "code",
   "execution_count": null,
   "id": "116d256c",
   "metadata": {},
   "outputs": [],
   "source": [
    "jaccard_distances = pdist(data_genres, metric = \"jaccard\")\n",
    "jaccard_distances = squareform(jaccard_distances)\n",
    "jaccard_distances = 1 - jaccard_distances"
   ]
  },
  {
   "cell_type": "code",
   "execution_count": null,
   "id": "e3773107",
   "metadata": {},
   "outputs": [],
   "source": [
    "data_genres.loc[\"The Fugitive\"]"
   ]
  },
  {
   "cell_type": "code",
   "execution_count": null,
   "id": "b08c1536",
   "metadata": {},
   "outputs": [],
   "source": [
    "jaccard_score = pd.DataFrame(jaccard_distances, index = data.index, columns = data.index)\n",
    "jaccard_score"
   ]
  },
  {
   "cell_type": "code",
   "execution_count": null,
   "id": "f5f62f79",
   "metadata": {},
   "outputs": [],
   "source": [
    "jaccard_distances[\"The Fugitive\"].sort_values()\n",
    "\n",
    "\n"
   ]
  },
  {
   "cell_type": "code",
   "execution_count": null,
   "id": "e6b6fb71",
   "metadata": {},
   "outputs": [],
   "source": [
    "# Kolaborativní filtrování"
   ]
  },
  {
   "cell_type": "code",
   "execution_count": null,
   "id": "94595c0a",
   "metadata": {},
   "outputs": [],
   "source": [
    "import pandas as pd\n",
    "import numpy as np\n",
    "from sklearn.feature_extraction.text import TfidfVectorizer\n",
    "from sklearn.metrics import jaccard_score"
   ]
  },
  {
   "cell_type": "code",
   "execution_count": null,
   "id": "fcf99e7f",
   "metadata": {},
   "outputs": [],
   "source": [
    "data_ratings = pd.read_csv(\"user_ratings.csv\")\n",
    "data_ratings = data_ratings[[\"userId\", \"rating\", \"title\"]].drop_duplicates(subset=[\"userId\", \"title\"], keep=\"last\")  # berem jen to poslední hodnocení\n",
    "data_ratings.head()\n",
    "data_ratings.shape\n",
    "data_ratings_pivot = data_ratings.pivot(index = \"userId\", columns = \"title\", values = \"rating\")"
   ]
  },
  {
   "cell_type": "code",
   "execution_count": null,
   "id": "7305921b",
   "metadata": {},
   "outputs": [],
   "source": [
    "data_ratings_pivot.loc[2].dropna().sort_values()"
   ]
  },
  {
   "cell_type": "code",
   "execution_count": null,
   "id": "1bb63531",
   "metadata": {},
   "outputs": [],
   "source": [
    "data_ratings_pivot.loc[2].dropna().shape"
   ]
  },
  {
   "cell_type": "code",
   "execution_count": null,
   "id": "720a6ba0",
   "metadata": {},
   "outputs": [],
   "source": [
    "avg_ratings = data_ratings_pivot.mean() # uděláme průměrní hodnocení a odečteme to od dat\n",
    "avg_ratings\n",
    "# průměr je 4 (ale pro každý film je průměr jiný)\n",
    "# někdo dal filmu hodnocení 3  ... 3-4 = -1 \n",
    "# když odečtu od dat průměr\n",
    "# hledáme uživatele, kteří mají podobný vkus\n",
    "#5-4 = 1\n",
    "#4-4 = 0\n",
    "#3-4 = -1\n",
    "#2-4 = -2\n",
    "#1-4 = -3"
   ]
  },
  {
   "cell_type": "code",
   "execution_count": null,
   "id": "be89051d",
   "metadata": {},
   "outputs": [],
   "source": [
    "avg_ratings = data_ratings_pivot.mean()\n",
    "data_ratings_pivot_standardized = data_ratings_pivot.sub(avg_ratings, axis=1)\n",
    "data_ratings_pivot_standardized = data_ratings_pivot_standardized.fillna(0) #doplním nuly,tam, kde je nA\n",
    "# pro ten daný řádek mi od těch hodnot odečte tento sloupec\n",
    "data_ratings_pivot_standardized.head()\n"
   ]
  },
  {
   "cell_type": "code",
   "execution_count": null,
   "id": "a12a7ab4",
   "metadata": {},
   "outputs": [],
   "source": [
    "similarities = cosine_similarity(data_ratings_pivot_standardized)\n",
    "similarities = pd.DataFrame(similarities, index = data_ratings_pivot_standardized.index, columns = data_ratings_pivot_standardized.index)\n",
    "similarities\n"
   ]
  },
  {
   "cell_type": "code",
   "execution_count": null,
   "id": "43874caf",
   "metadata": {},
   "outputs": [],
   "source": [
    "n_users = 10 #chceme se řídit podle 10-ti nejpodobnějších uživatelů #vzali jsme si 10 lidí \n",
    "user_2_similarities = similarities.loc[2] # vyberu řádek s uživatelem2\n",
    "user_2_similarities # u 2 uživatele je 1 (to je sám se sebou)\n",
    "user_2_similarities = user_2_similarities.sort_values(ascending=False).head(n_users)\n",
    "user_2_similarities = user_2_similarities.iloc[1:]\n",
    "user_2_similarities # to jsou idi, který jsou nejvíc podobné 2"
   ]
  },
  {
   "cell_type": "code",
   "execution_count": null,
   "id": "e5202596",
   "metadata": {},
   "outputs": [],
   "source": [
    "similar_users = user_2_similarities.index #vybrali jsme uživatele 2\n",
    "similar_users # teď tam mám jenom ty uživatele (čísla těch uživatelů)"
   ]
  },
  {
   "cell_type": "code",
   "execution_count": null,
   "id": "dbe3ff1d",
   "metadata": {},
   "outputs": [],
   "source": [
    "# spočítali jsme si podobnost hodnocení všech dvojic uživatelů\n",
    "# podívali jsme se, kteří uživatelé mají nejpodobnější hodnocení\n",
    "data_ratings_pivot_similar = data_ratings_pivot.loc[similar_users] # budu tam mít ty původní hodnocení, ale uvažovat jen 10 lidí té skupiny similar users\n",
    "data_ratings_pivot_similar = data_ratings_pivot_similar.dropna(axis=1, thresh = 3 ) # všechno jsou to filmy, které hodnotily z té skupiny alespoň 3 lidé\n",
    "average_ratings_by_similar_users = data_ratings_pivot_similar.mean() # tady vidíme, jaké jsou průměrné hodnocení teď filmů\n",
    "average_ratings_by_similar_users.sort_values(ascending=False) #nakonec jsme to seřadili, a "
   ]
  },
  {
   "cell_type": "code",
   "execution_count": null,
   "id": "a3567e5f",
   "metadata": {},
   "outputs": [],
   "source": [
    "# mě teď budou zajímat filmy, které lidi z té skupiny 10 lidí viděli, a líbili se jim\n",
    "\n"
   ]
  },
  {
   "cell_type": "code",
   "execution_count": null,
   "id": "f80e34c2",
   "metadata": {},
   "outputs": [],
   "source": [
    "# Výběr na základě uživatelského profilu "
   ]
  },
  {
   "cell_type": "code",
   "execution_count": null,
   "id": "b043d803",
   "metadata": {},
   "outputs": [],
   "source": [
    "import pandas as pd\n",
    "\n",
    "from sklearn.feature_extraction.text import TfidfVectorizer"
   ]
  },
  {
   "cell_type": "code",
   "execution_count": null,
   "id": "efca8d06",
   "metadata": {},
   "outputs": [],
   "source": [
    "data = pd.read_csv(\"tmdb_5000_movies.csv\")\n",
    "data = data.dropna(subset=[\"overview\"])\n",
    "X = data[\"overview\"]\n",
    "vec = TfidfVectorizer(min_df = 2, max_df = 0.7, stop_words=\"english\",ngram_range=(1,2))\n",
    "data_tfidf = vec.fit_transform(X)\n",
    "data_tfidf = pd.DataFrame(data_tfidf.toarray(), columns = vec.get_feature_names_out(),index=data[\"title\"])\n",
    "cosine_similarity_array = cosine_similarity(data_tfidf)\n",
    "cosine_similarity_df = pd.DataFrame(cosine_similarity_array, index = data_tfidf.index, columns = data_tfidf.index)"
   ]
  },
  {
   "cell_type": "code",
   "execution_count": null,
   "id": "7bece476",
   "metadata": {},
   "outputs": [],
   "source": [
    "favorite_movies = [\"Notting Hill\", \"Titanic\", \"The Great Gatsby\", \"The Lovers\"]\n",
    "data_user_profile = data_tfidf.loc[favorite_movies] #\n",
    "data_user_profile = data_user_profile.mean()\n",
    "data_user_profile = data_user_profile.values.reshape(1, -1)\n",
    "\n",
    "data_tfidf_not_seen = data_tfidf.drop(favorite_movies, axis=0)\n",
    "cosine_similarity_not_seen = cosine_similarity(data_tfidf_not_seen, data_user_profile)\n",
    "cosine_similarity_not_seen = pd.DataFrame(cosine_similarity_not_seen, index=data_tfidf_not_seen.index,columns=[\"score\"])\n",
    "\n",
    "cosine_similarity_not_seen.sort_values(by=\"score\", ascending=False).head(20)\n"
   ]
  },
  {
   "cell_type": "code",
   "execution_count": null,
   "id": "8e0f7602",
   "metadata": {},
   "outputs": [],
   "source": [
    "# cvičení"
   ]
  },
  {
   "cell_type": "code",
   "execution_count": null,
   "id": "7a3918f7",
   "metadata": {},
   "outputs": [],
   "source": [
    "data = pd.read_csv(\"netflix_titles.csv\")\n",
    "data.head()"
   ]
  },
  {
   "cell_type": "code",
   "execution_count": 15,
   "id": "95557e3a",
   "metadata": {},
   "outputs": [
    {
     "data": {
      "text/plain": [
       "title\n",
       "La casa de papel                     1.000000\n",
       "V.R. Troopers                        0.232403\n",
       "Power Rangers Time Force             0.228176\n",
       "Don 2                                0.222125\n",
       "Inside Man: Most Wanted              0.185587\n",
       "                                       ...   \n",
       "The Ranch                            0.000000\n",
       "The goop lab with Gwyneth Paltrow    0.000000\n",
       "Sons of the Caliphate                0.000000\n",
       "Rise of Empires: Ottoman             0.000000\n",
       "Zubaan                               0.000000\n",
       "Name: La casa de papel, Length: 8807, dtype: float64"
      ]
     },
     "execution_count": 15,
     "metadata": {},
     "output_type": "execute_result"
    }
   ],
   "source": [
    "data = pd.read_csv(\"netflix_titles.csv\")\n",
    "data = data.dropna(subset=[\"description\"])\n",
    "X = data[\"description\"]\n",
    "vec = TfidfVectorizer(min_df=2, max_df=0.7, stop_words=\"english\", ngram_range=(1,2,))\n",
    "data_tfidf = vec.fit_transform(X)\n",
    "#vec.get_feature_names_out()\n",
    "cosine_similarity_array = cosine_similarity(data_tfidf)\n",
    "cosine_similarity_df = pd.DataFrame(cosine_similarity_array, index=data[\"title\"], columns=data[\"title\"])\n",
    "cosine_similarity_df[\"La casa de papel\"].sort_values(ascending=False)"
   ]
  },
  {
   "cell_type": "code",
   "execution_count": null,
   "id": "06887ab4",
   "metadata": {},
   "outputs": [],
   "source": []
  },
  {
   "cell_type": "code",
   "execution_count": null,
   "id": "685278fb",
   "metadata": {},
   "outputs": [],
   "source": []
  }
 ],
 "metadata": {
  "kernelspec": {
   "display_name": "Python 3 (ipykernel)",
   "language": "python",
   "name": "python3"
  },
  "language_info": {
   "codemirror_mode": {
    "name": "ipython",
    "version": 3
   },
   "file_extension": ".py",
   "mimetype": "text/x-python",
   "name": "python",
   "nbconvert_exporter": "python",
   "pygments_lexer": "ipython3",
   "version": "3.10.6"
  }
 },
 "nbformat": 4,
 "nbformat_minor": 5
}
