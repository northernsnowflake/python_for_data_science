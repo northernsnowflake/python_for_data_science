{
 "cells": [
  {
   "cell_type": "code",
   "execution_count": 1,
   "id": "cd93078e",
   "metadata": {},
   "outputs": [],
   "source": [
    "# řešení úkolu 2\n",
    "# Machine Learning - Support Vector Machine algoritmus pro detekování správných číslic z ručně psaných obrázků\n",
    "# Zpracovala Kateřina Chmelařová\n",
    "# 6.června 2024\n",
    "# Úkol 2 - Python pro datovou vědu\n"
   ]
  },
  {
   "cell_type": "code",
   "execution_count": null,
   "id": "32d73878",
   "metadata": {},
   "outputs": [],
   "source": [
    "# Níže rekapitulace zadání"
   ]
  },
  {
   "cell_type": "markdown",
   "id": "dac56f5e",
   "metadata": {},
   "source": [
    "\n",
    "Ve strojovém učení často pracujeme i s jinými než textovými daty, například s obrázky. Práci s obrázky si vyzkoušíš v tomto úkolu. Jedním z nejznámějších datasetů je MNIST, který obsahuje obrázky rukou psaných číslic. K obrázkou jsou k dispozici i labels, tj. čísla, která na obrázku jsou. Tento dataset je přímo součástí modulu scikitlearn, a to ve formě číselné matice. Obrázky mají nízké rozlišení (8x8 pixelů, tj. každý obrázek se skládá 64 \"políček\" - 8 políček v 8 řádích, kterým lze přiřadit barvu) a je černobílý.\n",
    "\n",
    "Tvým úkolem bude vytvořit model, který dokáže rozpoznat, jaké číslo je na každém z obrázků, přičemž využijeme algoritmus Support Vector Machine (SVM). Dataset si můžeš načíst s využitím následujícího kódu. Kód uloží data, která chceme zpracovat, do proměnné data. Čísla, která na obrázích skutečně jsou (tj. správné odpovědi) jsou v proměnné y."
   ]
  },
  {
   "cell_type": "code",
   "execution_count": 254,
   "id": "451f517f",
   "metadata": {},
   "outputs": [],
   "source": [
    "import matplotlib.pyplot as plt\n",
    "from sklearn import datasets\n",
    "from sklearn.model_selection import train_test_split\n",
    "from sklearn.preprocessing import StandardScaler\n",
    "from sklearn.svm import LinearSVC, SVC\n",
    "from sklearn.metrics import accuracy_score, precision_score, recall_score, balanced_accuracy_score, confusion_matrix, ConfusionMatrixDisplay"
   ]
  },
  {
   "cell_type": "code",
   "execution_count": 111,
   "id": "e981cc9a",
   "metadata": {},
   "outputs": [],
   "source": [
    "\n",
    "digits = datasets.load_digits()\n",
    "y = digits.target\n",
    "data = digits.images"
   ]
  },
  {
   "cell_type": "markdown",
   "id": "8749157d",
   "metadata": {},
   "source": [
    "Níže je například matice, která reprezentuje první (v řeči Pythonu nultý) obrázek. Čím vyšší číslo je, tím tmavší je políčko. Čísla jsou v rozsahu 0 až 15."
   ]
  },
  {
   "cell_type": "code",
   "execution_count": 107,
   "id": "33a2b301",
   "metadata": {},
   "outputs": [
    {
     "ename": "NameError",
     "evalue": "name 'array' is not defined",
     "output_type": "error",
     "traceback": [
      "\u001b[0;31m---------------------------------------------------------------------------\u001b[0m",
      "\u001b[0;31mNameError\u001b[0m                                 Traceback (most recent call last)",
      "Cell \u001b[0;32mIn[107], line 1\u001b[0m\n\u001b[0;32m----> 1\u001b[0m \u001b[43marray\u001b[49m([[ \u001b[38;5;241m0.\u001b[39m,  \u001b[38;5;241m0.\u001b[39m,  \u001b[38;5;241m5.\u001b[39m, \u001b[38;5;241m13.\u001b[39m,  \u001b[38;5;241m9.\u001b[39m,  \u001b[38;5;241m1.\u001b[39m,  \u001b[38;5;241m0.\u001b[39m,  \u001b[38;5;241m0.\u001b[39m],\n\u001b[1;32m      2\u001b[0m        [ \u001b[38;5;241m0.\u001b[39m,  \u001b[38;5;241m0.\u001b[39m, \u001b[38;5;241m13.\u001b[39m, \u001b[38;5;241m15.\u001b[39m, \u001b[38;5;241m10.\u001b[39m, \u001b[38;5;241m15.\u001b[39m,  \u001b[38;5;241m5.\u001b[39m,  \u001b[38;5;241m0.\u001b[39m],\n\u001b[1;32m      3\u001b[0m        [ \u001b[38;5;241m0.\u001b[39m,  \u001b[38;5;241m3.\u001b[39m, \u001b[38;5;241m15.\u001b[39m,  \u001b[38;5;241m2.\u001b[39m,  \u001b[38;5;241m0.\u001b[39m, \u001b[38;5;241m11.\u001b[39m,  \u001b[38;5;241m8.\u001b[39m,  \u001b[38;5;241m0.\u001b[39m],\n\u001b[1;32m      4\u001b[0m        [ \u001b[38;5;241m0.\u001b[39m,  \u001b[38;5;241m4.\u001b[39m, \u001b[38;5;241m12.\u001b[39m,  \u001b[38;5;241m0.\u001b[39m,  \u001b[38;5;241m0.\u001b[39m,  \u001b[38;5;241m8.\u001b[39m,  \u001b[38;5;241m8.\u001b[39m,  \u001b[38;5;241m0.\u001b[39m],\n\u001b[1;32m      5\u001b[0m        [ \u001b[38;5;241m0.\u001b[39m,  \u001b[38;5;241m5.\u001b[39m,  \u001b[38;5;241m8.\u001b[39m,  \u001b[38;5;241m0.\u001b[39m,  \u001b[38;5;241m0.\u001b[39m,  \u001b[38;5;241m9.\u001b[39m,  \u001b[38;5;241m8.\u001b[39m,  \u001b[38;5;241m0.\u001b[39m],\n\u001b[1;32m      6\u001b[0m        [ \u001b[38;5;241m0.\u001b[39m,  \u001b[38;5;241m4.\u001b[39m, \u001b[38;5;241m11.\u001b[39m,  \u001b[38;5;241m0.\u001b[39m,  \u001b[38;5;241m1.\u001b[39m, \u001b[38;5;241m12.\u001b[39m,  \u001b[38;5;241m7.\u001b[39m,  \u001b[38;5;241m0.\u001b[39m],\n\u001b[1;32m      7\u001b[0m        [ \u001b[38;5;241m0.\u001b[39m,  \u001b[38;5;241m2.\u001b[39m, \u001b[38;5;241m14.\u001b[39m,  \u001b[38;5;241m5.\u001b[39m, \u001b[38;5;241m10.\u001b[39m, \u001b[38;5;241m12.\u001b[39m,  \u001b[38;5;241m0.\u001b[39m,  \u001b[38;5;241m0.\u001b[39m],\n\u001b[1;32m      8\u001b[0m        [ \u001b[38;5;241m0.\u001b[39m,  \u001b[38;5;241m0.\u001b[39m,  \u001b[38;5;241m6.\u001b[39m, \u001b[38;5;241m13.\u001b[39m, \u001b[38;5;241m10.\u001b[39m,  \u001b[38;5;241m0.\u001b[39m,  \u001b[38;5;241m0.\u001b[39m,  \u001b[38;5;241m0.\u001b[39m]])\n",
      "\u001b[0;31mNameError\u001b[0m: name 'array' is not defined"
     ]
    }
   ],
   "source": [
    "array([[ 0.,  0.,  5., 13.,  9.,  1.,  0.,  0.],\n",
    "       [ 0.,  0., 13., 15., 10., 15.,  5.,  0.],\n",
    "       [ 0.,  3., 15.,  2.,  0., 11.,  8.,  0.],\n",
    "       [ 0.,  4., 12.,  0.,  0.,  8.,  8.,  0.],\n",
    "       [ 0.,  5.,  8.,  0.,  0.,  9.,  8.,  0.],\n",
    "       [ 0.,  4., 11.,  0.,  1., 12.,  7.,  0.],\n",
    "       [ 0.,  2., 14.,  5., 10., 12.,  0.,  0.],\n",
    "       [ 0.,  0.,  6., 13., 10.,  0.,  0.,  0.]])"
   ]
  },
  {
   "cell_type": "markdown",
   "id": "548f5111",
   "metadata": {},
   "source": [
    "Níže je obrázek, který je touto maticí reprezentován. Asi bychom ho odhadli jako 0, což je i správná odpověď."
   ]
  },
  {
   "cell_type": "markdown",
   "id": "fcdb90b8",
   "metadata": {},
   "source": [
    "![ukol_obrazky/ukol_2_obr_1.png](ukol_obrazky/ukol_2_obr_1.png)"
   ]
  },
  {
   "cell_type": "markdown",
   "id": "37ecec2d",
   "metadata": {},
   "source": [
    "Obrázek byl vytvořen pomocí modulu matplotlib a funkce imshow, která vykreslí číselnou matici jako obrázek. Pokud vybereme obrázek na pozici 0 a nastavíme černobílé barevné schéma (cmap=plt.cm.gray_r), získáme obrázek, který byl výše."
   ]
  },
  {
   "cell_type": "code",
   "execution_count": 108,
   "id": "eb817655",
   "metadata": {},
   "outputs": [
    {
     "data": {
      "text/plain": [
       "<matplotlib.image.AxesImage at 0x11f3958a0>"
      ]
     },
     "execution_count": 108,
     "metadata": {},
     "output_type": "execute_result"
    },
    {
     "data": {
      "image/png": "[encoded data removed]",
      "text/plain": [
       "<Figure size 640x480 with 1 Axes>"
      ]
     },
     "metadata": {},
     "output_type": "display_data"
    }
   ],
   "source": [
    "plt.imshow(data[0], cmap=plt.cm.gray_r)"
   ]
  },
  {
   "cell_type": "markdown",
   "id": "0d6264e4",
   "metadata": {},
   "source": [
    "Správnou odpověď najdeme v poli y též na pozici 0.\n",
    "\n"
   ]
  },
  {
   "cell_type": "code",
   "execution_count": 109,
   "id": "0769661b",
   "metadata": {},
   "outputs": [
    {
     "data": {
      "text/plain": [
       "0"
      ]
     },
     "execution_count": 109,
     "metadata": {},
     "output_type": "execute_result"
    }
   ],
   "source": [
    "y[0]"
   ]
  },
  {
   "cell_type": "code",
   "execution_count": 110,
   "id": "e987f17d",
   "metadata": {},
   "outputs": [
    {
     "data": {
      "text/plain": [
       "<matplotlib.image.AxesImage at 0x11f4baa10>"
      ]
     },
     "execution_count": 110,
     "metadata": {},
     "output_type": "execute_result"
    },
    {
     "data": {
      "image/png": "[encoded data removed]",
      "text/plain": [
       "<Figure size 640x480 with 1 Axes>"
      ]
     },
     "metadata": {},
     "output_type": "display_data"
    }
   ],
   "source": [
    "plt.imshow(data[1], cmap=plt.cm.gray_r)"
   ]
  },
  {
   "cell_type": "markdown",
   "id": "7843fecc",
   "metadata": {},
   "source": [
    "Poslední krok je často označován převod dat na flat, tj. na plochá data. Nyní je totiž každé číslo reprezentováno dvourozměrnou maticí 8x8, ale pro použití algoritmu SVC potřebujeme, aby bylo každé číslo reprezentováno jednorozměrně. Můžeš si to představit tak, že chceme, aby každé číslo bylo reprezentováno jedním řádkem v tabulce, která má 64 sloupců.\n",
    "\n",
    "Můžeme si to ukázat na číslu, které jsme si prohlíželi. Níže je číslo převedené do jednorozměrné formy. Když si čísla porovnáš s předchozím zápisem formou matice, uvidíš stejná čísla, ale pouze jeden pár hranatých závorek. To značí, že jde o jednorozměrné pole, tj. všechna čísla jsou v jednom řádku."
   ]
  },
  {
   "cell_type": "code",
   "execution_count": 100,
   "id": "153963fb",
   "metadata": {},
   "outputs": [
    {
     "ename": "NameError",
     "evalue": "name 'array' is not defined",
     "output_type": "error",
     "traceback": [
      "\u001b[0;31m---------------------------------------------------------------------------\u001b[0m",
      "\u001b[0;31mNameError\u001b[0m                                 Traceback (most recent call last)",
      "Cell \u001b[0;32mIn[100], line 1\u001b[0m\n\u001b[0;32m----> 1\u001b[0m \u001b[43marray\u001b[49m([ \u001b[38;5;241m0.\u001b[39m,  \u001b[38;5;241m0.\u001b[39m,  \u001b[38;5;241m5.\u001b[39m, \u001b[38;5;241m13.\u001b[39m,  \u001b[38;5;241m9.\u001b[39m,  \u001b[38;5;241m1.\u001b[39m,  \u001b[38;5;241m0.\u001b[39m,  \u001b[38;5;241m0.\u001b[39m,  \u001b[38;5;241m0.\u001b[39m,  \u001b[38;5;241m0.\u001b[39m, \u001b[38;5;241m13.\u001b[39m, \u001b[38;5;241m15.\u001b[39m, \u001b[38;5;241m10.\u001b[39m, \u001b[38;5;241m15.\u001b[39m,  \u001b[38;5;241m5.\u001b[39m,  \u001b[38;5;241m0.\u001b[39m,  \u001b[38;5;241m0.\u001b[39m,  \u001b[38;5;241m3.\u001b[39m, \u001b[38;5;241m15.\u001b[39m,  \u001b[38;5;241m2.\u001b[39m,  \u001b[38;5;241m0.\u001b[39m, \u001b[38;5;241m11.\u001b[39m,  \u001b[38;5;241m8.\u001b[39m,  \u001b[38;5;241m0.\u001b[39m,  \u001b[38;5;241m0.\u001b[39m,  \u001b[38;5;241m4.\u001b[39m, \u001b[38;5;241m12.\u001b[39m,  \u001b[38;5;241m0.\u001b[39m,  \u001b[38;5;241m0.\u001b[39m,  \u001b[38;5;241m8.\u001b[39m,  \u001b[38;5;241m8.\u001b[39m,  \u001b[38;5;241m0.\u001b[39m,  \u001b[38;5;241m0.\u001b[39m,  \u001b[38;5;241m5.\u001b[39m,  \u001b[38;5;241m8.\u001b[39m,  \u001b[38;5;241m0.\u001b[39m,  \u001b[38;5;241m0.\u001b[39m,  \u001b[38;5;241m9.\u001b[39m,  \u001b[38;5;241m8.\u001b[39m, \u001b[38;5;241m0.\u001b[39m,  \u001b[38;5;241m0.\u001b[39m,  \u001b[38;5;241m4.\u001b[39m, \u001b[38;5;241m11.\u001b[39m,  \u001b[38;5;241m0.\u001b[39m,  \u001b[38;5;241m1.\u001b[39m, \u001b[38;5;241m12.\u001b[39m,  \u001b[38;5;241m7.\u001b[39m,  \u001b[38;5;241m0.\u001b[39m,  \u001b[38;5;241m0.\u001b[39m,  \u001b[38;5;241m2.\u001b[39m, \u001b[38;5;241m14.\u001b[39m,  \u001b[38;5;241m5.\u001b[39m, \u001b[38;5;241m10.\u001b[39m, \u001b[38;5;241m12.\u001b[39m,  \u001b[38;5;241m0.\u001b[39m,  \u001b[38;5;241m0.\u001b[39m,  \u001b[38;5;241m0.\u001b[39m,  \u001b[38;5;241m0.\u001b[39m,  \u001b[38;5;241m6.\u001b[39m, \u001b[38;5;241m13.\u001b[39m, \u001b[38;5;241m10.\u001b[39m,  \u001b[38;5;241m0.\u001b[39m,  \u001b[38;5;241m0.\u001b[39m,  \u001b[38;5;241m0.\u001b[39m])\n",
      "\u001b[0;31mNameError\u001b[0m: name 'array' is not defined"
     ]
    }
   ],
   "source": [
    "array([ 0.,  0.,  5., 13.,  9.,  1.,  0.,  0.,  0.,  0., 13., 15., 10., 15.,  5.,  0.,  0.,  3., 15.,  2.,  0., 11.,  8.,  0.,  0.,  4., 12.,  0.,  0.,  8.,  8.,  0.,  0.,  5.,  8.,  0.,  0.,  9.,  8., 0.,  0.,  4., 11.,  0.,  1., 12.,  7.,  0.,  0.,  2., 14.,  5., 10., 12.,  0.,  0.,  0.,  0.,  6., 13., 10.,  0.,  0.,  0.])\n"
   ]
  },
  {
   "cell_type": "markdown",
   "id": "7d3d56d9",
   "metadata": {},
   "source": [
    "Tento převod byl proveden pomocí metody reshape(-1), které jsme dali parametr -1, což vede k tomu, že výsledkem je jednorozměrné pole."
   ]
  },
  {
   "cell_type": "code",
   "execution_count": 101,
   "id": "c9573b5c",
   "metadata": {},
   "outputs": [
    {
     "data": {
      "text/plain": [
       "array([ 0.,  0.,  5., 13.,  9.,  1.,  0.,  0.,  0.,  0., 13., 15., 10.,\n",
       "       15.,  5.,  0.,  0.,  3., 15.,  2.,  0., 11.,  8.,  0.,  0.,  4.,\n",
       "       12.,  0.,  0.,  8.,  8.,  0.,  0.,  5.,  8.,  0.,  0.,  9.,  8.,\n",
       "        0.,  0.,  4., 11.,  0.,  1., 12.,  7.,  0.,  0.,  2., 14.,  5.,\n",
       "       10., 12.,  0.,  0.,  0.,  0.,  6., 13., 10.,  0.,  0.,  0.])"
      ]
     },
     "execution_count": 101,
     "metadata": {},
     "output_type": "execute_result"
    }
   ],
   "source": [
    "data[0].reshape(-1)"
   ]
  },
  {
   "cell_type": "markdown",
   "id": "93eb6ef5",
   "metadata": {},
   "source": [
    "My ale potřebujeme převést všechna čísla, to uděláme příkazem níže. Hodnotou na nulté pozici seznamu říkáme, kolik máme v našem souboru pozorování, takže metoda reshape() vytvoří samostatný řádek každému z čísel."
   ]
  },
  {
   "cell_type": "code",
   "execution_count": 102,
   "id": "bcc5a1eb",
   "metadata": {},
   "outputs": [],
   "source": [
    "n_samples = len(data)\n",
    "data = data.reshape([n_samples, -1])"
   ]
  },
  {
   "cell_type": "markdown",
   "id": "00dd9952",
   "metadata": {},
   "source": [
    "Nyní je již řada na tobě. Napiš kód, kterým vytvoříš model, který bude klasifikovat obrázek do správné skupiny. Kód je velice blízký tomu, který jsme používali v lekci. Jinými slovy, stačí ti podívat se to materiálů k lekci, není potřeba nic Googlit nebo používat ChatGPT. Ale zakázané to samozřejmě není.\n",
    "\n",
    "Rozděl data na testovací a trénovací pomocí metody train_test_split, přičemž nastav parametry test_size=0.3 a random_state=42. Použij stejné názvy proměnných, jaké jsme používali v lekci, tj. X_train, X_test, y_train, y_test.\n",
    "Použij klasifikátor SVC a jako kernel použij linear. Parametr decision_function_shape nenastavuj a využij výchozí hodnotu, tj. ovo. Nenastavuj ani žádné další parametry.\n",
    "Natrénuj model s využitím metody fit() a nakonec metodou predict() vytvoř pole predikcí pro testovací data, které pojmenuj y_pred.\n",
    "Zjisti hodnotu metriky accuracy (měla by ti vyjít přibližně 0.9796) a matici záměn.\n"
   ]
  },
  {
   "cell_type": "markdown",
   "id": "33153fdb",
   "metadata": {},
   "source": [
    "\n",
    "![ukol_obrazky/ukol_2_obr_2.png](ukol_obrazky/ukol_2_obr_2.png)"
   ]
  },
  {
   "cell_type": "markdown",
   "id": "27b3be78",
   "metadata": {},
   "source": [
    "Nepovinný bonus\n",
    "Algoritmus u některých obrázků nefungoval, určitě bude zajímavé si tyto obrázky prohlédnout. K tomu je potřeba doplnit následující kód, který vlož do svého programu. Na místa označená 1 a 2 je potřeba doplnit kód. Pokud vše doplníš správně, vytvoří ti program několik obrázků, které obsahují špatně predikované obrázky."
   ]
  },
  {
   "cell_type": "code",
   "execution_count": 103,
   "id": "1feadc38",
   "metadata": {},
   "outputs": [
    {
     "ename": "SyntaxError",
     "evalue": "invalid syntax (864280337.py, line 3)",
     "output_type": "error",
     "traceback": [
      "\u001b[0;36m  Cell \u001b[0;32mIn[103], line 3\u001b[0;36m\u001b[0m\n\u001b[0;31m    if :\u001b[0m\n\u001b[0m       ^\u001b[0m\n\u001b[0;31mSyntaxError\u001b[0m\u001b[0;31m:\u001b[0m invalid syntax\n"
     ]
    }
   ],
   "source": [
    "for i in range(0, len(y_pred)):\n",
    "    # 1 Napiš podmínku, která porovná predikovanou hodnotu pro i-tý obrázek a skutečnou hodnotu pro i-tý obrázek\n",
    "    if :\n",
    "        image = # 2 sem dej načtení i-tého obrázku z proměnné X_test\n",
    "        # Obrázek převedeme zpět na matici 8x8\n",
    "        image = image.reshape(8, 8)\n",
    "        # Příkaz na zobrazení obrázku\n",
    "        plt.imshow(image, cmap=plt.cm.gray_r)\n",
    "        # Grafu dáme titulek, který porovnává predikovanou a skutečnou hodnotu\n",
    "        plt.title(f'Predicted: {y_pred[i]}, Actual: {y_test[i]}')\n",
    "        # Obrázek uložíme do souboru\n",
    "        plt.savefig(f\"{i}.png\")"
   ]
  },
  {
   "cell_type": "markdown",
   "id": "923112ff",
   "metadata": {},
   "source": [
    "Níže je příklad jednoho z nich. Například toto bychom na 9 netipli asi ani my...\n",
    "\n"
   ]
  },
  {
   "cell_type": "markdown",
   "id": "3ac74d79",
   "metadata": {},
   "source": [
    "![ukol_obrazky/11.png](ukol_obrazky/11.png)"
   ]
  },
  {
   "cell_type": "code",
   "execution_count": 61,
   "id": "b0a47634",
   "metadata": {},
   "outputs": [],
   "source": [
    "# řešení\n",
    "# Zpracovala Kateřina Chmelařová\n",
    "# 6.června 2024\n",
    "# Úkol 2 - Python pro datovou vědu"
   ]
  },
  {
   "cell_type": "code",
   "execution_count": 218,
   "id": "75e65832",
   "metadata": {},
   "outputs": [],
   "source": [
    "digits = datasets.load_digits()\n",
    "y = digits.target\n",
    "data = digits.images"
   ]
  },
  {
   "cell_type": "code",
   "execution_count": 219,
   "id": "5b6bfc76",
   "metadata": {},
   "outputs": [
    {
     "data": {
      "text/plain": [
       "array([[[ 0.,  0.,  5., ...,  1.,  0.,  0.],\n",
       "        [ 0.,  0., 13., ..., 15.,  5.,  0.],\n",
       "        [ 0.,  3., 15., ..., 11.,  8.,  0.],\n",
       "        ...,\n",
       "        [ 0.,  4., 11., ..., 12.,  7.,  0.],\n",
       "        [ 0.,  2., 14., ..., 12.,  0.,  0.],\n",
       "        [ 0.,  0.,  6., ...,  0.,  0.,  0.]],\n",
       "\n",
       "       [[ 0.,  0.,  0., ...,  5.,  0.,  0.],\n",
       "        [ 0.,  0.,  0., ...,  9.,  0.,  0.],\n",
       "        [ 0.,  0.,  3., ...,  6.,  0.,  0.],\n",
       "        ...,\n",
       "        [ 0.,  0.,  1., ...,  6.,  0.,  0.],\n",
       "        [ 0.,  0.,  1., ...,  6.,  0.,  0.],\n",
       "        [ 0.,  0.,  0., ..., 10.,  0.,  0.]],\n",
       "\n",
       "       [[ 0.,  0.,  0., ..., 12.,  0.,  0.],\n",
       "        [ 0.,  0.,  3., ..., 14.,  0.,  0.],\n",
       "        [ 0.,  0.,  8., ..., 16.,  0.,  0.],\n",
       "        ...,\n",
       "        [ 0.,  9., 16., ...,  0.,  0.,  0.],\n",
       "        [ 0.,  3., 13., ..., 11.,  5.,  0.],\n",
       "        [ 0.,  0.,  0., ..., 16.,  9.,  0.]],\n",
       "\n",
       "       ...,\n",
       "\n",
       "       [[ 0.,  0.,  1., ...,  1.,  0.,  0.],\n",
       "        [ 0.,  0., 13., ...,  2.,  1.,  0.],\n",
       "        [ 0.,  0., 16., ..., 16.,  5.,  0.],\n",
       "        ...,\n",
       "        [ 0.,  0., 16., ..., 15.,  0.,  0.],\n",
       "        [ 0.,  0., 15., ..., 16.,  0.,  0.],\n",
       "        [ 0.,  0.,  2., ...,  6.,  0.,  0.]],\n",
       "\n",
       "       [[ 0.,  0.,  2., ...,  0.,  0.,  0.],\n",
       "        [ 0.,  0., 14., ..., 15.,  1.,  0.],\n",
       "        [ 0.,  4., 16., ..., 16.,  7.,  0.],\n",
       "        ...,\n",
       "        [ 0.,  0.,  0., ..., 16.,  2.,  0.],\n",
       "        [ 0.,  0.,  4., ..., 16.,  2.,  0.],\n",
       "        [ 0.,  0.,  5., ..., 12.,  0.,  0.]],\n",
       "\n",
       "       [[ 0.,  0., 10., ...,  1.,  0.,  0.],\n",
       "        [ 0.,  2., 16., ...,  1.,  0.,  0.],\n",
       "        [ 0.,  0., 15., ..., 15.,  0.,  0.],\n",
       "        ...,\n",
       "        [ 0.,  4., 16., ..., 16.,  6.,  0.],\n",
       "        [ 0.,  8., 16., ..., 16.,  8.,  0.],\n",
       "        [ 0.,  1.,  8., ..., 12.,  1.,  0.]]])"
      ]
     },
     "execution_count": 219,
     "metadata": {},
     "output_type": "execute_result"
    }
   ],
   "source": [
    "data"
   ]
  },
  {
   "cell_type": "code",
   "execution_count": 220,
   "id": "d871bdd1",
   "metadata": {},
   "outputs": [
    {
     "data": {
      "text/plain": [
       "(1797, 8, 8)"
      ]
     },
     "execution_count": 220,
     "metadata": {},
     "output_type": "execute_result"
    }
   ],
   "source": [
    "data.shape"
   ]
  },
  {
   "cell_type": "code",
   "execution_count": 221,
   "id": "ea75e2fc",
   "metadata": {},
   "outputs": [
    {
     "data": {
      "text/plain": [
       "<matplotlib.image.AxesImage at 0x120676e00>"
      ]
     },
     "execution_count": 221,
     "metadata": {},
     "output_type": "execute_result"
    },
    {
     "data": {
      "image/png": "[encoded data removed]",
      "text/plain": [
       "<Figure size 640x480 with 1 Axes>"
      ]
     },
     "metadata": {},
     "output_type": "display_data"
    }
   ],
   "source": [
    "plt.imshow(data[20], cmap=plt.cm.gray_r)"
   ]
  },
  {
   "cell_type": "code",
   "execution_count": 222,
   "id": "3923f0c7",
   "metadata": {},
   "outputs": [
    {
     "data": {
      "text/plain": [
       "0"
      ]
     },
     "execution_count": 222,
     "metadata": {},
     "output_type": "execute_result"
    }
   ],
   "source": [
    "y[0]"
   ]
  },
  {
   "cell_type": "code",
   "execution_count": 223,
   "id": "e0b66e1e",
   "metadata": {},
   "outputs": [
    {
     "data": {
      "text/plain": [
       "array([[ 0.,  0.,  5., 13.,  9.,  1.,  0.,  0.],\n",
       "       [ 0.,  0., 13., 15., 10., 15.,  5.,  0.],\n",
       "       [ 0.,  3., 15.,  2.,  0., 11.,  8.,  0.],\n",
       "       [ 0.,  4., 12.,  0.,  0.,  8.,  8.,  0.],\n",
       "       [ 0.,  5.,  8.,  0.,  0.,  9.,  8.,  0.],\n",
       "       [ 0.,  4., 11.,  0.,  1., 12.,  7.,  0.],\n",
       "       [ 0.,  2., 14.,  5., 10., 12.,  0.,  0.],\n",
       "       [ 0.,  0.,  6., 13., 10.,  0.,  0.,  0.]])"
      ]
     },
     "execution_count": 223,
     "metadata": {},
     "output_type": "execute_result"
    }
   ],
   "source": [
    "data[0] # matice 8x8"
   ]
  },
  {
   "cell_type": "code",
   "execution_count": 224,
   "id": "6f61209f",
   "metadata": {},
   "outputs": [
    {
     "data": {
      "text/plain": [
       "0"
      ]
     },
     "execution_count": 224,
     "metadata": {},
     "output_type": "execute_result"
    }
   ],
   "source": [
    "y[10]"
   ]
  },
  {
   "cell_type": "code",
   "execution_count": 225,
   "id": "a808b02d",
   "metadata": {},
   "outputs": [
    {
     "data": {
      "text/plain": [
       "array([ 0.,  0.,  5., 13.,  9.,  1.,  0.,  0.,  0.,  0., 13., 15., 10.,\n",
       "       15.,  5.,  0.,  0.,  3., 15.,  2.,  0., 11.,  8.,  0.,  0.,  4.,\n",
       "       12.,  0.,  0.,  8.,  8.,  0.,  0.,  5.,  8.,  0.,  0.,  9.,  8.,\n",
       "        0.,  0.,  4., 11.,  0.,  1., 12.,  7.,  0.,  0.,  2., 14.,  5.,\n",
       "       10., 12.,  0.,  0.,  0.,  0.,  6., 13., 10.,  0.,  0.,  0.])"
      ]
     },
     "execution_count": 225,
     "metadata": {},
     "output_type": "execute_result"
    }
   ],
   "source": [
    "data[0].reshape(-1) # reshape převede data na jeden dlouhý řádek s 64 sloupci\n",
    "\n"
   ]
  },
  {
   "cell_type": "code",
   "execution_count": 226,
   "id": "71111ee4",
   "metadata": {},
   "outputs": [],
   "source": [
    "n_samples = len(data)\n",
    "data = data.reshape([n_samples,-1])"
   ]
  },
  {
   "cell_type": "code",
   "execution_count": 227,
   "id": "cc7b0e11",
   "metadata": {},
   "outputs": [
    {
     "data": {
      "text/plain": [
       "array([[ 0.,  0.,  5., ...,  0.,  0.,  0.],\n",
       "       [ 0.,  0.,  0., ..., 10.,  0.,  0.],\n",
       "       [ 0.,  0.,  0., ..., 16.,  9.,  0.],\n",
       "       ...,\n",
       "       [ 0.,  0.,  1., ...,  6.,  0.,  0.],\n",
       "       [ 0.,  0.,  2., ..., 12.,  0.,  0.],\n",
       "       [ 0.,  0., 10., ..., 12.,  1.,  0.]])"
      ]
     },
     "execution_count": 227,
     "metadata": {},
     "output_type": "execute_result"
    }
   ],
   "source": [
    "data\n"
   ]
  },
  {
   "cell_type": "code",
   "execution_count": 228,
   "id": "d458b395",
   "metadata": {},
   "outputs": [
    {
     "data": {
      "text/plain": [
       "array([ 0.,  0.,  5., 13.,  9.,  1.,  0.,  0.,  0.,  0., 13., 15., 10.,\n",
       "       15.,  5.,  0.,  0.,  3., 15.,  2.,  0., 11.,  8.,  0.,  0.,  4.,\n",
       "       12.,  0.,  0.,  8.,  8.,  0.,  0.,  5.,  8.,  0.,  0.,  9.,  8.,\n",
       "        0.,  0.,  4., 11.,  0.,  1., 12.,  7.,  0.,  0.,  2., 14.,  5.,\n",
       "       10., 12.,  0.,  0.,  0.,  0.,  6., 13., 10.,  0.,  0.,  0.])"
      ]
     },
     "execution_count": 228,
     "metadata": {},
     "output_type": "execute_result"
    }
   ],
   "source": [
    "data[0]"
   ]
  },
  {
   "cell_type": "markdown",
   "id": "1851b02c",
   "metadata": {},
   "source": [
    "Rozděl data na testovací a trénovací pomocí metody train_test_split, přičemž nastav parametry test_size=0.3 a random_state=42.\n",
    "Použij stejné názvy proměnných, jaké jsme používali v lekci, tj. X_train, X_test, y_train, y_test.\n",
    "Použij klasifikátor SVC a jako kernel použij linear. \n",
    "\n",
    "Parametr decision_function_shape nenastavuj a využij výchozí hodnotu, tj. ovo. Nenastavuj ani žádné další parametry. Natrénuj model s využitím metody fit() a nakonec metodou predict() vytvoř pole predikcí pro testovací data, které pojmenuj y_pred. Zjisti hodnotu metriky accuracy (měla by ti vyjít přibližně 0.9796) a matici záměn."
   ]
  },
  {
   "cell_type": "code",
   "execution_count": 274,
   "id": "968c5759",
   "metadata": {},
   "outputs": [
    {
     "name": "stdout",
     "output_type": "stream",
     "text": [
      "0.9796296296296296\n"
     ]
    }
   ],
   "source": [
    "digits = datasets.load_digits()\n",
    "y = digits.target\n",
    "data = digits.images\n",
    "\n",
    "#data.shape\n",
    "#plt.imshow(data[20], cmap=plt.cm.gray_r)\n",
    "#y[0]\n",
    "\n",
    "n_samples = len(data)\n",
    "data = data.reshape([n_samples,-1])\n",
    "\n",
    "X_train, X_test, y_train, y_test = train_test_split(X, y, test_size = 0.3, random_state=42)\n",
    "               \n",
    "clf = SVC(kernel=\"linear\")\n",
    "clf.fit(X_train, y_train)\n",
    "y_pred = clf.predict(X_test)\n",
    "\n",
    "print(accuracy_score(y_test, y_pred))\n"
   ]
  },
  {
   "cell_type": "code",
   "execution_count": 275,
   "id": "df96072e",
   "metadata": {},
   "outputs": [
    {
     "data": {
      "text/plain": [
       "<sklearn.metrics._plot.confusion_matrix.ConfusionMatrixDisplay at 0x120c5ba90>"
      ]
     },
     "execution_count": 275,
     "metadata": {},
     "output_type": "execute_result"
    },
    {
     "data": {
      "image/png": "[encoded data removed]",
      "text/plain": [
       "<Figure size 640x480 with 2 Axes>"
      ]
     },
     "metadata": {},
     "output_type": "display_data"
    }
   ],
   "source": [
    "ConfusionMatrixDisplay.from_estimator(\n",
    "    clf,\n",
    "    X_test,\n",
    "    y_test,\n",
    ")"
   ]
  },
  {
   "cell_type": "code",
   "execution_count": 271,
   "id": "e4fd8b0b",
   "metadata": {},
   "outputs": [],
   "source": [
    "# Model nám rozdělil obrázky do správných skupin. Jeho výsledná přesnost byla 0.9796296296296296 tj. 97,96%. \n",
    "# Jak můžeme vdět v matici záměn, občas se stalo, že např. model predikoval, že je to 8, zatímco to byla 9. Je to ale celkově poměrně přesný model."
   ]
  },
  {
   "cell_type": "code",
   "execution_count": 265,
   "id": "16b9b494",
   "metadata": {},
   "outputs": [],
   "source": [
    "# Nepovinná část"
   ]
  },
  {
   "cell_type": "code",
   "execution_count": 281,
   "id": "4b9d969c",
   "metadata": {},
   "outputs": [
    {
     "data": {
      "image/png": "[encoded data removed]",
      "text/plain": [
       "<Figure size 640x480 with 1 Axes>"
      ]
     },
     "metadata": {},
     "output_type": "display_data"
    }
   ],
   "source": [
    "for i in range(0, len(y_pred)):\n",
    "    # 1 Napiš podmínku, která porovná predikovanou hodnotu pro i-tý obrázek a skutečnou hodnotu pro i-tý obrázek\n",
    "    if y_pred[i] != y_test[i]:\n",
    "        image = X_test[i]# 2 sem dej načtení i-tého obrázku z proměnné X_test\n",
    "        # Obrázek převedeme zpět na matici 8x8\n",
    "        image = image.reshape(8, 8)\n",
    "        # Příkaz na zobrazení obrázku\n",
    "        plt.imshow(image, cmap=plt.cm.gray_r)\n",
    "        # Grafu dáme titulek, který porovnává predikovanou a skutečnou hodnotu\n",
    "        plt.title(f'Predicted: {y_pred[i]}, Actual: {y_test[i]}')\n",
    "        # Obrázek uložíme do souboru\n",
    "        plt.savefig(f\"{i}.png\")"
   ]
  },
  {
   "cell_type": "code",
   "execution_count": null,
   "id": "12db69df",
   "metadata": {},
   "outputs": [],
   "source": [
    "# Povedlo se to správně doplnit a program mi vygeneroval 11 obrázků, kde se model zpletl. \n",
    "# Což odpovídá i počtu chyb v confusion matrix."
   ]
  }
 ],
 "metadata": {
  "kernelspec": {
   "display_name": "Python 3 (ipykernel)",
   "language": "python",
   "name": "python3"
  },
  "language_info": {
   "codemirror_mode": {
    "name": "ipython",
    "version": 3
   },
   "file_extension": ".py",
   "mimetype": "text/x-python",
   "name": "python",
   "nbconvert_exporter": "python",
   "pygments_lexer": "ipython3",
   "version": "3.10.6"
  }
 },
 "nbformat": 4,
 "nbformat_minor": 5
}
