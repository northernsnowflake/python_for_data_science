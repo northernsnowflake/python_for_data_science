{
 "cells": [
  {
   "cell_type": "markdown",
   "metadata": {},
   "source": [
    "# Lekce 9"
   ]
  },
  {
   "cell_type": "code",
   "execution_count": 2,
   "metadata": {},
   "outputs": [],
   "source": [
    "import pandas\n",
    "\n",
    "from sklearn.svm import LinearSVC\n",
    "from sklearn.neighbors import KNeighborsClassifier\n",
    "from sklearn.model_selection import train_test_split\n",
    "from sklearn.feature_extraction.text import CountVectorizer, TfidfVectorizer\n",
    "from sklearn.metrics import ConfusionMatrixDisplay, accuracy_score"
   ]
  },
  {
   "cell_type": "markdown",
   "metadata": {},
   "source": [
    "### Popis importů\n",
    "\n",
    "* `LinearSVC` je klasifikátor používající lineární verzi algoritmu Support Vector Machine a One-to-Rest postup pro klasifikaci do více tříd, dokumentace je [zde](https://scikit-learn.org/stable/modules/generated/sklearn.svm.LinearSVC.html)\n",
    "* `KNeighborsClassifier` - klasifikátor, používá algoritmus K Nearest Neigbors, dokumentace je [zde](https://scikit-learn.org/stable/modules/generated/sklearn.neighbors.KNeighborsClassifier.html)\n",
    "* `train_test_split` - funkce pro rozdělení dat na trénovací a testovací, dokumentace je [zde](https://scikit-learn.org/stable/modules/generated/sklearn.model_selection.train_test_split.html)\n",
    "* `CountVectorizer` provádí konverzi textů na číselné pole, dokumentace je [zde](https://scikit-learn.org/stable/modules/generated/sklearn.feature_extraction.text.CountVectorizer.html)\n",
    "* `TfidfVectorizer` provádí konverzi textů na číselné pole s využitím algoritmu TF-IDF, dokumentace je [zde](https://scikit-learn.org/stable/modules/generated/sklearn.feature_extraction.text.TfidfVectorizer.html)\n",
    "* `ConfusionMatrixDisplay` - vizualizace matice záměn, dokumentace je [zde](https://scikit-learn.org/stable/modules/generated/sklearn.metrics.ConfusionMatrixDisplay.html)\n",
    "* `accuracy_score` - funkce pro vyhodnocení výsledků modelu, dokumentace je [zde](https://scikit-learn.org/stable/modules/classes.html#classification-metrics)"
   ]
  },
  {
   "cell_type": "markdown",
   "metadata": {},
   "source": [
    "## Co to je NLP\n",
    "Práce s přirozeným jazykem je odlišná od práce s jinými daty, a proto si zaslouží vlastní skupinu technik a algoritmů - NLP (Natural Language Processing). Ne všechny úlohy NLP se musí řešit pomocí strojového učení, ale v dnešní době tomu tak většinou je. Příklady úloh, které spadají do NLP jsou například:\n",
    "\n",
    "- Strojový překlad (text v angličtině => text v češtině)\n",
    "- Rozpoznávání řeči (řeč v češtině => text v češtině)\n",
    "- Syntéza řeči (text v češtině > řeč v češtině)\n",
    "- Klasifikace textu\n",
    "\n",
    "Tyto úlohy určitě znáte i z běžného života. Další úlohy, které řeší NLP, a nacházejí se často \"pod kapotou\" jiných systémů, jsou například:\n",
    "\n",
    "- Rozpoznávání pojmenovaných entit (NER, Named Entity Recognition): Pojmenované entity jsou výrazy, které označují jména, místa, data, názvy, ... Jaké pojmenované entity bychom mohli označit například ve větě _Král Karel si v Londýně včera zašel do kavárny Starbucks._ ?\n",
    "- Určování slovních druhů (POS tagging, Part-of-speech tagging)\n",
    "- Zjednodušení textu, shrnutí textu\n",
    "- Určení významu slova (WSD, Word Sense Disambiguation): Při dvou významech slova _kolej_ (studentské ubytování, železniční dráha), který z nich je zachycený větou _Včera proběhl na koleji večírek._ ?\n",
    "\n",
    "### Reprezentace textových dat\n",
    "\n",
    "Naše datasety doposud obsahovaly proměnné, a datové body (pozorování) reprezentované pomocí těchto proměnných. Například u vzorku vody jsme dostali proměnné na základě chemického rozboru. U textových dat většinou dostaneme syrovější podobu dat, nikoliv proměnné. Jako kdybychom dostali vzorky vody, a sami museli provést chemickou analýzu.\n",
    "\n",
    "Obecně řečeno, i v případě textu budeme jednotlivá pozorování nebo datové body reprezentovat pomocí číselných hodnot vstupních proměnných. Co ale budou tyto proměnné, označené v obrázku jako barvy, reprezentovat?\n",
    "\n",
    "K reprezentování dat můžeme využít `CountVectorizer`. Ten vytvoří matici, kde každé slovo je reprezentováno jedním sloupcem a každý text ve vstupních datech jedním řádkem. Jeho fungování si nejprve ukážeme na jednoduchých datech, kde 4 uživatelé a uživatelky diskusního fóra vyjádřili své názory na jazyk Python. Celkem máme 4 diskusní příspěvky. Naším úkolem by bylo provést analýzu textu, která zjistí, kolik uživatelů (uživatelek) má k Pythonu kladný vztah a kolik záporný. Tento typ úloh je často označován jako analýza sentimentu (*sentiment analysis*).\n",
    "\n",
    "Níže vidíme pole, které má 8 sloupců (v datech je totiž 8 unikátních slov) a 4 řádky (v datech jsou 4 řetězce). Pomocí metody `vec.get_feature_names_out()` si můžeme zobrazit popisky sloupců."
   ]
  },
  {
   "cell_type": "code",
   "execution_count": 3,
   "metadata": {},
   "outputs": [
    {
     "data": {
      "text/plain": [
       "array([[0, 1, 0, 1, 0, 0, 1, 0],\n",
       "       [0, 0, 0, 0, 0, 1, 1, 0],\n",
       "       [1, 0, 0, 1, 1, 0, 1, 1],\n",
       "       [0, 0, 1, 0, 0, 0, 1, 0]])"
      ]
     },
     "execution_count": 3,
     "metadata": {},
     "output_type": "execute_result"
    }
   ],
   "source": [
    "X = [\"Python is great\", \"I like Python\", \"Python is the best language\", \"I hate Python\"]\n",
    "vec = CountVectorizer()\n",
    "X = vec.fit_transform(X)\n",
    "X = X.toarray()\n",
    "X"
   ]
  },
  {
   "cell_type": "code",
   "execution_count": 4,
   "metadata": {},
   "outputs": [
    {
     "data": {
      "text/plain": [
       "array(['best', 'great', 'hate', 'is', 'language', 'like', 'python', 'the'],\n",
       "      dtype=object)"
      ]
     },
     "execution_count": 4,
     "metadata": {},
     "output_type": "execute_result"
    }
   ],
   "source": [
    "vec.get_feature_names_out()"
   ]
  },
  {
   "cell_type": "markdown",
   "metadata": {},
   "source": [
    "Pro větší přehlednost si můžeme převést data do pandas tabulky. Vidíme například, že slovo `great` má hodnotu `1` pro řádek `0` (dokument na nulté pozici při počítání od 0). V datech vidíme, že slovo `great` se v něm skutečně vyskytuje. Ve všech ostatních příspěvcích se toto slovo nevyskytuje, proto mají ostatní řádky v tom sloupci hodnotu `0`."
   ]
  },
  {
   "cell_type": "code",
   "execution_count": 5,
   "metadata": {},
   "outputs": [
    {
     "data": {
      "text/html": [
       "<div>\n",
       "<style scoped>\n",
       "    .dataframe tbody tr th:only-of-type {\n",
       "        vertical-align: middle;\n",
       "    }\n",
       "\n",
       "    .dataframe tbody tr th {\n",
       "        vertical-align: top;\n",
       "    }\n",
       "\n",
       "    .dataframe thead th {\n",
       "        text-align: right;\n",
       "    }\n",
       "</style>\n",
       "<table border=\"1\" class=\"dataframe\">\n",
       "  <thead>\n",
       "    <tr style=\"text-align: right;\">\n",
       "      <th></th>\n",
       "      <th>best</th>\n",
       "      <th>great</th>\n",
       "      <th>hate</th>\n",
       "      <th>is</th>\n",
       "      <th>language</th>\n",
       "      <th>like</th>\n",
       "      <th>python</th>\n",
       "      <th>the</th>\n",
       "    </tr>\n",
       "  </thead>\n",
       "  <tbody>\n",
       "    <tr>\n",
       "      <th>0</th>\n",
       "      <td>0</td>\n",
       "      <td>1</td>\n",
       "      <td>0</td>\n",
       "      <td>1</td>\n",
       "      <td>0</td>\n",
       "      <td>0</td>\n",
       "      <td>1</td>\n",
       "      <td>0</td>\n",
       "    </tr>\n",
       "    <tr>\n",
       "      <th>1</th>\n",
       "      <td>0</td>\n",
       "      <td>0</td>\n",
       "      <td>0</td>\n",
       "      <td>0</td>\n",
       "      <td>0</td>\n",
       "      <td>1</td>\n",
       "      <td>1</td>\n",
       "      <td>0</td>\n",
       "    </tr>\n",
       "    <tr>\n",
       "      <th>2</th>\n",
       "      <td>1</td>\n",
       "      <td>0</td>\n",
       "      <td>0</td>\n",
       "      <td>1</td>\n",
       "      <td>1</td>\n",
       "      <td>0</td>\n",
       "      <td>1</td>\n",
       "      <td>1</td>\n",
       "    </tr>\n",
       "    <tr>\n",
       "      <th>3</th>\n",
       "      <td>0</td>\n",
       "      <td>0</td>\n",
       "      <td>1</td>\n",
       "      <td>0</td>\n",
       "      <td>0</td>\n",
       "      <td>0</td>\n",
       "      <td>1</td>\n",
       "      <td>0</td>\n",
       "    </tr>\n",
       "  </tbody>\n",
       "</table>\n",
       "</div>"
      ],
      "text/plain": [
       "   best  great  hate  is  language  like  python  the\n",
       "0     0      1     0   1         0     0       1    0\n",
       "1     0      0     0   0         0     1       1    0\n",
       "2     1      0     0   1         1     0       1    1\n",
       "3     0      0     1   0         0     0       1    0"
      ]
     },
     "execution_count": 5,
     "metadata": {},
     "output_type": "execute_result"
    }
   ],
   "source": [
    "df = pandas.DataFrame(X, columns=vec.get_feature_names_out())\n",
    "df"
   ]
  },
  {
   "cell_type": "markdown",
   "metadata": {},
   "source": [
    "Pokud se na slova podíváme, dokázali bychom je rozdělit na několik skupin:\n",
    "\n",
    "- slova, která naznačují kladný vztah (best, great, v tomto případě i slovo like, ale u něj to tak nemusí být vždy),\n",
    "- slova, která naznačují negativní vztah (hate),\n",
    "- slova, která nenaznačují ani jedno (is, language, python, the).\n",
    "\n",
    "Obecně bychom pak mohli říci, že vysoký počet \"pozitivní slov\" vede spíše k tomu, že celý komentář je zamýšlen pozitivně, a vysoký počet \"negativních slov\" vede k tomu, že celý komentář je negativní. Tento postup určitě není dokonalý (např. nerozpozná sarkasmus), ale umožní nám využít algoritmy, které už známe.\n",
    "\n",
    "Uvažujme dále, že v jazyce je obrovské množství slov a my je nechceme ručně třídit. Na internetu ale můžeme najít datové sady, které obsahují nějaký text a k tomu označení, zda je text celkově pozitivní nebo negativní. Například u recenzí často lidé vyplňují textový komentář i hodnocení na nějaké škále (např. 1 až 5 hvězd). Můžeme pak použít supervised learning (učení s učitelem) a \"ohodnotit\" jednotlivá slova (nebo skupiny slov) jako pozitivní nebo negativní."
   ]
  },
  {
   "cell_type": "markdown",
   "metadata": {},
   "source": [
    "Analýza sentimentu ale není jediná úloha, která funguje na tomto principu. Obecně můžeme třídit dokumenty do skupin například v systémech uživatelské podpory (stěžuje si uživatel na problémy s internetem, chce levnější tarif, chce si aktivovat roaming?), při třídění článků do rubrik, třídění zboží do kategorií atd.\n",
    "\n",
    "Pojďme si nyní načíst dataset, se [kterým budeme dneska pracovat](movies.csv). Jedná se o databázi popisů filmů ze serveru IMDB. K dispozici máme název filmu, jeho žánr (to bude naše výstupní proměnná), a text popisku filmu. Text popisku budeme chtít převést na naše vstupní proměnné. Pokud bychom dobře ohodnotili jednotlivé slova, můžeme pak podle jejich počtu v dokumentu odhadnout, jaké je celkové vyznění zprávy.\n",
    "\n",
    "Naším úkolem bude odhadnout žánr filmu, ke kterému popis patří. V datech máme název filmu, žánr a textový popis. Naším úkolem bude vytvořit model, který dokáže zařadit film do žánru, i když oficiální informaci od tvůrců filmu nemáme."
   ]
  },
  {
   "cell_type": "code",
   "execution_count": 6,
   "metadata": {},
   "outputs": [
    {
     "data": {
      "text/html": [
       "<div>\n",
       "<style scoped>\n",
       "    .dataframe tbody tr th:only-of-type {\n",
       "        vertical-align: middle;\n",
       "    }\n",
       "\n",
       "    .dataframe tbody tr th {\n",
       "        vertical-align: top;\n",
       "    }\n",
       "\n",
       "    .dataframe thead th {\n",
       "        text-align: right;\n",
       "    }\n",
       "</style>\n",
       "<table border=\"1\" class=\"dataframe\">\n",
       "  <thead>\n",
       "    <tr style=\"text-align: right;\">\n",
       "      <th></th>\n",
       "      <th>title</th>\n",
       "      <th>genre</th>\n",
       "      <th>text</th>\n",
       "    </tr>\n",
       "  </thead>\n",
       "  <tbody>\n",
       "    <tr>\n",
       "      <th>0</th>\n",
       "      <td>Santa Barbara (2014)</td>\n",
       "      <td>romance</td>\n",
       "      <td>Because of his close friend's betrayal, music ...</td>\n",
       "    </tr>\n",
       "    <tr>\n",
       "      <th>1</th>\n",
       "      <td>Behen Hogi Teri (2017)</td>\n",
       "      <td>comedy</td>\n",
       "      <td>Gattu (Rajkummar Rao) has a problem, he loves ...</td>\n",
       "    </tr>\n",
       "    <tr>\n",
       "      <th>2</th>\n",
       "      <td>The Last Coffin (2003)</td>\n",
       "      <td>horror</td>\n",
       "      <td>In the movie, a strange crossword puzzle start...</td>\n",
       "    </tr>\n",
       "    <tr>\n",
       "      <th>3</th>\n",
       "      <td>Lady Krampus (2016)</td>\n",
       "      <td>horror</td>\n",
       "      <td>It's Christmas time in Cleveland, Ohio and fou...</td>\n",
       "    </tr>\n",
       "    <tr>\n",
       "      <th>4</th>\n",
       "      <td>\"Pandemic\" (2016)</td>\n",
       "      <td>thriller</td>\n",
       "      <td>A deadly virus is unleashed on the fictional n...</td>\n",
       "    </tr>\n",
       "  </tbody>\n",
       "</table>\n",
       "</div>"
      ],
      "text/plain": [
       "                    title     genre  \\\n",
       "0    Santa Barbara (2014)   romance   \n",
       "1  Behen Hogi Teri (2017)    comedy   \n",
       "2  The Last Coffin (2003)    horror   \n",
       "3     Lady Krampus (2016)    horror   \n",
       "4       \"Pandemic\" (2016)  thriller   \n",
       "\n",
       "                                                text  \n",
       "0  Because of his close friend's betrayal, music ...  \n",
       "1  Gattu (Rajkummar Rao) has a problem, he loves ...  \n",
       "2  In the movie, a strange crossword puzzle start...  \n",
       "3  It's Christmas time in Cleveland, Ohio and fou...  \n",
       "4  A deadly virus is unleashed on the fictional n...  "
      ]
     },
     "execution_count": 6,
     "metadata": {},
     "output_type": "execute_result"
    }
   ],
   "source": [
    "data = pandas.read_csv(\"movies.csv\")\n",
    "data.head()"
   ]
  },
  {
   "cell_type": "markdown",
   "metadata": {},
   "source": [
    "Rozdělíme data na vstupní a výstupní proměnnou a poté na trénovací a testovací data."
   ]
  },
  {
   "cell_type": "code",
   "execution_count": 7,
   "metadata": {},
   "outputs": [],
   "source": [
    "X = data[\"text\"]\n",
    "y = data[\"genre\"]\n",
    "\n",
    "X_train, X_test, y_train, y_test = train_test_split(X, y, stratify=y, random_state=0)"
   ]
  },
  {
   "cell_type": "markdown",
   "metadata": {},
   "source": [
    "Musíme myslet na to, že rozložení jednotlivých skupin je velmi nerovnoměrné, například komedií je mnohem více než sci-fi filmů. Parametry strafify nám zařizuje, že funkce `train_test_split` zachová poměr jednotlivých skupin v testovacích i trénovacích datech stejný."
   ]
  },
  {
   "cell_type": "code",
   "execution_count": 8,
   "metadata": {},
   "outputs": [
    {
     "data": {
      "text/plain": [
       "<Axes: xlabel='genre'>"
      ]
     },
     "execution_count": 8,
     "metadata": {},
     "output_type": "execute_result"
    },
    {
     "data": {
      "image/png": "[encoded data removed]",
      "text/plain": [
       "<Figure size 640x480 with 1 Axes>"
      ]
     },
     "metadata": {},
     "output_type": "display_data"
    }
   ],
   "source": [
    "data.groupby(\"genre\").size().plot(kind=\"bar\")"
   ]
  },
  {
   "cell_type": "code",
   "execution_count": null,
   "metadata": {},
   "outputs": [],
   "source": [
    "sns"
   ]
  },
  {
   "cell_type": "markdown",
   "metadata": {},
   "source": [
    "Jako první formu reprezentace popisků vyzkoušíme jednotlivá slova a jejich počty. V podstatě vytvoříme slovní zásobu, která bude obsahovat všechna slova, co se v našich trénovacích datech objeví. Jedno slovo bude jedna proměnná a hodnota proměnné bude počet, kolikrát se slovo v dokumentu (zde popisku filmu) objeví. Opět použijeme `CountVectorizer`."
   ]
  },
  {
   "cell_type": "code",
   "execution_count": 9,
   "metadata": {},
   "outputs": [],
   "source": [
    "vec = CountVectorizer()\n",
    "X_train = vec.fit_transform(X_train)\n",
    "X_test = vec.transform(X_test)"
   ]
  },
  {
   "cell_type": "markdown",
   "metadata": {},
   "source": [
    "Jak teď naše data vypadají?"
   ]
  },
  {
   "cell_type": "code",
   "execution_count": 10,
   "metadata": {},
   "outputs": [
    {
     "data": {
      "text/plain": [
       "array([[0, 0, 0, ..., 0, 0, 0],\n",
       "       [0, 0, 0, ..., 0, 0, 0],\n",
       "       [0, 0, 0, ..., 0, 0, 0],\n",
       "       ...,\n",
       "       [0, 1, 0, ..., 0, 0, 0],\n",
       "       [0, 0, 0, ..., 0, 0, 0],\n",
       "       [0, 0, 0, ..., 0, 0, 0]], dtype=int64)"
      ]
     },
     "execution_count": 10,
     "metadata": {},
     "output_type": "execute_result"
    }
   ],
   "source": [
    "X_train.toarray()"
   ]
  },
  {
   "cell_type": "markdown",
   "metadata": {},
   "source": [
    "Podívejme se na rozměry tabulky."
   ]
  },
  {
   "cell_type": "code",
   "execution_count": 11,
   "metadata": {},
   "outputs": [
    {
     "data": {
      "text/plain": [
       "(11181, 49445)"
      ]
     },
     "execution_count": 11,
     "metadata": {},
     "output_type": "execute_result"
    }
   ],
   "source": [
    "X_train.toarray().shape"
   ]
  },
  {
   "cell_type": "code",
   "execution_count": 12,
   "metadata": {},
   "outputs": [
    {
     "data": {
      "text/plain": [
       "array(['00', '000', '003', ..., 'ťthe', 'źs', 'žš'], dtype=object)"
      ]
     },
     "execution_count": 12,
     "metadata": {},
     "output_type": "execute_result"
    }
   ],
   "source": [
    "vec.get_feature_names_out()"
   ]
  },
  {
   "cell_type": "markdown",
   "metadata": {},
   "source": [
    "Vidíme, že data mají cca 49 tisíc unikátních slov. Bylo by pro nás jako pro lidi opravdu příliš pracné tato slova ručně projít a rozdělit na skupiny, jako jsme to provedli u imaginárních dat s hodnoceními jazyka Python. Můžeme ale využít některý z algoritmů supervised learning. Ten zařadí film do žánru v závislosti na tom, do jakých žánrů patří filmy s popisy, které obsahuje podobná slova.\n",
    "\n",
    "Pojďme tedy zkusit tyto vstupní proměnné předat klasifikačnímu algoritmu K Nearest Neighbours. Uvažujme například 5 nejbližších sousedů, tj. výchozí hodnotu."
   ]
  },
  {
   "cell_type": "code",
   "execution_count": 13,
   "metadata": {},
   "outputs": [],
   "source": [
    "clf = KNeighborsClassifier()\n",
    "clf.fit(X_train, y_train)\n",
    "y_pred = clf.predict(X_test)"
   ]
  },
  {
   "cell_type": "code",
   "execution_count": 14,
   "metadata": {},
   "outputs": [
    {
     "data": {
      "text/plain": [
       "<sklearn.metrics._plot.confusion_matrix.ConfusionMatrixDisplay at 0x1ed440cb830>"
      ]
     },
     "execution_count": 14,
     "metadata": {},
     "output_type": "execute_result"
    },
    {
     "data": {
      "image/png": "[encoded data removed]",
      "text/plain": [
       "<Figure size 640x480 with 2 Axes>"
      ]
     },
     "metadata": {},
     "output_type": "display_data"
    }
   ],
   "source": [
    "ConfusionMatrixDisplay.from_estimator(\n",
    "    clf,\n",
    "    X_test,\n",
    "    y_test,\n",
    ")"
   ]
  },
  {
   "cell_type": "code",
   "execution_count": 15,
   "metadata": {},
   "outputs": [
    {
     "data": {
      "text/plain": [
       "0.48940166353635634"
      ]
     },
     "execution_count": 15,
     "metadata": {},
     "output_type": "execute_result"
    }
   ],
   "source": [
    "accuracy_score(y_test, y_pred)"
   ]
  },
  {
   "attachments": {
    "tf-idf.png": {
     "image/png": "[encoded data removed]"
    }
   },
   "cell_type": "markdown",
   "metadata": {},
   "source": [
    "Jak můžeme úspěšnost modelu zlepšit? V podstatě jsou dvě úrovně: Úroveň dat, a úroveň klasifikačního algoritmu. Pojďme začít u dat, protože když nebudeme mít čistá data, žádný algoritmus nás nezachrání (toto se dá také shrnout pořekadlem \"garbage in, garbage out\").\n",
    "\n",
    "- Všimněme si, že nejčastější slova jsou taková, která se nacházejí skoro ve všech popiskách. Těmto častým slovům, která nenesou žádný význam, se říka _stop words_. Každý jazyk má svůj blacklist těchto slov, která se většinou z dat úplně vyfiltrují. `CountVectorizer` má parametr `stop_words`, který můžeme nastavit na hodnotu `\"english\"`. \n",
    "\n",
    "- Dále se zamysleme nad tím, co znamenají hodnoty našich vstupních proměnných. Možná by bylo lepší tyto hodnoty nějak normalizovat (co kdybychom například měli veliké rozdíly mezi délkou vstupních dokumentů?). Populární metoda pro normalizaci četností slov je TF-IDF (Term Frequency Inverse Document Frequency). Tato normalizace zohledňuje jak četnost slova v dokumentu, tak i to, jak často se objevuje vůbec v celých vstupních datech. Takže slovo, které by se velmi často objevovalo jen v několika dokumentech, by mělo větší váhu, než jiné slovo, které se objevuje v mnoha dokumentech. \n",
    "\n",
    "![tf-idf.png](attachment:tf-idf.png)\n",
    "\n",
    "Můžeme tedy `CountVectorizer` vyměnit za `TfidfVectorizer`. Jak moc je teď důležitý parametr `stop_words`?"
   ]
  },
  {
   "cell_type": "code",
   "execution_count": 16,
   "metadata": {},
   "outputs": [
    {
     "data": {
      "text/plain": [
       "array([[0.        , 0.72664149, 0.        , 0.5728925 , 0.        ,\n",
       "        0.        , 0.37919167, 0.        ],\n",
       "       [0.        , 0.        , 0.        , 0.        , 0.        ,\n",
       "        0.88654763, 0.46263733, 0.        ],\n",
       "       [0.50676543, 0.        , 0.        , 0.39953968, 0.50676543,\n",
       "        0.        , 0.26445122, 0.50676543],\n",
       "       [0.        , 0.        , 0.88654763, 0.        , 0.        ,\n",
       "        0.        , 0.46263733, 0.        ]])"
      ]
     },
     "execution_count": 16,
     "metadata": {},
     "output_type": "execute_result"
    }
   ],
   "source": [
    "X = [\"Python is great\", \"I like Python\", \"Python is the best language\", \"I hate Python\"]\n",
    "vec = TfidfVectorizer()\n",
    "X = vec.fit_transform(X)\n",
    "X = X.toarray()\n",
    "X"
   ]
  },
  {
   "cell_type": "code",
   "execution_count": 17,
   "metadata": {},
   "outputs": [
    {
     "data": {
      "text/plain": [
       "array(['best', 'great', 'hate', 'is', 'language', 'like', 'python', 'the'],\n",
       "      dtype=object)"
      ]
     },
     "execution_count": 17,
     "metadata": {},
     "output_type": "execute_result"
    }
   ],
   "source": [
    "vec.get_feature_names_out()"
   ]
  },
  {
   "cell_type": "code",
   "execution_count": 18,
   "metadata": {},
   "outputs": [
    {
     "data": {
      "text/html": [
       "<div>\n",
       "<style scoped>\n",
       "    .dataframe tbody tr th:only-of-type {\n",
       "        vertical-align: middle;\n",
       "    }\n",
       "\n",
       "    .dataframe tbody tr th {\n",
       "        vertical-align: top;\n",
       "    }\n",
       "\n",
       "    .dataframe thead th {\n",
       "        text-align: right;\n",
       "    }\n",
       "</style>\n",
       "<table border=\"1\" class=\"dataframe\">\n",
       "  <thead>\n",
       "    <tr style=\"text-align: right;\">\n",
       "      <th></th>\n",
       "      <th>best</th>\n",
       "      <th>great</th>\n",
       "      <th>hate</th>\n",
       "      <th>is</th>\n",
       "      <th>language</th>\n",
       "      <th>like</th>\n",
       "      <th>python</th>\n",
       "      <th>the</th>\n",
       "    </tr>\n",
       "  </thead>\n",
       "  <tbody>\n",
       "    <tr>\n",
       "      <th>0</th>\n",
       "      <td>0.000000</td>\n",
       "      <td>0.726641</td>\n",
       "      <td>0.000000</td>\n",
       "      <td>0.572892</td>\n",
       "      <td>0.000000</td>\n",
       "      <td>0.000000</td>\n",
       "      <td>0.379192</td>\n",
       "      <td>0.000000</td>\n",
       "    </tr>\n",
       "    <tr>\n",
       "      <th>1</th>\n",
       "      <td>0.000000</td>\n",
       "      <td>0.000000</td>\n",
       "      <td>0.000000</td>\n",
       "      <td>0.000000</td>\n",
       "      <td>0.000000</td>\n",
       "      <td>0.886548</td>\n",
       "      <td>0.462637</td>\n",
       "      <td>0.000000</td>\n",
       "    </tr>\n",
       "    <tr>\n",
       "      <th>2</th>\n",
       "      <td>0.506765</td>\n",
       "      <td>0.000000</td>\n",
       "      <td>0.000000</td>\n",
       "      <td>0.399540</td>\n",
       "      <td>0.506765</td>\n",
       "      <td>0.000000</td>\n",
       "      <td>0.264451</td>\n",
       "      <td>0.506765</td>\n",
       "    </tr>\n",
       "    <tr>\n",
       "      <th>3</th>\n",
       "      <td>0.000000</td>\n",
       "      <td>0.000000</td>\n",
       "      <td>0.886548</td>\n",
       "      <td>0.000000</td>\n",
       "      <td>0.000000</td>\n",
       "      <td>0.000000</td>\n",
       "      <td>0.462637</td>\n",
       "      <td>0.000000</td>\n",
       "    </tr>\n",
       "  </tbody>\n",
       "</table>\n",
       "</div>"
      ],
      "text/plain": [
       "       best     great      hate        is  language      like    python  \\\n",
       "0  0.000000  0.726641  0.000000  0.572892  0.000000  0.000000  0.379192   \n",
       "1  0.000000  0.000000  0.000000  0.000000  0.000000  0.886548  0.462637   \n",
       "2  0.506765  0.000000  0.000000  0.399540  0.506765  0.000000  0.264451   \n",
       "3  0.000000  0.000000  0.886548  0.000000  0.000000  0.000000  0.462637   \n",
       "\n",
       "        the  \n",
       "0  0.000000  \n",
       "1  0.000000  \n",
       "2  0.506765  \n",
       "3  0.000000  "
      ]
     },
     "execution_count": 18,
     "metadata": {},
     "output_type": "execute_result"
    }
   ],
   "source": [
    "df = pandas.DataFrame(X, columns=vec.get_feature_names_out())\n",
    "df"
   ]
  },
  {
   "cell_type": "markdown",
   "metadata": {},
   "source": [
    "Nyní zkusíme přidat parametr `stop_words`. Která slova nám z dat zmizela?"
   ]
  },
  {
   "cell_type": "code",
   "execution_count": 19,
   "metadata": {},
   "outputs": [
    {
     "data": {
      "text/plain": [
       "array([[0.        , 0.88654763, 0.        , 0.        , 0.        ,\n",
       "        0.46263733],\n",
       "       [0.        , 0.        , 0.        , 0.        , 0.88654763,\n",
       "        0.46263733],\n",
       "       [0.66338461, 0.        , 0.        , 0.66338461, 0.        ,\n",
       "        0.34618161],\n",
       "       [0.        , 0.        , 0.88654763, 0.        , 0.        ,\n",
       "        0.46263733]])"
      ]
     },
     "execution_count": 19,
     "metadata": {},
     "output_type": "execute_result"
    }
   ],
   "source": [
    "X = [\"Python is great\", \"I like Python\", \"Python is the best language\", \"I hate Python\"]\n",
    "vec = TfidfVectorizer(stop_words=\"english\")\n",
    "X = vec.fit_transform(X)\n",
    "X = X.toarray()\n",
    "X"
   ]
  },
  {
   "cell_type": "code",
   "execution_count": 20,
   "metadata": {},
   "outputs": [
    {
     "data": {
      "text/plain": [
       "array(['best', 'great', 'hate', 'language', 'like', 'python'],\n",
       "      dtype=object)"
      ]
     },
     "execution_count": 20,
     "metadata": {},
     "output_type": "execute_result"
    }
   ],
   "source": [
    "vec.get_feature_names_out()"
   ]
  },
  {
   "cell_type": "code",
   "execution_count": 21,
   "metadata": {},
   "outputs": [
    {
     "data": {
      "text/html": [
       "<div>\n",
       "<style scoped>\n",
       "    .dataframe tbody tr th:only-of-type {\n",
       "        vertical-align: middle;\n",
       "    }\n",
       "\n",
       "    .dataframe tbody tr th {\n",
       "        vertical-align: top;\n",
       "    }\n",
       "\n",
       "    .dataframe thead th {\n",
       "        text-align: right;\n",
       "    }\n",
       "</style>\n",
       "<table border=\"1\" class=\"dataframe\">\n",
       "  <thead>\n",
       "    <tr style=\"text-align: right;\">\n",
       "      <th></th>\n",
       "      <th>best</th>\n",
       "      <th>great</th>\n",
       "      <th>hate</th>\n",
       "      <th>language</th>\n",
       "      <th>like</th>\n",
       "      <th>python</th>\n",
       "    </tr>\n",
       "  </thead>\n",
       "  <tbody>\n",
       "    <tr>\n",
       "      <th>0</th>\n",
       "      <td>0.000000</td>\n",
       "      <td>0.886548</td>\n",
       "      <td>0.000000</td>\n",
       "      <td>0.000000</td>\n",
       "      <td>0.000000</td>\n",
       "      <td>0.462637</td>\n",
       "    </tr>\n",
       "    <tr>\n",
       "      <th>1</th>\n",
       "      <td>0.000000</td>\n",
       "      <td>0.000000</td>\n",
       "      <td>0.000000</td>\n",
       "      <td>0.000000</td>\n",
       "      <td>0.886548</td>\n",
       "      <td>0.462637</td>\n",
       "    </tr>\n",
       "    <tr>\n",
       "      <th>2</th>\n",
       "      <td>0.663385</td>\n",
       "      <td>0.000000</td>\n",
       "      <td>0.000000</td>\n",
       "      <td>0.663385</td>\n",
       "      <td>0.000000</td>\n",
       "      <td>0.346182</td>\n",
       "    </tr>\n",
       "    <tr>\n",
       "      <th>3</th>\n",
       "      <td>0.000000</td>\n",
       "      <td>0.000000</td>\n",
       "      <td>0.886548</td>\n",
       "      <td>0.000000</td>\n",
       "      <td>0.000000</td>\n",
       "      <td>0.462637</td>\n",
       "    </tr>\n",
       "  </tbody>\n",
       "</table>\n",
       "</div>"
      ],
      "text/plain": [
       "       best     great      hate  language      like    python\n",
       "0  0.000000  0.886548  0.000000  0.000000  0.000000  0.462637\n",
       "1  0.000000  0.000000  0.000000  0.000000  0.886548  0.462637\n",
       "2  0.663385  0.000000  0.000000  0.663385  0.000000  0.346182\n",
       "3  0.000000  0.000000  0.886548  0.000000  0.000000  0.462637"
      ]
     },
     "execution_count": 21,
     "metadata": {},
     "output_type": "execute_result"
    }
   ],
   "source": [
    "df = pandas.DataFrame(X, columns=vec.get_feature_names_out())\n",
    "df"
   ]
  },
  {
   "cell_type": "markdown",
   "metadata": {},
   "source": [
    "### Čtení na doma - postup výpočtu\n",
    "\n",
    "Podívejme se na způsob výpočtu. Vraťme se k tabulce, kterou vygeneruje `CountVectorizer`."
   ]
  },
  {
   "cell_type": "code",
   "execution_count": 22,
   "metadata": {},
   "outputs": [
    {
     "data": {
      "text/plain": [
       "array([[0, 1, 0, 0, 0, 1],\n",
       "       [0, 0, 0, 0, 1, 1],\n",
       "       [1, 0, 0, 1, 0, 1],\n",
       "       [0, 0, 1, 0, 0, 1]], dtype=int64)"
      ]
     },
     "execution_count": 22,
     "metadata": {},
     "output_type": "execute_result"
    }
   ],
   "source": [
    "X = [\"Python is great\", \"I like Python\", \"Python is the best language\", \"I hate Python\"]\n",
    "\n",
    "vec = CountVectorizer(stop_words=\"english\")\n",
    "X = vec.fit_transform(X)\n",
    "X = X.toarray()\n",
    "X"
   ]
  },
  {
   "cell_type": "markdown",
   "metadata": {},
   "source": [
    "Nyní porovnejme matici s tím, co vygeneruje `TfidfVectorizer`. Dále přibyl parametr `smooth_idf`, jehož funkci si ještě objasníme."
   ]
  },
  {
   "cell_type": "code",
   "execution_count": 23,
   "metadata": {},
   "outputs": [
    {
     "data": {
      "text/plain": [
       "array([[0.        , 0.9222914 , 0.        , 0.        , 0.        ,\n",
       "        0.38649524],\n",
       "       [0.        , 0.        , 0.        , 0.        , 0.9222914 ,\n",
       "        0.38649524],\n",
       "       [0.67796827, 0.        , 0.        , 0.67796827, 0.        ,\n",
       "        0.28410924],\n",
       "       [0.        , 0.        , 0.9222914 , 0.        , 0.        ,\n",
       "        0.38649524]])"
      ]
     },
     "execution_count": 23,
     "metadata": {},
     "output_type": "execute_result"
    }
   ],
   "source": [
    "X = [\"Python is great\", \"I like Python\", \"Python is the best language\", \"I hate Python\"]\n",
    "\n",
    "vec = TfidfVectorizer(stop_words=\"english\", smooth_idf=False)\n",
    "X = vec.fit_transform(X)\n",
    "X = X.toarray()\n",
    "X"
   ]
  },
  {
   "cell_type": "code",
   "execution_count": 24,
   "metadata": {},
   "outputs": [
    {
     "data": {
      "text/plain": [
       "array(['best', 'great', 'hate', 'language', 'like', 'python'],\n",
       "      dtype=object)"
      ]
     },
     "execution_count": 24,
     "metadata": {},
     "output_type": "execute_result"
    }
   ],
   "source": [
    "vec.get_feature_names_out()"
   ]
  },
  {
   "cell_type": "markdown",
   "metadata": {},
   "source": [
    "Pro přehlednost si zobrazíme výsledek jako pandas tabulku (`DataFrame`)."
   ]
  },
  {
   "cell_type": "code",
   "execution_count": 25,
   "metadata": {},
   "outputs": [
    {
     "data": {
      "text/html": [
       "<div>\n",
       "<style scoped>\n",
       "    .dataframe tbody tr th:only-of-type {\n",
       "        vertical-align: middle;\n",
       "    }\n",
       "\n",
       "    .dataframe tbody tr th {\n",
       "        vertical-align: top;\n",
       "    }\n",
       "\n",
       "    .dataframe thead th {\n",
       "        text-align: right;\n",
       "    }\n",
       "</style>\n",
       "<table border=\"1\" class=\"dataframe\">\n",
       "  <thead>\n",
       "    <tr style=\"text-align: right;\">\n",
       "      <th></th>\n",
       "      <th>best</th>\n",
       "      <th>great</th>\n",
       "      <th>hate</th>\n",
       "      <th>language</th>\n",
       "      <th>like</th>\n",
       "      <th>python</th>\n",
       "    </tr>\n",
       "  </thead>\n",
       "  <tbody>\n",
       "    <tr>\n",
       "      <th>0</th>\n",
       "      <td>0.000000</td>\n",
       "      <td>0.922291</td>\n",
       "      <td>0.000000</td>\n",
       "      <td>0.000000</td>\n",
       "      <td>0.000000</td>\n",
       "      <td>0.386495</td>\n",
       "    </tr>\n",
       "    <tr>\n",
       "      <th>1</th>\n",
       "      <td>0.000000</td>\n",
       "      <td>0.000000</td>\n",
       "      <td>0.000000</td>\n",
       "      <td>0.000000</td>\n",
       "      <td>0.922291</td>\n",
       "      <td>0.386495</td>\n",
       "    </tr>\n",
       "    <tr>\n",
       "      <th>2</th>\n",
       "      <td>0.677968</td>\n",
       "      <td>0.000000</td>\n",
       "      <td>0.000000</td>\n",
       "      <td>0.677968</td>\n",
       "      <td>0.000000</td>\n",
       "      <td>0.284109</td>\n",
       "    </tr>\n",
       "    <tr>\n",
       "      <th>3</th>\n",
       "      <td>0.000000</td>\n",
       "      <td>0.000000</td>\n",
       "      <td>0.922291</td>\n",
       "      <td>0.000000</td>\n",
       "      <td>0.000000</td>\n",
       "      <td>0.386495</td>\n",
       "    </tr>\n",
       "  </tbody>\n",
       "</table>\n",
       "</div>"
      ],
      "text/plain": [
       "       best     great      hate  language      like    python\n",
       "0  0.000000  0.922291  0.000000  0.000000  0.000000  0.386495\n",
       "1  0.000000  0.000000  0.000000  0.000000  0.922291  0.386495\n",
       "2  0.677968  0.000000  0.000000  0.677968  0.000000  0.284109\n",
       "3  0.000000  0.000000  0.922291  0.000000  0.000000  0.386495"
      ]
     },
     "execution_count": 25,
     "metadata": {},
     "output_type": "execute_result"
    }
   ],
   "source": [
    "df = pandas.DataFrame(X, columns=vec.get_feature_names_out())\n",
    "df"
   ]
  },
  {
   "cell_type": "markdown",
   "metadata": {},
   "source": [
    "Vypočítejme si nyní sami hodnoty v tabulce pro první řádek, abychom pochopili, jak `TfidfVectorizer` funguje. Začneme s výrazem great. Postupujeme podle vzorce.\n",
    "\n",
    "$$\n",
    "\\textrm{idf}(t) = \\log \\frac{n}{1 + \\textrm{df}(t)}\n",
    "$$\n",
    "\n",
    "kde $\\textrm{df}$ je počlet dokumentů, které obsahují výraz $t$, $n$ je celkový počet dokumentů a výsledkem je $idf$ (inverse document-frequency)."
   ]
  },
  {
   "cell_type": "code",
   "execution_count": 26,
   "metadata": {},
   "outputs": [
    {
     "data": {
      "text/plain": [
       "2.386294361119891"
      ]
     },
     "execution_count": 26,
     "metadata": {},
     "output_type": "execute_result"
    }
   ],
   "source": [
    "import numpy\n",
    "\n",
    "n = 4\n",
    "df_great = 1\n",
    "idf_great = numpy.log(n / df_great) + 1\n",
    "idf_great"
   ]
  },
  {
   "cell_type": "markdown",
   "metadata": {},
   "source": [
    "Dále dopočítáme hodnotu ukazatel tf-idf s využitím vzorce\n",
    "\n",
    "$$\n",
    "\\textrm{tf-idf}(t,d) = \\textrm{tf}(t,d) * \\textrm{tf}\n",
    "$$\n",
    "\n",
    "kde $\\textrm{tf}(t,d)$ znamená term-frequency, tj. počet výskytů výrazu $t$, který vidíme v tabulce, kterou nám vygeneroval `CountVectorizer`."
   ]
  },
  {
   "cell_type": "code",
   "execution_count": 27,
   "metadata": {},
   "outputs": [
    {
     "data": {
      "text/plain": [
       "2.386294361119891"
      ]
     },
     "execution_count": 27,
     "metadata": {},
     "output_type": "execute_result"
    }
   ],
   "source": [
    "tf_idf_great = 1 * idf_great\n",
    "tf_idf_great"
   ]
  },
  {
   "cell_type": "markdown",
   "metadata": {},
   "source": [
    "Nyní postupujeme stejně pro výraz Python. Ten se objevuje ve všech 4 dokumentech."
   ]
  },
  {
   "cell_type": "code",
   "execution_count": 28,
   "metadata": {},
   "outputs": [
    {
     "data": {
      "text/plain": [
       "1.0"
      ]
     },
     "execution_count": 28,
     "metadata": {},
     "output_type": "execute_result"
    }
   ],
   "source": [
    "df_python = 4\n",
    "idf_python = numpy.log(n / df_python) + 1\n",
    "idf_python"
   ]
  },
  {
   "cell_type": "code",
   "execution_count": 29,
   "metadata": {},
   "outputs": [
    {
     "data": {
      "text/plain": [
       "1.0"
      ]
     },
     "execution_count": 29,
     "metadata": {},
     "output_type": "execute_result"
    }
   ],
   "source": [
    "tf_idf_python = 1 * idf_python\n",
    "tf_idf_python"
   ]
  },
  {
   "cell_type": "markdown",
   "metadata": {},
   "source": [
    "Nakonec provedeme normalizaci, kterou získáme jako podíl tf-idf pro dané slovo a odmocninu druhých mocnin tf-idf pro všechna slova. Níže vidíme, že výsledek odpovídá hodnotě pro výraz great v dokumentu 0."
   ]
  },
  {
   "cell_type": "code",
   "execution_count": 30,
   "metadata": {},
   "outputs": [
    {
     "data": {
      "text/plain": [
       "0.92229140312174"
      ]
     },
     "execution_count": 30,
     "metadata": {},
     "output_type": "execute_result"
    }
   ],
   "source": [
    "tf_idf_great / numpy.sqrt(tf_idf_great ** 2 + tf_idf_python ** 2)"
   ]
  },
  {
   "cell_type": "markdown",
   "metadata": {},
   "source": [
    "Dále si vyzkoušíme variantu bez parametru `smooth_idf`."
   ]
  },
  {
   "cell_type": "code",
   "execution_count": 31,
   "metadata": {},
   "outputs": [
    {
     "data": {
      "text/plain": [
       "array([[0.        , 0.88654763, 0.        , 0.        , 0.        ,\n",
       "        0.46263733],\n",
       "       [0.        , 0.        , 0.        , 0.        , 0.88654763,\n",
       "        0.46263733],\n",
       "       [0.66338461, 0.        , 0.        , 0.66338461, 0.        ,\n",
       "        0.34618161],\n",
       "       [0.        , 0.        , 0.88654763, 0.        , 0.        ,\n",
       "        0.46263733]])"
      ]
     },
     "execution_count": 31,
     "metadata": {},
     "output_type": "execute_result"
    }
   ],
   "source": [
    "X = [\"Python is great\", \"I like Python\", \"Python is the best language\", \"I hate Python\"]\n",
    "\n",
    "vec = TfidfVectorizer(stop_words=\"english\")\n",
    "X = vec.fit_transform(X)\n",
    "X = X.toarray()\n",
    "X"
   ]
  },
  {
   "cell_type": "code",
   "execution_count": 32,
   "metadata": {},
   "outputs": [
    {
     "data": {
      "text/html": [
       "<div>\n",
       "<style scoped>\n",
       "    .dataframe tbody tr th:only-of-type {\n",
       "        vertical-align: middle;\n",
       "    }\n",
       "\n",
       "    .dataframe tbody tr th {\n",
       "        vertical-align: top;\n",
       "    }\n",
       "\n",
       "    .dataframe thead th {\n",
       "        text-align: right;\n",
       "    }\n",
       "</style>\n",
       "<table border=\"1\" class=\"dataframe\">\n",
       "  <thead>\n",
       "    <tr style=\"text-align: right;\">\n",
       "      <th></th>\n",
       "      <th>best</th>\n",
       "      <th>great</th>\n",
       "      <th>hate</th>\n",
       "      <th>language</th>\n",
       "      <th>like</th>\n",
       "      <th>python</th>\n",
       "    </tr>\n",
       "  </thead>\n",
       "  <tbody>\n",
       "    <tr>\n",
       "      <th>0</th>\n",
       "      <td>0.000000</td>\n",
       "      <td>0.886548</td>\n",
       "      <td>0.000000</td>\n",
       "      <td>0.000000</td>\n",
       "      <td>0.000000</td>\n",
       "      <td>0.462637</td>\n",
       "    </tr>\n",
       "    <tr>\n",
       "      <th>1</th>\n",
       "      <td>0.000000</td>\n",
       "      <td>0.000000</td>\n",
       "      <td>0.000000</td>\n",
       "      <td>0.000000</td>\n",
       "      <td>0.886548</td>\n",
       "      <td>0.462637</td>\n",
       "    </tr>\n",
       "    <tr>\n",
       "      <th>2</th>\n",
       "      <td>0.663385</td>\n",
       "      <td>0.000000</td>\n",
       "      <td>0.000000</td>\n",
       "      <td>0.663385</td>\n",
       "      <td>0.000000</td>\n",
       "      <td>0.346182</td>\n",
       "    </tr>\n",
       "    <tr>\n",
       "      <th>3</th>\n",
       "      <td>0.000000</td>\n",
       "      <td>0.000000</td>\n",
       "      <td>0.886548</td>\n",
       "      <td>0.000000</td>\n",
       "      <td>0.000000</td>\n",
       "      <td>0.462637</td>\n",
       "    </tr>\n",
       "  </tbody>\n",
       "</table>\n",
       "</div>"
      ],
      "text/plain": [
       "       best     great      hate  language      like    python\n",
       "0  0.000000  0.886548  0.000000  0.000000  0.000000  0.462637\n",
       "1  0.000000  0.000000  0.000000  0.000000  0.886548  0.462637\n",
       "2  0.663385  0.000000  0.000000  0.663385  0.000000  0.346182\n",
       "3  0.000000  0.000000  0.886548  0.000000  0.000000  0.462637"
      ]
     },
     "execution_count": 32,
     "metadata": {},
     "output_type": "execute_result"
    }
   ],
   "source": [
    "df = pandas.DataFrame(X, columns=vec.get_feature_names_out())\n",
    "df"
   ]
  },
  {
   "cell_type": "markdown",
   "metadata": {},
   "source": [
    "Rozdíl je v tom, že idf počítáme z mírně upraveného vzorce\n",
    "\n",
    "$$\n",
    "\\textrm{idf}(t) = \\log \\frac{1 + n}{1 + \\textrm{df}(t)} + 1\n",
    "$$"
   ]
  },
  {
   "cell_type": "code",
   "execution_count": 33,
   "metadata": {},
   "outputs": [
    {
     "data": {
      "text/plain": [
       "0.8865476297873808"
      ]
     },
     "execution_count": 33,
     "metadata": {},
     "output_type": "execute_result"
    }
   ],
   "source": [
    "n = 4\n",
    "df_great = 1\n",
    "idf_great = numpy.log((1 + n) / (1 + df_great)) + 1\n",
    "tf_idf_great = 1 * idf_great\n",
    "df_python = 4\n",
    "idf_python = numpy.log((1 + n) / (1 + df_python)) + 1\n",
    "tf_idf_python = 1 * idf_python\n",
    "tf_idf_great / numpy.sqrt(tf_idf_great ** 2 + tf_idf_python ** 2)"
   ]
  },
  {
   "cell_type": "markdown",
   "metadata": {},
   "source": [
    "### Vlastní seznam stop words\n",
    "\n",
    "Pokud nám nevyhovuje výchozí seznam stop words pro daný jazyk, můžeme si vytvořit svůj. To se může hodit pro češtinu nebo třeba v situaci, že se dané slovo vyskytuje často (např. v příspěvcích o Pythonu se bude často opakovat slovo Python)."
   ]
  },
  {
   "cell_type": "code",
   "execution_count": 34,
   "metadata": {},
   "outputs": [
    {
     "name": "stderr",
     "output_type": "stream",
     "text": [
      "c:\\Users\\jiri.pesik.HULD\\AppData\\Local\\Programs\\Python\\Python312\\Lib\\site-packages\\sklearn\\feature_extraction\\text.py:408: UserWarning: Your stop_words may be inconsistent with your preprocessing. Tokenizing the stop words generated tokens ['python'] not in stop_words.\n",
      "  warnings.warn(\n"
     ]
    },
    {
     "data": {
      "text/plain": [
       "array([[0.        , 0.83388421, 0.        , 0.55193942, 0.        ],\n",
       "       [0.        , 0.        , 0.        , 0.46263733, 0.88654763],\n",
       "       [0.72664149, 0.5728925 , 0.        , 0.37919167, 0.        ],\n",
       "       [0.        , 0.        , 0.88654763, 0.46263733, 0.        ]])"
      ]
     },
     "execution_count": 34,
     "metadata": {},
     "output_type": "execute_result"
    }
   ],
   "source": [
    "X = [\n",
    "    \"Python je nejlepší\", \n",
    "    \"Mám rád Python!\", \n",
    "    \"Python je nejlepší jazyk\",\n",
    "    \"Nesnáším Python!\"\n",
    "    ]\n",
    "vec = TfidfVectorizer(stop_words=[\"je\", \"mám\", \"Python\"])\n",
    "X = vec.fit_transform(X)\n",
    "X = X.toarray()\n",
    "X"
   ]
  },
  {
   "cell_type": "code",
   "execution_count": 35,
   "metadata": {},
   "outputs": [
    {
     "data": {
      "text/plain": [
       "array(['jazyk', 'nejlepší', 'nesnáším', 'python', 'rád'], dtype=object)"
      ]
     },
     "execution_count": 35,
     "metadata": {},
     "output_type": "execute_result"
    }
   ],
   "source": [
    "vec.get_feature_names_out()"
   ]
  },
  {
   "cell_type": "code",
   "execution_count": 36,
   "metadata": {},
   "outputs": [
    {
     "data": {
      "text/html": [
       "<div>\n",
       "<style scoped>\n",
       "    .dataframe tbody tr th:only-of-type {\n",
       "        vertical-align: middle;\n",
       "    }\n",
       "\n",
       "    .dataframe tbody tr th {\n",
       "        vertical-align: top;\n",
       "    }\n",
       "\n",
       "    .dataframe thead th {\n",
       "        text-align: right;\n",
       "    }\n",
       "</style>\n",
       "<table border=\"1\" class=\"dataframe\">\n",
       "  <thead>\n",
       "    <tr style=\"text-align: right;\">\n",
       "      <th></th>\n",
       "      <th>jazyk</th>\n",
       "      <th>nejlepší</th>\n",
       "      <th>nesnáším</th>\n",
       "      <th>python</th>\n",
       "      <th>rád</th>\n",
       "    </tr>\n",
       "  </thead>\n",
       "  <tbody>\n",
       "    <tr>\n",
       "      <th>0</th>\n",
       "      <td>0.000000</td>\n",
       "      <td>0.833884</td>\n",
       "      <td>0.000000</td>\n",
       "      <td>0.551939</td>\n",
       "      <td>0.000000</td>\n",
       "    </tr>\n",
       "    <tr>\n",
       "      <th>1</th>\n",
       "      <td>0.000000</td>\n",
       "      <td>0.000000</td>\n",
       "      <td>0.000000</td>\n",
       "      <td>0.462637</td>\n",
       "      <td>0.886548</td>\n",
       "    </tr>\n",
       "    <tr>\n",
       "      <th>2</th>\n",
       "      <td>0.726641</td>\n",
       "      <td>0.572892</td>\n",
       "      <td>0.000000</td>\n",
       "      <td>0.379192</td>\n",
       "      <td>0.000000</td>\n",
       "    </tr>\n",
       "    <tr>\n",
       "      <th>3</th>\n",
       "      <td>0.000000</td>\n",
       "      <td>0.000000</td>\n",
       "      <td>0.886548</td>\n",
       "      <td>0.462637</td>\n",
       "      <td>0.000000</td>\n",
       "    </tr>\n",
       "  </tbody>\n",
       "</table>\n",
       "</div>"
      ],
      "text/plain": [
       "      jazyk  nejlepší  nesnáším    python       rád\n",
       "0  0.000000  0.833884  0.000000  0.551939  0.000000\n",
       "1  0.000000  0.000000  0.000000  0.462637  0.886548\n",
       "2  0.726641  0.572892  0.000000  0.379192  0.000000\n",
       "3  0.000000  0.000000  0.886548  0.462637  0.000000"
      ]
     },
     "execution_count": 36,
     "metadata": {},
     "output_type": "execute_result"
    }
   ],
   "source": [
    "df = pandas.DataFrame(X, columns=vec.get_feature_names_out())\n",
    "df"
   ]
  },
  {
   "cell_type": "markdown",
   "metadata": {},
   "source": [
    "### Klasifikace dokumentů\n",
    "\n",
    "Vyzoušejme nyní klasifikaci dokumentů (resp. filmů, o kterých dané dokumenty pojednávají). Využít můžeme například algoritmus `KNeighborsClassifier`."
   ]
  },
  {
   "cell_type": "code",
   "execution_count": 37,
   "metadata": {},
   "outputs": [
    {
     "data": {
      "text/plain": [
       "0.5709686074590824"
      ]
     },
     "execution_count": 37,
     "metadata": {},
     "output_type": "execute_result"
    }
   ],
   "source": [
    "X = data[\"text\"]\n",
    "y = data[\"genre\"]\n",
    "\n",
    "X_train, X_test, y_train, y_test = train_test_split(X, y, stratify=y, random_state=0)\n",
    "\n",
    "vec = TfidfVectorizer()\n",
    "X_train = vec.fit_transform(X_train)\n",
    "X_test = vec.transform(X_test)\n",
    "\n",
    "clf = KNeighborsClassifier()\n",
    "clf.fit(X_train, y_train)\n",
    "y_pred = clf.predict(X_test)\n",
    "\n",
    "accuracy_score(y_test, y_pred)"
   ]
  },
  {
   "cell_type": "markdown",
   "metadata": {},
   "source": [
    "Porovnáme accuracy s výsledkem stejného algoritmu při využití parametru `stop_words`."
   ]
  },
  {
   "cell_type": "code",
   "execution_count": 38,
   "metadata": {},
   "outputs": [
    {
     "data": {
      "text/plain": [
       "0.5811644754494232"
      ]
     },
     "execution_count": 38,
     "metadata": {},
     "output_type": "execute_result"
    }
   ],
   "source": [
    "X = data[\"text\"]\n",
    "y = data[\"genre\"]\n",
    "\n",
    "X_train, X_test, y_train, y_test = train_test_split(X, y, stratify=y, random_state=0)\n",
    "\n",
    "# Uvažujeme stop_words v angličtině\n",
    "vec = TfidfVectorizer(stop_words=\"english\")\n",
    "X_train = vec.fit_transform(X_train)\n",
    "X_test = vec.transform(X_test)\n",
    "\n",
    "clf = KNeighborsClassifier()\n",
    "clf.fit(X_train, y_train)\n",
    "y_pred = clf.predict(X_test)\n",
    "\n",
    "accuracy_score(y_test, y_pred)"
   ]
  },
  {
   "cell_type": "markdown",
   "metadata": {},
   "source": [
    "Níže si zobrazíme matici záměn. Vidíme například, že náš model označil 228 hororů za komedii a naopak 108 komedií za horor."
   ]
  },
  {
   "cell_type": "code",
   "execution_count": 39,
   "metadata": {},
   "outputs": [
    {
     "data": {
      "text/plain": [
       "<sklearn.metrics._plot.confusion_matrix.ConfusionMatrixDisplay at 0x1ed222e6c00>"
      ]
     },
     "execution_count": 39,
     "metadata": {},
     "output_type": "execute_result"
    },
    {
     "data": {
      "image/png": "[encoded data removed]",
      "text/plain": [
       "<Figure size 640x480 with 2 Axes>"
      ]
     },
     "metadata": {},
     "output_type": "display_data"
    }
   ],
   "source": [
    "ConfusionMatrixDisplay.from_estimator(\n",
    "    clf,\n",
    "    X_test,\n",
    "    y_test,\n",
    ")"
   ]
  },
  {
   "cell_type": "markdown",
   "metadata": {},
   "source": [
    "Zkusme nyní přidat i dvojice slov. K tomu slouží parametr `ngram_range`."
   ]
  },
  {
   "cell_type": "code",
   "execution_count": 40,
   "metadata": {},
   "outputs": [
    {
     "data": {
      "text/plain": [
       "0.594311778910652"
      ]
     },
     "execution_count": 40,
     "metadata": {},
     "output_type": "execute_result"
    }
   ],
   "source": [
    "X = data[\"text\"]\n",
    "y = data[\"genre\"]\n",
    "\n",
    "X_train, X_test, y_train, y_test = train_test_split(X, y, stratify=y, random_state=0)\n",
    "\n",
    "# Uvažujeme stop words v angličtině, samostatná slova a dvojice slov\n",
    "vec = TfidfVectorizer(stop_words=\"english\", ngram_range=(1, 2))\n",
    "X_train = vec.fit_transform(X_train)\n",
    "X_test = vec.transform(X_test)\n",
    "\n",
    "clf = KNeighborsClassifier()\n",
    "clf.fit(X_train, y_train)\n",
    "y_pred = clf.predict(X_test)\n",
    "\n",
    "accuracy_score(y_test, y_pred)"
   ]
  },
  {
   "cell_type": "markdown",
   "metadata": {},
   "source": [
    "Dále můžeme využít i lineární verzi algoritmu Support Vector Machine. Ten očividně dosahuje výrazně lepších výsledků.\n",
    "\n",
    "Protože je počet filmů v různých žánrech různý, jedná se o další nevyvážený (*unballanced*) dataset. Aby to algoritmus SVM zohlednil, přidáme parametr `class_weight=balanced`."
   ]
  },
  {
   "cell_type": "code",
   "execution_count": 41,
   "metadata": {},
   "outputs": [
    {
     "name": "stderr",
     "output_type": "stream",
     "text": [
      "c:\\Users\\jiri.pesik.HULD\\AppData\\Local\\Programs\\Python\\Python312\\Lib\\site-packages\\sklearn\\svm\\_classes.py:32: FutureWarning: The default value of `dual` will change from `True` to `'auto'` in 1.5. Set the value of `dual` explicitly to suppress the warning.\n",
      "  warnings.warn(\n"
     ]
    },
    {
     "data": {
      "text/plain": [
       "0.77247115642608"
      ]
     },
     "execution_count": 41,
     "metadata": {},
     "output_type": "execute_result"
    }
   ],
   "source": [
    "X = data[\"text\"]\n",
    "y = data[\"genre\"]\n",
    "\n",
    "X_train, X_test, y_train, y_test = train_test_split(X, y, stratify=y, random_state=0)\n",
    "\n",
    "vec = TfidfVectorizer(stop_words=\"english\", ngram_range=(1, 2))\n",
    "X_train = vec.fit_transform(X_train)\n",
    "X_test = vec.transform(X_test)\n",
    "\n",
    "clf = LinearSVC(class_weight=\"balanced\")\n",
    "clf.fit(X_train, y_train)\n",
    "y_pred = clf.predict(X_test)\n",
    "\n",
    "accuracy_score(y_test, y_pred)"
   ]
  },
  {
   "cell_type": "markdown",
   "metadata": {},
   "source": [
    "Zjistit můžeme seznam skupin, na které algoritmus třídí popisy (to jsou žárny filmů, které uvažujeme)."
   ]
  },
  {
   "cell_type": "code",
   "execution_count": 42,
   "metadata": {},
   "outputs": [
    {
     "data": {
      "text/plain": [
       "array(['action', 'comedy', 'horror', 'romance', 'sci-fi', 'thriller',\n",
       "       'western'], dtype=object)"
      ]
     },
     "execution_count": 42,
     "metadata": {},
     "output_type": "execute_result"
    }
   ],
   "source": [
    "clf.classes_"
   ]
  },
  {
   "cell_type": "markdown",
   "metadata": {},
   "source": [
    "Pro každé slovo a každý žánr vygeneruje algoritmus SVM koeficient. Čím je koeficient vyšší, patří spíše koeficient k danému žánru."
   ]
  },
  {
   "cell_type": "code",
   "execution_count": 43,
   "metadata": {},
   "outputs": [
    {
     "data": {
      "text/html": [
       "<div>\n",
       "<style scoped>\n",
       "    .dataframe tbody tr th:only-of-type {\n",
       "        vertical-align: middle;\n",
       "    }\n",
       "\n",
       "    .dataframe tbody tr th {\n",
       "        vertical-align: top;\n",
       "    }\n",
       "\n",
       "    .dataframe thead th {\n",
       "        text-align: right;\n",
       "    }\n",
       "</style>\n",
       "<table border=\"1\" class=\"dataframe\">\n",
       "  <thead>\n",
       "    <tr style=\"text-align: right;\">\n",
       "      <th></th>\n",
       "      <th>action</th>\n",
       "      <th>comedy</th>\n",
       "      <th>horror</th>\n",
       "      <th>romance</th>\n",
       "      <th>sci-fi</th>\n",
       "      <th>thriller</th>\n",
       "      <th>western</th>\n",
       "    </tr>\n",
       "    <tr>\n",
       "      <th>words</th>\n",
       "      <th></th>\n",
       "      <th></th>\n",
       "      <th></th>\n",
       "      <th></th>\n",
       "      <th></th>\n",
       "      <th></th>\n",
       "      <th></th>\n",
       "    </tr>\n",
       "  </thead>\n",
       "  <tbody>\n",
       "    <tr>\n",
       "      <th>00</th>\n",
       "      <td>-1.110178e-01</td>\n",
       "      <td>0.077759</td>\n",
       "      <td>0.119142</td>\n",
       "      <td>-1.969639e-02</td>\n",
       "      <td>-0.032717</td>\n",
       "      <td>-0.078708</td>\n",
       "      <td>-0.020498</td>\n",
       "    </tr>\n",
       "    <tr>\n",
       "      <th>00 31</th>\n",
       "      <td>-1.342387e-02</td>\n",
       "      <td>-0.092837</td>\n",
       "      <td>0.138789</td>\n",
       "      <td>2.168404e-19</td>\n",
       "      <td>-0.017770</td>\n",
       "      <td>0.000000</td>\n",
       "      <td>0.000000</td>\n",
       "    </tr>\n",
       "    <tr>\n",
       "      <th>00 bonus</th>\n",
       "      <td>-2.052927e-03</td>\n",
       "      <td>0.012859</td>\n",
       "      <td>0.000000</td>\n",
       "      <td>-4.859085e-03</td>\n",
       "      <td>0.000000</td>\n",
       "      <td>-0.009856</td>\n",
       "      <td>-0.003418</td>\n",
       "    </tr>\n",
       "    <tr>\n",
       "      <th>00 breast</th>\n",
       "      <td>-2.052927e-03</td>\n",
       "      <td>0.012859</td>\n",
       "      <td>0.000000</td>\n",
       "      <td>-4.859085e-03</td>\n",
       "      <td>0.000000</td>\n",
       "      <td>-0.009856</td>\n",
       "      <td>-0.003418</td>\n",
       "    </tr>\n",
       "    <tr>\n",
       "      <th>00 cameraman</th>\n",
       "      <td>3.252607e-19</td>\n",
       "      <td>-0.073188</td>\n",
       "      <td>0.120041</td>\n",
       "      <td>0.000000e+00</td>\n",
       "      <td>-0.004287</td>\n",
       "      <td>-0.020664</td>\n",
       "      <td>0.000000</td>\n",
       "    </tr>\n",
       "    <tr>\n",
       "      <th>...</th>\n",
       "      <td>...</td>\n",
       "      <td>...</td>\n",
       "      <td>...</td>\n",
       "      <td>...</td>\n",
       "      <td>...</td>\n",
       "      <td>...</td>\n",
       "      <td>...</td>\n",
       "    </tr>\n",
       "    <tr>\n",
       "      <th>źs</th>\n",
       "      <td>-4.337334e-02</td>\n",
       "      <td>0.109317</td>\n",
       "      <td>-0.055493</td>\n",
       "      <td>-6.234519e-03</td>\n",
       "      <td>-0.022747</td>\n",
       "      <td>-0.035536</td>\n",
       "      <td>0.000000</td>\n",
       "    </tr>\n",
       "    <tr>\n",
       "      <th>źs 70</th>\n",
       "      <td>-2.168667e-02</td>\n",
       "      <td>0.054658</td>\n",
       "      <td>-0.027746</td>\n",
       "      <td>-3.117259e-03</td>\n",
       "      <td>-0.011374</td>\n",
       "      <td>-0.017768</td>\n",
       "      <td>0.000000</td>\n",
       "    </tr>\n",
       "    <tr>\n",
       "      <th>źs sit</th>\n",
       "      <td>-2.168667e-02</td>\n",
       "      <td>0.054658</td>\n",
       "      <td>-0.027746</td>\n",
       "      <td>-3.117259e-03</td>\n",
       "      <td>-0.011374</td>\n",
       "      <td>-0.017768</td>\n",
       "      <td>0.000000</td>\n",
       "    </tr>\n",
       "    <tr>\n",
       "      <th>žš</th>\n",
       "      <td>-1.295680e-02</td>\n",
       "      <td>-0.005874</td>\n",
       "      <td>-0.009363</td>\n",
       "      <td>-1.772791e-02</td>\n",
       "      <td>0.062392</td>\n",
       "      <td>-0.003743</td>\n",
       "      <td>0.000000</td>\n",
       "    </tr>\n",
       "    <tr>\n",
       "      <th>žš brand</th>\n",
       "      <td>-1.295680e-02</td>\n",
       "      <td>-0.005874</td>\n",
       "      <td>-0.009363</td>\n",
       "      <td>-1.772791e-02</td>\n",
       "      <td>0.062392</td>\n",
       "      <td>-0.003743</td>\n",
       "      <td>0.000000</td>\n",
       "    </tr>\n",
       "  </tbody>\n",
       "</table>\n",
       "<p>521095 rows × 7 columns</p>\n",
       "</div>"
      ],
      "text/plain": [
       "                    action    comedy    horror       romance    sci-fi  \\\n",
       "words                                                                    \n",
       "00           -1.110178e-01  0.077759  0.119142 -1.969639e-02 -0.032717   \n",
       "00 31        -1.342387e-02 -0.092837  0.138789  2.168404e-19 -0.017770   \n",
       "00 bonus     -2.052927e-03  0.012859  0.000000 -4.859085e-03  0.000000   \n",
       "00 breast    -2.052927e-03  0.012859  0.000000 -4.859085e-03  0.000000   \n",
       "00 cameraman  3.252607e-19 -0.073188  0.120041  0.000000e+00 -0.004287   \n",
       "...                    ...       ...       ...           ...       ...   \n",
       "źs           -4.337334e-02  0.109317 -0.055493 -6.234519e-03 -0.022747   \n",
       "źs 70        -2.168667e-02  0.054658 -0.027746 -3.117259e-03 -0.011374   \n",
       "źs sit       -2.168667e-02  0.054658 -0.027746 -3.117259e-03 -0.011374   \n",
       "žš           -1.295680e-02 -0.005874 -0.009363 -1.772791e-02  0.062392   \n",
       "žš brand     -1.295680e-02 -0.005874 -0.009363 -1.772791e-02  0.062392   \n",
       "\n",
       "              thriller   western  \n",
       "words                             \n",
       "00           -0.078708 -0.020498  \n",
       "00 31         0.000000  0.000000  \n",
       "00 bonus     -0.009856 -0.003418  \n",
       "00 breast    -0.009856 -0.003418  \n",
       "00 cameraman -0.020664  0.000000  \n",
       "...                ...       ...  \n",
       "źs           -0.035536  0.000000  \n",
       "źs 70        -0.017768  0.000000  \n",
       "źs sit       -0.017768  0.000000  \n",
       "žš           -0.003743  0.000000  \n",
       "žš brand     -0.003743  0.000000  \n",
       "\n",
       "[521095 rows x 7 columns]"
      ]
     },
     "execution_count": 43,
     "metadata": {},
     "output_type": "execute_result"
    }
   ],
   "source": [
    "df_coef = pandas.DataFrame(clf.coef_.T, columns=clf.classes_)\n",
    "df_coef[\"words\"] = vec.get_feature_names_out()\n",
    "df_coef = df_coef.set_index(\"words\")\n",
    "df_coef"
   ]
  },
  {
   "cell_type": "markdown",
   "metadata": {},
   "source": [
    "Můžeme si to vyzkoušet na žánru sci-fi. Níže jsou slova, která jsou typická pro sci-fi (mají nejvyšší hodnoty koeficientů)."
   ]
  },
  {
   "cell_type": "code",
   "execution_count": 44,
   "metadata": {},
   "outputs": [
    {
     "data": {
      "text/html": [
       "<div>\n",
       "<style scoped>\n",
       "    .dataframe tbody tr th:only-of-type {\n",
       "        vertical-align: middle;\n",
       "    }\n",
       "\n",
       "    .dataframe tbody tr th {\n",
       "        vertical-align: top;\n",
       "    }\n",
       "\n",
       "    .dataframe thead th {\n",
       "        text-align: right;\n",
       "    }\n",
       "</style>\n",
       "<table border=\"1\" class=\"dataframe\">\n",
       "  <thead>\n",
       "    <tr style=\"text-align: right;\">\n",
       "      <th></th>\n",
       "      <th>action</th>\n",
       "      <th>comedy</th>\n",
       "      <th>horror</th>\n",
       "      <th>romance</th>\n",
       "      <th>sci-fi</th>\n",
       "      <th>thriller</th>\n",
       "      <th>western</th>\n",
       "    </tr>\n",
       "    <tr>\n",
       "      <th>words</th>\n",
       "      <th></th>\n",
       "      <th></th>\n",
       "      <th></th>\n",
       "      <th></th>\n",
       "      <th></th>\n",
       "      <th></th>\n",
       "      <th></th>\n",
       "    </tr>\n",
       "  </thead>\n",
       "  <tbody>\n",
       "    <tr>\n",
       "      <th>earth</th>\n",
       "      <td>-0.305544</td>\n",
       "      <td>-1.049080</td>\n",
       "      <td>-0.795856</td>\n",
       "      <td>-0.346325</td>\n",
       "      <td>3.565868</td>\n",
       "      <td>-0.865330</td>\n",
       "      <td>-0.390167</td>\n",
       "    </tr>\n",
       "    <tr>\n",
       "      <th>alien</th>\n",
       "      <td>-0.625959</td>\n",
       "      <td>-0.950723</td>\n",
       "      <td>-0.753304</td>\n",
       "      <td>-0.100391</td>\n",
       "      <td>3.075054</td>\n",
       "      <td>-0.355362</td>\n",
       "      <td>-0.127352</td>\n",
       "    </tr>\n",
       "    <tr>\n",
       "      <th>space</th>\n",
       "      <td>-0.849306</td>\n",
       "      <td>-0.839350</td>\n",
       "      <td>-0.310389</td>\n",
       "      <td>-0.170092</td>\n",
       "      <td>2.801740</td>\n",
       "      <td>-0.421741</td>\n",
       "      <td>-0.213480</td>\n",
       "    </tr>\n",
       "    <tr>\n",
       "      <th>planet</th>\n",
       "      <td>0.026377</td>\n",
       "      <td>-0.833928</td>\n",
       "      <td>-0.553625</td>\n",
       "      <td>-0.235634</td>\n",
       "      <td>2.684631</td>\n",
       "      <td>-0.671789</td>\n",
       "      <td>-0.303675</td>\n",
       "    </tr>\n",
       "    <tr>\n",
       "      <th>future</th>\n",
       "      <td>0.071173</td>\n",
       "      <td>-0.851809</td>\n",
       "      <td>-0.677676</td>\n",
       "      <td>0.229715</td>\n",
       "      <td>2.285674</td>\n",
       "      <td>-0.321754</td>\n",
       "      <td>-0.362394</td>\n",
       "    </tr>\n",
       "    <tr>\n",
       "      <th>scientist</th>\n",
       "      <td>-0.235538</td>\n",
       "      <td>-0.749948</td>\n",
       "      <td>0.183006</td>\n",
       "      <td>-0.130906</td>\n",
       "      <td>1.858985</td>\n",
       "      <td>-0.329763</td>\n",
       "      <td>-0.172943</td>\n",
       "    </tr>\n",
       "    <tr>\n",
       "      <th>humans</th>\n",
       "      <td>0.003954</td>\n",
       "      <td>-0.586366</td>\n",
       "      <td>-0.460290</td>\n",
       "      <td>-0.212928</td>\n",
       "      <td>1.786474</td>\n",
       "      <td>-0.135461</td>\n",
       "      <td>-0.108849</td>\n",
       "    </tr>\n",
       "    <tr>\n",
       "      <th>universe</th>\n",
       "      <td>0.087262</td>\n",
       "      <td>-0.551388</td>\n",
       "      <td>-0.237815</td>\n",
       "      <td>-0.083737</td>\n",
       "      <td>1.657259</td>\n",
       "      <td>-0.496430</td>\n",
       "      <td>-0.156670</td>\n",
       "    </tr>\n",
       "    <tr>\n",
       "      <th>science</th>\n",
       "      <td>-0.358140</td>\n",
       "      <td>-0.669996</td>\n",
       "      <td>0.076131</td>\n",
       "      <td>-0.024774</td>\n",
       "      <td>1.628298</td>\n",
       "      <td>-0.458513</td>\n",
       "      <td>0.010562</td>\n",
       "    </tr>\n",
       "    <tr>\n",
       "      <th>government</th>\n",
       "      <td>0.398769</td>\n",
       "      <td>-0.931299</td>\n",
       "      <td>-0.350972</td>\n",
       "      <td>-0.436382</td>\n",
       "      <td>1.624148</td>\n",
       "      <td>-0.066905</td>\n",
       "      <td>0.118156</td>\n",
       "    </tr>\n",
       "    <tr>\n",
       "      <th>fi</th>\n",
       "      <td>-0.272165</td>\n",
       "      <td>-0.646416</td>\n",
       "      <td>-0.135908</td>\n",
       "      <td>0.023320</td>\n",
       "      <td>1.616683</td>\n",
       "      <td>-0.316247</td>\n",
       "      <td>-0.111671</td>\n",
       "    </tr>\n",
       "    <tr>\n",
       "      <th>sci</th>\n",
       "      <td>-0.247751</td>\n",
       "      <td>-0.609926</td>\n",
       "      <td>-0.128806</td>\n",
       "      <td>0.008115</td>\n",
       "      <td>1.543129</td>\n",
       "      <td>-0.299955</td>\n",
       "      <td>-0.123275</td>\n",
       "    </tr>\n",
       "    <tr>\n",
       "      <th>humanity</th>\n",
       "      <td>-0.193607</td>\n",
       "      <td>-0.492137</td>\n",
       "      <td>0.089497</td>\n",
       "      <td>-0.160775</td>\n",
       "      <td>1.531281</td>\n",
       "      <td>-0.607235</td>\n",
       "      <td>0.025411</td>\n",
       "    </tr>\n",
       "    <tr>\n",
       "      <th>human</th>\n",
       "      <td>-0.729257</td>\n",
       "      <td>-0.997938</td>\n",
       "      <td>0.868838</td>\n",
       "      <td>-0.004849</td>\n",
       "      <td>1.460665</td>\n",
       "      <td>-0.223509</td>\n",
       "      <td>-0.395336</td>\n",
       "    </tr>\n",
       "    <tr>\n",
       "      <th>sci fi</th>\n",
       "      <td>-0.247449</td>\n",
       "      <td>-0.593126</td>\n",
       "      <td>-0.110345</td>\n",
       "      <td>0.026633</td>\n",
       "      <td>1.438116</td>\n",
       "      <td>-0.300091</td>\n",
       "      <td>-0.105125</td>\n",
       "    </tr>\n",
       "    <tr>\n",
       "      <th>scientists</th>\n",
       "      <td>0.029895</td>\n",
       "      <td>-0.607623</td>\n",
       "      <td>-0.208912</td>\n",
       "      <td>0.000861</td>\n",
       "      <td>1.372411</td>\n",
       "      <td>-0.152152</td>\n",
       "      <td>-0.127994</td>\n",
       "    </tr>\n",
       "    <tr>\n",
       "      <th>ship</th>\n",
       "      <td>-0.464275</td>\n",
       "      <td>-0.306491</td>\n",
       "      <td>-0.015037</td>\n",
       "      <td>0.120950</td>\n",
       "      <td>1.363643</td>\n",
       "      <td>-0.522264</td>\n",
       "      <td>-0.211645</td>\n",
       "    </tr>\n",
       "    <tr>\n",
       "      <th>world</th>\n",
       "      <td>0.388411</td>\n",
       "      <td>-0.311812</td>\n",
       "      <td>-0.625560</td>\n",
       "      <td>-0.406121</td>\n",
       "      <td>1.313124</td>\n",
       "      <td>0.449006</td>\n",
       "      <td>-1.033543</td>\n",
       "    </tr>\n",
       "    <tr>\n",
       "      <th>time travel</th>\n",
       "      <td>-0.256850</td>\n",
       "      <td>-0.364096</td>\n",
       "      <td>-0.162699</td>\n",
       "      <td>-0.150368</td>\n",
       "      <td>1.291275</td>\n",
       "      <td>-0.145794</td>\n",
       "      <td>-0.081751</td>\n",
       "    </tr>\n",
       "    <tr>\n",
       "      <th>abilities</th>\n",
       "      <td>0.052012</td>\n",
       "      <td>-0.674116</td>\n",
       "      <td>-0.084266</td>\n",
       "      <td>-0.033214</td>\n",
       "      <td>1.244575</td>\n",
       "      <td>-0.043383</td>\n",
       "      <td>-0.126491</td>\n",
       "    </tr>\n",
       "  </tbody>\n",
       "</table>\n",
       "</div>"
      ],
      "text/plain": [
       "               action    comedy    horror   romance    sci-fi  thriller  \\\n",
       "words                                                                     \n",
       "earth       -0.305544 -1.049080 -0.795856 -0.346325  3.565868 -0.865330   \n",
       "alien       -0.625959 -0.950723 -0.753304 -0.100391  3.075054 -0.355362   \n",
       "space       -0.849306 -0.839350 -0.310389 -0.170092  2.801740 -0.421741   \n",
       "planet       0.026377 -0.833928 -0.553625 -0.235634  2.684631 -0.671789   \n",
       "future       0.071173 -0.851809 -0.677676  0.229715  2.285674 -0.321754   \n",
       "scientist   -0.235538 -0.749948  0.183006 -0.130906  1.858985 -0.329763   \n",
       "humans       0.003954 -0.586366 -0.460290 -0.212928  1.786474 -0.135461   \n",
       "universe     0.087262 -0.551388 -0.237815 -0.083737  1.657259 -0.496430   \n",
       "science     -0.358140 -0.669996  0.076131 -0.024774  1.628298 -0.458513   \n",
       "government   0.398769 -0.931299 -0.350972 -0.436382  1.624148 -0.066905   \n",
       "fi          -0.272165 -0.646416 -0.135908  0.023320  1.616683 -0.316247   \n",
       "sci         -0.247751 -0.609926 -0.128806  0.008115  1.543129 -0.299955   \n",
       "humanity    -0.193607 -0.492137  0.089497 -0.160775  1.531281 -0.607235   \n",
       "human       -0.729257 -0.997938  0.868838 -0.004849  1.460665 -0.223509   \n",
       "sci fi      -0.247449 -0.593126 -0.110345  0.026633  1.438116 -0.300091   \n",
       "scientists   0.029895 -0.607623 -0.208912  0.000861  1.372411 -0.152152   \n",
       "ship        -0.464275 -0.306491 -0.015037  0.120950  1.363643 -0.522264   \n",
       "world        0.388411 -0.311812 -0.625560 -0.406121  1.313124  0.449006   \n",
       "time travel -0.256850 -0.364096 -0.162699 -0.150368  1.291275 -0.145794   \n",
       "abilities    0.052012 -0.674116 -0.084266 -0.033214  1.244575 -0.043383   \n",
       "\n",
       "              western  \n",
       "words                  \n",
       "earth       -0.390167  \n",
       "alien       -0.127352  \n",
       "space       -0.213480  \n",
       "planet      -0.303675  \n",
       "future      -0.362394  \n",
       "scientist   -0.172943  \n",
       "humans      -0.108849  \n",
       "universe    -0.156670  \n",
       "science      0.010562  \n",
       "government   0.118156  \n",
       "fi          -0.111671  \n",
       "sci         -0.123275  \n",
       "humanity     0.025411  \n",
       "human       -0.395336  \n",
       "sci fi      -0.105125  \n",
       "scientists  -0.127994  \n",
       "ship        -0.211645  \n",
       "world       -1.033543  \n",
       "time travel -0.081751  \n",
       "abilities   -0.126491  "
      ]
     },
     "execution_count": 44,
     "metadata": {},
     "output_type": "execute_result"
    }
   ],
   "source": [
    "df_coef.sort_values(\"sci-fi\", ascending=False).head(20)"
   ]
  },
  {
   "cell_type": "markdown",
   "metadata": {},
   "source": [
    "Níže jsou slova, která která jsou typická pro jiné žárny než pro sci-fi (mají nejnižší hodnoty koeficientů)."
   ]
  },
  {
   "cell_type": "code",
   "execution_count": 45,
   "metadata": {},
   "outputs": [
    {
     "data": {
      "text/html": [
       "<div>\n",
       "<style scoped>\n",
       "    .dataframe tbody tr th:only-of-type {\n",
       "        vertical-align: middle;\n",
       "    }\n",
       "\n",
       "    .dataframe tbody tr th {\n",
       "        vertical-align: top;\n",
       "    }\n",
       "\n",
       "    .dataframe thead th {\n",
       "        text-align: right;\n",
       "    }\n",
       "</style>\n",
       "<table border=\"1\" class=\"dataframe\">\n",
       "  <thead>\n",
       "    <tr style=\"text-align: right;\">\n",
       "      <th></th>\n",
       "      <th>action</th>\n",
       "      <th>comedy</th>\n",
       "      <th>horror</th>\n",
       "      <th>romance</th>\n",
       "      <th>sci-fi</th>\n",
       "      <th>thriller</th>\n",
       "      <th>western</th>\n",
       "    </tr>\n",
       "    <tr>\n",
       "      <th>words</th>\n",
       "      <th></th>\n",
       "      <th></th>\n",
       "      <th></th>\n",
       "      <th></th>\n",
       "      <th></th>\n",
       "      <th></th>\n",
       "      <th></th>\n",
       "    </tr>\n",
       "  </thead>\n",
       "  <tbody>\n",
       "    <tr>\n",
       "      <th>face</th>\n",
       "      <td>0.264577</td>\n",
       "      <td>-0.601017</td>\n",
       "      <td>3.105767e-01</td>\n",
       "      <td>0.221542</td>\n",
       "      <td>-0.456564</td>\n",
       "      <td>0.288235</td>\n",
       "      <td>-0.014898</td>\n",
       "    </tr>\n",
       "    <tr>\n",
       "      <th>ghost</th>\n",
       "      <td>-0.458955</td>\n",
       "      <td>-0.924409</td>\n",
       "      <td>1.833619e+00</td>\n",
       "      <td>-0.342129</td>\n",
       "      <td>-0.460815</td>\n",
       "      <td>0.282566</td>\n",
       "      <td>-0.118387</td>\n",
       "    </tr>\n",
       "    <tr>\n",
       "      <th>better</th>\n",
       "      <td>0.015046</td>\n",
       "      <td>0.827586</td>\n",
       "      <td>3.884094e-02</td>\n",
       "      <td>-0.322129</td>\n",
       "      <td>-0.461761</td>\n",
       "      <td>-0.431746</td>\n",
       "      <td>-0.114233</td>\n",
       "    </tr>\n",
       "    <tr>\n",
       "      <th>brother</th>\n",
       "      <td>0.374421</td>\n",
       "      <td>-0.814076</td>\n",
       "      <td>1.517002e-01</td>\n",
       "      <td>0.113788</td>\n",
       "      <td>-0.471054</td>\n",
       "      <td>0.119607</td>\n",
       "      <td>0.735144</td>\n",
       "    </tr>\n",
       "    <tr>\n",
       "      <th>gets</th>\n",
       "      <td>-0.148712</td>\n",
       "      <td>0.459813</td>\n",
       "      <td>-8.462203e-01</td>\n",
       "      <td>0.131542</td>\n",
       "      <td>-0.471515</td>\n",
       "      <td>0.356660</td>\n",
       "      <td>0.263321</td>\n",
       "    </tr>\n",
       "    <tr>\n",
       "      <th>house</th>\n",
       "      <td>-1.184854</td>\n",
       "      <td>-0.571967</td>\n",
       "      <td>2.105994e+00</td>\n",
       "      <td>-0.386934</td>\n",
       "      <td>-0.480518</td>\n",
       "      <td>0.132942</td>\n",
       "      <td>-0.897287</td>\n",
       "    </tr>\n",
       "    <tr>\n",
       "      <th>orbot</th>\n",
       "      <td>0.415281</td>\n",
       "      <td>0.000000</td>\n",
       "      <td>3.035766e-18</td>\n",
       "      <td>0.000000</td>\n",
       "      <td>-0.490230</td>\n",
       "      <td>0.000000</td>\n",
       "      <td>0.000000</td>\n",
       "    </tr>\n",
       "    <tr>\n",
       "      <th>girlfriend</th>\n",
       "      <td>-0.286361</td>\n",
       "      <td>0.799962</td>\n",
       "      <td>4.686213e-02</td>\n",
       "      <td>-0.139815</td>\n",
       "      <td>-0.510474</td>\n",
       "      <td>0.034139</td>\n",
       "      <td>-0.483527</td>\n",
       "    </tr>\n",
       "    <tr>\n",
       "      <th>decide</th>\n",
       "      <td>-0.189591</td>\n",
       "      <td>0.677621</td>\n",
       "      <td>2.287177e-01</td>\n",
       "      <td>-0.036119</td>\n",
       "      <td>-0.525864</td>\n",
       "      <td>-0.450979</td>\n",
       "      <td>-0.215649</td>\n",
       "    </tr>\n",
       "    <tr>\n",
       "      <th>town</th>\n",
       "      <td>-0.395280</td>\n",
       "      <td>-0.778853</td>\n",
       "      <td>5.478209e-01</td>\n",
       "      <td>0.000069</td>\n",
       "      <td>-0.531709</td>\n",
       "      <td>-0.411699</td>\n",
       "      <td>1.520110</td>\n",
       "    </tr>\n",
       "    <tr>\n",
       "      <th>gang</th>\n",
       "      <td>0.265154</td>\n",
       "      <td>-1.086324</td>\n",
       "      <td>-1.271547e+00</td>\n",
       "      <td>-0.295240</td>\n",
       "      <td>-0.578087</td>\n",
       "      <td>-0.719295</td>\n",
       "      <td>2.749482</td>\n",
       "    </tr>\n",
       "    <tr>\n",
       "      <th>blood</th>\n",
       "      <td>0.080106</td>\n",
       "      <td>-1.657251</td>\n",
       "      <td>2.945607e+00</td>\n",
       "      <td>-0.331755</td>\n",
       "      <td>-0.594742</td>\n",
       "      <td>-0.309754</td>\n",
       "      <td>-0.392645</td>\n",
       "    </tr>\n",
       "    <tr>\n",
       "      <th>killer</th>\n",
       "      <td>-0.471433</td>\n",
       "      <td>-2.237926</td>\n",
       "      <td>1.724066e+00</td>\n",
       "      <td>-0.409638</td>\n",
       "      <td>-0.630543</td>\n",
       "      <td>1.285854</td>\n",
       "      <td>0.247271</td>\n",
       "    </tr>\n",
       "    <tr>\n",
       "      <th>money</th>\n",
       "      <td>-0.209301</td>\n",
       "      <td>1.132279</td>\n",
       "      <td>-1.142158e+00</td>\n",
       "      <td>-0.426854</td>\n",
       "      <td>-0.636594</td>\n",
       "      <td>-0.074310</td>\n",
       "      <td>0.566236</td>\n",
       "    </tr>\n",
       "    <tr>\n",
       "      <th>daughter</th>\n",
       "      <td>-0.086703</td>\n",
       "      <td>-0.087383</td>\n",
       "      <td>-8.185474e-02</td>\n",
       "      <td>0.094638</td>\n",
       "      <td>-0.639733</td>\n",
       "      <td>0.339277</td>\n",
       "      <td>0.441079</td>\n",
       "    </tr>\n",
       "    <tr>\n",
       "      <th>horror</th>\n",
       "      <td>-0.765436</td>\n",
       "      <td>-2.542597</td>\n",
       "      <td>5.083340e+00</td>\n",
       "      <td>-0.534896</td>\n",
       "      <td>-0.652962</td>\n",
       "      <td>-1.009266</td>\n",
       "      <td>-0.367342</td>\n",
       "    </tr>\n",
       "    <tr>\n",
       "      <th>night</th>\n",
       "      <td>-0.738198</td>\n",
       "      <td>-0.893714</td>\n",
       "      <td>2.122809e+00</td>\n",
       "      <td>-0.051495</td>\n",
       "      <td>-0.657614</td>\n",
       "      <td>0.060568</td>\n",
       "      <td>-0.758135</td>\n",
       "    </tr>\n",
       "    <tr>\n",
       "      <th>zombies</th>\n",
       "      <td>-0.563926</td>\n",
       "      <td>-0.766787</td>\n",
       "      <td>2.237238e+00</td>\n",
       "      <td>-0.123861</td>\n",
       "      <td>-0.687748</td>\n",
       "      <td>-0.351070</td>\n",
       "      <td>-0.210530</td>\n",
       "    </tr>\n",
       "    <tr>\n",
       "      <th>love</th>\n",
       "      <td>-0.681247</td>\n",
       "      <td>-0.642391</td>\n",
       "      <td>-1.523869e+00</td>\n",
       "      <td>4.229292</td>\n",
       "      <td>-0.697383</td>\n",
       "      <td>-0.964504</td>\n",
       "      <td>-0.574959</td>\n",
       "    </tr>\n",
       "    <tr>\n",
       "      <th>comedy</th>\n",
       "      <td>-1.749761</td>\n",
       "      <td>5.994937</td>\n",
       "      <td>-1.842959e+00</td>\n",
       "      <td>-1.132088</td>\n",
       "      <td>-1.157547</td>\n",
       "      <td>-1.983850</td>\n",
       "      <td>-0.869114</td>\n",
       "    </tr>\n",
       "  </tbody>\n",
       "</table>\n",
       "</div>"
      ],
      "text/plain": [
       "              action    comedy        horror   romance    sci-fi  thriller  \\\n",
       "words                                                                        \n",
       "face        0.264577 -0.601017  3.105767e-01  0.221542 -0.456564  0.288235   \n",
       "ghost      -0.458955 -0.924409  1.833619e+00 -0.342129 -0.460815  0.282566   \n",
       "better      0.015046  0.827586  3.884094e-02 -0.322129 -0.461761 -0.431746   \n",
       "brother     0.374421 -0.814076  1.517002e-01  0.113788 -0.471054  0.119607   \n",
       "gets       -0.148712  0.459813 -8.462203e-01  0.131542 -0.471515  0.356660   \n",
       "house      -1.184854 -0.571967  2.105994e+00 -0.386934 -0.480518  0.132942   \n",
       "orbot       0.415281  0.000000  3.035766e-18  0.000000 -0.490230  0.000000   \n",
       "girlfriend -0.286361  0.799962  4.686213e-02 -0.139815 -0.510474  0.034139   \n",
       "decide     -0.189591  0.677621  2.287177e-01 -0.036119 -0.525864 -0.450979   \n",
       "town       -0.395280 -0.778853  5.478209e-01  0.000069 -0.531709 -0.411699   \n",
       "gang        0.265154 -1.086324 -1.271547e+00 -0.295240 -0.578087 -0.719295   \n",
       "blood       0.080106 -1.657251  2.945607e+00 -0.331755 -0.594742 -0.309754   \n",
       "killer     -0.471433 -2.237926  1.724066e+00 -0.409638 -0.630543  1.285854   \n",
       "money      -0.209301  1.132279 -1.142158e+00 -0.426854 -0.636594 -0.074310   \n",
       "daughter   -0.086703 -0.087383 -8.185474e-02  0.094638 -0.639733  0.339277   \n",
       "horror     -0.765436 -2.542597  5.083340e+00 -0.534896 -0.652962 -1.009266   \n",
       "night      -0.738198 -0.893714  2.122809e+00 -0.051495 -0.657614  0.060568   \n",
       "zombies    -0.563926 -0.766787  2.237238e+00 -0.123861 -0.687748 -0.351070   \n",
       "love       -0.681247 -0.642391 -1.523869e+00  4.229292 -0.697383 -0.964504   \n",
       "comedy     -1.749761  5.994937 -1.842959e+00 -1.132088 -1.157547 -1.983850   \n",
       "\n",
       "             western  \n",
       "words                 \n",
       "face       -0.014898  \n",
       "ghost      -0.118387  \n",
       "better     -0.114233  \n",
       "brother     0.735144  \n",
       "gets        0.263321  \n",
       "house      -0.897287  \n",
       "orbot       0.000000  \n",
       "girlfriend -0.483527  \n",
       "decide     -0.215649  \n",
       "town        1.520110  \n",
       "gang        2.749482  \n",
       "blood      -0.392645  \n",
       "killer      0.247271  \n",
       "money       0.566236  \n",
       "daughter    0.441079  \n",
       "horror     -0.367342  \n",
       "night      -0.758135  \n",
       "zombies    -0.210530  \n",
       "love       -0.574959  \n",
       "comedy     -0.869114  "
      ]
     },
     "execution_count": 45,
     "metadata": {},
     "output_type": "execute_result"
    }
   ],
   "source": [
    "df_coef.sort_values(\"sci-fi\", ascending=False).tail(20)"
   ]
  },
  {
   "cell_type": "markdown",
   "metadata": {},
   "source": [
    "### Čtení na doma: Seznam stop words pro češtinu\n",
    "\n",
    "I pro ostatní jazyky existují připravené seznamy stop words, pouze nejsou součástí modulu `scikit-learn`. Existuje například modul `stop-words`, který obsahuje stop words pro řadu jazyků (kromě češtiny třeba Ukrajinštinu, němčinu nebo katalánštinu). Modul je třeba nainstalovat.\n",
    "\n",
    "```\n",
    "pip install stop-word\n",
    "```\n",
    "\n",
    "Dále provedeme import funkce `get_stop_words`, které jako parametr `language` dáme hodnotu `czech`. Můžeme si to vyzkoušet na čtyřech větách, pro které jsme si seznam vytvořili sami."
   ]
  },
  {
   "cell_type": "code",
   "execution_count": 46,
   "metadata": {},
   "outputs": [
    {
     "name": "stderr",
     "output_type": "stream",
     "text": [
      "c:\\Users\\jiri.pesik.HULD\\AppData\\Local\\Programs\\Python\\Python312\\Lib\\site-packages\\sklearn\\feature_extraction\\text.py:408: UserWarning: Your stop_words may be inconsistent with your preprocessing. Tokenizing the stop words generated tokens ['chut', 'ted'] not in stop_words.\n",
      "  warnings.warn(\n"
     ]
    },
    {
     "data": {
      "text/plain": [
       "array([[0.        , 0.83388421, 0.        , 0.55193942, 0.        ],\n",
       "       [0.        , 0.        , 0.        , 0.46263733, 0.88654763],\n",
       "       [0.72664149, 0.5728925 , 0.        , 0.37919167, 0.        ],\n",
       "       [0.        , 0.        , 0.88654763, 0.46263733, 0.        ]])"
      ]
     },
     "execution_count": 46,
     "metadata": {},
     "output_type": "execute_result"
    }
   ],
   "source": [
    "from stop_words import get_stop_words\n",
    "\n",
    "X = [\n",
    "    \"Python je nejlepší\", \n",
    "    \"Mám rád Python!\", \n",
    "    \"Python je nejlepší jazyk\",\n",
    "    \"Nesnáším Python!\"\n",
    "    ]\n",
    "vec = TfidfVectorizer(stop_words=get_stop_words(language=\"czech\"))\n",
    "X = vec.fit_transform(X)\n",
    "X = X.toarray()\n",
    "X"
   ]
  },
  {
   "cell_type": "markdown",
   "metadata": {},
   "source": [
    "Níže je seznam slov, která jsou v matici. Vidíme, že zůstala stejná slova jako v případě, kdy jsme si seznam tvořili sami. Použitím tohoto modulu si tedy můžeme ušetřit spoustu práce."
   ]
  },
  {
   "cell_type": "code",
   "execution_count": 47,
   "metadata": {},
   "outputs": [
    {
     "data": {
      "text/plain": [
       "array(['jazyk', 'nejlepší', 'nesnáším', 'python', 'rád'], dtype=object)"
      ]
     },
     "execution_count": 47,
     "metadata": {},
     "output_type": "execute_result"
    }
   ],
   "source": [
    "vec.get_feature_names_out()"
   ]
  },
  {
   "cell_type": "markdown",
   "metadata": {},
   "source": [
    "### Čtení na doma: Váhy tříd v algoritmus Support Vector Machine\n",
    "\n",
    "Už jsme si říkali, že algoritmus Support Vector Machine funguje na principu vytváření nadrovin, které rozdělují nějaký prostor na dvě části. Současně víme, že algoritmus se snaží najít tzv. margin, tj. nějaké *ideální* rozdělení prostoru. Pokud máme data, která nelze lineárně oddělit, je třeba použít *soft margin*, tj. hranici, která body neoddělí úplně dokonale, ale ponechá některé body na nesprávné straně. Výsledný *soft margin* je tedy kompromisem mezi dvě kritérii:\n",
    "\n",
    "* hledáme co nejširší margin, tj. takový margin, který vytvoří co největší prostor mezi oběma skupinami,\n",
    "* chceme mít co nejméně bodů v \"nesprávné\" nadrovině.\n",
    "\n",
    "Pokud bychom klasifikovali dvě různě velké skupiny a přikládali každému chybně zařazenému bodu stejnou váhu (bez ohledu na jeho skupinu), algortimus by se více přizpůsobil početnější skupině, protože z ní máme více dat a tím pádem je třeba větší úsilí, abychom snížili počet chyb. Pokud ale přidáme chybám z ménně početné skupiny větší váhu, algoritmus je nucen věnovat větší pozornost i chybám z druhé skupiny.\n",
    "\n",
    "U parametru `class_weight` můžem zadat přímo váhy tříd jako slovník nebo použít parametr `balanced`, který nastaví váhy v závislosti na četnosti každé třídy v celém datasetu. Jinak řečeno, čím méně dat k nějaké třídě máme, tím větší váhu bude mít a tím pádem bude SVM více nucen při hledání ideálního margin věnovat pozornost chybám v rámci této třídy.\n",
    "\n",
    "## Další zdroje\n",
    "\n",
    "- [Using CountVectorizer to Extracting Features from Text\n",
    "](https://www.geeksforgeeks.org/using-countvectorizer-to-extracting-features-from-text/)\n",
    "- \n",
    "- [Cost-Sensitive SVM for Imbalanced Classification](https://machinelearningmastery.com/cost-sensitive-svm-for-imbalanced-classification/)\n",
    "- [Intuition for the regularization parameter in SVM](https://datascience.stackexchange.com/questions/4943/intuition-for-the-regularization-parameter-in-svm)"
   ]
  },
  {
   "cell_type": "markdown",
   "metadata": {},
   "source": [
    "## Cvičení\n",
    "\n",
    "V tomto cvičení zkus naimplementovat klasifikátor, který rozpozná pozitivní recenzi produktu od negativní. Pracuj se souborem [reviews.csv](reviews.csv). Soubor obsahuje text recenze, a výstupní proměnnou `label` se dvěma hodnotami, `neg` a `pos`. Můžeš si všimnout, že data už nějakým čištěním prošla. Porovnej alespoň dva algoritmy. Jaké je nejlepší f1-score, kterého jsi dosáhl/a?\n",
    "\n",
    "### Bonus 1\n",
    "\n",
    "Identifikuj ty recenze, které tvůj model označil špatně. Na pár z nich se podívej, a zkus odvodit, proč model chyboval.\n",
    "\n",
    "### Bonus 2\n",
    "\n",
    "Všimni si, že soubor obsahuje také sloupec `product`, který identifikuje kategorii produktu.\n",
    "\n",
    "1. Mohlo by být zajímavé se podívat, jestli je možné data do těchto kategorií shlukovat bez využití této informace. Data normalizuj (například pomocí `TfidfVectorizer`), a zkus spustit nějaký shlukovací algoritmus, například `KMeans`. Výsledky shlukování můžeš \"obarvit\" správnými kategoriemi. Povedlo se modelu predikovat kategorie? \n",
    "\n",
    "2. Vyzkoušej také klasifikaci do těchto kategorií. Které kategorie se těžko odlišují?\n",
    "\n",
    "Řešení příkladu (včetně bonusů) je [zde](reseni.ipynb). Video s řešením příkladu je [zde](https://youtu.be/y9aGD1L95HI)."
   ]
  }
 ],
 "metadata": {
  "kernelspec": {
   "display_name": "Python 3 (ipykernel)",
   "language": "python",
   "name": "python3"
  },
  "language_info": {
   "codemirror_mode": {
    "name": "ipython",
    "version": 3
   },
   "file_extension": ".py",
   "mimetype": "text/x-python",
   "name": "python",
   "nbconvert_exporter": "python",
   "pygments_lexer": "ipython3",
   "version": "3.10.6"
  }
 },
 "nbformat": 4,
 "nbformat_minor": 2
}
