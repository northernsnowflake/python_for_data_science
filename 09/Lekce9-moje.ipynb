{
 "cells": [
  {
   "cell_type": "code",
   "execution_count": null,
   "id": "e8bf7be3",
   "metadata": {},
   "outputs": [],
   "source": [
    "# Lekce 9"
   ]
  },
  {
   "cell_type": "code",
   "execution_count": 48,
   "id": "be285869",
   "metadata": {},
   "outputs": [],
   "source": [
    "import pandas \n",
    "\n",
    "from sklearn.metrics import balanced_accuracy_score\n",
    "\n",
    "from sklearn.svm import LinearSVC\n",
    "from sklearn.neighbors import KNeighborsClassifier\n",
    "from sklearn.metrics import accuracy_score, f1_score, classification_report\n",
    "from sklearn.model_selection import train_test_split\n",
    "from sklearn.feature_extraction.text import CountVectorizer, TfidfVectorizer\n",
    "from sklearn.metrics import ConfusionMatrixDisplay"
   ]
  },
  {
   "cell_type": "code",
   "execution_count": 17,
   "id": "5bd43cd3",
   "metadata": {},
   "outputs": [
    {
     "data": {
      "text/plain": [
       "array([[0, 1, 0, 1, 0, 0, 1, 0],\n",
       "       [0, 0, 0, 0, 0, 1, 1, 0],\n",
       "       [1, 0, 0, 1, 1, 0, 1, 1],\n",
       "       [0, 0, 1, 0, 0, 0, 1, 0]])"
      ]
     },
     "execution_count": 17,
     "metadata": {},
     "output_type": "execute_result"
    }
   ],
   "source": [
    "X = [\"Python is great\", \"I like Python\", \"Python is the best language\", \"I hate Python\"]\n",
    "vec = CountVectorizer() # je to předělání textu na data\n",
    "X = vec.fit_transform(X)\n",
    "X = X.toarray()\n",
    "X"
   ]
  },
  {
   "cell_type": "code",
   "execution_count": 18,
   "id": "0411d0a1",
   "metadata": {},
   "outputs": [
    {
     "data": {
      "text/plain": [
       "array(['best', 'great', 'hate', 'is', 'language', 'like', 'python', 'the'],\n",
       "      dtype=object)"
      ]
     },
     "execution_count": 18,
     "metadata": {},
     "output_type": "execute_result"
    }
   ],
   "source": [
    "vec.get_feature_names_out()"
   ]
  },
  {
   "cell_type": "code",
   "execution_count": 19,
   "id": "4de07c07",
   "metadata": {},
   "outputs": [
    {
     "data": {
      "text/html": [
       "<div>\n",
       "<style scoped>\n",
       "    .dataframe tbody tr th:only-of-type {\n",
       "        vertical-align: middle;\n",
       "    }\n",
       "\n",
       "    .dataframe tbody tr th {\n",
       "        vertical-align: top;\n",
       "    }\n",
       "\n",
       "    .dataframe thead th {\n",
       "        text-align: right;\n",
       "    }\n",
       "</style>\n",
       "<table border=\"1\" class=\"dataframe\">\n",
       "  <thead>\n",
       "    <tr style=\"text-align: right;\">\n",
       "      <th></th>\n",
       "      <th>best</th>\n",
       "      <th>great</th>\n",
       "      <th>hate</th>\n",
       "      <th>is</th>\n",
       "      <th>language</th>\n",
       "      <th>like</th>\n",
       "      <th>python</th>\n",
       "      <th>the</th>\n",
       "    </tr>\n",
       "  </thead>\n",
       "  <tbody>\n",
       "    <tr>\n",
       "      <th>0</th>\n",
       "      <td>0</td>\n",
       "      <td>1</td>\n",
       "      <td>0</td>\n",
       "      <td>1</td>\n",
       "      <td>0</td>\n",
       "      <td>0</td>\n",
       "      <td>1</td>\n",
       "      <td>0</td>\n",
       "    </tr>\n",
       "    <tr>\n",
       "      <th>1</th>\n",
       "      <td>0</td>\n",
       "      <td>0</td>\n",
       "      <td>0</td>\n",
       "      <td>0</td>\n",
       "      <td>0</td>\n",
       "      <td>1</td>\n",
       "      <td>1</td>\n",
       "      <td>0</td>\n",
       "    </tr>\n",
       "    <tr>\n",
       "      <th>2</th>\n",
       "      <td>1</td>\n",
       "      <td>0</td>\n",
       "      <td>0</td>\n",
       "      <td>1</td>\n",
       "      <td>1</td>\n",
       "      <td>0</td>\n",
       "      <td>1</td>\n",
       "      <td>1</td>\n",
       "    </tr>\n",
       "    <tr>\n",
       "      <th>3</th>\n",
       "      <td>0</td>\n",
       "      <td>0</td>\n",
       "      <td>1</td>\n",
       "      <td>0</td>\n",
       "      <td>0</td>\n",
       "      <td>0</td>\n",
       "      <td>1</td>\n",
       "      <td>0</td>\n",
       "    </tr>\n",
       "  </tbody>\n",
       "</table>\n",
       "</div>"
      ],
      "text/plain": [
       "   best  great  hate  is  language  like  python  the\n",
       "0     0      1     0   1         0     0       1    0\n",
       "1     0      0     0   0         0     1       1    0\n",
       "2     1      0     0   1         1     0       1    1\n",
       "3     0      0     1   0         0     0       1    0"
      ]
     },
     "execution_count": 19,
     "metadata": {},
     "output_type": "execute_result"
    }
   ],
   "source": [
    "df = pandas.DataFrame(X, columns=vec.get_feature_names_out())\n",
    "df"
   ]
  },
  {
   "cell_type": "code",
   "execution_count": 25,
   "id": "1c201d9f",
   "metadata": {},
   "outputs": [
    {
     "data": {
      "text/html": [
       "<div>\n",
       "<style scoped>\n",
       "    .dataframe tbody tr th:only-of-type {\n",
       "        vertical-align: middle;\n",
       "    }\n",
       "\n",
       "    .dataframe tbody tr th {\n",
       "        vertical-align: top;\n",
       "    }\n",
       "\n",
       "    .dataframe thead th {\n",
       "        text-align: right;\n",
       "    }\n",
       "</style>\n",
       "<table border=\"1\" class=\"dataframe\">\n",
       "  <thead>\n",
       "    <tr style=\"text-align: right;\">\n",
       "      <th></th>\n",
       "      <th>title</th>\n",
       "      <th>genre</th>\n",
       "      <th>text</th>\n",
       "    </tr>\n",
       "  </thead>\n",
       "  <tbody>\n",
       "    <tr>\n",
       "      <th>0</th>\n",
       "      <td>Santa Barbara (2014)</td>\n",
       "      <td>romance</td>\n",
       "      <td>Because of his close friend's betrayal, music ...</td>\n",
       "    </tr>\n",
       "    <tr>\n",
       "      <th>1</th>\n",
       "      <td>Behen Hogi Teri (2017)</td>\n",
       "      <td>comedy</td>\n",
       "      <td>Gattu (Rajkummar Rao) has a problem, he loves ...</td>\n",
       "    </tr>\n",
       "    <tr>\n",
       "      <th>2</th>\n",
       "      <td>The Last Coffin (2003)</td>\n",
       "      <td>horror</td>\n",
       "      <td>In the movie, a strange crossword puzzle start...</td>\n",
       "    </tr>\n",
       "    <tr>\n",
       "      <th>3</th>\n",
       "      <td>Lady Krampus (2016)</td>\n",
       "      <td>horror</td>\n",
       "      <td>It's Christmas time in Cleveland, Ohio and fou...</td>\n",
       "    </tr>\n",
       "    <tr>\n",
       "      <th>4</th>\n",
       "      <td>\"Pandemic\" (2016)</td>\n",
       "      <td>thriller</td>\n",
       "      <td>A deadly virus is unleashed on the fictional n...</td>\n",
       "    </tr>\n",
       "  </tbody>\n",
       "</table>\n",
       "</div>"
      ],
      "text/plain": [
       "                    title     genre  \\\n",
       "0    Santa Barbara (2014)   romance   \n",
       "1  Behen Hogi Teri (2017)    comedy   \n",
       "2  The Last Coffin (2003)    horror   \n",
       "3     Lady Krampus (2016)    horror   \n",
       "4       \"Pandemic\" (2016)  thriller   \n",
       "\n",
       "                                                text  \n",
       "0  Because of his close friend's betrayal, music ...  \n",
       "1  Gattu (Rajkummar Rao) has a problem, he loves ...  \n",
       "2  In the movie, a strange crossword puzzle start...  \n",
       "3  It's Christmas time in Cleveland, Ohio and fou...  \n",
       "4  A deadly virus is unleashed on the fictional n...  "
      ]
     },
     "execution_count": 25,
     "metadata": {},
     "output_type": "execute_result"
    }
   ],
   "source": [
    "data = pandas.read_csv(\"movies.csv\")\n",
    "data.head()"
   ]
  },
  {
   "cell_type": "code",
   "execution_count": 26,
   "id": "964c2b76",
   "metadata": {},
   "outputs": [],
   "source": [
    "X = data[\"text\"]  # výběr dat je jednoduchý - text bude X (popis toho filmu)\n",
    "y = data[\"genre\"] # a y bude žánr - na základě X se budeme snažit predikovat žánr\n",
    "\n",
    "X_train, X_test, y_train, y_test = train_test_split(X, y, stratify=y, random_state=0)\n",
    "# máme předpřipravené hodnoty, které náš model pak bude hádat\n",
    "# stratify = v trénovací a testovací sadě budou stejně zastoupeny různé y (žánry)\n",
    "# aby náš model nebyl ovliněn tím, že poměr hororů v trénovací a testovací sadě je různý"
   ]
  },
  {
   "cell_type": "code",
   "execution_count": 27,
   "id": "0ecfe566",
   "metadata": {},
   "outputs": [
    {
     "data": {
      "text/plain": [
       "<AxesSubplot: xlabel='genre'>"
      ]
     },
     "execution_count": 27,
     "metadata": {},
     "output_type": "execute_result"
    },
    {
     "data": {
      "image/png": "[encoded data removed]",
      "text/plain": [
       "<Figure size 640x480 with 1 Axes>"
      ]
     },
     "metadata": {},
     "output_type": "display_data"
    }
   ],
   "source": [
    "data.groupby(\"genre\").size().plot(kind=\"bar\")\n",
    "# sdružit podle žánru, počet pro každý řádek, value counts "
   ]
  },
  {
   "cell_type": "code",
   "execution_count": 28,
   "id": "9680de46",
   "metadata": {},
   "outputs": [],
   "source": [
    "vec = CountVectorizer() # budou tam jednotlivé sloupečky, které budou reprezentovat slova, které budou v popiscích\n",
    "X_train = vec.fit_transform(X_train) # pro trénovací data. Ten mi předpřipraví ty sloupečky\n",
    "X_test = vec.transform(X_test) # ten už má sloupce předpřipravené a dá je do sloupečků"
   ]
  },
  {
   "cell_type": "code",
   "execution_count": 29,
   "id": "6b2a806a",
   "metadata": {},
   "outputs": [
    {
     "data": {
      "text/plain": [
       "array([[0, 0, 0, ..., 0, 0, 0],\n",
       "       [0, 0, 0, ..., 0, 0, 0],\n",
       "       [0, 0, 0, ..., 0, 0, 0],\n",
       "       ...,\n",
       "       [0, 1, 0, ..., 0, 0, 0],\n",
       "       [0, 0, 0, ..., 0, 0, 0],\n",
       "       [0, 0, 0, ..., 0, 0, 0]])"
      ]
     },
     "execution_count": 29,
     "metadata": {},
     "output_type": "execute_result"
    }
   ],
   "source": [
    "X_train.toarray()"
   ]
  },
  {
   "cell_type": "code",
   "execution_count": 31,
   "id": "a2e4accd",
   "metadata": {},
   "outputs": [
    {
     "data": {
      "text/plain": [
       "(11181, 49445)"
      ]
     },
     "execution_count": 31,
     "metadata": {},
     "output_type": "execute_result"
    }
   ],
   "source": [
    "X_train.toarray().shape # rozměry tabulky (používáme 70% trénovacích a 30% testovacích )"
   ]
  },
  {
   "cell_type": "code",
   "execution_count": 32,
   "id": "fb1984db",
   "metadata": {},
   "outputs": [
    {
     "data": {
      "text/plain": [
       "array(['00', '000', '003', ..., 'ťthe', 'źs', 'žš'], dtype=object)"
      ]
     },
     "execution_count": 32,
     "metadata": {},
     "output_type": "execute_result"
    }
   ],
   "source": [
    "vec.get_feature_names_out()"
   ]
  },
  {
   "cell_type": "code",
   "execution_count": 33,
   "id": "9e16712c",
   "metadata": {},
   "outputs": [],
   "source": [
    "#máme odhadnout celkové vyznění zprávy \n",
    "clf = KNeighborsClassifier() # hledá slova, která jsou tomu nejblíž\n",
    "clf.fit(X_train, y_train)\n",
    "y_pred = clf.predict(X_test) # predikujeme si testovací data - nějaké ty žánry"
   ]
  },
  {
   "cell_type": "code",
   "execution_count": 34,
   "id": "08c21f60",
   "metadata": {},
   "outputs": [
    {
     "data": {
      "text/plain": [
       "<sklearn.metrics._plot.confusion_matrix.ConfusionMatrixDisplay at 0x11c7cdae0>"
      ]
     },
     "execution_count": 34,
     "metadata": {},
     "output_type": "execute_result"
    },
    {
     "data": {
      "image/png": "[encoded data removed]",
      "text/plain": [
       "<Figure size 640x480 with 2 Axes>"
      ]
     },
     "metadata": {},
     "output_type": "display_data"
    }
   ],
   "source": [
    "ConfusionMatrixDisplay.from_estimator(\n",
    "    clf,\n",
    "    X_test,\n",
    "    y_test,\n",
    ")"
   ]
  },
  {
   "cell_type": "code",
   "execution_count": 35,
   "id": "1f76d084",
   "metadata": {},
   "outputs": [
    {
     "data": {
      "text/plain": [
       "0.48940166353635634"
      ]
     },
     "execution_count": 35,
     "metadata": {},
     "output_type": "execute_result"
    }
   ],
   "source": [
    "accuracy_score(y_test, y_pred)"
   ]
  },
  {
   "cell_type": "code",
   "execution_count": null,
   "id": "fe536ea7",
   "metadata": {},
   "outputs": [],
   "source": [
    "X = [\"Python is great\", \"I like Python\", \"Python is the best language\", \"I hate Python\"]\n",
    "vec = TfidfVectorizer()\n",
    "X = vec.fit_transform(X)\n",
    "X = X.toarray()\n",
    "X"
   ]
  },
  {
   "cell_type": "code",
   "execution_count": null,
   "id": "013c66e6",
   "metadata": {},
   "outputs": [],
   "source": [
    "vec.get_feature_names_out()"
   ]
  },
  {
   "cell_type": "code",
   "execution_count": null,
   "id": "c61dcd71",
   "metadata": {},
   "outputs": [],
   "source": [
    "df = pandas.DataFrame(X, columns=vec.get_feature_names_out())\n",
    "df"
   ]
  },
  {
   "cell_type": "code",
   "execution_count": null,
   "id": "817b7a06",
   "metadata": {},
   "outputs": [],
   "source": [
    "X = [\"Python is great\", \"I like Python\", \"Python is the best language\", \"I hate Python\"]\n",
    "vec = TfidfVectorizer(stop_words=\"english\") # stop words, které jsou v angličtině\n",
    "X = vec.fit_transform(X)\n",
    "X = X.toarray()\n",
    "X"
   ]
  },
  {
   "cell_type": "code",
   "execution_count": null,
   "id": "81e912a1",
   "metadata": {},
   "outputs": [],
   "source": [
    "vec.get_feature_names_out()"
   ]
  },
  {
   "cell_type": "code",
   "execution_count": null,
   "id": "d3fa4acb",
   "metadata": {},
   "outputs": [],
   "source": [
    "df = pandas.DataFrame(X, columns=vec.get_feature_names_out())\n",
    "df"
   ]
  },
  {
   "cell_type": "code",
   "execution_count": null,
   "id": "f30e7bc6",
   "metadata": {},
   "outputs": [],
   "source": [
    "# Vlastní seznam stop words\n"
   ]
  },
  {
   "cell_type": "code",
   "execution_count": null,
   "id": "15a6a695",
   "metadata": {},
   "outputs": [],
   "source": [
    "X = [\n",
    "    \"Python je nejlepší\", \n",
    "    \"Mám rád Python!\", \n",
    "    \"Python je nejlepší jazyk\",\n",
    "    \"Nesnáším Python!\"\n",
    "    ]\n",
    "vec = TfidfVectorizer(stop_words=[\"je\", \"mám\", \"Python\"])\n",
    "X = vec.fit_transform(X)\n",
    "X = X.toarray()\n",
    "X"
   ]
  },
  {
   "cell_type": "code",
   "execution_count": null,
   "id": "c8248364",
   "metadata": {},
   "outputs": [],
   "source": [
    "vec.get_feature_names_out()"
   ]
  },
  {
   "cell_type": "code",
   "execution_count": null,
   "id": "49df4bae",
   "metadata": {},
   "outputs": [],
   "source": [
    "X = data[\"text\"]\n",
    "y = data[\"genre\"]\n",
    "\n",
    "X_train, X_test, y_train, y_test = train_test_split(X, y, stratify=y, random_state=0)\n",
    "\n",
    "# Uvažujeme stop_words v angličtině\n",
    "vec = TfidfVectorizer(stop_words=\"english\", ngram_range=(1, 2)) # tuples, uvařuji i dvojici slov - ntice\n",
    "X_train = vec.fit_transform(X_train)\n",
    "X_test = vec.transform(X_test)\n",
    "\n",
    "clf = KNeighborsClassifier()\n",
    "clf.fit(X_train, y_train)\n",
    "y_pred = clf.predict(X_test)\n",
    "\n",
    "accuracy_score(y_test, y_pred)"
   ]
  },
  {
   "cell_type": "code",
   "execution_count": null,
   "id": "f355b0f2",
   "metadata": {},
   "outputs": [],
   "source": [
    "X = data[\"text\"]\n",
    "y = data[\"genre\"]\n",
    "\n",
    "X_train, X_test, y_train, y_test = train_test_split(X, y, stratify=y, random_state=0)\n",
    "\n",
    "vec = TfidfVectorizer(stop_words=\"english\", ngram_range=(1, 2))\n",
    "X_train = vec.fit_transform(X_train)\n",
    "X_test = vec.transform(X_test)\n",
    "\n",
    "clf = LinearSVC(class_weight=\"balanced\")\n",
    "clf.fit(X_train, y_train)\n",
    "y_pred = clf.predict(X_test)\n",
    "\n",
    "accuracy_score(y_test, y_pred) # dostaneme na accuracy 0.77"
   ]
  },
  {
   "cell_type": "code",
   "execution_count": null,
   "id": "e6e52ffb",
   "metadata": {},
   "outputs": [],
   "source": [
    "# můžeme si vzít slova, a ty žánry \n",
    "# a říct si, které slova přiřazují nejvíce k žánrům\n",
    "clf.classes_"
   ]
  },
  {
   "cell_type": "code",
   "execution_count": null,
   "id": "75d4397b",
   "metadata": {},
   "outputs": [],
   "source": [
    "df_coef = pandas.DataFrame(clf.coef_.T, columns=clf.classes_)\n",
    "# clf.coef_.T - jaký mají vliv ty features - čím větší hodnota coef., tím víc nám to slovo tlačí do nějakého žánru\n",
    "df_coef[\"words\"] = vec.get_feature_names_out()\n",
    "df_coef = df_coef.set_index(\"words\")\n",
    "df_coef.sort_values(\"sci-fi\", ascending=False).head(20)\n",
    "df_coef"
   ]
  },
  {
   "cell_type": "code",
   "execution_count": null,
   "id": "6f98df91",
   "metadata": {},
   "outputs": [],
   "source": [
    "df_coef = pandas.DataFrame(clf.coef_.T, columns=clf.classes_)\n",
    "df_coef[\"words\"] = vec.get_feature_names_out()\n",
    "df_coef = df_coef.set_index(\"words\")\n",
    "df_coef = df_coef.sort_values(\"sci-fi\", ascending=False).head(20)\n",
    "df_coef"
   ]
  },
  {
   "cell_type": "code",
   "execution_count": null,
   "id": "aa783a54",
   "metadata": {},
   "outputs": [],
   "source": [
    "data = pandas.read_csv(\"reviews.csv\")\n",
    "data.head()"
   ]
  },
  {
   "cell_type": "code",
   "execution_count": null,
   "id": "f1330f5b",
   "metadata": {},
   "outputs": [],
   "source": [
    "X = data[\"review\"]\n",
    "y = data[\"label\"]"
   ]
  },
  {
   "cell_type": "code",
   "execution_count": 1,
   "id": "f9db99bf",
   "metadata": {},
   "outputs": [],
   "source": [
    "#kvíz\n"
   ]
  },
  {
   "cell_type": "code",
   "execution_count": 5,
   "id": "e787f39a",
   "metadata": {},
   "outputs": [
    {
     "data": {
      "text/plain": [
       "0.9662598707824839"
      ]
     },
     "execution_count": 5,
     "metadata": {},
     "output_type": "execute_result"
    }
   ],
   "source": [
    "data = pandas.read_csv(\"spam_utf8.csv\")\n",
    "X = data[\"v2\"]\n",
    "y = data[\"v1\"]\n",
    "\n",
    "X_train, X_test, y_train, y_test = train_test_split(X, y, stratify=y, random_state=42)\n",
    "\n",
    "vec = TfidfVectorizer()\n",
    "X_train = vec.fit_transform(X_train)\n",
    "X_test = vec.transform(X_test)\n",
    "\n",
    "clf = KNeighborsClassifier(n_neighbors=15)\n",
    "clf.fit(X_train, y_train)\n",
    "y_pred = clf.predict(X_test)\n",
    "\n",
    "accuracy_score(y_test, y_pred)"
   ]
  },
  {
   "cell_type": "code",
   "execution_count": 33,
   "id": "0b964414",
   "metadata": {},
   "outputs": [
    {
     "data": {
      "text/plain": [
       "0.8788499569886752"
      ]
     },
     "execution_count": 33,
     "metadata": {},
     "output_type": "execute_result"
    }
   ],
   "source": [
    "data = pandas.read_csv(\"spam_utf8.csv\")\n",
    "X = data[\"v2\"]\n",
    "y = data[\"v1\"]\n",
    "\n",
    "X_train, X_test, y_train, y_test = train_test_split(X, y, stratify=y, random_state=42)\n",
    "\n",
    "vec = TfidfVectorizer()\n",
    "X_train = vec.fit_transform(X_train)\n",
    "X_test = vec.transform(X_test)\n",
    "\n",
    "clf = KNeighborsClassifier(n_neighbors=15)# ,class_weight=\"balanced\")\n",
    "clf.fit(X_train, y_train)\n",
    "y_pred = clf.predict(X_test)\n",
    "balanced_accuracy_score(y_test, y_pred)\n",
    "#accuracy_score(y_test, y_pred)"
   ]
  },
  {
   "cell_type": "code",
   "execution_count": 32,
   "id": "992c2b0c",
   "metadata": {},
   "outputs": [
    {
     "data": {
      "text/plain": [
       "ham     4825\n",
       "spam     747\n",
       "Name: v1, dtype: int64"
      ]
     },
     "execution_count": 32,
     "metadata": {},
     "output_type": "execute_result"
    }
   ],
   "source": [
    "data[\"v1\"].value_counts()"
   ]
  },
  {
   "cell_type": "code",
   "execution_count": null,
   "id": "d35aa809",
   "metadata": {},
   "outputs": [],
   "source": []
  },
  {
   "cell_type": "code",
   "execution_count": 12,
   "id": "d7b668ce",
   "metadata": {},
   "outputs": [
    {
     "data": {
      "text/plain": [
       "<sklearn.metrics._plot.confusion_matrix.ConfusionMatrixDisplay at 0x129ad49a0>"
      ]
     },
     "execution_count": 12,
     "metadata": {},
     "output_type": "execute_result"
    },
    {
     "data": {
      "image/png": "[encoded data removed]",
      "text/plain": [
       "<Figure size 640x480 with 2 Axes>"
      ]
     },
     "metadata": {},
     "output_type": "display_data"
    }
   ],
   "source": [
    "ConfusionMatrixDisplay.from_estimator(\n",
    "    clf,\n",
    "    X_test,\n",
    "    y_test,\n",
    ")"
   ]
  },
  {
   "cell_type": "code",
   "execution_count": 50,
   "id": "843a8075",
   "metadata": {},
   "outputs": [
    {
     "data": {
      "text/html": [
       "<div>\n",
       "<style scoped>\n",
       "    .dataframe tbody tr th:only-of-type {\n",
       "        vertical-align: middle;\n",
       "    }\n",
       "\n",
       "    .dataframe tbody tr th {\n",
       "        vertical-align: top;\n",
       "    }\n",
       "\n",
       "    .dataframe thead th {\n",
       "        text-align: right;\n",
       "    }\n",
       "</style>\n",
       "<table border=\"1\" class=\"dataframe\">\n",
       "  <thead>\n",
       "    <tr style=\"text-align: right;\">\n",
       "      <th></th>\n",
       "      <th>label</th>\n",
       "      <th>product</th>\n",
       "      <th>review</th>\n",
       "    </tr>\n",
       "  </thead>\n",
       "  <tbody>\n",
       "    <tr>\n",
       "      <th>0</th>\n",
       "      <td>neg</td>\n",
       "      <td>music</td>\n",
       "      <td>the cd came as promised and in the condition p...</td>\n",
       "    </tr>\n",
       "    <tr>\n",
       "      <th>1</th>\n",
       "      <td>neg</td>\n",
       "      <td>dvd</td>\n",
       "      <td>this was a very annoying and boring flick that...</td>\n",
       "    </tr>\n",
       "    <tr>\n",
       "      <th>2</th>\n",
       "      <td>neg</td>\n",
       "      <td>health</td>\n",
       "      <td>the braun ls-5550 silk&amp;soft bodyshave recharge...</td>\n",
       "    </tr>\n",
       "    <tr>\n",
       "      <th>3</th>\n",
       "      <td>pos</td>\n",
       "      <td>camera</td>\n",
       "      <td>when it comes to buying camcorders , i persona...</td>\n",
       "    </tr>\n",
       "    <tr>\n",
       "      <th>4</th>\n",
       "      <td>neg</td>\n",
       "      <td>dvd</td>\n",
       "      <td>i had high hopes for this series when i starte...</td>\n",
       "    </tr>\n",
       "  </tbody>\n",
       "</table>\n",
       "</div>"
      ],
      "text/plain": [
       "  label product                                             review\n",
       "0   neg   music  the cd came as promised and in the condition p...\n",
       "1   neg     dvd  this was a very annoying and boring flick that...\n",
       "2   neg  health  the braun ls-5550 silk&soft bodyshave recharge...\n",
       "3   pos  camera  when it comes to buying camcorders , i persona...\n",
       "4   neg     dvd  i had high hopes for this series when i starte..."
      ]
     },
     "execution_count": 50,
     "metadata": {},
     "output_type": "execute_result"
    }
   ],
   "source": [
    "### Cvičení\n",
    "data = pandas.read_csv(\"reviews.csv\")\n",
    "data.head()"
   ]
  },
  {
   "cell_type": "code",
   "execution_count": 52,
   "id": "250cff48",
   "metadata": {},
   "outputs": [
    {
     "name": "stderr",
     "output_type": "stream",
     "text": [
      "/Users/katerina/pyladies/venv/lib/python3.10/site-packages/sklearn/svm/_classes.py:31: FutureWarning: The default value of `dual` will change from `True` to `'auto'` in 1.5. Set the value of `dual` explicitly to suppress the warning.\n",
      "  warnings.warn(\n"
     ]
    },
    {
     "name": "stdout",
     "output_type": "stream",
     "text": [
      "0.8206666666666667\n",
      "0.8181203515889114\n"
     ]
    }
   ],
   "source": [
    "X = data[\"review\"]\n",
    "y = data[\"label\"]\n",
    "\n",
    "X_train, X_test, y_train, y_test = train_test_split(X, y, stratify = y, random_state=42)\n",
    "X_train_text = X_train\n",
    "X_train_text = X_train_text.reset_index(drop = True)\n",
    "\n",
    "vec = TfidfVectorizer(stop_words=\"english\", ngram_range=(1,2))\n",
    "X_train = vec.fit_transform(X_train)\n",
    "X_test_vec = vec.transform(X_test)\n",
    "\n",
    "# SVM\n",
    "clf = LinearSVC()\n",
    "clf.fit(X_train, y_train)\n",
    "y_pred = clf.predict(X_test_vec)\n",
    "\n",
    "print(accuracy_score(y_test, y_pred))\n",
    "print(f1_score(y_test, y_pred, pos_label=\"pos\"))"
   ]
  },
  {
   "cell_type": "code",
   "execution_count": 53,
   "id": "05553c7c",
   "metadata": {},
   "outputs": [],
   "source": [
    "#Model má accuracy 82.1% a f1-score 81.8%"
   ]
  },
  {
   "cell_type": "code",
   "execution_count": 55,
   "id": "09868ddf",
   "metadata": {},
   "outputs": [
    {
     "name": "stdout",
     "output_type": "stream",
     "text": [
      "              precision    recall  f1-score   support\n",
      "\n",
      "         neg       0.82      0.83      0.82       758\n",
      "         pos       0.82      0.82      0.82       742\n",
      "\n",
      "    accuracy                           0.82      1500\n",
      "   macro avg       0.82      0.82      0.82      1500\n",
      "weighted avg       0.82      0.82      0.82      1500\n",
      "\n"
     ]
    }
   ],
   "source": [
    "report_2 = classification_report(y_test, y_pred)\n",
    "print(report_2)"
   ]
  },
  {
   "cell_type": "code",
   "execution_count": 58,
   "id": "31b68d26",
   "metadata": {},
   "outputs": [
    {
     "name": "stdout",
     "output_type": "stream",
     "text": [
      "0.648\n",
      "0.65625\n"
     ]
    }
   ],
   "source": [
    "clf_2 = KNeighborsClassifier()\n",
    "clf_2.fit(X_train,y_train)\n",
    "y_pred_knn = clf_2.predict(X_test_vec)\n",
    "print(accuracy_score(y_test, y_pred_knn))\n",
    "print(f1_score(y_test, y_pred_knn, pos_label=\"pos\"))"
   ]
  },
  {
   "cell_type": "code",
   "execution_count": null,
   "id": "7c1445dd",
   "metadata": {},
   "outputs": [],
   "source": []
  }
 ],
 "metadata": {
  "kernelspec": {
   "display_name": "Python 3 (ipykernel)",
   "language": "python",
   "name": "python3"
  },
  "language_info": {
   "codemirror_mode": {
    "name": "ipython",
    "version": 3
   },
   "file_extension": ".py",
   "mimetype": "text/x-python",
   "name": "python",
   "nbconvert_exporter": "python",
   "pygments_lexer": "ipython3",
   "version": "3.10.6"
  }
 },
 "nbformat": 4,
 "nbformat_minor": 5
}
